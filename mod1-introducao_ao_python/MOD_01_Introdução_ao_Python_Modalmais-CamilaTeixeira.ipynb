{
 "cells": [
  {
   "cell_type": "markdown",
   "metadata": {
    "id": "8Z98mrAmVoQv"
   },
   "source": [
    " # Data Science com Python - Camila Teixeira"
   ]
  },
  {
   "cell_type": "markdown",
   "metadata": {
    "id": "DyksZbqOVoQ-"
   },
   "source": [
    "## Módulo 01 - Introdução ao Python"
   ]
  },
  {
   "cell_type": "markdown",
   "metadata": {
    "id": "1tot8BnSVoRO"
   },
   "source": [
    "## 1. Variáveis vs. Objetos"
   ]
  },
  {
   "cell_type": "markdown",
   "metadata": {
    "id": "ljMcaQKxVoRQ"
   },
   "source": [
    "### 1.1. Tipos de variáveis"
   ]
  },
  {
   "cell_type": "code",
   "execution_count": 1,
   "metadata": {
    "id": "PIjUCe7nVoRS",
    "outputId": "20398b79-a200-47c3-aae0-a68ab946bf48"
   },
   "outputs": [
    {
     "data": {
      "text/plain": [
       "3"
      ]
     },
     "execution_count": 1,
     "metadata": {},
     "output_type": "execute_result"
    }
   ],
   "source": [
    "3"
   ]
  },
  {
   "cell_type": "code",
   "execution_count": 2,
   "metadata": {
    "id": "YJel1AzPVoRT"
   },
   "outputs": [],
   "source": [
    "a = 3"
   ]
  },
  {
   "cell_type": "markdown",
   "metadata": {
    "id": "Nk3R0wxXVoRV"
   },
   "source": [
    "#### Tipos de variáveis\n",
    "\n",
    "integer (int): 2\n",
    "    \n",
    "float: 1.45789\n",
    "    \n",
    "string (str): \"PETR4\"\n",
    "    \n",
    "boolean (bool): True ou False"
   ]
  },
  {
   "cell_type": "code",
   "execution_count": 3,
   "metadata": {
    "id": "X4Z-fmMeVoRW"
   },
   "outputs": [],
   "source": [
    "b = 5.5"
   ]
  },
  {
   "cell_type": "code",
   "execution_count": 4,
   "metadata": {
    "id": "8WtaorW9VoRX",
    "outputId": "a0d864ba-9fef-4042-ed8b-b8429cb96754"
   },
   "outputs": [
    {
     "data": {
      "text/plain": [
       "5.5"
      ]
     },
     "execution_count": 4,
     "metadata": {},
     "output_type": "execute_result"
    }
   ],
   "source": [
    "b"
   ]
  },
  {
   "cell_type": "code",
   "execution_count": 5,
   "metadata": {
    "id": "jiomj2HZVoRY",
    "outputId": "977e55d1-1c26-4810-fb5f-baa771bedb37"
   },
   "outputs": [
    {
     "name": "stdout",
     "output_type": "stream",
     "text": [
      "5.5\n"
     ]
    }
   ],
   "source": [
    "print(b)"
   ]
  },
  {
   "cell_type": "code",
   "execution_count": 6,
   "metadata": {
    "id": "COIniPdgVoRa",
    "outputId": "6e7e5658-2dae-49cd-d969-781520aac735"
   },
   "outputs": [
    {
     "data": {
      "text/plain": [
       "8.5"
      ]
     },
     "execution_count": 6,
     "metadata": {},
     "output_type": "execute_result"
    }
   ],
   "source": [
    "a + b"
   ]
  },
  {
   "cell_type": "code",
   "execution_count": 7,
   "metadata": {
    "id": "v1yG1rbtVoRb",
    "outputId": "527013a1-15e1-42a5-d259-22df2819d9ff"
   },
   "outputs": [
    {
     "data": {
      "text/plain": [
       "int"
      ]
     },
     "execution_count": 7,
     "metadata": {},
     "output_type": "execute_result"
    }
   ],
   "source": [
    "type(a)"
   ]
  },
  {
   "cell_type": "code",
   "execution_count": 8,
   "metadata": {
    "id": "4sTTy38GVoRc",
    "outputId": "ac18a80f-d36e-4261-9548-1eaedf7e92d6"
   },
   "outputs": [
    {
     "data": {
      "text/plain": [
       "float"
      ]
     },
     "execution_count": 8,
     "metadata": {},
     "output_type": "execute_result"
    }
   ],
   "source": [
    "type(b)"
   ]
  },
  {
   "cell_type": "code",
   "execution_count": 9,
   "metadata": {
    "id": "ZZFRFTPsVoRd"
   },
   "outputs": [],
   "source": [
    "ativo = 'WEGE3'"
   ]
  },
  {
   "cell_type": "code",
   "execution_count": 10,
   "metadata": {
    "id": "vgirgsLEVoRf",
    "outputId": "433db320-2703-4591-d40a-148483a9b904"
   },
   "outputs": [
    {
     "data": {
      "text/plain": [
       "'WEGE3'"
      ]
     },
     "execution_count": 10,
     "metadata": {},
     "output_type": "execute_result"
    }
   ],
   "source": [
    "ativo"
   ]
  },
  {
   "cell_type": "code",
   "execution_count": 11,
   "metadata": {
    "id": "hdBReboKVoRg",
    "outputId": "6c68836e-5c1a-491c-ceba-7a8c599428db"
   },
   "outputs": [
    {
     "data": {
      "text/plain": [
       "str"
      ]
     },
     "execution_count": 11,
     "metadata": {},
     "output_type": "execute_result"
    }
   ],
   "source": [
    "type(ativo)"
   ]
  },
  {
   "cell_type": "code",
   "execution_count": 12,
   "metadata": {
    "id": "7bGskvcGVoRh",
    "outputId": "c50fe994-5d62-47d3-ed4f-53ea0d583cd0"
   },
   "outputs": [
    {
     "data": {
      "text/plain": [
       "False"
      ]
     },
     "execution_count": 12,
     "metadata": {},
     "output_type": "execute_result"
    }
   ],
   "source": [
    "a == b"
   ]
  },
  {
   "cell_type": "code",
   "execution_count": 13,
   "metadata": {
    "id": "QxYQ19sQVoRi"
   },
   "outputs": [],
   "source": [
    "a = b"
   ]
  },
  {
   "cell_type": "code",
   "execution_count": 14,
   "metadata": {
    "id": "EfSXA1dBVoRj",
    "outputId": "136fa51e-f5e6-4b94-b4b6-d6a4146346f4"
   },
   "outputs": [
    {
     "data": {
      "text/plain": [
       "5.5"
      ]
     },
     "execution_count": 14,
     "metadata": {},
     "output_type": "execute_result"
    }
   ],
   "source": [
    "a"
   ]
  },
  {
   "cell_type": "code",
   "execution_count": 15,
   "metadata": {
    "id": "CiCsGpo1VoRk",
    "outputId": "57e32aec-313f-4da8-a02a-66308066666f"
   },
   "outputs": [
    {
     "data": {
      "text/plain": [
       "True"
      ]
     },
     "execution_count": 15,
     "metadata": {},
     "output_type": "execute_result"
    }
   ],
   "source": [
    "a == b"
   ]
  },
  {
   "cell_type": "code",
   "execution_count": 16,
   "metadata": {
    "id": "huQGFCRfVoRk"
   },
   "outputs": [],
   "source": [
    "c = a == b"
   ]
  },
  {
   "cell_type": "code",
   "execution_count": 17,
   "metadata": {
    "id": "3iKHyIEyVoRl",
    "outputId": "04c76ca4-6ac6-4efc-cee1-70571cd3a89a"
   },
   "outputs": [
    {
     "data": {
      "text/plain": [
       "True"
      ]
     },
     "execution_count": 17,
     "metadata": {},
     "output_type": "execute_result"
    }
   ],
   "source": [
    "c"
   ]
  },
  {
   "cell_type": "markdown",
   "metadata": {
    "id": "eoDRNuPAVoRm"
   },
   "source": [
    "## 2. Operadores aritméticos"
   ]
  },
  {
   "cell_type": "markdown",
   "metadata": {
    "id": "tmSxijirVoRm"
   },
   "source": [
    "* Soma +\n",
    "* Subtração -\n",
    "* Multiplicação *\n",
    "* Divisão /\n",
    "* Divisão // (parte inteira)\n",
    "* Resto das divisões\n",
    "* Potência **"
   ]
  },
  {
   "cell_type": "code",
   "execution_count": 18,
   "metadata": {
    "id": "f7vpAS2nVoRn"
   },
   "outputs": [],
   "source": [
    "d = a + b"
   ]
  },
  {
   "cell_type": "code",
   "execution_count": 19,
   "metadata": {
    "id": "bn2BwN0fVoRn",
    "outputId": "bb367cc3-589a-40c9-eebd-79b9c18613fe"
   },
   "outputs": [
    {
     "data": {
      "text/plain": [
       "11.0"
      ]
     },
     "execution_count": 19,
     "metadata": {},
     "output_type": "execute_result"
    }
   ],
   "source": [
    "d"
   ]
  },
  {
   "cell_type": "code",
   "execution_count": 20,
   "metadata": {
    "id": "kdpkPuqxVoRo"
   },
   "outputs": [],
   "source": [
    "e = d + a + b + d + d"
   ]
  },
  {
   "cell_type": "code",
   "execution_count": 21,
   "metadata": {
    "id": "WitbSd5dVoRp",
    "outputId": "09a4976f-a59c-4bbb-ef96-41158472e186"
   },
   "outputs": [
    {
     "data": {
      "text/plain": [
       "44.0"
      ]
     },
     "execution_count": 21,
     "metadata": {},
     "output_type": "execute_result"
    }
   ],
   "source": [
    "e"
   ]
  },
  {
   "cell_type": "code",
   "execution_count": 22,
   "metadata": {
    "id": "u6ZRlZxbVoRp",
    "outputId": "5038237e-73ad-4f1f-c11d-bbcc1e0e8f30"
   },
   "outputs": [
    {
     "data": {
      "text/plain": [
       "0.0"
      ]
     },
     "execution_count": 22,
     "metadata": {},
     "output_type": "execute_result"
    }
   ],
   "source": [
    "a-b"
   ]
  },
  {
   "cell_type": "code",
   "execution_count": 23,
   "metadata": {
    "id": "Ont_sBoYVoRq",
    "outputId": "3417e81c-ee23-4bb9-cec2-34bd26d8dc61"
   },
   "outputs": [
    {
     "data": {
      "text/plain": [
       "33.0"
      ]
     },
     "execution_count": 23,
     "metadata": {},
     "output_type": "execute_result"
    }
   ],
   "source": [
    "e - d"
   ]
  },
  {
   "cell_type": "code",
   "execution_count": 24,
   "metadata": {
    "id": "9sNqN0_EVoRr",
    "outputId": "9e490889-2f2e-4d50-8480-8cbd99701024"
   },
   "outputs": [
    {
     "data": {
      "text/plain": [
       "30.25"
      ]
     },
     "execution_count": 24,
     "metadata": {},
     "output_type": "execute_result"
    }
   ],
   "source": [
    "a*b"
   ]
  },
  {
   "cell_type": "code",
   "execution_count": 25,
   "metadata": {
    "id": "xxR9qWIjVoRs"
   },
   "outputs": [],
   "source": [
    "f = 10"
   ]
  },
  {
   "cell_type": "code",
   "execution_count": 26,
   "metadata": {
    "id": "UyCgkV0sVoRs",
    "outputId": "fdb9e251-05a6-46ce-800e-733f5c43a178"
   },
   "outputs": [
    {
     "data": {
      "text/plain": [
       "440.0"
      ]
     },
     "execution_count": 26,
     "metadata": {},
     "output_type": "execute_result"
    }
   ],
   "source": [
    "e*f"
   ]
  },
  {
   "cell_type": "markdown",
   "metadata": {
    "id": "g9b0AylbVoRt"
   },
   "source": [
    "Exemplo\n",
    "\n",
    "Qual o tamanho da minha posição em PETR4 dados o número de papéis que comprei e a cotação atual?"
   ]
  },
  {
   "cell_type": "code",
   "execution_count": 27,
   "metadata": {
    "id": "stmSGRc5VoRt"
   },
   "outputs": [],
   "source": [
    "cotacao = 33.32\n",
    "papeis = 100"
   ]
  },
  {
   "cell_type": "code",
   "execution_count": 28,
   "metadata": {
    "id": "iH-tRTV3VoRu"
   },
   "outputs": [],
   "source": [
    "patrimonio = cotacao*papeis"
   ]
  },
  {
   "cell_type": "markdown",
   "metadata": {
    "id": "mxeVQO4kVoRu"
   },
   "source": [
    "Qual o preço atual?"
   ]
  },
  {
   "cell_type": "code",
   "execution_count": 29,
   "metadata": {
    "id": "TrtNSPJTVoRv",
    "outputId": "73ca3db5-8fd4-471e-a044-f003bbf9518d"
   },
   "outputs": [
    {
     "data": {
      "text/plain": [
       "33.32"
      ]
     },
     "execution_count": 29,
     "metadata": {},
     "output_type": "execute_result"
    }
   ],
   "source": [
    "patrimonio/papeis"
   ]
  },
  {
   "cell_type": "markdown",
   "metadata": {
    "id": "w85skTlcVoRv"
   },
   "source": [
    "Exemplo com VALE3 - qual o número de papéis que eu posso comprar?"
   ]
  },
  {
   "cell_type": "code",
   "execution_count": 30,
   "metadata": {
    "id": "jSQEI-z7VoRw"
   },
   "outputs": [],
   "source": [
    "carteira = 4000"
   ]
  },
  {
   "cell_type": "code",
   "execution_count": 31,
   "metadata": {
    "id": "j1euDgQEVoRw"
   },
   "outputs": [],
   "source": [
    "vale3 = 50.32"
   ]
  },
  {
   "cell_type": "code",
   "execution_count": 32,
   "metadata": {
    "id": "ZassQGyJVoRx",
    "outputId": "1dbd727c-9b32-480a-983f-b2d58ca80c31"
   },
   "outputs": [
    {
     "data": {
      "text/plain": [
       "79.4912559618442"
      ]
     },
     "execution_count": 32,
     "metadata": {},
     "output_type": "execute_result"
    }
   ],
   "source": [
    "carteira/vale3"
   ]
  },
  {
   "cell_type": "code",
   "execution_count": 33,
   "metadata": {
    "id": "oPtpCp0iVoRx",
    "outputId": "4a033748-896b-43d1-96cf-bd9d74861be1"
   },
   "outputs": [
    {
     "data": {
      "text/plain": [
       "79.0"
      ]
     },
     "execution_count": 33,
     "metadata": {},
     "output_type": "execute_result"
    }
   ],
   "source": [
    "carteira//vale3"
   ]
  },
  {
   "cell_type": "code",
   "execution_count": 34,
   "metadata": {
    "id": "JQ9_FBHXVoRy",
    "outputId": "4c32dad1-8b74-40f8-e981-6fc99e665c6b"
   },
   "outputs": [
    {
     "data": {
      "text/plain": [
       "2"
      ]
     },
     "execution_count": 34,
     "metadata": {},
     "output_type": "execute_result"
    }
   ],
   "source": [
    "10//4"
   ]
  },
  {
   "cell_type": "markdown",
   "metadata": {
    "id": "SiMBOosNVoRy"
   },
   "source": [
    "Resto da divisão"
   ]
  },
  {
   "cell_type": "code",
   "execution_count": 35,
   "metadata": {
    "id": "CZPTjU4gVoRz",
    "outputId": "3791148c-00a2-4ef2-a851-706b750cc4ba"
   },
   "outputs": [
    {
     "data": {
      "text/plain": [
       "3"
      ]
     },
     "execution_count": 35,
     "metadata": {},
     "output_type": "execute_result"
    }
   ],
   "source": [
    "7%4"
   ]
  },
  {
   "cell_type": "code",
   "execution_count": 36,
   "metadata": {
    "id": "H8CXm8DRVoRz",
    "outputId": "2e763620-1693-422d-8cb6-03799e4fcb15"
   },
   "outputs": [
    {
     "data": {
      "text/plain": [
       "1"
      ]
     },
     "execution_count": 36,
     "metadata": {},
     "output_type": "execute_result"
    }
   ],
   "source": [
    "10%3"
   ]
  },
  {
   "cell_type": "markdown",
   "metadata": {
    "id": "qOwSv-mQVoR0"
   },
   "source": [
    "Potenciação"
   ]
  },
  {
   "cell_type": "code",
   "execution_count": 37,
   "metadata": {
    "id": "JX-R6-acVoR0",
    "outputId": "9bcb403a-b72d-4457-9991-824758ff0010"
   },
   "outputs": [
    {
     "data": {
      "text/plain": [
       "4"
      ]
     },
     "execution_count": 37,
     "metadata": {},
     "output_type": "execute_result"
    }
   ],
   "source": [
    "2**2"
   ]
  },
  {
   "cell_type": "code",
   "execution_count": 38,
   "metadata": {
    "id": "dUrj62WTVoR1",
    "outputId": "d454683a-db50-4f03-e8d8-f6185e4bc7e8"
   },
   "outputs": [
    {
     "data": {
      "text/plain": [
       "8"
      ]
     },
     "execution_count": 38,
     "metadata": {},
     "output_type": "execute_result"
    }
   ],
   "source": [
    "2**3"
   ]
  },
  {
   "cell_type": "code",
   "execution_count": 39,
   "metadata": {
    "id": "48DJJZ1oVoR2",
    "outputId": "a4a5f79e-b573-4328-bd5f-dc2b33739951"
   },
   "outputs": [
    {
     "data": {
      "text/plain": [
       "1024"
      ]
     },
     "execution_count": 39,
     "metadata": {},
     "output_type": "execute_result"
    }
   ],
   "source": [
    "2**10"
   ]
  },
  {
   "cell_type": "markdown",
   "metadata": {
    "id": "8_zwi9t7VoR2"
   },
   "source": [
    "## 3. Operadores lógicos"
   ]
  },
  {
   "cell_type": "markdown",
   "metadata": {
    "id": "PQsQm_M-VoR3"
   },
   "source": [
    "### 3.1. Operadores comparativos"
   ]
  },
  {
   "cell_type": "markdown",
   "metadata": {
    "id": "5A4OjpRFVoR3"
   },
   "source": [
    "* Igualdade ==\n",
    "* Diferença !=\n",
    "* Menor <\n",
    "* Maior >\n",
    "* Menor ou igual <=\n",
    "* Maior ou igual >="
   ]
  },
  {
   "cell_type": "code",
   "execution_count": 40,
   "metadata": {
    "id": "GnobqJVTVoR4",
    "outputId": "47effa15-a792-41d7-e6f7-8ca8ab87b903"
   },
   "outputs": [
    {
     "data": {
      "text/plain": [
       "False"
      ]
     },
     "execution_count": 40,
     "metadata": {},
     "output_type": "execute_result"
    }
   ],
   "source": [
    "e == f"
   ]
  },
  {
   "cell_type": "code",
   "execution_count": 41,
   "metadata": {
    "id": "0LEX-DR4VoR4",
    "outputId": "ef42c060-505a-497a-fbd2-a3acd9442c44"
   },
   "outputs": [
    {
     "data": {
      "text/plain": [
       "True"
      ]
     },
     "execution_count": 41,
     "metadata": {},
     "output_type": "execute_result"
    }
   ],
   "source": [
    "e != f"
   ]
  },
  {
   "cell_type": "code",
   "execution_count": 42,
   "metadata": {
    "id": "TXgvwRYkVoR5",
    "outputId": "edaafafc-d7bd-41a9-eb86-042347a91a45"
   },
   "outputs": [
    {
     "data": {
      "text/plain": [
       "44.0"
      ]
     },
     "execution_count": 42,
     "metadata": {},
     "output_type": "execute_result"
    }
   ],
   "source": [
    "e"
   ]
  },
  {
   "cell_type": "code",
   "execution_count": 43,
   "metadata": {
    "id": "JU93I4iLVoR6",
    "outputId": "55f94661-69fb-4480-cbef-4184edccbc06"
   },
   "outputs": [
    {
     "data": {
      "text/plain": [
       "10"
      ]
     },
     "execution_count": 43,
     "metadata": {},
     "output_type": "execute_result"
    }
   ],
   "source": [
    "f"
   ]
  },
  {
   "cell_type": "code",
   "execution_count": 44,
   "metadata": {
    "id": "3_tzt0ilVoR7",
    "outputId": "7ebc12b7-7cad-4c3d-d720-0e44f0c20a80"
   },
   "outputs": [
    {
     "data": {
      "text/plain": [
       "False"
      ]
     },
     "execution_count": 44,
     "metadata": {},
     "output_type": "execute_result"
    }
   ],
   "source": [
    "e < f"
   ]
  },
  {
   "cell_type": "code",
   "execution_count": 45,
   "metadata": {
    "id": "TNiTwoVrVoR8",
    "outputId": "3fecb7f7-64a4-4677-e285-216b89dffdbe"
   },
   "outputs": [
    {
     "data": {
      "text/plain": [
       "True"
      ]
     },
     "execution_count": 45,
     "metadata": {},
     "output_type": "execute_result"
    }
   ],
   "source": [
    "e > f"
   ]
  },
  {
   "cell_type": "code",
   "execution_count": 46,
   "metadata": {
    "id": "7J-GS4C-VoR9"
   },
   "outputs": [],
   "source": [
    "g = 5\n",
    "h = 5"
   ]
  },
  {
   "cell_type": "code",
   "execution_count": 47,
   "metadata": {
    "id": "09WqFlO2VoR9",
    "outputId": "369f7187-6d52-4a0e-c602-d1ba29a2e8e7"
   },
   "outputs": [
    {
     "data": {
      "text/plain": [
       "True"
      ]
     },
     "execution_count": 47,
     "metadata": {},
     "output_type": "execute_result"
    }
   ],
   "source": [
    "g >= h"
   ]
  },
  {
   "cell_type": "code",
   "execution_count": 48,
   "metadata": {
    "id": "CLqQJM4sVoR-"
   },
   "outputs": [],
   "source": [
    "papel1 = \"VALE3\"\n",
    "papel2 = \"PETR4\""
   ]
  },
  {
   "cell_type": "code",
   "execution_count": 49,
   "metadata": {
    "id": "MmtpP3wOVoR_",
    "outputId": "0dd950af-93a2-4c44-9338-8b98919a4ce5"
   },
   "outputs": [
    {
     "data": {
      "text/plain": [
       "False"
      ]
     },
     "execution_count": 49,
     "metadata": {},
     "output_type": "execute_result"
    }
   ],
   "source": [
    "papel1 == papel2"
   ]
  },
  {
   "cell_type": "code",
   "execution_count": 50,
   "metadata": {
    "id": "VH0sLAEKVoSA",
    "outputId": "e6b9015a-81d8-4513-fb5f-1c05a609a465"
   },
   "outputs": [
    {
     "data": {
      "text/plain": [
       "True"
      ]
     },
     "execution_count": 50,
     "metadata": {},
     "output_type": "execute_result"
    }
   ],
   "source": [
    "papel1 != papel2"
   ]
  },
  {
   "cell_type": "markdown",
   "metadata": {
    "id": "xhpLtEEoVoSB"
   },
   "source": [
    "### 3.2. Operadores condicionais"
   ]
  },
  {
   "cell_type": "markdown",
   "metadata": {
    "id": "f_ZQqYaTVoSB"
   },
   "source": [
    "* and\n",
    "* or"
   ]
  },
  {
   "cell_type": "code",
   "execution_count": 51,
   "metadata": {
    "id": "q7i8txsgVoSC",
    "outputId": "ebbade02-0357-4801-9e8d-37368bfe32c8"
   },
   "outputs": [
    {
     "data": {
      "text/plain": [
       "True"
      ]
     },
     "execution_count": 51,
     "metadata": {},
     "output_type": "execute_result"
    }
   ],
   "source": [
    "e > f and g >= h"
   ]
  },
  {
   "cell_type": "code",
   "execution_count": 52,
   "metadata": {
    "id": "DaRiHw8sVoSD",
    "outputId": "a3f111fd-8704-49ba-e449-d28308ec35f0"
   },
   "outputs": [
    {
     "data": {
      "text/plain": [
       "False"
      ]
     },
     "execution_count": 52,
     "metadata": {},
     "output_type": "execute_result"
    }
   ],
   "source": [
    "e < f"
   ]
  },
  {
   "cell_type": "code",
   "execution_count": 53,
   "metadata": {
    "id": "LL15vbnXVoSD",
    "outputId": "f77e7028-f35f-41ce-b20b-72a93602cc77"
   },
   "outputs": [
    {
     "data": {
      "text/plain": [
       "True"
      ]
     },
     "execution_count": 53,
     "metadata": {},
     "output_type": "execute_result"
    }
   ],
   "source": [
    "e < f or g >= h"
   ]
  },
  {
   "cell_type": "code",
   "execution_count": 54,
   "metadata": {
    "id": "hUZzuLOFVoSE",
    "outputId": "8aa40465-160e-4464-d04c-d90ca471d5cc"
   },
   "outputs": [
    {
     "data": {
      "text/plain": [
       "False"
      ]
     },
     "execution_count": 54,
     "metadata": {},
     "output_type": "execute_result"
    }
   ],
   "source": [
    "e < f or g > h"
   ]
  },
  {
   "cell_type": "code",
   "execution_count": 55,
   "metadata": {
    "id": "sbyP1V1qVoSF",
    "outputId": "b9aae74e-582f-468f-ab39-9ea2aa1adc11"
   },
   "outputs": [
    {
     "data": {
      "text/plain": [
       "False"
      ]
     },
     "execution_count": 55,
     "metadata": {},
     "output_type": "execute_result"
    }
   ],
   "source": [
    "e < f and g >= h"
   ]
  },
  {
   "cell_type": "markdown",
   "metadata": {
    "id": "DjEr7fwMVoSF"
   },
   "source": [
    "## 4. Strings"
   ]
  },
  {
   "cell_type": "markdown",
   "metadata": {
    "id": "r8C0JqnHVoSG"
   },
   "source": [
    "### 4.1. Indexação e 'slicing' (fatiamento)"
   ]
  },
  {
   "cell_type": "code",
   "execution_count": 56,
   "metadata": {
    "id": "ZnvQhBH5VoSG"
   },
   "outputs": [],
   "source": [
    "manchete = 'PETR4 vai aumentar o preço da gasolina'"
   ]
  },
  {
   "cell_type": "code",
   "execution_count": 57,
   "metadata": {
    "id": "4nWWEjpBVoSH",
    "outputId": "4b21ee51-6c08-4aa7-ba3d-7443b2801877"
   },
   "outputs": [
    {
     "name": "stdout",
     "output_type": "stream",
     "text": [
      "PETR4 vai aumentar o preço da gasolina\n"
     ]
    }
   ],
   "source": [
    "print(manchete)"
   ]
  },
  {
   "cell_type": "code",
   "execution_count": 58,
   "metadata": {
    "id": "xET-8_XtVoSH",
    "outputId": "ca1e0768-22a5-484c-c4f9-64c1ac4a9295"
   },
   "outputs": [
    {
     "data": {
      "text/plain": [
       "str"
      ]
     },
     "execution_count": 58,
     "metadata": {},
     "output_type": "execute_result"
    }
   ],
   "source": [
    "type(manchete)"
   ]
  },
  {
   "cell_type": "code",
   "execution_count": 59,
   "metadata": {
    "id": "ixJ11atoVoSI",
    "outputId": "814ef798-2c52-46ba-a569-86d78df1c05d"
   },
   "outputs": [
    {
     "data": {
      "text/plain": [
       "38"
      ]
     },
     "execution_count": 59,
     "metadata": {},
     "output_type": "execute_result"
    }
   ],
   "source": [
    "# Comprimento (length) do objeto, nesse caso número de caracteres\n",
    "\n",
    "len(manchete)"
   ]
  },
  {
   "cell_type": "code",
   "execution_count": 60,
   "metadata": {
    "id": "biQ6AWYVVoSJ",
    "outputId": "dbf22690-0dfd-4776-bf84-8231f7bb163b"
   },
   "outputs": [
    {
     "data": {
      "text/plain": [
       "'P'"
      ]
     },
     "execution_count": 60,
     "metadata": {},
     "output_type": "execute_result"
    }
   ],
   "source": [
    "manchete[0]"
   ]
  },
  {
   "cell_type": "code",
   "execution_count": 61,
   "metadata": {
    "id": "nPsrYprzVoSJ",
    "outputId": "ddcab4ea-694f-4413-e111-1217d93d837b"
   },
   "outputs": [
    {
     "data": {
      "text/plain": [
       "'E'"
      ]
     },
     "execution_count": 61,
     "metadata": {},
     "output_type": "execute_result"
    }
   ],
   "source": [
    "manchete[1]"
   ]
  },
  {
   "cell_type": "code",
   "execution_count": 62,
   "metadata": {
    "id": "RObJGM76VoSK",
    "outputId": "b9d7ca52-8bd5-465b-f1e6-ebef83421e5d"
   },
   "outputs": [
    {
     "data": {
      "text/plain": [
       "'4'"
      ]
     },
     "execution_count": 62,
     "metadata": {},
     "output_type": "execute_result"
    }
   ],
   "source": [
    "manchete[4]"
   ]
  },
  {
   "cell_type": "code",
   "execution_count": 63,
   "metadata": {
    "id": "BYidPbFJVoSK",
    "outputId": "77c8e3ad-1b89-401d-b6a1-ec138fb9e2f4"
   },
   "outputs": [
    {
     "data": {
      "text/plain": [
       "' '"
      ]
     },
     "execution_count": 63,
     "metadata": {},
     "output_type": "execute_result"
    }
   ],
   "source": [
    "manchete[5]"
   ]
  },
  {
   "cell_type": "code",
   "execution_count": 64,
   "metadata": {
    "id": "RWybN21jVoSK",
    "outputId": "8a78303c-5d4b-4e36-ef4b-cf8321579528"
   },
   "outputs": [
    {
     "data": {
      "text/plain": [
       "'PETR4 '"
      ]
     },
     "execution_count": 64,
     "metadata": {},
     "output_type": "execute_result"
    }
   ],
   "source": [
    "manchete[0:6]"
   ]
  },
  {
   "cell_type": "code",
   "execution_count": 65,
   "metadata": {
    "id": "BM4yaM8BVoSL"
   },
   "outputs": [],
   "source": [
    "acao = manchete[0:5]"
   ]
  },
  {
   "cell_type": "code",
   "execution_count": 66,
   "metadata": {
    "id": "NcrAr8wtVoSL",
    "outputId": "092a8ec4-f3f0-437b-e261-449122cddf84"
   },
   "outputs": [
    {
     "data": {
      "text/plain": [
       "'PETR4'"
      ]
     },
     "execution_count": 66,
     "metadata": {},
     "output_type": "execute_result"
    }
   ],
   "source": [
    "acao"
   ]
  },
  {
   "cell_type": "code",
   "execution_count": 67,
   "metadata": {
    "id": "tQs_8Q1oVoSM",
    "outputId": "14c51e36-0985-409b-e1d5-e133933d115a"
   },
   "outputs": [
    {
     "data": {
      "text/plain": [
       "' vai aumentar o preço da gasolina'"
      ]
     },
     "execution_count": 67,
     "metadata": {},
     "output_type": "execute_result"
    }
   ],
   "source": [
    "# Do caractere 5 até o fim\n",
    "manchete[5:]"
   ]
  },
  {
   "cell_type": "code",
   "execution_count": 68,
   "metadata": {
    "id": "OyvQxlMFVoSM",
    "outputId": "512b6cbf-67a0-4424-b99b-2acdca060238"
   },
   "outputs": [
    {
     "data": {
      "text/plain": [
       "'PETR4 vai '"
      ]
     },
     "execution_count": 68,
     "metadata": {},
     "output_type": "execute_result"
    }
   ],
   "source": [
    "# Do início até o caractere 10 (sem retornar o 10)\n",
    "manchete[:10]"
   ]
  },
  {
   "cell_type": "code",
   "execution_count": 69,
   "metadata": {
    "id": "HGQQJYC5VoSN",
    "outputId": "2b6e0912-9cca-4d8d-90ee-a8f9e41f3a91"
   },
   "outputs": [
    {
     "data": {
      "text/plain": [
       "'PETR4 vai aumentar o preço da gasolina'"
      ]
     },
     "execution_count": 69,
     "metadata": {},
     "output_type": "execute_result"
    }
   ],
   "source": [
    "# Do início até o fim\n",
    "\n",
    "manchete[:]"
   ]
  },
  {
   "cell_type": "code",
   "execution_count": 70,
   "metadata": {
    "id": "ucTmR6jZVoSN",
    "outputId": "66c5a055-a86c-402a-884b-ce48b699183f"
   },
   "outputs": [
    {
     "data": {
      "text/plain": [
       "'PETR4 vai aumentar o preço da '"
      ]
     },
     "execution_count": 70,
     "metadata": {},
     "output_type": "execute_result"
    }
   ],
   "source": [
    "# A operação de indexing (indexação) também pode começar 'de trás para frente'. Basta utilizar índices negativos.\n",
    "manchete[:-8]"
   ]
  },
  {
   "cell_type": "code",
   "execution_count": 71,
   "metadata": {
    "id": "qh0d-Eq5VoSN",
    "outputId": "e33c4482-9475-4853-d597-d805e9df0747"
   },
   "outputs": [
    {
     "data": {
      "text/plain": [
       "' vai aumentar o preço da '"
      ]
     },
     "execution_count": 71,
     "metadata": {},
     "output_type": "execute_result"
    }
   ],
   "source": [
    "manchete[5:-8]"
   ]
  },
  {
   "cell_type": "markdown",
   "metadata": {
    "id": "nZFZhMklVoSO"
   },
   "source": [
    "Agora, temos um segundo ':'\n",
    "\n",
    "Ele indica de quantos em quantos caracteres devemos percorrer o intervalo"
   ]
  },
  {
   "cell_type": "code",
   "execution_count": 72,
   "metadata": {
    "id": "n-LX8uD3VoSO",
    "outputId": "7762aee6-6d86-4adb-97a2-972aef06c01a"
   },
   "outputs": [
    {
     "data": {
      "text/plain": [
       "'anilosag ad oçerp o ratnemua iav 4RTEP'"
      ]
     },
     "execution_count": 72,
     "metadata": {},
     "output_type": "execute_result"
    }
   ],
   "source": [
    "# Neste caso, percorremos todo o intervalo, mas indo de -1 em -1 (ou seja, de trás para frente)\n",
    "manchete[::-1]"
   ]
  },
  {
   "cell_type": "code",
   "execution_count": 73,
   "metadata": {
    "id": "XXnpUsSSVoSO",
    "outputId": "b8a7af6c-c89d-4b9b-ad61-c87dc3773ab7"
   },
   "outputs": [
    {
     "data": {
      "text/plain": [
       "'PETR4 vai aumentar o preço da gasolina'"
      ]
     },
     "execution_count": 73,
     "metadata": {},
     "output_type": "execute_result"
    }
   ],
   "source": [
    "manchete[::1]"
   ]
  },
  {
   "cell_type": "code",
   "execution_count": 74,
   "metadata": {
    "id": "JKb5HewIVoSP",
    "outputId": "bb25f795-286c-4e9d-95c7-5b599d73d073"
   },
   "outputs": [
    {
     "data": {
      "text/plain": [
       "'4RTEP'"
      ]
     },
     "execution_count": 74,
     "metadata": {},
     "output_type": "execute_result"
    }
   ],
   "source": [
    "acao[::-1]"
   ]
  },
  {
   "cell_type": "code",
   "execution_count": 75,
   "metadata": {
    "id": "e3Tj8oS_VoSP",
    "outputId": "20fdd942-9f4d-4efb-db99-a9ea398fba58"
   },
   "outputs": [
    {
     "data": {
      "text/plain": [
       "' 4RTEP'"
      ]
     },
     "execution_count": 75,
     "metadata": {},
     "output_type": "execute_result"
    }
   ],
   "source": [
    "manchete[5::-1]"
   ]
  },
  {
   "cell_type": "markdown",
   "metadata": {
    "id": "PG-xpF1FVoSQ"
   },
   "source": [
    "string[a:b:c]"
   ]
  },
  {
   "cell_type": "markdown",
   "metadata": {
    "id": "3BSWR1I8VoSQ"
   },
   "source": [
    "Resumindo o slicing:\n",
    "\n",
    "Uma forma de definirmos as notações string[a:b:c] seria algo como: Execute um comando de fatiamento da string em intervalos de ‘c’, a partir de ‘a’ (incluso) até ‘b’ (não incluso). Se ‘c’ for negativo, contamos de trás para frente. Quando ‘c’ não está presente no código, o padrão é 1 (i.e., fatiar de 1 em 1 caractere). Se ‘a’ não está presente, então você começa o mais distante possível na direção que você está contando (i.e., se ‘c’ é positivo, começa no primeiro caractere. Se ‘c’ é negativo, começa no último caractere). Se ‘b’ não está presente, então você termina o mais distante possível na direção que está contando (i.e., se ‘c’ é positivo, termina no último caractere. Se ‘c’ é negativo, termina no primeiro caractere)."
   ]
  },
  {
   "cell_type": "markdown",
   "metadata": {
    "id": "gAHfW2lpVoSQ"
   },
   "source": [
    "### 4.2. Propriedades das strings"
   ]
  },
  {
   "cell_type": "markdown",
   "metadata": {
    "id": "xe0j5B-rVoSQ"
   },
   "source": [
    "* Imutabilidade\n",
    "* Adição\n",
    "* Modificação de upper e lower case"
   ]
  },
  {
   "cell_type": "code",
   "execution_count": 76,
   "metadata": {
    "id": "cxruL4qTVoSR",
    "outputId": "1349141f-cc97-49b6-cac6-e987adfa1339"
   },
   "outputs": [
    {
     "data": {
      "text/plain": [
       "'PETR4 vai aumentar o preço da gasolina'"
      ]
     },
     "execution_count": 76,
     "metadata": {},
     "output_type": "execute_result"
    }
   ],
   "source": [
    "manchete"
   ]
  },
  {
   "cell_type": "code",
   "execution_count": 77,
   "metadata": {
    "id": "EYSWbQsYVoSR",
    "outputId": "d859894e-db4d-46e1-bc31-d027ca143ea5"
   },
   "outputs": [
    {
     "data": {
      "text/plain": [
       "'4'"
      ]
     },
     "execution_count": 77,
     "metadata": {},
     "output_type": "execute_result"
    }
   ],
   "source": [
    "manchete[4:5]"
   ]
  },
  {
   "cell_type": "code",
   "execution_count": 78,
   "metadata": {
    "id": "UlHIqh74VoSR",
    "outputId": "0a0da92f-1998-4c93-a063-e51ec3362b5c"
   },
   "outputs": [
    {
     "ename": "TypeError",
     "evalue": "'str' object does not support item assignment",
     "output_type": "error",
     "traceback": [
      "\u001b[1;31m---------------------------------------------------------------------------\u001b[0m",
      "\u001b[1;31mTypeError\u001b[0m                                 Traceback (most recent call last)",
      "\u001b[1;32m~\\AppData\\Local\\Temp/ipykernel_2736/2649173520.py\u001b[0m in \u001b[0;36m<module>\u001b[1;34m\u001b[0m\n\u001b[0;32m      1\u001b[0m \u001b[1;31m# Output é um erro, já que a string é imutável, ou seja, não consigo substituir o '4' pelo '3' em 'PETR4'\u001b[0m\u001b[1;33m\u001b[0m\u001b[1;33m\u001b[0m\u001b[0m\n\u001b[1;32m----> 2\u001b[1;33m \u001b[0mmanchete\u001b[0m\u001b[1;33m[\u001b[0m\u001b[1;36m4\u001b[0m\u001b[1;33m:\u001b[0m\u001b[1;36m5\u001b[0m\u001b[1;33m]\u001b[0m \u001b[1;33m=\u001b[0m \u001b[1;34m'3'\u001b[0m\u001b[1;33m\u001b[0m\u001b[1;33m\u001b[0m\u001b[0m\n\u001b[0m",
      "\u001b[1;31mTypeError\u001b[0m: 'str' object does not support item assignment"
     ]
    }
   ],
   "source": [
    "# Output é um erro, já que a string é imutável, ou seja, não consigo substituir o '4' pelo '3' em 'PETR4'\n",
    "manchete[4:5] = '3'"
   ]
  },
  {
   "cell_type": "code",
   "execution_count": 79,
   "metadata": {
    "id": "gaC95B1wVoSS",
    "outputId": "7305469e-99fa-4b2a-cab2-9654739db851"
   },
   "outputs": [
    {
     "ename": "TypeError",
     "evalue": "'str' object does not support item assignment",
     "output_type": "error",
     "traceback": [
      "\u001b[1;31m---------------------------------------------------------------------------\u001b[0m",
      "\u001b[1;31mTypeError\u001b[0m                                 Traceback (most recent call last)",
      "\u001b[1;32m~\\AppData\\Local\\Temp/ipykernel_2736/1805272218.py\u001b[0m in \u001b[0;36m<module>\u001b[1;34m\u001b[0m\n\u001b[0;32m      1\u001b[0m \u001b[1;31m# Da mesma forma, não conseguimos substituir mais de um caractere na string\u001b[0m\u001b[1;33m\u001b[0m\u001b[1;33m\u001b[0m\u001b[0m\n\u001b[1;32m----> 2\u001b[1;33m \u001b[0mmanchete\u001b[0m\u001b[1;33m[\u001b[0m\u001b[1;36m0\u001b[0m\u001b[1;33m:\u001b[0m\u001b[1;36m5\u001b[0m\u001b[1;33m]\u001b[0m \u001b[1;33m=\u001b[0m \u001b[1;34m'VALE3'\u001b[0m\u001b[1;33m\u001b[0m\u001b[1;33m\u001b[0m\u001b[0m\n\u001b[0m",
      "\u001b[1;31mTypeError\u001b[0m: 'str' object does not support item assignment"
     ]
    }
   ],
   "source": [
    "# Da mesma forma, não conseguimos substituir mais de um caractere na string\n",
    "manchete[0:5] = 'VALE3'"
   ]
  },
  {
   "cell_type": "code",
   "execution_count": 80,
   "metadata": {
    "id": "xzj5k5a4VoSS",
    "outputId": "f3a34163-20bb-459e-f3b0-e3b1797f1c42"
   },
   "outputs": [
    {
     "data": {
      "text/plain": [
       "'PETR4 vai aumentar o preço da gasolina por causa da alta do petróleo'"
      ]
     },
     "execution_count": 80,
     "metadata": {},
     "output_type": "execute_result"
    }
   ],
   "source": [
    "manchete + ' por causa da alta do petróleo'"
   ]
  },
  {
   "cell_type": "code",
   "execution_count": 81,
   "metadata": {
    "id": "1lCb4z_TVoSS"
   },
   "outputs": [],
   "source": [
    "complemento = ' por causa da alta do petróleo'"
   ]
  },
  {
   "cell_type": "code",
   "execution_count": 82,
   "metadata": {
    "id": "BeSkKpjGVoST"
   },
   "outputs": [],
   "source": [
    "frase_completa = manchete + complemento"
   ]
  },
  {
   "cell_type": "code",
   "execution_count": 83,
   "metadata": {
    "id": "GoZYl-gvVoST",
    "outputId": "7d7c0c41-e986-40f8-c1c8-c53687e2a433"
   },
   "outputs": [
    {
     "data": {
      "text/plain": [
       "'PETR4 vai aumentar o preço da gasolina por causa da alta do petróleo'"
      ]
     },
     "execution_count": 83,
     "metadata": {},
     "output_type": "execute_result"
    }
   ],
   "source": [
    "frase_completa"
   ]
  },
  {
   "cell_type": "code",
   "execution_count": 84,
   "metadata": {
    "id": "sRoigd2fVoST"
   },
   "outputs": [],
   "source": [
    "# Método lower: modifica todos os caracteres para minúsculos\n",
    "\n",
    "minusculo = frase_completa.lower()"
   ]
  },
  {
   "cell_type": "code",
   "execution_count": 85,
   "metadata": {
    "id": "jyJ72NEGVoSU",
    "outputId": "05e00e2b-2983-4d55-8dc9-8d3219646e2c"
   },
   "outputs": [
    {
     "data": {
      "text/plain": [
       "'petr4 vai aumentar o preço da gasolina por causa da alta do petróleo'"
      ]
     },
     "execution_count": 85,
     "metadata": {},
     "output_type": "execute_result"
    }
   ],
   "source": [
    "minusculo"
   ]
  },
  {
   "cell_type": "code",
   "execution_count": 86,
   "metadata": {
    "id": "bYguH9R6VoSU"
   },
   "outputs": [],
   "source": [
    "# Método upper: transforma tudo em maiúsculo\n",
    "\n",
    "maiusculo = minusculo.upper()"
   ]
  },
  {
   "cell_type": "code",
   "execution_count": 87,
   "metadata": {
    "id": "5tNtldC7VoSU",
    "outputId": "53842344-1044-4700-90c2-3205aaa355b0"
   },
   "outputs": [
    {
     "data": {
      "text/plain": [
       "'PETR4 VAI AUMENTAR O PREÇO DA GASOLINA POR CAUSA DA ALTA DO PETRÓLEO'"
      ]
     },
     "execution_count": 87,
     "metadata": {},
     "output_type": "execute_result"
    }
   ],
   "source": [
    "maiusculo"
   ]
  },
  {
   "cell_type": "markdown",
   "metadata": {
    "id": "Q1NnAuy-VoSV"
   },
   "source": [
    "Separar as palavras dentro de uma string com o método 'split'"
   ]
  },
  {
   "cell_type": "code",
   "execution_count": 88,
   "metadata": {
    "id": "HlTxsVDTVoSV"
   },
   "outputs": [],
   "source": [
    "frase_separada = frase_completa.split()"
   ]
  },
  {
   "cell_type": "code",
   "execution_count": 89,
   "metadata": {
    "id": "GZ_RcSdKVoSV",
    "outputId": "b970c6ee-9226-4bf5-f43a-438da7428fa0"
   },
   "outputs": [
    {
     "data": {
      "text/plain": [
       "['PETR4',\n",
       " 'vai',\n",
       " 'aumentar',\n",
       " 'o',\n",
       " 'preço',\n",
       " 'da',\n",
       " 'gasolina',\n",
       " 'por',\n",
       " 'causa',\n",
       " 'da',\n",
       " 'alta',\n",
       " 'do',\n",
       " 'petróleo']"
      ]
     },
     "execution_count": 89,
     "metadata": {},
     "output_type": "execute_result"
    }
   ],
   "source": [
    "frase_separada"
   ]
  },
  {
   "cell_type": "code",
   "execution_count": 90,
   "metadata": {
    "id": "4iAE8S_vVoSV",
    "outputId": "aa8a3c72-e530-4d14-8608-87f49103b441"
   },
   "outputs": [
    {
     "data": {
      "text/plain": [
       "['PETR4 ', 'ai aumentar o preço da gasolina por causa da alta do petróleo']"
      ]
     },
     "execution_count": 90,
     "metadata": {},
     "output_type": "execute_result"
    }
   ],
   "source": [
    "frase_completa.split('v')"
   ]
  },
  {
   "cell_type": "code",
   "execution_count": 91,
   "metadata": {
    "id": "ufpPeitoVoSW",
    "outputId": "725f825d-ea59-482b-d00b-213c76a0d151"
   },
   "outputs": [
    {
     "data": {
      "text/plain": [
       "'PETR4'"
      ]
     },
     "execution_count": 91,
     "metadata": {},
     "output_type": "execute_result"
    }
   ],
   "source": [
    "# Primeira palavra\n",
    "frase_separada[0]"
   ]
  },
  {
   "cell_type": "code",
   "execution_count": 92,
   "metadata": {
    "id": "vyjRuZZXVoSW",
    "outputId": "a8172e79-2f18-4392-de92-a507cc503387"
   },
   "outputs": [
    {
     "data": {
      "text/plain": [
       "'petróleo'"
      ]
     },
     "execution_count": 92,
     "metadata": {},
     "output_type": "execute_result"
    }
   ],
   "source": [
    "# Última palavra\n",
    "frase_separada[-1]"
   ]
  },
  {
   "cell_type": "markdown",
   "metadata": {},
   "source": [
    "## 5. Listas"
   ]
  },
  {
   "cell_type": "code",
   "execution_count": 94,
   "metadata": {
    "id": "48Ee6OWtJoXO"
   },
   "outputs": [],
   "source": [
    "# Listas são marcadas pelos colchetes e permitem alocação de itens (ou elementos) repetidos\n",
    "# Estão entre os objetos mais fáceis de manipulação pois aceitam substituições, adições, repetições...\n",
    "\n",
    "nomes = ['André', 'João', 'José']"
   ]
  },
  {
   "cell_type": "code",
   "execution_count": 95,
   "metadata": {
    "colab": {
     "base_uri": "https://localhost:8080/"
    },
    "id": "RsYisFbhJ-LH",
    "outputId": "5084e78d-40bb-4ffd-839d-8485ddc0f718"
   },
   "outputs": [
    {
     "data": {
      "text/plain": [
       "['André', 'João', 'José']"
      ]
     },
     "execution_count": 95,
     "metadata": {},
     "output_type": "execute_result"
    }
   ],
   "source": [
    "nomes"
   ]
  },
  {
   "cell_type": "code",
   "execution_count": 96,
   "metadata": {
    "colab": {
     "base_uri": "https://localhost:8080/"
    },
    "id": "j2BRltxQJ-9X",
    "outputId": "63ecb227-0d30-430c-e644-3d05f787d063"
   },
   "outputs": [
    {
     "data": {
      "text/plain": [
       "list"
      ]
     },
     "execution_count": 96,
     "metadata": {},
     "output_type": "execute_result"
    }
   ],
   "source": [
    "type(nomes)"
   ]
  },
  {
   "cell_type": "code",
   "execution_count": 97,
   "metadata": {
    "id": "lllH7Z7IKB9m"
   },
   "outputs": [],
   "source": [
    "# Permitem misturar strings com números\n",
    "\n",
    "lista_misturada = ['André', 'João', 'José', 30, 29, 28]"
   ]
  },
  {
   "cell_type": "code",
   "execution_count": 98,
   "metadata": {
    "colab": {
     "base_uri": "https://localhost:8080/"
    },
    "id": "dyUgVlc_KJ1-",
    "outputId": "8f7ee79d-51ea-4c6d-c728-951eea6243c8"
   },
   "outputs": [
    {
     "data": {
      "text/plain": [
       "['André', 'João', 'José', 30, 29, 28]"
      ]
     },
     "execution_count": 98,
     "metadata": {},
     "output_type": "execute_result"
    }
   ],
   "source": [
    "lista_misturada"
   ]
  },
  {
   "cell_type": "code",
   "execution_count": 99,
   "metadata": {
    "colab": {
     "base_uri": "https://localhost:8080/"
    },
    "id": "naAN-QC1KLjY",
    "outputId": "eaed16ff-5bf1-4f1f-af1c-31bcca691393"
   },
   "outputs": [
    {
     "data": {
      "text/plain": [
       "list"
      ]
     },
     "execution_count": 99,
     "metadata": {},
     "output_type": "execute_result"
    }
   ],
   "source": [
    "type(lista_misturada)"
   ]
  },
  {
   "cell_type": "code",
   "execution_count": 100,
   "metadata": {
    "colab": {
     "base_uri": "https://localhost:8080/"
    },
    "id": "FtqSgtJLLDGI",
    "outputId": "e4e018ef-1512-4999-f6c0-d29239476433"
   },
   "outputs": [
    {
     "data": {
      "text/plain": [
       "str"
      ]
     },
     "execution_count": 100,
     "metadata": {},
     "output_type": "execute_result"
    }
   ],
   "source": [
    "# Listas seguem o mesmo padrão de indexação e slicing. Cada elemento é separado por ',' (vírgula)\n",
    "\n",
    "type(lista_misturada[0])"
   ]
  },
  {
   "cell_type": "code",
   "execution_count": 101,
   "metadata": {
    "id": "fHxXRYyCgRfL",
    "outputId": "31bc7bc1-b93b-4e72-8e90-b8f0bbf93241"
   },
   "outputs": [
    {
     "data": {
      "text/plain": [
       "int"
      ]
     },
     "execution_count": 101,
     "metadata": {},
     "output_type": "execute_result"
    }
   ],
   "source": [
    "# Note que o elemento de índice '3' (30) é um número inteiro\n",
    "\n",
    "type(lista_misturada[3])"
   ]
  },
  {
   "cell_type": "code",
   "execution_count": 102,
   "metadata": {
    "colab": {
     "base_uri": "https://localhost:8080/",
     "height": 36
    },
    "id": "Cp3j_YHvKNVP",
    "outputId": "c54c46dd-3123-4b2b-b961-04bba8882e41"
   },
   "outputs": [
    {
     "data": {
      "text/plain": [
       "'Os aprovados foram André e José'"
      ]
     },
     "execution_count": 102,
     "metadata": {},
     "output_type": "execute_result"
    }
   ],
   "source": [
    "# Conseguimos criar novas strings resultantes de operações com outras strings, inclusive procedentes de listas\n",
    "\n",
    "'Os aprovados foram ' + nomes[0] + ' e ' + nomes[2]"
   ]
  },
  {
   "cell_type": "code",
   "execution_count": 103,
   "metadata": {
    "id": "3y3UA8nmKZ7V"
   },
   "outputs": [],
   "source": [
    "# Nesse caso, embora sejam números, estão entre aspas e portanto, são lidos como strings\n",
    "lista = ['28','29','30']"
   ]
  },
  {
   "cell_type": "code",
   "execution_count": 104,
   "metadata": {
    "colab": {
     "base_uri": "https://localhost:8080/",
     "height": 36
    },
    "id": "qqf_t3e7LUum",
    "outputId": "b0603710-c81e-4de0-b8f5-eb4c87a64bac"
   },
   "outputs": [
    {
     "data": {
      "text/plain": [
       "'28'"
      ]
     },
     "execution_count": 104,
     "metadata": {},
     "output_type": "execute_result"
    }
   ],
   "source": [
    "lista[0]"
   ]
  },
  {
   "cell_type": "code",
   "execution_count": 105,
   "metadata": {
    "colab": {
     "base_uri": "https://localhost:8080/"
    },
    "id": "iI3S28hkt-Jf",
    "outputId": "dd362827-0874-43c0-9a37-0ab8a3accf9d"
   },
   "outputs": [
    {
     "data": {
      "text/plain": [
       "str"
      ]
     },
     "execution_count": 105,
     "metadata": {},
     "output_type": "execute_result"
    }
   ],
   "source": [
    "type(lista[0])"
   ]
  },
  {
   "cell_type": "code",
   "execution_count": 106,
   "metadata": {
    "colab": {
     "base_uri": "https://localhost:8080/",
     "height": 36
    },
    "id": "RnV67bRxLYR_",
    "outputId": "8c889df7-820a-4613-c133-78f7fa08cfc2"
   },
   "outputs": [
    {
     "data": {
      "text/plain": [
       "'A minha idade é 28'"
      ]
     },
     "execution_count": 106,
     "metadata": {},
     "output_type": "execute_result"
    }
   ],
   "source": [
    "'A minha idade é ' + lista[0]"
   ]
  },
  {
   "cell_type": "code",
   "execution_count": 107,
   "metadata": {
    "colab": {
     "base_uri": "https://localhost:8080/",
     "height": 36
    },
    "id": "5BS-Bi8WLh__",
    "outputId": "d09ceb4f-4172-4504-8344-07ae7d156c8e"
   },
   "outputs": [
    {
     "data": {
      "text/plain": [
       "'30'"
      ]
     },
     "execution_count": 107,
     "metadata": {},
     "output_type": "execute_result"
    }
   ],
   "source": [
    "lista[2]"
   ]
  },
  {
   "cell_type": "code",
   "execution_count": 108,
   "metadata": {
    "id": "ahx9DdV3LzuN"
   },
   "outputs": [],
   "source": [
    "# As listas são mutáveis, ao contrário das strings\n",
    "\n",
    "lista[2] = '31'"
   ]
  },
  {
   "cell_type": "code",
   "execution_count": 109,
   "metadata": {
    "colab": {
     "base_uri": "https://localhost:8080/"
    },
    "id": "5hjmZVkaL2Y1",
    "outputId": "b84b7e16-d26d-4351-e705-5f446269469f"
   },
   "outputs": [
    {
     "data": {
      "text/plain": [
       "['28', '29', '31']"
      ]
     },
     "execution_count": 109,
     "metadata": {},
     "output_type": "execute_result"
    }
   ],
   "source": [
    "lista"
   ]
  },
  {
   "cell_type": "code",
   "execution_count": 110,
   "metadata": {
    "id": "MILQPTTML_BO"
   },
   "outputs": [],
   "source": [
    "# Também são aditivas\n",
    "\n",
    "nova_lista = nomes + lista"
   ]
  },
  {
   "cell_type": "code",
   "execution_count": 111,
   "metadata": {
    "colab": {
     "base_uri": "https://localhost:8080/"
    },
    "id": "lO5QeLV-MI8A",
    "outputId": "47a16ae9-35ae-4bce-f937-6563f6e660d7"
   },
   "outputs": [
    {
     "data": {
      "text/plain": [
       "['André', 'João', 'José', '28', '29', '31']"
      ]
     },
     "execution_count": 111,
     "metadata": {},
     "output_type": "execute_result"
    }
   ],
   "source": [
    "nova_lista"
   ]
  },
  {
   "cell_type": "code",
   "execution_count": 112,
   "metadata": {
    "colab": {
     "base_uri": "https://localhost:8080/"
    },
    "id": "mxfnRHB3MO1e",
    "outputId": "73c7a5bb-0ebe-4eb7-eb76-66f10ceb30f0"
   },
   "outputs": [
    {
     "data": {
      "text/plain": [
       "['André',\n",
       " 'João',\n",
       " 'José',\n",
       " '28',\n",
       " '29',\n",
       " '31',\n",
       " 'André',\n",
       " 'João',\n",
       " 'José',\n",
       " '28',\n",
       " '29',\n",
       " '31']"
      ]
     },
     "execution_count": 112,
     "metadata": {},
     "output_type": "execute_result"
    }
   ],
   "source": [
    "# Repetir a lista 2 vezes\n",
    "\n",
    "nova_lista*2"
   ]
  },
  {
   "cell_type": "code",
   "execution_count": 113,
   "metadata": {
    "id": "np5JbRkaMXnG"
   },
   "outputs": [],
   "source": [
    "# Adicionar um novo elemento à lista. Método 'append'\n",
    "\n",
    "# Note que estou incluindo um item numérico (integer)\n",
    "\n",
    "lista.append(30)"
   ]
  },
  {
   "cell_type": "code",
   "execution_count": 114,
   "metadata": {
    "colab": {
     "base_uri": "https://localhost:8080/"
    },
    "id": "HPjxKm9DMmL3",
    "outputId": "2f73c549-ceb2-42f6-cb89-4423da6bf107"
   },
   "outputs": [
    {
     "data": {
      "text/plain": [
       "['28', '29', '31', 30]"
      ]
     },
     "execution_count": 114,
     "metadata": {},
     "output_type": "execute_result"
    }
   ],
   "source": [
    "lista"
   ]
  },
  {
   "cell_type": "code",
   "execution_count": 115,
   "metadata": {
    "colab": {
     "base_uri": "https://localhost:8080/"
    },
    "id": "tKoXEsg4Mn3e",
    "outputId": "88b0c8fc-166f-4a15-ab6b-1f02eaaa5166"
   },
   "outputs": [
    {
     "data": {
      "text/plain": [
       "int"
      ]
     },
     "execution_count": 115,
     "metadata": {},
     "output_type": "execute_result"
    }
   ],
   "source": [
    "type(lista[3])"
   ]
  },
  {
   "cell_type": "code",
   "execution_count": 116,
   "metadata": {
    "colab": {
     "base_uri": "https://localhost:8080/"
    },
    "id": "rDNP_CctMy-d",
    "outputId": "24b3b3ca-d596-4496-aa37-241220ada805"
   },
   "outputs": [
    {
     "data": {
      "text/plain": [
       "30"
      ]
     },
     "execution_count": 116,
     "metadata": {},
     "output_type": "execute_result"
    }
   ],
   "source": [
    "# Método 'pop' remove o último item\n",
    "\n",
    "lista.pop()"
   ]
  },
  {
   "cell_type": "code",
   "execution_count": 117,
   "metadata": {
    "colab": {
     "base_uri": "https://localhost:8080/"
    },
    "id": "WpAND7W-NCz_",
    "outputId": "1eabe2a3-a2ff-45c4-af2a-24d37c5189ad"
   },
   "outputs": [
    {
     "data": {
      "text/plain": [
       "['28', '29', '31']"
      ]
     },
     "execution_count": 117,
     "metadata": {},
     "output_type": "execute_result"
    }
   ],
   "source": [
    "lista"
   ]
  },
  {
   "cell_type": "code",
   "execution_count": 118,
   "metadata": {
    "colab": {
     "base_uri": "https://localhost:8080/",
     "height": 36
    },
    "id": "SU2jthRFNE-W",
    "outputId": "10f0b6d5-1719-42a9-bd21-3bb5d188433c"
   },
   "outputs": [
    {
     "data": {
      "text/plain": [
       "'31'"
      ]
     },
     "execution_count": 118,
     "metadata": {},
     "output_type": "execute_result"
    }
   ],
   "source": [
    "lista.pop()"
   ]
  },
  {
   "cell_type": "code",
   "execution_count": 119,
   "metadata": {
    "colab": {
     "base_uri": "https://localhost:8080/"
    },
    "id": "wJTNwia2NHKP",
    "outputId": "865714b4-4f56-498c-98d8-8cdc19c67f7c"
   },
   "outputs": [
    {
     "data": {
      "text/plain": [
       "['28', '29']"
      ]
     },
     "execution_count": 119,
     "metadata": {},
     "output_type": "execute_result"
    }
   ],
   "source": [
    "lista"
   ]
  },
  {
   "cell_type": "code",
   "execution_count": 120,
   "metadata": {
    "id": "vvaB11XONIgI"
   },
   "outputs": [],
   "source": [
    "#Lista apenas com itens númericos\n",
    "\n",
    "idade = [4, 54, 65, 34, 29, 78, 38]"
   ]
  },
  {
   "cell_type": "code",
   "execution_count": 121,
   "metadata": {
    "id": "zZwHy66XNOH-"
   },
   "outputs": [],
   "source": [
    "# Método sort para classificar por ordem crescente (no caso de strings será por ordem alfabética)\n",
    "\n",
    "idade.sort()"
   ]
  },
  {
   "cell_type": "code",
   "execution_count": 122,
   "metadata": {
    "colab": {
     "base_uri": "https://localhost:8080/"
    },
    "id": "vw6VTrDDNTqi",
    "outputId": "75e856b2-54d4-4f1a-95a2-6d0b7d805bfe"
   },
   "outputs": [
    {
     "data": {
      "text/plain": [
       "[4, 29, 34, 38, 54, 65, 78]"
      ]
     },
     "execution_count": 122,
     "metadata": {},
     "output_type": "execute_result"
    }
   ],
   "source": [
    "idade"
   ]
  },
  {
   "cell_type": "code",
   "execution_count": 123,
   "metadata": {
    "id": "1GlKsVwTNV3-"
   },
   "outputs": [],
   "source": [
    "# Método reverse para classificar por ordem decrescente (ordem alfabética invertida)\n",
    "\n",
    "idade.reverse()"
   ]
  },
  {
   "cell_type": "code",
   "execution_count": 124,
   "metadata": {
    "colab": {
     "base_uri": "https://localhost:8080/"
    },
    "id": "HpOT_Yg1Na5W",
    "outputId": "77e79272-9ecc-4df7-a89b-b1b0ff4e7656"
   },
   "outputs": [
    {
     "data": {
      "text/plain": [
       "[78, 65, 54, 38, 34, 29, 4]"
      ]
     },
     "execution_count": 124,
     "metadata": {},
     "output_type": "execute_result"
    }
   ],
   "source": [
    "idade"
   ]
  },
  {
   "cell_type": "code",
   "execution_count": 125,
   "metadata": {
    "id": "xC5dVkzPNbtm"
   },
   "outputs": [],
   "source": [
    "# Criar três listas\n",
    "\n",
    "lista1 = [0,1,2]\n",
    "lista2 = [4,5,6]\n",
    "lista3 = [7,8,9]"
   ]
  },
  {
   "cell_type": "code",
   "execution_count": 126,
   "metadata": {
    "id": "rOOkc75ENlnO"
   },
   "outputs": [],
   "source": [
    "# Unir as três listas em uma lista só (lista de listas)\n",
    "\n",
    "matriz = [lista1, lista2, lista3]"
   ]
  },
  {
   "cell_type": "code",
   "execution_count": 127,
   "metadata": {
    "colab": {
     "base_uri": "https://localhost:8080/"
    },
    "id": "dzvf6khENpDV",
    "outputId": "7a897806-5eae-4126-ab6c-536e8b553e28"
   },
   "outputs": [
    {
     "data": {
      "text/plain": [
       "[[0, 1, 2], [4, 5, 6], [7, 8, 9]]"
      ]
     },
     "execution_count": 127,
     "metadata": {},
     "output_type": "execute_result"
    }
   ],
   "source": [
    "matriz"
   ]
  },
  {
   "cell_type": "code",
   "execution_count": 128,
   "metadata": {
    "colab": {
     "base_uri": "https://localhost:8080/"
    },
    "id": "Iz5ZgwTuNp9O",
    "outputId": "53c5155f-c999-431b-9aa5-08597efcb540"
   },
   "outputs": [
    {
     "data": {
      "text/plain": [
       "4"
      ]
     },
     "execution_count": 128,
     "metadata": {},
     "output_type": "execute_result"
    }
   ],
   "source": [
    "# Acessar a lista indexada como 1 (segunda lista) e seu item 0 (primeiro item)\n",
    "\n",
    "matriz[1][0]"
   ]
  },
  {
   "cell_type": "code",
   "execution_count": 129,
   "metadata": {
    "colab": {
     "base_uri": "https://localhost:8080/"
    },
    "id": "Ut7IHXFaNu7W",
    "outputId": "58cd09f1-33f8-4b0d-be58-02b87422cbb5"
   },
   "outputs": [
    {
     "data": {
      "text/plain": [
       "0"
      ]
     },
     "execution_count": 129,
     "metadata": {},
     "output_type": "execute_result"
    }
   ],
   "source": [
    "# Primeira lista e primeiro elemento\n",
    "\n",
    "matriz[0][0]"
   ]
  },
  {
   "cell_type": "markdown",
   "metadata": {
    "id": "owK558tcN1tN"
   },
   "source": [
    "## 6. Dicionários"
   ]
  },
  {
   "cell_type": "markdown",
   "metadata": {
    "id": "8AQ6Q6glS7DG"
   },
   "source": [
    "Os dicionários representam uma estrutura de dados mais complexos que as listas, capazes de relacionar pares de dados (um dado que pode representar outro dado). Ao invés de colchetes, como as listas, são definidos pelas chaves. Em outras linguagens, poderia ser relacionado às \"arrays associativas\". A estrutura básica dos dicionários é \"{*key: value*}\""
   ]
  },
  {
   "cell_type": "code",
   "execution_count": 130,
   "metadata": {
    "id": "kaRmEVH5hhFy"
   },
   "outputs": [],
   "source": [
    "precos = {'PETR4':30,\n",
    "          'VALE3': 102,\n",
    "          'WEGE3': 34}"
   ]
  },
  {
   "cell_type": "code",
   "execution_count": 131,
   "metadata": {
    "colab": {
     "base_uri": "https://localhost:8080/"
    },
    "id": "QcTZAouEhrdA",
    "outputId": "d775b96d-d67d-4e2d-b4bc-612710c3a4c5"
   },
   "outputs": [
    {
     "data": {
      "text/plain": [
       "{'PETR4': 30, 'VALE3': 102, 'WEGE3': 34}"
      ]
     },
     "execution_count": 131,
     "metadata": {},
     "output_type": "execute_result"
    }
   ],
   "source": [
    "precos"
   ]
  },
  {
   "cell_type": "code",
   "execution_count": 132,
   "metadata": {
    "colab": {
     "base_uri": "https://localhost:8080/"
    },
    "id": "K1j8XiGIhuRX",
    "outputId": "dc5b1646-96c3-4b32-cafe-2bc36c22b887"
   },
   "outputs": [
    {
     "data": {
      "text/plain": [
       "dict"
      ]
     },
     "execution_count": 132,
     "metadata": {},
     "output_type": "execute_result"
    }
   ],
   "source": [
    "type(precos)"
   ]
  },
  {
   "cell_type": "code",
   "execution_count": 133,
   "metadata": {
    "colab": {
     "base_uri": "https://localhost:8080/"
    },
    "id": "bRb0yxDNhyf4",
    "outputId": "4f12a678-4b66-4c3e-8012-efa4a483dcb6"
   },
   "outputs": [
    {
     "data": {
      "text/plain": [
       "dict_keys(['PETR4', 'VALE3', 'WEGE3'])"
      ]
     },
     "execution_count": 133,
     "metadata": {},
     "output_type": "execute_result"
    }
   ],
   "source": [
    "# Listar apenas as chaves (keys) do dicionário\n",
    "\n",
    "precos.keys()"
   ]
  },
  {
   "cell_type": "code",
   "execution_count": 134,
   "metadata": {
    "colab": {
     "base_uri": "https://localhost:8080/"
    },
    "id": "1zVO_OIZiFUw",
    "outputId": "0762bf4c-96a9-4358-fe63-ce0301e9f751"
   },
   "outputs": [
    {
     "data": {
      "text/plain": [
       "dict_values([30, 102, 34])"
      ]
     },
     "execution_count": 134,
     "metadata": {},
     "output_type": "execute_result"
    }
   ],
   "source": [
    "# Listar apenas os valores do dicionário\n",
    "\n",
    "precos.values()"
   ]
  },
  {
   "cell_type": "code",
   "execution_count": 135,
   "metadata": {
    "colab": {
     "base_uri": "https://localhost:8080/"
    },
    "id": "Puzrl8EtiJmw",
    "outputId": "25339b71-1008-4ce8-8e14-f91e42dd4266"
   },
   "outputs": [
    {
     "data": {
      "text/plain": [
       "dict_items([('PETR4', 30), ('VALE3', 102), ('WEGE3', 34)])"
      ]
     },
     "execution_count": 135,
     "metadata": {},
     "output_type": "execute_result"
    }
   ],
   "source": [
    "# Listar os pares de itens do dicionário\n",
    "\n",
    "precos.items()"
   ]
  },
  {
   "cell_type": "code",
   "execution_count": 136,
   "metadata": {
    "colab": {
     "base_uri": "https://localhost:8080/"
    },
    "id": "ehf3NKzTiNXh",
    "outputId": "955a5fe5-1070-4f17-cf2c-bb129f0d40a9"
   },
   "outputs": [
    {
     "data": {
      "text/plain": [
       "30"
      ]
     },
     "execution_count": 136,
     "metadata": {},
     "output_type": "execute_result"
    }
   ],
   "source": [
    "# Indexação é feito pelas chaves e não pelos índices numéricos (como listas)\n",
    "\n",
    "precos['PETR4']"
   ]
  },
  {
   "cell_type": "code",
   "execution_count": 137,
   "metadata": {
    "colab": {
     "base_uri": "https://localhost:8080/"
    },
    "id": "_jR0qaMGiTv5",
    "outputId": "056afd3f-d041-4f84-c828-c18edfabd514"
   },
   "outputs": [
    {
     "data": {
      "text/plain": [
       "102"
      ]
     },
     "execution_count": 137,
     "metadata": {},
     "output_type": "execute_result"
    }
   ],
   "source": [
    "precos['VALE3']"
   ]
  },
  {
   "cell_type": "code",
   "execution_count": 138,
   "metadata": {
    "id": "Fcv_0Z1LicVI"
   },
   "outputs": [],
   "source": [
    "# Os dicionários são bem flexíveis quanto aos \"values\". Poderia ser uma string, uma lista...\n",
    "\n",
    "precos = {'PETR4':'30',\n",
    "          'VALE3': [102,103,104,105],\n",
    "          'WEGE3': 34}"
   ]
  },
  {
   "cell_type": "code",
   "execution_count": 139,
   "metadata": {
    "colab": {
     "base_uri": "https://localhost:8080/",
     "height": 36
    },
    "id": "mB5O2pzqV-mI",
    "outputId": "72aa4f3d-f5df-4de9-f4e9-5482857b1bc0"
   },
   "outputs": [
    {
     "data": {
      "text/plain": [
       "'30'"
      ]
     },
     "execution_count": 139,
     "metadata": {},
     "output_type": "execute_result"
    }
   ],
   "source": [
    "precos['PETR4']"
   ]
  },
  {
   "cell_type": "code",
   "execution_count": 140,
   "metadata": {
    "colab": {
     "base_uri": "https://localhost:8080/"
    },
    "id": "T_lkN05Diomf",
    "outputId": "59438406-2b6a-45c6-a0a5-fa50730c7e78"
   },
   "outputs": [
    {
     "data": {
      "text/plain": [
       "[102, 103, 104, 105]"
      ]
     },
     "execution_count": 140,
     "metadata": {},
     "output_type": "execute_result"
    }
   ],
   "source": [
    "precos['VALE3']"
   ]
  },
  {
   "cell_type": "code",
   "execution_count": 141,
   "metadata": {
    "id": "e38AktXAirUQ"
   },
   "outputs": [],
   "source": [
    "# São mutáveis, assim como as listas\n",
    "\n",
    "precos['WEGE3'] = 30"
   ]
  },
  {
   "cell_type": "code",
   "execution_count": 142,
   "metadata": {
    "colab": {
     "base_uri": "https://localhost:8080/"
    },
    "id": "Jqm703RLjZjX",
    "outputId": "c0f4245a-c059-4b45-81aa-1f06a455ca27"
   },
   "outputs": [
    {
     "data": {
      "text/plain": [
       "{'PETR4': '30', 'VALE3': [102, 103, 104, 105], 'WEGE3': 30}"
      ]
     },
     "execution_count": 142,
     "metadata": {},
     "output_type": "execute_result"
    }
   ],
   "source": [
    "precos"
   ]
  },
  {
   "cell_type": "code",
   "execution_count": 143,
   "metadata": {
    "id": "xc80wMssjavx"
   },
   "outputs": [],
   "source": [
    "# Também permitem adição de novos itens\n",
    "\n",
    "precos['GOAU4'] = 20"
   ]
  },
  {
   "cell_type": "code",
   "execution_count": 144,
   "metadata": {
    "colab": {
     "base_uri": "https://localhost:8080/"
    },
    "id": "m9DBM3jBjjgv",
    "outputId": "8a0ffc77-5a6f-46a5-cddd-d765e2491560"
   },
   "outputs": [
    {
     "data": {
      "text/plain": [
       "{'PETR4': '30', 'VALE3': [102, 103, 104, 105], 'WEGE3': 30, 'GOAU4': 20}"
      ]
     },
     "execution_count": 144,
     "metadata": {},
     "output_type": "execute_result"
    }
   ],
   "source": [
    "precos"
   ]
  },
  {
   "cell_type": "code",
   "execution_count": 145,
   "metadata": {
    "id": "EPNrUJwjjkU4"
   },
   "outputs": [],
   "source": [
    "listas = []"
   ]
  },
  {
   "cell_type": "code",
   "execution_count": 146,
   "metadata": {
    "id": "YtfL83f-6ur-"
   },
   "outputs": [],
   "source": [
    "dicionarios = {}"
   ]
  },
  {
   "cell_type": "markdown",
   "metadata": {
    "id": "DrofZ8yr6w3W"
   },
   "source": [
    "## 7. Tuplas"
   ]
  },
  {
   "cell_type": "markdown",
   "metadata": {
    "id": "FANPVfPCWynU"
   },
   "source": [
    "As tuplas são criadas utilizando parênteses. Indexação e slicing similares aos de strings e listas. Estão entre as estruturas de dados mais simples (ex., são imutáveis e nao permitem adições), porém com pouca flexibilidade."
   ]
  },
  {
   "cell_type": "code",
   "execution_count": 147,
   "metadata": {
    "id": "EAlGZ3PX61Fh"
   },
   "outputs": [],
   "source": [
    "tupla = ()"
   ]
  },
  {
   "cell_type": "code",
   "execution_count": 148,
   "metadata": {
    "id": "yjvhoVwe64Rx"
   },
   "outputs": [],
   "source": [
    "# Exemplo de uma tupla (permite valores repetidos)\n",
    "\n",
    "tupla1 = (1,1,2,2,4,6,15)"
   ]
  },
  {
   "cell_type": "code",
   "execution_count": 149,
   "metadata": {
    "colab": {
     "base_uri": "https://localhost:8080/"
    },
    "id": "V1q10AKx6-tF",
    "outputId": "391d4f5d-d2f3-4689-dc35-17f55b890fd2"
   },
   "outputs": [
    {
     "data": {
      "text/plain": [
       "(1, 1, 2, 2, 4, 6, 15)"
      ]
     },
     "execution_count": 149,
     "metadata": {},
     "output_type": "execute_result"
    }
   ],
   "source": [
    "tupla1"
   ]
  },
  {
   "cell_type": "code",
   "execution_count": 150,
   "metadata": {
    "colab": {
     "base_uri": "https://localhost:8080/"
    },
    "id": "NxmP2Uyf6_RP",
    "outputId": "336787b3-5cdd-4c47-b5b5-ef26128565fc"
   },
   "outputs": [
    {
     "data": {
      "text/plain": [
       "tuple"
      ]
     },
     "execution_count": 150,
     "metadata": {},
     "output_type": "execute_result"
    }
   ],
   "source": [
    "type(tupla1)"
   ]
  },
  {
   "cell_type": "code",
   "execution_count": 151,
   "metadata": {
    "colab": {
     "base_uri": "https://localhost:8080/"
    },
    "id": "zNymfzHb7BFv",
    "outputId": "50b78902-a411-4df0-f167-f3198b92d1e5"
   },
   "outputs": [
    {
     "data": {
      "text/plain": [
       "7"
      ]
     },
     "execution_count": 151,
     "metadata": {},
     "output_type": "execute_result"
    }
   ],
   "source": [
    "# Comprimento da tupla = número de itens\n",
    "\n",
    "len(tupla1)"
   ]
  },
  {
   "cell_type": "code",
   "execution_count": 152,
   "metadata": {
    "colab": {
     "base_uri": "https://localhost:8080/"
    },
    "id": "Y_oVZX2q7Hk_",
    "outputId": "28046032-4d78-4910-b789-8476a6fabadc"
   },
   "outputs": [
    {
     "data": {
      "text/plain": [
       "2"
      ]
     },
     "execution_count": 152,
     "metadata": {},
     "output_type": "execute_result"
    }
   ],
   "source": [
    "# Indexação similar a listas\n",
    "\n",
    "tupla1[2]"
   ]
  },
  {
   "cell_type": "code",
   "execution_count": 153,
   "metadata": {
    "colab": {
     "base_uri": "https://localhost:8080/"
    },
    "id": "ZNyM-Wo_7OMQ",
    "outputId": "e7c642cf-2aec-4728-b0a3-31f3b15dff58"
   },
   "outputs": [
    {
     "data": {
      "text/plain": [
       "(2, 2, 4, 6)"
      ]
     },
     "execution_count": 153,
     "metadata": {},
     "output_type": "execute_result"
    }
   ],
   "source": [
    "# Fatiamento similar às listas e strings\n",
    "\n",
    "tupla1[2:6]"
   ]
  },
  {
   "cell_type": "code",
   "execution_count": 154,
   "metadata": {
    "colab": {
     "base_uri": "https://localhost:8080/"
    },
    "id": "Gd-tOxGF7WPg",
    "outputId": "a4de66c6-242e-4374-b050-cd060e18af83"
   },
   "outputs": [
    {
     "data": {
      "text/plain": [
       "6"
      ]
     },
     "execution_count": 154,
     "metadata": {},
     "output_type": "execute_result"
    }
   ],
   "source": [
    "# Tuplas possuem alguns métodos simples, como determinar o índice referente a um item específico (itens repetidos retornarão o índice do primeiro item)\n",
    "\n",
    "tupla1.index(15)"
   ]
  },
  {
   "cell_type": "code",
   "execution_count": 155,
   "metadata": {
    "colab": {
     "base_uri": "https://localhost:8080/"
    },
    "id": "vhoxkA8CZMqE",
    "outputId": "4cab93fe-6aec-45c0-9704-f3e5640aea83"
   },
   "outputs": [
    {
     "data": {
      "text/plain": [
       "0"
      ]
     },
     "execution_count": 155,
     "metadata": {},
     "output_type": "execute_result"
    }
   ],
   "source": [
    "tupla1.index(1)"
   ]
  },
  {
   "cell_type": "code",
   "execution_count": 156,
   "metadata": {
    "colab": {
     "base_uri": "https://localhost:8080/"
    },
    "id": "EgdgSpHx7h_e",
    "outputId": "979224a3-7786-4336-9d55-aae5819720d5"
   },
   "outputs": [
    {
     "data": {
      "text/plain": [
       "1"
      ]
     },
     "execution_count": 156,
     "metadata": {},
     "output_type": "execute_result"
    }
   ],
   "source": [
    "# Método contagem de itens iguais\n",
    "\n",
    "tupla1.count(15)"
   ]
  },
  {
   "cell_type": "code",
   "execution_count": 157,
   "metadata": {
    "colab": {
     "base_uri": "https://localhost:8080/",
     "height": 172
    },
    "id": "VGSPXOw27pvR",
    "outputId": "9dce3d18-07ee-4a3f-ba51-5ee2a7136617"
   },
   "outputs": [
    {
     "ename": "TypeError",
     "evalue": "'tuple' object does not support item assignment",
     "output_type": "error",
     "traceback": [
      "\u001b[1;31m---------------------------------------------------------------------------\u001b[0m",
      "\u001b[1;31mTypeError\u001b[0m                                 Traceback (most recent call last)",
      "\u001b[1;32m~\\AppData\\Local\\Temp/ipykernel_2736/2339386493.py\u001b[0m in \u001b[0;36m<module>\u001b[1;34m\u001b[0m\n\u001b[0;32m      3\u001b[0m \u001b[1;31m# Este comando vai resultar em erro\u001b[0m\u001b[1;33m\u001b[0m\u001b[1;33m\u001b[0m\u001b[0m\n\u001b[0;32m      4\u001b[0m \u001b[1;33m\u001b[0m\u001b[0m\n\u001b[1;32m----> 5\u001b[1;33m \u001b[0mtupla1\u001b[0m\u001b[1;33m[\u001b[0m\u001b[1;36m0\u001b[0m\u001b[1;33m]\u001b[0m \u001b[1;33m=\u001b[0m \u001b[1;36m3\u001b[0m\u001b[1;33m\u001b[0m\u001b[1;33m\u001b[0m\u001b[0m\n\u001b[0m",
      "\u001b[1;31mTypeError\u001b[0m: 'tuple' object does not support item assignment"
     ]
    }
   ],
   "source": [
    "# Elas são imutáveis\n",
    "\n",
    "# Este comando vai resultar em erro\n",
    "\n",
    "tupla1[0] = 3"
   ]
  },
  {
   "cell_type": "code",
   "execution_count": 158,
   "metadata": {
    "id": "Exy1zDss7yLH",
    "outputId": "d1cc2d8d-3ed8-43a4-bd6a-29b32dc26137"
   },
   "outputs": [
    {
     "data": {
      "text/plain": [
       "1"
      ]
     },
     "execution_count": 158,
     "metadata": {},
     "output_type": "execute_result"
    }
   ],
   "source": [
    "tupla1[0]"
   ]
  },
  {
   "cell_type": "markdown",
   "metadata": {
    "id": "E5YQNZ7HdG2l"
   },
   "source": [
    "## 8. Conjuntos"
   ]
  },
  {
   "cell_type": "markdown",
   "metadata": {
    "id": "E22RYQokdqBV"
   },
   "source": [
    "Um conjunto (*set*), assim como a tupla, é criado utilizando parênteses. Não existe indexação ou slicing, ou seja, não seguem uma ordem (nesse caso mais similares aos dicionários). Permitem adições mas não permitem itens repetidos."
   ]
  },
  {
   "cell_type": "code",
   "execution_count": 159,
   "metadata": {
    "id": "PZsDSQlLdid1"
   },
   "outputs": [],
   "source": [
    "# Cria-se um conjunto a partir da função set()\n",
    "\n",
    "conjunto1 = set()"
   ]
  },
  {
   "cell_type": "code",
   "execution_count": 160,
   "metadata": {
    "colab": {
     "base_uri": "https://localhost:8080/"
    },
    "id": "4RT9MFSMemYU",
    "outputId": "28114f03-a600-4234-b4b5-2390dfbd3da7"
   },
   "outputs": [
    {
     "data": {
      "text/plain": [
       "set()"
      ]
     },
     "execution_count": 160,
     "metadata": {},
     "output_type": "execute_result"
    }
   ],
   "source": [
    "conjunto1"
   ]
  },
  {
   "cell_type": "code",
   "execution_count": 161,
   "metadata": {
    "colab": {
     "base_uri": "https://localhost:8080/"
    },
    "id": "XsVqqVrddlBN",
    "outputId": "ed6d2545-bdbe-46aa-c943-6b4e47dd98b5"
   },
   "outputs": [
    {
     "data": {
      "text/plain": [
       "set"
      ]
     },
     "execution_count": 161,
     "metadata": {},
     "output_type": "execute_result"
    }
   ],
   "source": [
    "type(conjunto1)"
   ]
  },
  {
   "cell_type": "code",
   "execution_count": 162,
   "metadata": {
    "id": "nzlqjxSCef_9"
   },
   "outputs": [],
   "source": [
    "# Método add para adicionar um novo item\n",
    "\n",
    "conjunto1.add(9)"
   ]
  },
  {
   "cell_type": "code",
   "execution_count": 163,
   "metadata": {
    "colab": {
     "base_uri": "https://localhost:8080/"
    },
    "id": "vt32bVk0erTF",
    "outputId": "25c7953c-4805-4e5c-fc9e-dbe57a8c197f"
   },
   "outputs": [
    {
     "data": {
      "text/plain": [
       "{9}"
      ]
     },
     "execution_count": 163,
     "metadata": {},
     "output_type": "execute_result"
    }
   ],
   "source": [
    "conjunto1"
   ]
  },
  {
   "cell_type": "code",
   "execution_count": 164,
   "metadata": {
    "id": "Tmy5JN5PewRs"
   },
   "outputs": [],
   "source": [
    "# Não consideram itens repetidos (pode ser usado para remover duplicatas)\n",
    "\n",
    "# Veja que vamos adicionar o mesmo número várias vezes, mas ele os contabiliza apenas uma vez\n",
    "\n",
    "conjunto1.add(9)\n",
    "conjunto1.add(9)\n",
    "conjunto1.add(9)\n",
    "conjunto1.add(1)\n",
    "conjunto1.add(1)\n",
    "conjunto1.add(2)\n",
    "conjunto1.add(\"PETR4\")"
   ]
  },
  {
   "cell_type": "code",
   "execution_count": 165,
   "metadata": {
    "colab": {
     "base_uri": "https://localhost:8080/"
    },
    "id": "M9gHrYzYfC5U",
    "outputId": "46629edd-0c64-466d-8c25-a1f8d0b24abe"
   },
   "outputs": [
    {
     "data": {
      "text/plain": [
       "{1, 2, 9, 'PETR4'}"
      ]
     },
     "execution_count": 165,
     "metadata": {},
     "output_type": "execute_result"
    }
   ],
   "source": [
    "conjunto1"
   ]
  },
  {
   "cell_type": "code",
   "execution_count": 166,
   "metadata": {
    "colab": {
     "base_uri": "https://localhost:8080/"
    },
    "id": "ef7LIElZfSmk",
    "outputId": "20692a94-1a40-4f8d-a1d2-7de13a5fc46a"
   },
   "outputs": [
    {
     "data": {
      "text/plain": [
       "4"
      ]
     },
     "execution_count": 166,
     "metadata": {},
     "output_type": "execute_result"
    }
   ],
   "source": [
    "len(conjunto1)"
   ]
  },
  {
   "cell_type": "code",
   "execution_count": 167,
   "metadata": {
    "colab": {
     "base_uri": "https://localhost:8080/",
     "height": 208
    },
    "id": "jfFUDpBKfYxc",
    "outputId": "dd720125-fccd-4d80-f8e0-048069b03d8c"
   },
   "outputs": [
    {
     "ename": "TypeError",
     "evalue": "'set' object is not subscriptable",
     "output_type": "error",
     "traceback": [
      "\u001b[1;31m---------------------------------------------------------------------------\u001b[0m",
      "\u001b[1;31mTypeError\u001b[0m                                 Traceback (most recent call last)",
      "\u001b[1;32m~\\AppData\\Local\\Temp/ipykernel_2736/2671169225.py\u001b[0m in \u001b[0;36m<module>\u001b[1;34m\u001b[0m\n\u001b[0;32m      3\u001b[0m \u001b[1;31m# Portanto, este comando vai resultar em erro\u001b[0m\u001b[1;33m\u001b[0m\u001b[1;33m\u001b[0m\u001b[0m\n\u001b[0;32m      4\u001b[0m \u001b[1;33m\u001b[0m\u001b[0m\n\u001b[1;32m----> 5\u001b[1;33m \u001b[0mconjunto1\u001b[0m\u001b[1;33m[\u001b[0m\u001b[1;36m0\u001b[0m\u001b[1;33m]\u001b[0m\u001b[1;33m\u001b[0m\u001b[1;33m\u001b[0m\u001b[0m\n\u001b[0m",
      "\u001b[1;31mTypeError\u001b[0m: 'set' object is not subscriptable"
     ]
    }
   ],
   "source": [
    "# Não são indexáveis, ou seja, não seguem uma ordem como as listas ou tuplas\n",
    "\n",
    "# Portanto, este comando vai resultar em erro\n",
    "\n",
    "conjunto1[0]"
   ]
  },
  {
   "cell_type": "markdown",
   "metadata": {
    "id": "4K4AyXgIgRfT"
   },
   "source": [
    "## 9. Declarações condicionais"
   ]
  },
  {
   "cell_type": "markdown",
   "metadata": {
    "id": "u2VJ-8tg1eST"
   },
   "source": [
    "Em linguagens de programação, frequentemente devemos criar estruturas e comandos para atuar de acordo com condições específicas, ou seja, apenas se alguma condição for satisfeita."
   ]
  },
  {
   "cell_type": "code",
   "execution_count": 168,
   "metadata": {
    "id": "eYoIYH9ZgRfU"
   },
   "outputs": [],
   "source": [
    "# Exemplo: Determinar o preço atual de um ativo e o seu preço alvo de compra\n",
    "\n",
    "preco_azul = 35.28\n",
    "preco_alvo = 30"
   ]
  },
  {
   "cell_type": "code",
   "execution_count": 169,
   "metadata": {
    "colab": {
     "base_uri": "https://localhost:8080/"
    },
    "id": "wsP3TL--2d68",
    "outputId": "ded26bad-aa78-4486-f964-25396cc7f53b"
   },
   "outputs": [
    {
     "name": "stdout",
     "output_type": "stream",
     "text": [
      "Iniciou tendência de queda, espere cair até 30\n"
     ]
    }
   ],
   "source": [
    "# Comando if (\"se\", em portugues), estabelecendo uma declaração condicional. Importante destacar a indentação das declarações\n",
    "# elif é uma contração do else if\n",
    "\n",
    "if preco_azul < 30:\n",
    "    print('Compre, preço muito descontado!')\n",
    "elif preco_azul < 33:\n",
    "    print('Ainda em tendência de queda, espere um pouco mais!')\n",
    "elif preco_azul <= 36:\n",
    "    print('Iniciou tendência de queda, espere cair até 30')\n",
    "else:\n",
    "    print('Espere!')"
   ]
  },
  {
   "cell_type": "code",
   "execution_count": 170,
   "metadata": {
    "id": "TjCUeaWigRfU"
   },
   "outputs": [],
   "source": [
    "preco_weg = 19"
   ]
  },
  {
   "cell_type": "code",
   "execution_count": 171,
   "metadata": {
    "id": "KUBO_OrbgRfU"
   },
   "outputs": [],
   "source": [
    "preco_alvo = 33"
   ]
  },
  {
   "cell_type": "code",
   "execution_count": 172,
   "metadata": {
    "colab": {
     "base_uri": "https://localhost:8080/"
    },
    "id": "Tqgli36xgRfU",
    "outputId": "f45735f6-fae5-4fe6-d2fd-4b6def07245c"
   },
   "outputs": [
    {
     "name": "stdout",
     "output_type": "stream",
     "text": [
      "Compre!\n"
     ]
    }
   ],
   "source": [
    "# Ressaltando a estrutura da declaração condicional -> if seguido da condição e \":\" no fim. \n",
    "# Na linha seguinte, identação e comando caso a condição seja verdadeira \n",
    "\n",
    "if preco_weg > preco_alvo:\n",
    "    print('Espere')\n",
    "else:\n",
    "    print('Compre!')"
   ]
  },
  {
   "cell_type": "code",
   "execution_count": 173,
   "metadata": {
    "colab": {
     "base_uri": "https://localhost:8080/"
    },
    "id": "aLPkTNwLgRfU",
    "outputId": "96c33818-7697-4cb0-de97-9e23f339ddbd"
   },
   "outputs": [
    {
     "name": "stdout",
     "output_type": "stream",
     "text": [
      "Compre, preço muito descontado!\n"
     ]
    }
   ],
   "source": [
    "# Importante observar que as condições vão sendo checadas pela ordem em que foram declaradas. \n",
    "# Assim que uma delas é satisfeita, as demais não são executadas mais\n",
    "\n",
    "if preco_weg < 25:\n",
    "    print('Compre, preço muito descontado!')\n",
    "elif preco_weg < 30:\n",
    "    print('Ainda em tendência de queda, espere um pouco mais!')\n",
    "elif preco_weg <= 32:\n",
    "    print('Iniciou tendência de queda, espere cair até 25')\n",
    "else:\n",
    "    print('Espere!')"
   ]
  },
  {
   "cell_type": "code",
   "execution_count": 174,
   "metadata": {
    "colab": {
     "base_uri": "https://localhost:8080/"
    },
    "id": "vwpGU2z84iKq",
    "outputId": "eda191dc-5bd6-479f-bbb0-e528e3b4cd0a"
   },
   "outputs": [
    {
     "name": "stdout",
     "output_type": "stream",
     "text": [
      "Ainda em tendência de queda, espere um pouco mais!\n"
     ]
    }
   ],
   "source": [
    "# Trocando a ordem das declarações. Note que assim que atendeu a primeira, as demais são ignoradas\n",
    "\n",
    "if preco_weg < 30:\n",
    "    print('Ainda em tendência de queda, espere um pouco mais!')\n",
    "elif preco_weg < 25:\n",
    "    print('Compre, preço muito descontado!')\n",
    "elif preco_weg <= 32:\n",
    "    print('Iniciou tendência de queda, espere cair até 25')\n",
    "else:\n",
    "    print('Espere!')"
   ]
  },
  {
   "cell_type": "markdown",
   "metadata": {
    "id": "O18W50XSgRfV"
   },
   "source": [
    "## 10. Estruturas de repetição"
   ]
  },
  {
   "cell_type": "markdown",
   "metadata": {
    "id": "DRvxuWAX5UAi"
   },
   "source": [
    "Além das estruturas (ou declarações) condicionais, as estruturas de repetição são muito importantes na sintaxe de qualquer linguagem de programação. Imagine que você queira automatizar uma tarefa, informando que ela deve ocorrer por determinadas vezes ou até que outra alguma outra condição seja estabelecida"
   ]
  },
  {
   "cell_type": "markdown",
   "metadata": {
    "id": "6sLzBHwLgRfV"
   },
   "source": [
    "### 10.1. For"
   ]
  },
  {
   "cell_type": "code",
   "execution_count": 175,
   "metadata": {
    "id": "Lor-XGmDoVs_"
   },
   "outputs": [],
   "source": [
    "lista = ['João', 'José', 'Andre', 'Marcos']"
   ]
  },
  {
   "cell_type": "code",
   "execution_count": 176,
   "metadata": {
    "colab": {
     "base_uri": "https://localhost:8080/"
    },
    "id": "NddbMPcPoeZk",
    "outputId": "ca0ca8f6-83e2-4b05-c777-bc54f2944094"
   },
   "outputs": [
    {
     "name": "stdout",
     "output_type": "stream",
     "text": [
      "João\n",
      "José\n",
      "Andre\n",
      "Marcos\n"
     ]
    }
   ],
   "source": [
    "# Para cada item dentro da lista, imprima o item. Essa automação também é conhecida como loop\n",
    "\n",
    "for item in lista:\n",
    "    print(item)"
   ]
  },
  {
   "cell_type": "code",
   "execution_count": 177,
   "metadata": {
    "colab": {
     "base_uri": "https://localhost:8080/"
    },
    "id": "Yd0FfWhv6I7z",
    "outputId": "1df02200-940a-4075-8357-773818aa2077"
   },
   "outputs": [
    {
     "name": "stdout",
     "output_type": "stream",
     "text": [
      "João\n",
      "José\n",
      "Andre\n",
      "Marcos\n"
     ]
    }
   ],
   "source": [
    "# Embora tenha usado a palavra item, o Python compreende que estou determinando elementos/itens de uma lista. Assim, poderia utilizar qualquer \"nome\" para descrever esses itens\n",
    "\n",
    "for proprietario_automovel in lista:\n",
    "    print(proprietario_automovel)"
   ]
  },
  {
   "cell_type": "code",
   "execution_count": 178,
   "metadata": {
    "id": "lMBggH00ooeP"
   },
   "outputs": [],
   "source": [
    "lista_ativos = ['PETR4.SA', 'WEGE3.SA', 'MGLU3.SA', 'LREN3.SA', 'RENT3.SA', 'VALE3.SA']"
   ]
  },
  {
   "cell_type": "code",
   "execution_count": 179,
   "metadata": {
    "colab": {
     "base_uri": "https://localhost:8080/"
    },
    "id": "3S0bEpTCpI93",
    "outputId": "2f077be1-6c81-421f-8ed9-088fd5a2f07e"
   },
   "outputs": [
    {
     "data": {
      "text/plain": [
       "['PETR4.SA', 'WEGE3.SA', 'MGLU3.SA', 'LREN3.SA', 'RENT3.SA', 'VALE3.SA']"
      ]
     },
     "execution_count": 179,
     "metadata": {},
     "output_type": "execute_result"
    }
   ],
   "source": [
    "lista_ativos"
   ]
  },
  {
   "cell_type": "code",
   "execution_count": 180,
   "metadata": {
    "colab": {
     "base_uri": "https://localhost:8080/"
    },
    "id": "m6XeuD1KpKCv",
    "outputId": "70dca676-6db8-4d8c-8307-8becab69ce00"
   },
   "outputs": [
    {
     "name": "stdout",
     "output_type": "stream",
     "text": [
      "PETR4.SA é um ativo da B3\n",
      "WEGE3.SA é um ativo da B3\n",
      "MGLU3.SA é um ativo da B3\n",
      "LREN3.SA é um ativo da B3\n",
      "RENT3.SA é um ativo da B3\n",
      "VALE3.SA é um ativo da B3\n"
     ]
    }
   ],
   "source": [
    "# Criando uma automação para que pegue cada item da lista e adicione a frase \"é um ativo da B3\".\n",
    "for acoes in lista_ativos:\n",
    "    print(acoes,\"é um ativo da B3\")"
   ]
  },
  {
   "cell_type": "code",
   "execution_count": 181,
   "metadata": {
    "colab": {
     "base_uri": "https://localhost:8080/"
    },
    "id": "TRoBXzu377q7",
    "outputId": "5fb19872-06e3-4992-f502-c62b706bf8e7"
   },
   "outputs": [
    {
     "name": "stdout",
     "output_type": "stream",
     "text": [
      "PETR4.SA é um ativo da B3\n",
      "WEGE3.SA é um ativo da B3\n",
      "MGLU3.SA é um ativo da B3\n",
      "LREN3.SA é um ativo da B3\n"
     ]
    }
   ],
   "source": [
    "# Automação usando a função break para interromper o loop assim que uma condição for satisfeita (integrando 'for' e 'if').\n",
    "# Atenção à identação correta\n",
    "\n",
    "for acoes in lista_ativos:\n",
    "    print(acoes,\"é um ativo da B3\")\n",
    "    if acoes == \"LREN3.SA\":\n",
    "        break"
   ]
  },
  {
   "cell_type": "code",
   "execution_count": 182,
   "metadata": {
    "id": "OWepaIcXkvTm",
    "outputId": "6a642daf-f562-4df9-db46-f30cd185415b"
   },
   "outputs": [
    {
     "name": "stdout",
     "output_type": "stream",
     "text": [
      "PETR4.SA é um ativo da B3\n",
      "WEGE3.SA é um ativo da B3\n"
     ]
    }
   ],
   "source": [
    "for acoes in lista_ativos:\n",
    "    print(acoes,\"é um ativo da B3\")\n",
    "    if acoes == \"WEGE3.SA\":\n",
    "        break"
   ]
  },
  {
   "cell_type": "code",
   "execution_count": 183,
   "metadata": {
    "id": "HJ66f0Bmk_sm"
   },
   "outputs": [],
   "source": [
    "precos = {'PETR4':30,\n",
    "          'VALE3': 102,\n",
    "          'WEGE3': 34}"
   ]
  },
  {
   "cell_type": "code",
   "execution_count": 190,
   "metadata": {
    "colab": {
     "base_uri": "https://localhost:8080/"
    },
    "id": "VJR51SlDmI8n",
    "outputId": "4cee80b8-6b64-4608-c757-75f59f837938"
   },
   "outputs": [
    {
     "data": {
      "text/plain": [
       "3"
      ]
     },
     "execution_count": 190,
     "metadata": {},
     "output_type": "execute_result"
    }
   ],
   "source": [
    "len(precos)"
   ]
  },
  {
   "cell_type": "code",
   "execution_count": 191,
   "metadata": {
    "colab": {
     "base_uri": "https://localhost:8080/"
    },
    "id": "rykpo93ylAhG",
    "outputId": "7f2f5298-72ba-45e1-9f66-bc388fe60ec4"
   },
   "outputs": [
    {
     "name": "stdout",
     "output_type": "stream",
     "text": [
      "PETR4 está com o preço de 30 neste momento\n",
      "VALE3 está com o preço de 102 neste momento\n",
      "WEGE3 está com o preço de 34 neste momento\n"
     ]
    }
   ],
   "source": [
    "for i in range(0,len(precos)):\n",
    "    print(list(precos.keys())[i],\"está com o preço de\",list(precos.values())[i],\"neste momento\")"
   ]
  },
  {
   "cell_type": "markdown",
   "metadata": {
    "id": "t5LbBfLFrMIq"
   },
   "source": [
    "### 10.2. While"
   ]
  },
  {
   "cell_type": "markdown",
   "metadata": {
    "id": "oSTHJtL6-R9T"
   },
   "source": [
    "A estrutura do while (enquanto, em português) se refere a outra repetição (loop) que ocorrerá enquanto a condição for verdadeira. Poderia ser pensada de uma maneira análoga ao uso do 'for' e 'if' integrados."
   ]
  },
  {
   "cell_type": "code",
   "execution_count": 192,
   "metadata": {
    "id": "fAmnBfNSrluK"
   },
   "outputs": [],
   "source": [
    "preco_weg = 30"
   ]
  },
  {
   "cell_type": "code",
   "execution_count": 193,
   "metadata": {
    "colab": {
     "base_uri": "https://localhost:8080/"
    },
    "id": "j0tNr3bpsjbJ",
    "outputId": "99fe3954-c64e-4ae2-d72b-4d3d7eb806ca"
   },
   "outputs": [
    {
     "name": "stdout",
     "output_type": "stream",
     "text": [
      "Ainda não atingiu o preço alvo, espere. O preço atual é:  30\n",
      "Ainda não atingiu o preço alvo, espere. O preço atual é:  30.3\n",
      "Ainda não atingiu o preço alvo, espere. O preço atual é:  30.6\n",
      "Ainda não atingiu o preço alvo, espere. O preço atual é:  30.91\n",
      "Ainda não atingiu o preço alvo, espere. O preço atual é:  31.22\n",
      "Ainda não atingiu o preço alvo, espere. O preço atual é:  31.53\n",
      "Ainda não atingiu o preço alvo, espere. O preço atual é:  31.85\n",
      "Ainda não atingiu o preço alvo, espere. O preço atual é:  32.16\n",
      "Ainda não atingiu o preço alvo, espere. O preço atual é:  32.49\n",
      "Ainda não atingiu o preço alvo, espere. O preço atual é:  32.81\n",
      "Ainda não atingiu o preço alvo, espere. O preço atual é:  33.14\n",
      "Ainda não atingiu o preço alvo, espere. O preço atual é:  33.47\n",
      "Ainda não atingiu o preço alvo, espere. O preço atual é:  33.8\n",
      "Ainda não atingiu o preço alvo, espere. O preço atual é:  34.14\n",
      "Ainda não atingiu o preço alvo, espere. O preço atual é:  34.48\n",
      "Ainda não atingiu o preço alvo, espere. O preço atual é:  34.83\n",
      "Ainda não atingiu o preço alvo, espere. O preço atual é:  35.18\n",
      "Ainda não atingiu o preço alvo, espere. O preço atual é:  35.53\n",
      "Ainda não atingiu o preço alvo, espere. O preço atual é:  35.88\n",
      "Ainda não atingiu o preço alvo, espere. O preço atual é:  36.24\n",
      "Ainda não atingiu o preço alvo, espere. O preço atual é:  36.61\n",
      "Ainda não atingiu o preço alvo, espere. O preço atual é:  36.97\n",
      "Ainda não atingiu o preço alvo, espere. O preço atual é:  37.34\n",
      "Ainda não atingiu o preço alvo, espere. O preço atual é:  37.71\n",
      "Ainda não atingiu o preço alvo, espere. O preço atual é:  38.09\n",
      "Ainda não atingiu o preço alvo, espere. O preço atual é:  38.47\n",
      "Ainda não atingiu o preço alvo, espere. O preço atual é:  38.86\n",
      "Preço alvo atingido, hora de vender! Preço da venda:  39.25\n"
     ]
    }
   ],
   "source": [
    "# Enquanto o preço for menor que 39, imprima a frase \"Ainda não atingiu o preço alvo, espere. O preço atual é: \", junto com o preço atual. Além disso, multiplique o valor atual por 1.01\n",
    "# Caso a condição pare de ser verdadeira (preço_weg seja >= 39) imprima esta outra frase: \"Preço alvo atingido, hora de vender! Preço da venda: \" junto com o preço atual\n",
    "\n",
    "while preco_weg < 39:\n",
    "    print(\"Ainda não atingiu o preço alvo, espere. O preço atual é: \", round(preco_weg,2))\n",
    "    preco_weg = preco_weg*1.01\n",
    "\n",
    "else:\n",
    "    print(\"Preço alvo atingido, hora de vender! Preço da venda: \", round(preco_weg, 2))"
   ]
  },
  {
   "cell_type": "code",
   "execution_count": 194,
   "metadata": {
    "id": "39iJiO_KtB6J"
   },
   "outputs": [],
   "source": [
    "# Outro exemplo de uso do while. Imagine que tem disponível 10000 reais para investir. A cada operação, sera computado o valor alocado nesta operação (cahamremos de \"investimento_unitario\") e o total já investido (\"investimento_total\")\n",
    "# A função input interage com o usuario, recebendo um objeto (numérico, string...) e armazenando em uma variável. \n",
    "\n",
    "investimento_unitario = 0 \n",
    "investimento_total = 0"
   ]
  },
  {
   "cell_type": "code",
   "execution_count": 195,
   "metadata": {
    "colab": {
     "base_uri": "https://localhost:8080/"
    },
    "id": "q2Gga-0muYYR",
    "outputId": "f374869b-a613-4e31-a828-bce4ae0dde5c"
   },
   "outputs": [
    {
     "name": "stdout",
     "output_type": "stream",
     "text": [
      "Digite o valor investido na operação: 10000\n",
      "Limite total previsto para investir foi atingido!\n",
      "Você excedeu  0  do valor previsto\n",
      "Você investiu o total de R$ 10000\n"
     ]
    }
   ],
   "source": [
    "# Enquanto o valor alocado for menor que 10000 a condição do while será executada. Quando essa condição não for mais verdadeira (no caso, investimento_total >= 10000), execute o que foi determinado no else\n",
    "while investimento_total < 10000:\n",
    "    investimento_unitario = int(input(\"Digite o valor investido na operação: \"))\n",
    "    investimento_total = investimento_total + investimento_unitario\n",
    "\n",
    "else:\n",
    "    print(\"Limite total previsto para investir foi atingido!\")\n",
    "    print(\"Você excedeu \", investimento_total-10000, \" do valor previsto\")\n",
    "\n",
    "print(\"Você investiu o total de R$\", investimento_total)"
   ]
  },
  {
   "cell_type": "markdown",
   "metadata": {
    "id": "P3KNAHQIvH-d"
   },
   "source": [
    "## 11. Alguns outros operadores"
   ]
  },
  {
   "cell_type": "markdown",
   "metadata": {
    "id": "T5DbQ5vhPQUo"
   },
   "source": [
    "Alguns operadores são muito úteis para execução de estruturas condicionais e de repetição. Dentre eles:"
   ]
  },
  {
   "cell_type": "markdown",
   "metadata": {
    "id": "rJRa3-GNvxsa"
   },
   "source": [
    "### 11.1. Range"
   ]
  },
  {
   "cell_type": "markdown",
   "metadata": {
    "id": "4Va4BSkvSNev"
   },
   "source": [
    "Indica um intervalo entre dois números. Segue o padrão da indexação (primeiro argumento inclusivo e segundo argumento não inclusivo)"
   ]
  },
  {
   "cell_type": "code",
   "execution_count": 196,
   "metadata": {
    "colab": {
     "base_uri": "https://localhost:8080/"
    },
    "id": "cXRRGvBUvzOc",
    "outputId": "1502ded8-ab0e-4bfc-fd31-01c32c82b5db"
   },
   "outputs": [
    {
     "data": {
      "text/plain": [
       "range(0, 11)"
      ]
     },
     "execution_count": 196,
     "metadata": {},
     "output_type": "execute_result"
    }
   ],
   "source": [
    "# Intervalo entre 0 (inclusivo) e 11 (exclusivo)\n",
    "# O output não lista todos os números, reduzindo gastos com memória\n",
    "\n",
    "range(0,11)"
   ]
  },
  {
   "cell_type": "code",
   "execution_count": 197,
   "metadata": {
    "colab": {
     "base_uri": "https://localhost:8080/"
    },
    "id": "_5mi6T-Pv2lU",
    "outputId": "31f4990e-fa85-4544-cb4c-f925b7a7cc77"
   },
   "outputs": [
    {
     "data": {
      "text/plain": [
       "[0, 1, 2, 3, 4, 5, 6, 7, 8, 9, 10]"
      ]
     },
     "execution_count": 197,
     "metadata": {},
     "output_type": "execute_result"
    }
   ],
   "source": [
    "# Nessa caso, listará todos os elementos\n",
    "\n",
    "list(range(0,11))"
   ]
  },
  {
   "cell_type": "code",
   "execution_count": 198,
   "metadata": {
    "colab": {
     "base_uri": "https://localhost:8080/"
    },
    "id": "nzM33-TLwFkj",
    "outputId": "bff7f5a6-23b3-409e-d5e3-9c523d6cff0c"
   },
   "outputs": [
    {
     "name": "stdout",
     "output_type": "stream",
     "text": [
      "0\n",
      "1\n",
      "2\n",
      "3\n",
      "4\n",
      "5\n",
      "6\n",
      "7\n",
      "8\n",
      "9\n",
      "10\n"
     ]
    }
   ],
   "source": [
    "# Compreende todo o intervalo sequencial\n",
    "\n",
    "for carros in range(0,11):\n",
    "    print(carros)"
   ]
  },
  {
   "cell_type": "code",
   "execution_count": 199,
   "metadata": {
    "colab": {
     "base_uri": "https://localhost:8080/"
    },
    "id": "leZVck-mRfao",
    "outputId": "a95ed094-3e75-43bf-fa1a-1e14b3c489d3"
   },
   "outputs": [
    {
     "name": "stdout",
     "output_type": "stream",
     "text": [
      "0\n",
      "2\n",
      "4\n",
      "6\n",
      "8\n",
      "10\n"
     ]
    }
   ],
   "source": [
    "# Também pode ser usado especificando um intervalo entre os números dentro do intervalo estabelecido, similar ao slicing\n",
    "\n",
    "for i in range(0,11,2):\n",
    "    print(i)"
   ]
  },
  {
   "cell_type": "markdown",
   "metadata": {
    "id": "qEilJ8jjwLwd"
   },
   "source": [
    "### 11.2. Enumerate"
   ]
  },
  {
   "cell_type": "markdown",
   "metadata": {
    "id": "Kxv7eeAySXWI"
   },
   "source": [
    "Função que transforma uma coleção de dados (lista, tupla, string) em um objeto enumerado de cada item da coleção"
   ]
  },
  {
   "cell_type": "code",
   "execution_count": 200,
   "metadata": {
    "id": "epjKHwcwTco-"
   },
   "outputs": [],
   "source": [
    "lista_ativos = ['PETR4.SA', 'WEGE3.SA', 'MGLU3.SA', 'LREN3.SA', 'RENT3.SA', 'VALE3.SA']"
   ]
  },
  {
   "cell_type": "code",
   "execution_count": 201,
   "metadata": {
    "colab": {
     "base_uri": "https://localhost:8080/"
    },
    "id": "aQYykr_YUEko",
    "outputId": "e78fc2e0-1856-42f8-e606-87a280fa94cf"
   },
   "outputs": [
    {
     "data": {
      "text/plain": [
       "<enumerate at 0x2204732dc80>"
      ]
     },
     "execution_count": 201,
     "metadata": {},
     "output_type": "execute_result"
    }
   ],
   "source": [
    "# O output não enumera todos os itens, reduzindo gastos com memória\n",
    "\n",
    "enumerate(lista_ativos)"
   ]
  },
  {
   "cell_type": "code",
   "execution_count": 202,
   "metadata": {
    "colab": {
     "base_uri": "https://localhost:8080/"
    },
    "id": "W14UbHhJUN0P",
    "outputId": "05bbc5de-069a-4988-9f5d-a58fde2f8244"
   },
   "outputs": [
    {
     "data": {
      "text/plain": [
       "[(0, 'PETR4.SA'),\n",
       " (1, 'WEGE3.SA'),\n",
       " (2, 'MGLU3.SA'),\n",
       " (3, 'LREN3.SA'),\n",
       " (4, 'RENT3.SA'),\n",
       " (5, 'VALE3.SA')]"
      ]
     },
     "execution_count": 202,
     "metadata": {},
     "output_type": "execute_result"
    }
   ],
   "source": [
    "# Nessa caso, irá enumerar todos os elementos\n",
    "\n",
    "list(enumerate(lista_ativos))"
   ]
  },
  {
   "cell_type": "code",
   "execution_count": 203,
   "metadata": {
    "colab": {
     "base_uri": "https://localhost:8080/"
    },
    "id": "-5IQCbF_VWCY",
    "outputId": "e7d61cad-0f86-4632-b689-eab1bd9c5357"
   },
   "outputs": [
    {
     "data": {
      "text/plain": [
       "[(3, 'PETR4.SA'),\n",
       " (4, 'WEGE3.SA'),\n",
       " (5, 'MGLU3.SA'),\n",
       " (6, 'LREN3.SA'),\n",
       " (7, 'RENT3.SA'),\n",
       " (8, 'VALE3.SA')]"
      ]
     },
     "execution_count": 203,
     "metadata": {},
     "output_type": "execute_result"
    }
   ],
   "source": [
    "# Podemos começar a enumeração a partir de outro número que não o 0\n",
    "\n",
    "list(enumerate(lista_ativos,3))"
   ]
  },
  {
   "cell_type": "code",
   "execution_count": 204,
   "metadata": {
    "id": "PLFAFkrxLid4"
   },
   "outputs": [],
   "source": [
    "# Exemplo usando uma string\n",
    "\n",
    "acao = 'PETR4'"
   ]
  },
  {
   "cell_type": "code",
   "execution_count": 205,
   "metadata": {
    "colab": {
     "base_uri": "https://localhost:8080/"
    },
    "id": "mz6Hbo9rL87g",
    "outputId": "c99d895a-cbb0-4d98-caa0-3d11b6c1e373"
   },
   "outputs": [
    {
     "data": {
      "text/plain": [
       "[(0, 'P'), (1, 'E'), (2, 'T'), (3, 'R'), (4, '4')]"
      ]
     },
     "execution_count": 205,
     "metadata": {},
     "output_type": "execute_result"
    }
   ],
   "source": [
    "list(enumerate(acao))"
   ]
  },
  {
   "cell_type": "code",
   "execution_count": 206,
   "metadata": {
    "colab": {
     "base_uri": "https://localhost:8080/"
    },
    "id": "og1yPrEDMKnp",
    "outputId": "ea9b3ea4-83dc-4df2-9671-b6cb0d633a43"
   },
   "outputs": [
    {
     "name": "stdout",
     "output_type": "stream",
     "text": [
      "No índice 0 o caractere é P\n",
      "No índice 1 o caractere é E\n",
      "No índice 2 o caractere é T\n",
      "No índice 3 o caractere é R\n",
      "No índice 4 o caractere é 4\n"
     ]
    }
   ],
   "source": [
    "for i, letra in enumerate(acao):\n",
    "    print(\"No índice\", i, \"o caractere é\", letra)"
   ]
  },
  {
   "cell_type": "code",
   "execution_count": 207,
   "metadata": {
    "colab": {
     "base_uri": "https://localhost:8080/"
    },
    "id": "TgVKWJA7LmG7",
    "outputId": "fc0783a6-b078-4a4f-ab3d-d289a91ef69e"
   },
   "outputs": [
    {
     "name": "stdout",
     "output_type": "stream",
     "text": [
      "No índice 0 o caractere é P\n",
      "No índice 1 o caractere é E\n",
      "No índice 2 o caractere é T\n",
      "No índice 3 o caractere é R\n",
      "No índice 4 o caractere é 4\n"
     ]
    }
   ],
   "source": [
    "# Note que neste caso, o enumerate fez a mesma função da estrutura 'for' a seguir\n",
    "index_count = 0\n",
    "\n",
    "for letra in acao:\n",
    "    print(\"No índice\", index_count, \"o caractere é\", letra)\n",
    "    index_count += 1"
   ]
  },
  {
   "cell_type": "markdown",
   "metadata": {
    "id": "Am_HryU-MYbK"
   },
   "source": [
    "### 11.3. Zip & in"
   ]
  },
  {
   "cell_type": "markdown",
   "metadata": {
    "id": "tpGPFSe0WkqA"
   },
   "source": [
    "A função *zip* consegue executar interações entre listas. O operador *in* (dentro/pertencente em português) permite a leitura sequencial de objetos zip (assim como de listas), fundamental nas estruturas 'for'"
   ]
  },
  {
   "cell_type": "code",
   "execution_count": 208,
   "metadata": {
    "id": "fQYqIwBXMh0X"
   },
   "outputs": [],
   "source": [
    "acoes = ['PETR4', 'WEGE3', 'MGLU3', 'JHSF3', 'GOAU4']\n",
    "setores = ['Petróleo', 'Motores', 'Varejo', 'Construção', 'Metalurgia']"
   ]
  },
  {
   "cell_type": "code",
   "execution_count": 209,
   "metadata": {
    "colab": {
     "base_uri": "https://localhost:8080/"
    },
    "id": "mgjdWX_bXstH",
    "outputId": "28dbcb22-ac8b-41ae-eaff-62ecc28d1cd1"
   },
   "outputs": [
    {
     "data": {
      "text/plain": [
       "<zip at 0x2204732f140>"
      ]
     },
     "execution_count": 209,
     "metadata": {},
     "output_type": "execute_result"
    }
   ],
   "source": [
    "# Criar uma relação entre as duas listas acima. Output reduzido assim como os anteriores range e enumerate\n",
    "\n",
    "zip(acoes, setores)"
   ]
  },
  {
   "cell_type": "code",
   "execution_count": 210,
   "metadata": {
    "colab": {
     "base_uri": "https://localhost:8080/"
    },
    "id": "hFaMvx5GM8KQ",
    "outputId": "577b2b35-9100-4199-b6d4-d6165e5139ab"
   },
   "outputs": [
    {
     "data": {
      "text/plain": [
       "[('PETR4', 'Petróleo'),\n",
       " ('WEGE3', 'Motores'),\n",
       " ('MGLU3', 'Varejo'),\n",
       " ('JHSF3', 'Construção'),\n",
       " ('GOAU4', 'Metalurgia')]"
      ]
     },
     "execution_count": 210,
     "metadata": {},
     "output_type": "execute_result"
    }
   ],
   "source": [
    "# Note que é uma lista de tuplas\n",
    "\n",
    "list(zip(acoes, setores))"
   ]
  },
  {
   "cell_type": "code",
   "execution_count": 211,
   "metadata": {
    "colab": {
     "base_uri": "https://localhost:8080/"
    },
    "id": "IKoIC7YdM-77",
    "outputId": "5c7b0299-1fe1-4ca5-c71a-5042e68fa0d8"
   },
   "outputs": [
    {
     "name": "stdout",
     "output_type": "stream",
     "text": [
      "O papel PETR4 pertence ao setor Petróleo\n",
      "O papel WEGE3 pertence ao setor Motores\n",
      "O papel MGLU3 pertence ao setor Varejo\n",
      "O papel JHSF3 pertence ao setor Construção\n",
      "O papel GOAU4 pertence ao setor Metalurgia\n"
     ]
    }
   ],
   "source": [
    "# Leitura sequencial do zip usando o in\n",
    "\n",
    "for acao, setor in list(zip(acoes, setores)):\n",
    "    print('O papel', acao, 'pertence ao setor', setor)"
   ]
  },
  {
   "cell_type": "code",
   "execution_count": 212,
   "metadata": {
    "id": "FMIy_haPVoS7"
   },
   "outputs": [],
   "source": [
    "# Mostrando o operador f'', que será útil no exemplo seguinte\n",
    "# Esse operador admite que usemos variáveis dentro das aspas, desde que essas variáveis estejam por sua vez dentro\n",
    "# de chaves, como no exemplo abaixo\n",
    "\n",
    "papel = 'PETR3'\n",
    "setor = 'Petróleo'"
   ]
  },
  {
   "cell_type": "code",
   "execution_count": 213,
   "metadata": {
    "id": "HeGihwgAVoS7",
    "outputId": "e6f42cbb-08ab-46f2-d09b-9bbf451864fb"
   },
   "outputs": [
    {
     "data": {
      "text/plain": [
       "'A PETR3 está no setor de Petróleo'"
      ]
     },
     "execution_count": 213,
     "metadata": {},
     "output_type": "execute_result"
    }
   ],
   "source": [
    "f'A {papel} está no setor de {setor}'"
   ]
  },
  {
   "cell_type": "code",
   "execution_count": 214,
   "metadata": {
    "colab": {
     "base_uri": "https://localhost:8080/"
    },
    "id": "1Ck7huvlNTcM",
    "outputId": "c9b517f6-71aa-459b-b9db-c546dbc9bba7"
   },
   "outputs": [
    {
     "name": "stdout",
     "output_type": "stream",
     "text": [
      "O papel PETR4 pertence ao setor Petróleo \n",
      "O papel WEGE3 pertence ao setor Motores \n",
      "O papel MGLU3 pertence ao setor Varejo \n",
      "O papel JHSF3 pertence ao setor Construção \n",
      "O papel GOAU4 pertence ao setor Metalurgia \n"
     ]
    }
   ],
   "source": [
    "# Uma outra forma de escrever o mesmo loop acima, desta dez usando o operador f''\n",
    "\n",
    "for acao, setor in list(zip(acoes, setores)):\n",
    "    print(f'O papel {acao} pertence ao setor {setor} ')"
   ]
  },
  {
   "cell_type": "code",
   "execution_count": 215,
   "metadata": {
    "colab": {
     "base_uri": "https://localhost:8080/"
    },
    "id": "BDZFnUI8NoM3",
    "outputId": "2da20677-f0f5-4816-925b-5a7eea6c44f2"
   },
   "outputs": [
    {
     "data": {
      "text/plain": [
       "False"
      ]
     },
     "execution_count": 215,
     "metadata": {},
     "output_type": "execute_result"
    }
   ],
   "source": [
    "# Além de leitura sequencial, o in pode ser usado como operador lógico\n",
    "\n",
    "'VIVR3' in acoes"
   ]
  },
  {
   "cell_type": "code",
   "execution_count": 216,
   "metadata": {
    "colab": {
     "base_uri": "https://localhost:8080/"
    },
    "id": "6Hx-ip3yNvcD",
    "outputId": "dcf8b578-c06f-4a3d-8b92-a87c42da58d4"
   },
   "outputs": [
    {
     "data": {
      "text/plain": [
       "True"
      ]
     },
     "execution_count": 216,
     "metadata": {},
     "output_type": "execute_result"
    }
   ],
   "source": [
    "'WEGE3' in acoes"
   ]
  },
  {
   "cell_type": "markdown",
   "metadata": {
    "id": "_U2mVX2fNyDi"
   },
   "source": [
    "### 11.4. Random"
   ]
  },
  {
   "cell_type": "markdown",
   "metadata": {
    "id": "spZlM-SlVoS8"
   },
   "source": [
    "Este operador pode ser utilizado para obter números aleatórios de acordo com alguma condição pré-determinada"
   ]
  },
  {
   "cell_type": "code",
   "execution_count": 217,
   "metadata": {
    "id": "ehXXKfMLN1Z-"
   },
   "outputs": [],
   "source": [
    "from random import randint, shuffle"
   ]
  },
  {
   "cell_type": "markdown",
   "metadata": {
    "id": "unqJy2JtVoS8"
   },
   "source": [
    "A função randint() retorna um número aleatório dentro de um intervalo específico"
   ]
  },
  {
   "cell_type": "code",
   "execution_count": 218,
   "metadata": {
    "colab": {
     "base_uri": "https://localhost:8080/"
    },
    "id": "HpuzQtfsN81C",
    "outputId": "0c51f74e-45d9-4024-d43a-bdea4c060044"
   },
   "outputs": [
    {
     "data": {
      "text/plain": [
       "37"
      ]
     },
     "execution_count": 218,
     "metadata": {},
     "output_type": "execute_result"
    }
   ],
   "source": [
    "randint(0,100)"
   ]
  },
  {
   "cell_type": "code",
   "execution_count": 219,
   "metadata": {
    "id": "aTcHObu4Ob3Q"
   },
   "outputs": [],
   "source": [
    "# Vamos gerar uma lista com 10 números aleatórios que sejam entre 10 e 100\n",
    "\n",
    "lista_rand = []\n",
    "\n",
    "for i in range(0,10):\n",
    "    lista_rand.append(randint(0,100))"
   ]
  },
  {
   "cell_type": "code",
   "execution_count": 220,
   "metadata": {
    "colab": {
     "base_uri": "https://localhost:8080/"
    },
    "id": "x8mjirQHOnW4",
    "outputId": "d226bcf2-dd07-4709-8ea0-93a72944641e"
   },
   "outputs": [
    {
     "data": {
      "text/plain": [
       "[27, 67, 52, 16, 88, 85, 63, 32, 59, 69]"
      ]
     },
     "execution_count": 220,
     "metadata": {},
     "output_type": "execute_result"
    }
   ],
   "source": [
    "lista_rand"
   ]
  },
  {
   "cell_type": "code",
   "execution_count": 221,
   "metadata": {
    "id": "wxsr1j-KOoOX"
   },
   "outputs": [],
   "source": [
    "# Utilizando o operador shuffle para 'embaralhar' os números\n",
    "shuffle(lista_rand)"
   ]
  },
  {
   "cell_type": "code",
   "execution_count": 222,
   "metadata": {
    "colab": {
     "base_uri": "https://localhost:8080/"
    },
    "id": "vNJQ0rLvOvIB",
    "outputId": "748b994c-6bc0-463b-cf8a-f7c62612eb7b"
   },
   "outputs": [
    {
     "data": {
      "text/plain": [
       "[27, 63, 88, 52, 85, 69, 59, 16, 67, 32]"
      ]
     },
     "execution_count": 222,
     "metadata": {},
     "output_type": "execute_result"
    }
   ],
   "source": [
    "lista_rand"
   ]
  },
  {
   "cell_type": "markdown",
   "metadata": {
    "id": "oB7UZD3GOwH4"
   },
   "source": [
    "### 11.5. min e max"
   ]
  },
  {
   "cell_type": "markdown",
   "metadata": {
    "id": "4-WHDyg0VoS9"
   },
   "source": [
    "Funções para retornar os valores mínimo e máximo de uma lista"
   ]
  },
  {
   "cell_type": "code",
   "execution_count": 223,
   "metadata": {
    "colab": {
     "base_uri": "https://localhost:8080/"
    },
    "id": "77aq6dYAOzQ2",
    "outputId": "773aa1c3-a1e9-4e7a-a711-f45d504dfeda"
   },
   "outputs": [
    {
     "data": {
      "text/plain": [
       "16"
      ]
     },
     "execution_count": 223,
     "metadata": {},
     "output_type": "execute_result"
    }
   ],
   "source": [
    "min(lista_rand)"
   ]
  },
  {
   "cell_type": "code",
   "execution_count": 224,
   "metadata": {
    "colab": {
     "base_uri": "https://localhost:8080/"
    },
    "id": "vynidvLBO0z1",
    "outputId": "7a50a401-ae43-4a78-fdea-6d5921d9a665"
   },
   "outputs": [
    {
     "data": {
      "text/plain": [
       "88"
      ]
     },
     "execution_count": 224,
     "metadata": {},
     "output_type": "execute_result"
    }
   ],
   "source": [
    "max(lista_rand)"
   ]
  },
  {
   "cell_type": "markdown",
   "metadata": {
    "id": "mCbL-mfLO2al"
   },
   "source": [
    "### 11.6. input"
   ]
  },
  {
   "cell_type": "markdown",
   "metadata": {
    "id": "whKTKJDOVoS-"
   },
   "source": [
    "Função que permite que o usuário inpute algum valor de acordo com o que é pedido por um texto e armazene isso na memória de uma variável"
   ]
  },
  {
   "cell_type": "code",
   "execution_count": 225,
   "metadata": {
    "colab": {
     "base_uri": "https://localhost:8080/"
    },
    "id": "K06jZO9lO5PK",
    "outputId": "458efe34-9975-4a85-87df-0fe981e323a7"
   },
   "outputs": [
    {
     "name": "stdout",
     "output_type": "stream",
     "text": [
      "Por favor insira a ação que deseja comprar: PETRA4\n"
     ]
    }
   ],
   "source": [
    "acao = input('Por favor insira a ação que deseja comprar: ')"
   ]
  },
  {
   "cell_type": "code",
   "execution_count": 226,
   "metadata": {
    "colab": {
     "base_uri": "https://localhost:8080/",
     "height": 35
    },
    "id": "WDDrNUFGPA9I",
    "outputId": "47e011bd-d1ad-401e-c962-f0cf182d87c8"
   },
   "outputs": [
    {
     "data": {
      "text/plain": [
       "'PETRA4'"
      ]
     },
     "execution_count": 226,
     "metadata": {},
     "output_type": "execute_result"
    }
   ],
   "source": [
    "acao"
   ]
  },
  {
   "cell_type": "code",
   "execution_count": 228,
   "metadata": {
    "colab": {
     "base_uri": "https://localhost:8080/"
    },
    "id": "McqBri0OPHP_",
    "outputId": "67e63ce9-92ad-4934-a809-7325963ef9ea"
   },
   "outputs": [
    {
     "name": "stdout",
     "output_type": "stream",
     "text": [
      "O cliente deseja comprar o papel PETRA4 \n"
     ]
    }
   ],
   "source": [
    "print(f'O cliente deseja comprar o papel {acao} ')"
   ]
  },
  {
   "cell_type": "markdown",
   "metadata": {
    "id": "8ToMK_pcPNu0"
   },
   "source": [
    "## 12. List Comprehension (Compreensão de Lista)"
   ]
  },
  {
   "cell_type": "markdown",
   "metadata": {
    "id": "8CZBmbq1VoS_"
   },
   "source": [
    "Forma de executar loops com uma estrutura de código mais resumida do que os \"for\" tradicionais"
   ]
  },
  {
   "cell_type": "code",
   "execution_count": 229,
   "metadata": {
    "id": "i-V_Bl6zQQME"
   },
   "outputs": [],
   "source": [
    "acao = 'MGLU3'"
   ]
  },
  {
   "cell_type": "markdown",
   "metadata": {
    "id": "TvyHilT8VoS_"
   },
   "source": [
    "Imagine que precisamos realizar a tarefa de transformar cada caractere na string acima em um item separado dentro de uma nova lista.\n",
    "\n",
    "Como feríamos isso com nosso conhecimento em Python até agora?"
   ]
  },
  {
   "cell_type": "markdown",
   "metadata": {
    "id": "zdViBnPDVoTA"
   },
   "source": [
    "**Exemplo 01**\n",
    "\n",
    "Na forma tradicional usando \"for\", faríamos assim:"
   ]
  },
  {
   "cell_type": "code",
   "execution_count": 230,
   "metadata": {
    "id": "V8N31gokQbOk"
   },
   "outputs": [],
   "source": [
    "lista_caracteres = []"
   ]
  },
  {
   "cell_type": "code",
   "execution_count": 231,
   "metadata": {
    "id": "eTuGNHqPQgoU"
   },
   "outputs": [],
   "source": [
    "for caractere in acao:\n",
    "    lista_caracteres.append(caractere)"
   ]
  },
  {
   "cell_type": "code",
   "execution_count": 232,
   "metadata": {
    "colab": {
     "base_uri": "https://localhost:8080/"
    },
    "id": "-BqGCPhDRIn8",
    "outputId": "74fa1607-377e-47f8-fc8b-940d0650f310"
   },
   "outputs": [
    {
     "data": {
      "text/plain": [
       "['M', 'G', 'L', 'U', '3']"
      ]
     },
     "execution_count": 232,
     "metadata": {},
     "output_type": "execute_result"
    }
   ],
   "source": [
    "lista_caracteres"
   ]
  },
  {
   "cell_type": "code",
   "execution_count": 233,
   "metadata": {
    "colab": {
     "base_uri": "https://localhost:8080/",
     "height": 35
    },
    "id": "L4O9N-BbQvUd",
    "outputId": "67f2244f-ed81-48a4-81e8-d569593a9f33"
   },
   "outputs": [
    {
     "data": {
      "text/plain": [
       "'G'"
      ]
     },
     "execution_count": 233,
     "metadata": {},
     "output_type": "execute_result"
    }
   ],
   "source": [
    "# Podemos usar o indexing para retornar algum caractere específico\n",
    "\n",
    "lista_caracteres[1]"
   ]
  },
  {
   "cell_type": "markdown",
   "metadata": {
    "id": "aAyGCshfVoTB"
   },
   "source": [
    "E como fazer isso utilizando a List Comprehension?"
   ]
  },
  {
   "cell_type": "code",
   "execution_count": 234,
   "metadata": {
    "colab": {
     "base_uri": "https://localhost:8080/"
    },
    "id": "m6WYK-caQwWO",
    "outputId": "ec52ac37-579e-4267-88c7-0966f646f789"
   },
   "outputs": [
    {
     "data": {
      "text/plain": [
       "['M', 'G', 'L', 'U', '3']"
      ]
     },
     "execution_count": 234,
     "metadata": {},
     "output_type": "execute_result"
    }
   ],
   "source": [
    "# Perceba que o comando ficou bem mais simples\n",
    "\n",
    "[caractere for caractere in acao]"
   ]
  },
  {
   "cell_type": "markdown",
   "metadata": {
    "id": "nRV8ANRkVoTB"
   },
   "source": [
    "O output da compreensão de lista é uma nova lista"
   ]
  },
  {
   "cell_type": "markdown",
   "metadata": {
    "id": "91fJrQGKVoTB"
   },
   "source": [
    "**Exemplo 02**"
   ]
  },
  {
   "cell_type": "markdown",
   "metadata": {
    "id": "ZERmSmWHVoTB"
   },
   "source": [
    "Imagine que você recebeu uma série de tickers que vieram incompletos. Antes de realizar sua rotina, precisa adicionar um número '3' aos nomes dos papéis. Como você faria?"
   ]
  },
  {
   "cell_type": "code",
   "execution_count": 235,
   "metadata": {
    "id": "kJklohTfVoTB"
   },
   "outputs": [],
   "source": [
    "ativos = ['MGLU', 'VALE', 'WEGE', 'LREN']"
   ]
  },
  {
   "cell_type": "code",
   "execution_count": 236,
   "metadata": {
    "id": "J6EQd25IVoTC"
   },
   "outputs": [],
   "source": [
    "# Criamos uma lista vazia que será populada com os novos nomes dos ativos\n",
    "novos_ativos = []\n",
    "\n",
    "# Para cada ativo, vamos adicionar o caractere '3' no final\n",
    "for letra in ativos:\n",
    "    novos_ativos.append(letra + '3')"
   ]
  },
  {
   "cell_type": "code",
   "execution_count": 237,
   "metadata": {
    "id": "mBHsvhuwVoTC",
    "outputId": "db1eb08c-28e0-4f91-924a-ef79fe250f6a"
   },
   "outputs": [
    {
     "data": {
      "text/plain": [
       "['MGLU3', 'VALE3', 'WEGE3', 'LREN3']"
      ]
     },
     "execution_count": 237,
     "metadata": {},
     "output_type": "execute_result"
    }
   ],
   "source": [
    "novos_ativos"
   ]
  },
  {
   "cell_type": "markdown",
   "metadata": {
    "id": "Rh4X6_zzVoTC"
   },
   "source": [
    "Podemos realizar essa tarefa com uma compreensão de lista de uma forma mais rápida."
   ]
  },
  {
   "cell_type": "code",
   "execution_count": 238,
   "metadata": {
    "id": "CcDI2a7xVoTC",
    "outputId": "2c6eec24-94a9-44cc-e2a2-b278ec01b491"
   },
   "outputs": [
    {
     "data": {
      "text/plain": [
       "['MGLU3', 'VALE3', 'WEGE3', 'LREN3']"
      ]
     },
     "execution_count": 238,
     "metadata": {},
     "output_type": "execute_result"
    }
   ],
   "source": [
    "[letra + '3' for letra in ativos]"
   ]
  },
  {
   "cell_type": "markdown",
   "metadata": {
    "id": "b8-Fn6EqVoTC"
   },
   "source": [
    "**Exemplo 03**\n",
    "\n",
    "Imagine que quiséssemos elevar todos os números de 0 a 10 ao quadrado.\n",
    "\n",
    "Da forma tradicional, faríamos:"
   ]
  },
  {
   "cell_type": "code",
   "execution_count": 239,
   "metadata": {
    "id": "WfP49xwZRHEa"
   },
   "outputs": [],
   "source": [
    "list_num = []\n",
    "\n",
    "for num in range(0,11):\n",
    "    list_num.append(num**2)"
   ]
  },
  {
   "cell_type": "code",
   "execution_count": 240,
   "metadata": {
    "colab": {
     "base_uri": "https://localhost:8080/"
    },
    "id": "XLAibJzjRmsB",
    "outputId": "d5613654-6978-4c04-e434-5476c6595f3f"
   },
   "outputs": [
    {
     "data": {
      "text/plain": [
       "[0, 1, 4, 9, 16, 25, 36, 49, 64, 81, 100]"
      ]
     },
     "execution_count": 240,
     "metadata": {},
     "output_type": "execute_result"
    }
   ],
   "source": [
    "# Resultado\n",
    "\n",
    "list_num"
   ]
  },
  {
   "cell_type": "markdown",
   "metadata": {
    "id": "vqd_7KYvVoTD"
   },
   "source": [
    "Com a compreensão de lista, podemos fazer"
   ]
  },
  {
   "cell_type": "code",
   "execution_count": 241,
   "metadata": {
    "colab": {
     "base_uri": "https://localhost:8080/"
    },
    "id": "K5ap4QDkRnp6",
    "outputId": "6fa69fc3-fe38-44e1-cb7d-57877c604fa9"
   },
   "outputs": [
    {
     "data": {
      "text/plain": [
       "[0, 1, 4, 9, 16, 25, 36, 49, 64, 81, 100]"
      ]
     },
     "execution_count": 241,
     "metadata": {},
     "output_type": "execute_result"
    }
   ],
   "source": [
    "[num**2 for num in range(0,11)]"
   ]
  },
  {
   "cell_type": "markdown",
   "metadata": {
    "id": "SJ5pcllPR0GC"
   },
   "source": [
    "## 13. Funções e métodos"
   ]
  },
  {
   "cell_type": "markdown",
   "metadata": {
    "id": "_FfpQy6JVoTE"
   },
   "source": [
    "Uma função é um comando capaz de realizar uma tarefa, de acordo com critérios que determinamos.\n",
    "\n",
    "A função só é executada de fato quando é chamada, e executa atividades que foram especificadas pelo usuário."
   ]
  },
  {
   "cell_type": "markdown",
   "metadata": {
    "id": "tWafw5blVoTE"
   },
   "source": [
    "Por exemplo: abaixo estamos criando uma função chamada \"tempo_hoje\", que é executada quando chamada. Seu propósito é imprimir a mensagem \"Hoje faz sol\" quando chamada."
   ]
  },
  {
   "cell_type": "code",
   "execution_count": 242,
   "metadata": {
    "id": "N8eXDmKJ2KEK"
   },
   "outputs": [],
   "source": [
    "def tempo_hoje():\n",
    "    print(\"Hoje faz sol\")"
   ]
  },
  {
   "cell_type": "code",
   "execution_count": 243,
   "metadata": {
    "colab": {
     "base_uri": "https://localhost:8080/"
    },
    "id": "BP4UXbHI2q54",
    "outputId": "e05c24c9-3251-4d97-ca10-3bbe6eaf3049"
   },
   "outputs": [
    {
     "name": "stdout",
     "output_type": "stream",
     "text": [
      "Hoje faz sol\n"
     ]
    }
   ],
   "source": [
    "tempo_hoje()"
   ]
  },
  {
   "cell_type": "markdown",
   "metadata": {
    "id": "mZ0EHOwFVoTE"
   },
   "source": [
    "Vamos criar agora uma nova função que vai retornar a soma de dois números, sendo estes determinados pelo usuário."
   ]
  },
  {
   "cell_type": "code",
   "execution_count": 244,
   "metadata": {
    "id": "JXVqD1XN2vWY"
   },
   "outputs": [],
   "source": [
    "# Perceba que a função abaixo recebe dois arguentos: num1 e num2. A função vai então somar num1 e num2 e retornar o resultado desta soma.\n",
    "\n",
    "def soma_numeros(num1, num2):\n",
    "    soma = num1 + num2\n",
    "    return soma"
   ]
  },
  {
   "cell_type": "markdown",
   "metadata": {
    "id": "XxKOfrBLVoTF"
   },
   "source": [
    "Vamos passar nessa função os números 2 e 3"
   ]
  },
  {
   "cell_type": "code",
   "execution_count": 245,
   "metadata": {
    "id": "9t_3EJJsVoTF",
    "outputId": "0d81beb3-e881-408b-e06b-68a54aba5cd3"
   },
   "outputs": [
    {
     "data": {
      "text/plain": [
       "5"
      ]
     },
     "execution_count": 245,
     "metadata": {},
     "output_type": "execute_result"
    }
   ],
   "source": [
    "soma_numeros(2, 3)"
   ]
  },
  {
   "cell_type": "code",
   "execution_count": 246,
   "metadata": {
    "id": "STBjVrzi3pvI"
   },
   "outputs": [],
   "source": [
    "novo_objeto = soma_numeros(1000, 3050)"
   ]
  },
  {
   "cell_type": "code",
   "execution_count": 247,
   "metadata": {
    "colab": {
     "base_uri": "https://localhost:8080/"
    },
    "id": "s3VBL1CL3vuD",
    "outputId": "e33778ce-26c7-4669-eed1-f73108cf0d67"
   },
   "outputs": [
    {
     "data": {
      "text/plain": [
       "4050"
      ]
     },
     "execution_count": 247,
     "metadata": {},
     "output_type": "execute_result"
    }
   ],
   "source": [
    "novo_objeto"
   ]
  },
  {
   "cell_type": "markdown",
   "metadata": {
    "id": "4qKN-WjtVoTG"
   },
   "source": [
    "Vamos criar agora uma nova função chamada \"preco\" que basicamente retorna a cotação de um papel, de acordo com o que for especificado pelo usuário."
   ]
  },
  {
   "cell_type": "code",
   "execution_count": 248,
   "metadata": {
    "id": "2kVbMQIN37f8"
   },
   "outputs": [],
   "source": [
    "def preco(acao):\n",
    "    if (acao == 'PETR4'):\n",
    "        print('O preço agora é R$ 30,89')\n",
    "    elif (acao == 'VALE3'):\n",
    "        print('O preço agora é R$ 112')\n",
    "    elif (acao == 'WEGE3'):\n",
    "        print('O preço agora é R$ 32')\n",
    "    elif (acao == 'MGLU3'):\n",
    "        print('O preço agora é R$ 6,79')\n",
    "    else:\n",
    "        print('Papel desconhecido')"
   ]
  },
  {
   "cell_type": "code",
   "execution_count": 249,
   "metadata": {
    "colab": {
     "base_uri": "https://localhost:8080/"
    },
    "id": "6lo6MbW-4p7d",
    "outputId": "e1d2c331-c916-4ec6-fd89-959a3ee11065"
   },
   "outputs": [
    {
     "name": "stdout",
     "output_type": "stream",
     "text": [
      "O preço agora é R$ 30,89\n"
     ]
    }
   ],
   "source": [
    "preco('PETR4')"
   ]
  },
  {
   "cell_type": "code",
   "execution_count": 250,
   "metadata": {
    "id": "T2lfVg3tVoTG",
    "outputId": "d894c863-2d01-4199-bf66-81cc72122256"
   },
   "outputs": [
    {
     "name": "stdout",
     "output_type": "stream",
     "text": [
      "O preço agora é R$ 6,79\n"
     ]
    }
   ],
   "source": [
    "preco('MGLU3')"
   ]
  },
  {
   "cell_type": "markdown",
   "metadata": {
    "id": "HW4fa16D5Peg"
   },
   "source": [
    "Criando Docstring da função"
   ]
  },
  {
   "cell_type": "markdown",
   "metadata": {
    "id": "g91VBDrrVoTH"
   },
   "source": [
    "O que é?\n",
    "\n",
    "\"Docstring\" é a documentação da função, ou seja, a mensagem que aparece quando o usuário consulta a ajuda da função."
   ]
  },
  {
   "cell_type": "code",
   "execution_count": 251,
   "metadata": {
    "id": "G6FwlEWJ4uRz"
   },
   "outputs": [],
   "source": [
    "def preco(acao):\n",
    "    \n",
    "    ''' ESSA FUNÇÃO DEVE SER UTILIZADA PARA RETORNAR A COTAÇÃO EM TEMPO REAL DE UM PAPEL '''\n",
    "\n",
    "    if (acao == 'PETR4'):\n",
    "        print('O preço agora é R$ 30,89')\n",
    "    elif (acao == 'VALE3'):\n",
    "        print('O preço agora é R$ 112')\n",
    "    elif (acao == 'WEGE3'):\n",
    "        print('O preço agora é R$ 32')\n",
    "    elif (acao == 'MGLU3'):\n",
    "        print('O preço agora é R$ 24,59')\n",
    "    else:\n",
    "        print('Papel desconhecido')"
   ]
  },
  {
   "cell_type": "markdown",
   "metadata": {
    "id": "jxZ9ACT25ZIA"
   },
   "source": [
    "### Métodos"
   ]
  },
  {
   "cell_type": "markdown",
   "metadata": {
    "id": "zdgM-88jVoTH"
   },
   "source": [
    "Métodos são funções aplicáveis apenas a determinados tipos de objetos. Todos os métodos são funções, mas nem todas as funções são métodos. Os métodos são executados ao fim dos objetos e separados com um ponto."
   ]
  },
  {
   "cell_type": "code",
   "execution_count": 252,
   "metadata": {
    "id": "QO3Z5kp75gfq"
   },
   "outputs": [],
   "source": [
    "numeros = [1, 2, 4, 6, 10]"
   ]
  },
  {
   "cell_type": "markdown",
   "metadata": {
    "id": "HdnULGFhVoTI"
   },
   "source": [
    "Perceba que a função append() abaixo é um método."
   ]
  },
  {
   "cell_type": "code",
   "execution_count": 253,
   "metadata": {
    "id": "76ZQ_Qvv5llp"
   },
   "outputs": [],
   "source": [
    "numeros.append(5)"
   ]
  },
  {
   "cell_type": "code",
   "execution_count": 254,
   "metadata": {
    "colab": {
     "base_uri": "https://localhost:8080/"
    },
    "id": "soSWvS4Z5vBp",
    "outputId": "a4c35ce1-9259-4a07-f166-689e39cce8e4"
   },
   "outputs": [
    {
     "data": {
      "text/plain": [
       "[1, 2, 4, 6, 10, 5]"
      ]
     },
     "execution_count": 254,
     "metadata": {},
     "output_type": "execute_result"
    }
   ],
   "source": [
    "numeros"
   ]
  },
  {
   "cell_type": "markdown",
   "metadata": {
    "id": "8nAoquj_56Ja"
   },
   "source": [
    "## 14. Funções embutidas"
   ]
  },
  {
   "cell_type": "markdown",
   "metadata": {
    "id": "H0y3-h5JVoTI"
   },
   "source": [
    "Também conhecidas como \"built-in functions\" são funções nativas do Python que não necessitam de nenhuma biblioteca para sua execução."
   ]
  },
  {
   "cell_type": "markdown",
   "metadata": {
    "id": "wgI_SIPhDYaZ"
   },
   "source": [
    "### 14.1. Map"
   ]
  },
  {
   "cell_type": "markdown",
   "metadata": {
    "id": "jZDlE9ujVoTJ"
   },
   "source": [
    "A funçã map() aplica um comando (função) a vários elementos de uma lista, de uma vez.\n",
    "\n",
    "Confira alguns exemplos:"
   ]
  },
  {
   "cell_type": "code",
   "execution_count": 255,
   "metadata": {
    "id": "KS4MWynNDder"
   },
   "outputs": [],
   "source": [
    "def potencia(num, pot = 2):\n",
    "    return num**pot"
   ]
  },
  {
   "cell_type": "code",
   "execution_count": 256,
   "metadata": {
    "colab": {
     "base_uri": "https://localhost:8080/"
    },
    "id": "NAaIXxgNDwcX",
    "outputId": "c7868681-216a-4d6a-e176-dd8da415b3a9"
   },
   "outputs": [
    {
     "data": {
      "text/plain": [
       "9"
      ]
     },
     "execution_count": 256,
     "metadata": {},
     "output_type": "execute_result"
    }
   ],
   "source": [
    "potencia(3)"
   ]
  },
  {
   "cell_type": "code",
   "execution_count": 257,
   "metadata": {
    "colab": {
     "base_uri": "https://localhost:8080/"
    },
    "id": "lFeS_0NCDyst",
    "outputId": "160558da-a733-4965-e417-072d287f35de"
   },
   "outputs": [
    {
     "data": {
      "text/plain": [
       "81"
      ]
     },
     "execution_count": 257,
     "metadata": {},
     "output_type": "execute_result"
    }
   ],
   "source": [
    "potencia(3, 4)"
   ]
  },
  {
   "cell_type": "code",
   "execution_count": 258,
   "metadata": {
    "id": "jNM-GkgaD5VA"
   },
   "outputs": [],
   "source": [
    "lista_numeros = [1, 2, 3, 4, 5]"
   ]
  },
  {
   "cell_type": "code",
   "execution_count": 259,
   "metadata": {
    "colab": {
     "base_uri": "https://localhost:8080/"
    },
    "id": "-e_AXqyWEC4M",
    "outputId": "1c1bd219-aa67-4bf8-850c-442a120ffbce"
   },
   "outputs": [
    {
     "data": {
      "text/plain": [
       "[1, 4, 9, 16, 25]"
      ]
     },
     "execution_count": 259,
     "metadata": {},
     "output_type": "execute_result"
    }
   ],
   "source": [
    "list(map(potencia, lista_numeros))"
   ]
  },
  {
   "cell_type": "markdown",
   "metadata": {
    "id": "6Ska-MXdEGBo"
   },
   "source": [
    "### 14.2. Filter"
   ]
  },
  {
   "cell_type": "markdown",
   "metadata": {
    "id": "OJfO2SecVoTK"
   },
   "source": [
    "De forma análoga, a função \"filter\" aplica um filtro a vários elementos de uma lista de uma só vez."
   ]
  },
  {
   "cell_type": "code",
   "execution_count": 260,
   "metadata": {
    "id": "DzcQFuflEPbO"
   },
   "outputs": [],
   "source": [
    "# Vamos criar uma função que retorna uma condição lógica, dizendo se um número é par (True) ou não (False)\n",
    "\n",
    "def checar_par(num):\n",
    "    return num%2 ==0"
   ]
  },
  {
   "cell_type": "code",
   "execution_count": 261,
   "metadata": {
    "colab": {
     "base_uri": "https://localhost:8080/"
    },
    "id": "JTKsSyrdEccU",
    "outputId": "0b20c187-453a-4999-a125-5a2366b6f6c0"
   },
   "outputs": [
    {
     "data": {
      "text/plain": [
       "True"
      ]
     },
     "execution_count": 261,
     "metadata": {},
     "output_type": "execute_result"
    }
   ],
   "source": [
    "checar_par(2)"
   ]
  },
  {
   "cell_type": "code",
   "execution_count": 262,
   "metadata": {
    "colab": {
     "base_uri": "https://localhost:8080/"
    },
    "id": "LnT5k2ljEeKE",
    "outputId": "102ebe79-39b7-4167-fee2-56249486bb0f"
   },
   "outputs": [
    {
     "data": {
      "text/plain": [
       "False"
      ]
     },
     "execution_count": 262,
     "metadata": {},
     "output_type": "execute_result"
    }
   ],
   "source": [
    "checar_par(9)"
   ]
  },
  {
   "cell_type": "markdown",
   "metadata": {
    "id": "Fph3BfATVoTL"
   },
   "source": [
    "Se aplicarmos essa função à lista criada no item anterior, ela vai trazer apenas os números que são pares."
   ]
  },
  {
   "cell_type": "code",
   "execution_count": 263,
   "metadata": {
    "colab": {
     "base_uri": "https://localhost:8080/"
    },
    "id": "nA97OfrKEhkO",
    "outputId": "a095c800-54aa-4623-b4e1-0f41848dc21d"
   },
   "outputs": [
    {
     "data": {
      "text/plain": [
       "[2, 4]"
      ]
     },
     "execution_count": 263,
     "metadata": {},
     "output_type": "execute_result"
    }
   ],
   "source": [
    "list(filter(checar_par, lista_numeros))"
   ]
  },
  {
   "cell_type": "markdown",
   "metadata": {
    "id": "aDl5D4ZiEsxb"
   },
   "source": [
    "## 15. Funções anônimas: lambda"
   ]
  },
  {
   "cell_type": "markdown",
   "metadata": {
    "id": "5obVJO4AVoTL"
   },
   "source": [
    "São funções que não precisam de definição forma (explícita) podendo ser chamadas em apenas uma linha."
   ]
  },
  {
   "cell_type": "markdown",
   "metadata": {
    "id": "HbkkKpM2VoTL"
   },
   "source": [
    "Suponha que queremos criar uma função que eleva os números ao quadrado:"
   ]
  },
  {
   "cell_type": "code",
   "execution_count": 264,
   "metadata": {
    "id": "0XP58HpuIzQR"
   },
   "outputs": [],
   "source": [
    "def quadrado(num):\n",
    "    return num**2"
   ]
  },
  {
   "cell_type": "code",
   "execution_count": 265,
   "metadata": {
    "colab": {
     "base_uri": "https://localhost:8080/"
    },
    "id": "tmntoMk-I750",
    "outputId": "2045bf5c-5e6f-49b5-c0d7-8e2978ddfa71"
   },
   "outputs": [
    {
     "data": {
      "text/plain": [
       "25"
      ]
     },
     "execution_count": 265,
     "metadata": {},
     "output_type": "execute_result"
    }
   ],
   "source": [
    "quadrado(5)"
   ]
  },
  {
   "cell_type": "markdown",
   "metadata": {
    "id": "i1jrx8CbVoTM"
   },
   "source": [
    "Com o comando lambda, não precisamos dar um nome a essa função nem defini-la, basta especificar qual a tarefa que precisamos executar"
   ]
  },
  {
   "cell_type": "code",
   "execution_count": 266,
   "metadata": {
    "colab": {
     "base_uri": "https://localhost:8080/"
    },
    "id": "zyPqDZ_qI9o5",
    "outputId": "280f9907-3e8c-4a45-9db7-67e705447d76"
   },
   "outputs": [
    {
     "data": {
      "text/plain": [
       "<function __main__.<lambda>(num)>"
      ]
     },
     "execution_count": 266,
     "metadata": {},
     "output_type": "execute_result"
    }
   ],
   "source": [
    "lambda num: num**2"
   ]
  },
  {
   "cell_type": "markdown",
   "metadata": {
    "id": "T7p5Ty-0VoTM"
   },
   "source": [
    "Caso seja do nosso interesse, podemos criar uma variável que recebe a operação realizada pela função lambda."
   ]
  },
  {
   "cell_type": "code",
   "execution_count": 267,
   "metadata": {
    "id": "P3ZVN4RRJEAV"
   },
   "outputs": [],
   "source": [
    "quadrado_lambda = lambda num: num**2"
   ]
  },
  {
   "cell_type": "code",
   "execution_count": 268,
   "metadata": {
    "colab": {
     "base_uri": "https://localhost:8080/"
    },
    "id": "1lg_G3XOJOlN",
    "outputId": "e762d41f-bfd0-4f72-fddd-3dc8db3ba934"
   },
   "outputs": [
    {
     "data": {
      "text/plain": [
       "25"
      ]
     },
     "execution_count": 268,
     "metadata": {},
     "output_type": "execute_result"
    }
   ],
   "source": [
    "quadrado_lambda(5)"
   ]
  },
  {
   "cell_type": "markdown",
   "metadata": {
    "id": "AWUM2PaiVoTN"
   },
   "source": [
    "Podemos ir ainda mais longe, aplicando essas funções a vários elementos de uma lista, com as funções **map** e **filter**"
   ]
  },
  {
   "cell_type": "code",
   "execution_count": 269,
   "metadata": {
    "colab": {
     "base_uri": "https://localhost:8080/"
    },
    "id": "-yoDilhFJQDO",
    "outputId": "879108ec-05ed-4af2-9349-b8374ccc034c"
   },
   "outputs": [
    {
     "data": {
      "text/plain": [
       "[1, 4, 9, 16, 25]"
      ]
     },
     "execution_count": 269,
     "metadata": {},
     "output_type": "execute_result"
    }
   ],
   "source": [
    "list(map(lambda num: num**2, lista_numeros))"
   ]
  },
  {
   "cell_type": "code",
   "execution_count": 270,
   "metadata": {
    "colab": {
     "base_uri": "https://localhost:8080/"
    },
    "id": "iorDJYSMJXzJ",
    "outputId": "8ecac5b0-1df7-4c5f-c226-0502bd661595"
   },
   "outputs": [
    {
     "data": {
      "text/plain": [
       "[2, 4]"
      ]
     },
     "execution_count": 270,
     "metadata": {},
     "output_type": "execute_result"
    }
   ],
   "source": [
    "list(filter(lambda num: num%2 ==0, lista_numeros))"
   ]
  },
  {
   "cell_type": "markdown",
   "metadata": {
    "id": "Jp4qcyVeJm2v"
   },
   "source": [
    "## 16. Escopo das variáveis"
   ]
  },
  {
   "cell_type": "markdown",
   "metadata": {
    "id": "tEOktixaVoTN"
   },
   "source": [
    "Podemos entender o escopo como a \"área de atuação\" de uma variável."
   ]
  },
  {
   "cell_type": "code",
   "execution_count": 271,
   "metadata": {
    "id": "t5ntPEE2KlKr"
   },
   "outputs": [],
   "source": [
    "# escopo global\n",
    "\n",
    "x = 25"
   ]
  },
  {
   "cell_type": "code",
   "execution_count": 272,
   "metadata": {
    "id": "RFZMqpCPKptY"
   },
   "outputs": [],
   "source": [
    "def printer():\n",
    "    x = 50\n",
    "    return x"
   ]
  },
  {
   "cell_type": "code",
   "execution_count": 273,
   "metadata": {
    "colab": {
     "base_uri": "https://localhost:8080/"
    },
    "id": "-Su2dmeHKuh2",
    "outputId": "df5e1a0a-c8a4-4fe0-b587-cec4e06830e6"
   },
   "outputs": [
    {
     "data": {
      "text/plain": [
       "25"
      ]
     },
     "execution_count": 273,
     "metadata": {},
     "output_type": "execute_result"
    }
   ],
   "source": [
    "x"
   ]
  },
  {
   "cell_type": "code",
   "execution_count": 274,
   "metadata": {
    "colab": {
     "base_uri": "https://localhost:8080/"
    },
    "id": "hBI2PRdmKvqp",
    "outputId": "372edb68-8795-4f44-b2f6-103f051a2689"
   },
   "outputs": [
    {
     "data": {
      "text/plain": [
       "50"
      ]
     },
     "execution_count": 274,
     "metadata": {},
     "output_type": "execute_result"
    }
   ],
   "source": [
    "printer()"
   ]
  },
  {
   "cell_type": "markdown",
   "metadata": {
    "id": "FS2Oa6Z3K4A-"
   },
   "source": [
    "## 17. Args"
   ]
  },
  {
   "cell_type": "markdown",
   "metadata": {
    "id": "q0zKwL1BVoTO"
   },
   "source": [
    "Imagine que criamos uma função nova e especificamos a quantidade de argumentos que precisam ser passados nessa função:"
   ]
  },
  {
   "cell_type": "code",
   "execution_count": 275,
   "metadata": {
    "id": "NiAd1tpzNtnb"
   },
   "outputs": [],
   "source": [
    "# Neste caso estamos criando uma função que recebe três argumentos: a, b e c\n",
    "\n",
    "def soma_varios(a,b,c):\n",
    "    soma = sum((a,b,c))\n",
    "    return soma"
   ]
  },
  {
   "cell_type": "code",
   "execution_count": 276,
   "metadata": {
    "colab": {
     "base_uri": "https://localhost:8080/"
    },
    "id": "Am0_2HR8N1YY",
    "outputId": "e45d7a47-3338-485e-ffc4-a4d608b47abc"
   },
   "outputs": [
    {
     "data": {
      "text/plain": [
       "6"
      ]
     },
     "execution_count": 276,
     "metadata": {},
     "output_type": "execute_result"
    }
   ],
   "source": [
    "soma_varios(1,2,3)"
   ]
  },
  {
   "cell_type": "code",
   "execution_count": 277,
   "metadata": {
    "id": "J8PZkT5FN3YF"
   },
   "outputs": [],
   "source": [
    "# Com 5 argumentos\n",
    "\n",
    "def soma_varios(a,b,c,d,e):\n",
    "    soma = sum((a,b,c,d,e))\n",
    "    return soma"
   ]
  },
  {
   "cell_type": "code",
   "execution_count": 278,
   "metadata": {
    "colab": {
     "base_uri": "https://localhost:8080/"
    },
    "id": "rf8kVnobN8K2",
    "outputId": "d06d3196-6d84-4b99-ff7c-06a42706dc38"
   },
   "outputs": [
    {
     "data": {
      "text/plain": [
       "15"
      ]
     },
     "execution_count": 278,
     "metadata": {},
     "output_type": "execute_result"
    }
   ],
   "source": [
    "soma_varios(1,2,3,4,5)"
   ]
  },
  {
   "cell_type": "code",
   "execution_count": 279,
   "metadata": {
    "id": "PZWES3QMN-DO"
   },
   "outputs": [],
   "source": [
    "# E num caso de ter N argumentos (número indefinido), como seria?\n",
    "# Graças ao argumento *args, podemos dar a opção da função receber inúmeros argumentos\n",
    "\n",
    "def soma_varios(*args):\n",
    "    soma = sum(args)\n",
    "    return soma"
   ]
  },
  {
   "cell_type": "code",
   "execution_count": 280,
   "metadata": {
    "colab": {
     "base_uri": "https://localhost:8080/"
    },
    "id": "BLw6nMlhOS1v",
    "outputId": "1fba7e65-b149-4b54-9ab6-a64bc417fa7b"
   },
   "outputs": [
    {
     "data": {
      "text/plain": [
       "1"
      ]
     },
     "execution_count": 280,
     "metadata": {},
     "output_type": "execute_result"
    }
   ],
   "source": [
    "soma_varios(1)"
   ]
  },
  {
   "cell_type": "code",
   "execution_count": 281,
   "metadata": {
    "colab": {
     "base_uri": "https://localhost:8080/"
    },
    "id": "Z-yNZ6CCOXWL",
    "outputId": "6e26788b-6b50-4112-d619-897201e0f339"
   },
   "outputs": [
    {
     "data": {
      "text/plain": [
       "6"
      ]
     },
     "execution_count": 281,
     "metadata": {},
     "output_type": "execute_result"
    }
   ],
   "source": [
    "soma_varios(1,2,3)"
   ]
  },
  {
   "cell_type": "code",
   "execution_count": 282,
   "metadata": {
    "colab": {
     "base_uri": "https://localhost:8080/"
    },
    "id": "eCbhRyGeOZEH",
    "outputId": "13b3d837-3a84-4a98-817f-15c6820f343f"
   },
   "outputs": [
    {
     "data": {
      "text/plain": [
       "45"
      ]
     },
     "execution_count": 282,
     "metadata": {},
     "output_type": "execute_result"
    }
   ],
   "source": [
    "soma_varios(1,2,3,4,5,6,7,8,9)"
   ]
  },
  {
   "cell_type": "markdown",
   "metadata": {
    "id": "C60mz5B7Ob5Y"
   },
   "source": [
    "## 18. Kwargs"
   ]
  },
  {
   "cell_type": "markdown",
   "metadata": {
    "id": "PE77_FHsVoTQ"
   },
   "source": [
    "De forma análoga ao *args, o **kwargs torna a função capaz de receber argumentos que tem um nome"
   ]
  },
  {
   "cell_type": "code",
   "execution_count": 283,
   "metadata": {
    "id": "wbiXigmmSdLd"
   },
   "outputs": [],
   "source": [
    "# No caso abaixo, o nome do argumento é 'acao'\n",
    "\n",
    "def compra_de_acoes(**kwargs):\n",
    "    if 'acao' in kwargs:\n",
    "        print('A ação comprada foi ', kwargs['acao'])\n",
    "    else:\n",
    "        print('O cliente não investe em ações')"
   ]
  },
  {
   "cell_type": "code",
   "execution_count": 284,
   "metadata": {
    "colab": {
     "base_uri": "https://localhost:8080/"
    },
    "id": "rkLDwNUVTSzR",
    "outputId": "1f295f51-f4d7-4977-892e-51f77289b2f1"
   },
   "outputs": [
    {
     "name": "stdout",
     "output_type": "stream",
     "text": [
      "A ação comprada foi  PETR4\n"
     ]
    }
   ],
   "source": [
    "compra_de_acoes(acao = 'PETR4')"
   ]
  },
  {
   "cell_type": "code",
   "execution_count": 285,
   "metadata": {
    "colab": {
     "base_uri": "https://localhost:8080/"
    },
    "id": "PA07dRlxTWsf",
    "outputId": "1ca0706b-295e-45c3-989c-c37e0037ce09"
   },
   "outputs": [
    {
     "name": "stdout",
     "output_type": "stream",
     "text": [
      "O cliente não investe em ações\n"
     ]
    }
   ],
   "source": [
    "compra_de_acoes()"
   ]
  },
  {
   "cell_type": "code",
   "execution_count": 286,
   "metadata": {
    "id": "NKlfOS6TTs2q"
   },
   "outputs": [],
   "source": [
    "# No caso abaixo, temos dois argumentos do tipo kwargs que pedem um nome: 'acao' e 'lote'\n",
    "\n",
    "def montagem_posicao(*args,**kwargs):\n",
    "    if 'acao' and 'lote' in kwargs:\n",
    "        print('O cliente montou uma posição de ', ' e '.join(kwargs['acao']))\n",
    "        print('Ele comprou ', ' e '.join(args), 'papéis, respectivamente')\n",
    "        print('Todas elas foram compradas no lote', kwargs['lote'])"
   ]
  },
  {
   "cell_type": "code",
   "execution_count": 287,
   "metadata": {
    "colab": {
     "base_uri": "https://localhost:8080/"
    },
    "id": "ThECt9zWUnnB",
    "outputId": "1417b942-3f22-4472-9977-0b0b7f5baa9d"
   },
   "outputs": [
    {
     "name": "stdout",
     "output_type": "stream",
     "text": [
      "O cliente montou uma posição de  PETR4 e VALE3\n",
      "Ele comprou  100 e 200 papéis, respectivamente\n",
      "Todas elas foram compradas no lote inteiro\n"
     ]
    }
   ],
   "source": [
    "montagem_posicao('100', '200', acao = ('PETR4', 'VALE3'), lote = 'inteiro')"
   ]
  },
  {
   "cell_type": "markdown",
   "metadata": {
    "id": "jX2R2eyegRfk"
   },
   "source": [
    "## 19. Trabalhando com bibliotecas"
   ]
  },
  {
   "cell_type": "markdown",
   "metadata": {
    "id": "VjZOfZOqgRfk"
   },
   "source": [
    "1. O que são bibliotecas\n",
    "2. Importância de se utilizar bibliotecas"
   ]
  },
  {
   "cell_type": "markdown",
   "metadata": {
    "id": "2oeVPNW5mqEM"
   },
   "source": [
    "### 19.1. Importando as bibliotecas"
   ]
  },
  {
   "cell_type": "markdown",
   "metadata": {
    "id": "l1Z8E-XYVoTS"
   },
   "source": [
    "Nessa seção, vamos estudar as duas bibliotecas mais importantes do Python: pandas e numpy"
   ]
  },
  {
   "cell_type": "code",
   "execution_count": 288,
   "metadata": {
    "id": "XbvCGBoKoE_z"
   },
   "outputs": [],
   "source": [
    "import numpy as np\n",
    "import pandas as pd"
   ]
  },
  {
   "cell_type": "markdown",
   "metadata": {
    "id": "dmzQ23i9oHl5"
   },
   "source": [
    "### 19.2. Numpy"
   ]
  },
  {
   "cell_type": "markdown",
   "metadata": {
    "id": "h8uEePzHoK35"
   },
   "source": [
    "O principal tipo de objeto que criamos com a numpy é o 'array'"
   ]
  },
  {
   "cell_type": "markdown",
   "metadata": {
    "id": "07uAjVbToULg"
   },
   "source": [
    "Para criar arrays, temos diversas funções diferentes, cada um servido a um propósito específico"
   ]
  },
  {
   "cell_type": "markdown",
   "metadata": {
    "id": "wDzJmCiToY-Z"
   },
   "source": [
    "Por exemplo, podemos criar arrays que contém apenas zeros"
   ]
  },
  {
   "cell_type": "code",
   "execution_count": 289,
   "metadata": {
    "id": "7mjUYvxLob4v"
   },
   "outputs": [],
   "source": [
    "a = np.zeros(3)"
   ]
  },
  {
   "cell_type": "code",
   "execution_count": 290,
   "metadata": {
    "colab": {
     "base_uri": "https://localhost:8080/"
    },
    "id": "CHNxt9FPoedm",
    "outputId": "ed05d6eb-6343-4d73-80fd-784bba672d37"
   },
   "outputs": [
    {
     "data": {
      "text/plain": [
       "array([0., 0., 0.])"
      ]
     },
     "execution_count": 290,
     "metadata": {},
     "output_type": "execute_result"
    }
   ],
   "source": [
    "a"
   ]
  },
  {
   "cell_type": "code",
   "execution_count": 291,
   "metadata": {
    "colab": {
     "base_uri": "https://localhost:8080/"
    },
    "id": "eKCIFYbboe5t",
    "outputId": "40405d0f-2eb8-4a99-e87a-e6a4bd5297de"
   },
   "outputs": [
    {
     "data": {
      "text/plain": [
       "(3,)"
      ]
     },
     "execution_count": 291,
     "metadata": {},
     "output_type": "execute_result"
    }
   ],
   "source": [
    "# O atributo .shape retorna as dimensões do array\n",
    "\n",
    "a.shape"
   ]
  },
  {
   "cell_type": "code",
   "execution_count": 292,
   "metadata": {
    "id": "Ay3ZjaT_og3I"
   },
   "outputs": [],
   "source": [
    "# As dimensões são manipuláveis. Logo, podemos especificar o número de linhas e colunas:\n",
    "\n",
    "a.shape = (3, 1)"
   ]
  },
  {
   "cell_type": "code",
   "execution_count": 293,
   "metadata": {
    "colab": {
     "base_uri": "https://localhost:8080/"
    },
    "id": "kCnqGta4pFH6",
    "outputId": "5f3493c2-5c1b-44be-c3b2-2194ca72cb28"
   },
   "outputs": [
    {
     "data": {
      "text/plain": [
       "(3, 1)"
      ]
     },
     "execution_count": 293,
     "metadata": {},
     "output_type": "execute_result"
    }
   ],
   "source": [
    "a.shape"
   ]
  },
  {
   "cell_type": "code",
   "execution_count": 294,
   "metadata": {
    "colab": {
     "base_uri": "https://localhost:8080/"
    },
    "id": "qIaD70uKpGvI",
    "outputId": "4319c159-7822-4f45-e86e-3eea78b04733"
   },
   "outputs": [
    {
     "data": {
      "text/plain": [
       "array([[0.],\n",
       "       [0.],\n",
       "       [0.]])"
      ]
     },
     "execution_count": 294,
     "metadata": {},
     "output_type": "execute_result"
    }
   ],
   "source": [
    "a"
   ]
  },
  {
   "cell_type": "markdown",
   "metadata": {
    "id": "_FmCPVRKVoTV"
   },
   "source": [
    "Vamos criar um array contendo apenas '1'"
   ]
  },
  {
   "cell_type": "code",
   "execution_count": 295,
   "metadata": {
    "id": "co3qhgCFon_5"
   },
   "outputs": [],
   "source": [
    "b = np.ones(10)"
   ]
  },
  {
   "cell_type": "code",
   "execution_count": 296,
   "metadata": {
    "colab": {
     "base_uri": "https://localhost:8080/"
    },
    "id": "IierisxiowOP",
    "outputId": "192717f1-2d50-4690-f6f7-39b693f7fe4a"
   },
   "outputs": [
    {
     "data": {
      "text/plain": [
       "array([1., 1., 1., 1., 1., 1., 1., 1., 1., 1.])"
      ]
     },
     "execution_count": 296,
     "metadata": {},
     "output_type": "execute_result"
    }
   ],
   "source": [
    "b"
   ]
  },
  {
   "cell_type": "code",
   "execution_count": 297,
   "metadata": {
    "id": "T9QKxQBvow3I"
   },
   "outputs": [],
   "source": [
    "# Array vazio\n",
    "\n",
    "c = np.empty(4)"
   ]
  },
  {
   "cell_type": "code",
   "execution_count": 298,
   "metadata": {
    "colab": {
     "base_uri": "https://localhost:8080/"
    },
    "id": "DXXeGlu7pNgR",
    "outputId": "1eab2c1f-a3f9-4a8e-e9e5-0c9a3fcff3a3"
   },
   "outputs": [
    {
     "data": {
      "text/plain": [
       "array([1.15491471e-311, 1.15491470e-311, 1.15491471e-311, 1.15491471e-311])"
      ]
     },
     "execution_count": 298,
     "metadata": {},
     "output_type": "execute_result"
    }
   ],
   "source": [
    "# veja que mesmo sendo próximo a 'vazio', os elementos da lista são não-nulos\n",
    "c"
   ]
  },
  {
   "cell_type": "code",
   "execution_count": 299,
   "metadata": {
    "id": "AlAZSNuVpN7R"
   },
   "outputs": [],
   "source": [
    "# Podemos criar um array determinando início, fim e número de componentes\n",
    "\n",
    "d = np.linspace(3, 15, 10)"
   ]
  },
  {
   "cell_type": "code",
   "execution_count": 300,
   "metadata": {
    "colab": {
     "base_uri": "https://localhost:8080/"
    },
    "id": "Luxc2qU-pXwI",
    "outputId": "119950ae-c892-40a4-f535-30dd32126740"
   },
   "outputs": [
    {
     "data": {
      "text/plain": [
       "array([ 3.        ,  4.33333333,  5.66666667,  7.        ,  8.33333333,\n",
       "        9.66666667, 11.        , 12.33333333, 13.66666667, 15.        ])"
      ]
     },
     "execution_count": 300,
     "metadata": {},
     "output_type": "execute_result"
    }
   ],
   "source": [
    "d"
   ]
  },
  {
   "cell_type": "code",
   "execution_count": 301,
   "metadata": {
    "id": "1lek2wG9pYBx"
   },
   "outputs": [],
   "source": [
    "# Podemos especificar manualmente os elementos do array\n",
    "\n",
    "e = np.array(10)"
   ]
  },
  {
   "cell_type": "code",
   "execution_count": 302,
   "metadata": {
    "colab": {
     "base_uri": "https://localhost:8080/"
    },
    "id": "Q4YucdQypc-4",
    "outputId": "8ce7afd6-c3b5-4675-c83e-6a17add46f51"
   },
   "outputs": [
    {
     "data": {
      "text/plain": [
       "array(10)"
      ]
     },
     "execution_count": 302,
     "metadata": {},
     "output_type": "execute_result"
    }
   ],
   "source": [
    "e"
   ]
  },
  {
   "cell_type": "code",
   "execution_count": 303,
   "metadata": {
    "id": "hyBO7YP8pdYg"
   },
   "outputs": [],
   "source": [
    "f = np.array([1,2,3,4,5])"
   ]
  },
  {
   "cell_type": "code",
   "execution_count": 304,
   "metadata": {
    "colab": {
     "base_uri": "https://localhost:8080/"
    },
    "id": "bODjf3P_pgAN",
    "outputId": "14fdf14a-451a-4955-898d-88373e8dff45"
   },
   "outputs": [
    {
     "data": {
      "text/plain": [
       "array([1, 2, 3, 4, 5])"
      ]
     },
     "execution_count": 304,
     "metadata": {},
     "output_type": "execute_result"
    }
   ],
   "source": [
    "f"
   ]
  },
  {
   "cell_type": "code",
   "execution_count": 305,
   "metadata": {
    "id": "0FLd6EPRphHs"
   },
   "outputs": [],
   "source": [
    "# Uma lista pode virar um array!\n",
    "\n",
    "lista = [4,5,6,7,8,9]"
   ]
  },
  {
   "cell_type": "code",
   "execution_count": 306,
   "metadata": {
    "id": "dp4AgQvPpjnx"
   },
   "outputs": [],
   "source": [
    "g = np.array(lista)"
   ]
  },
  {
   "cell_type": "code",
   "execution_count": 307,
   "metadata": {
    "colab": {
     "base_uri": "https://localhost:8080/"
    },
    "id": "OHvtqzArpl64",
    "outputId": "60223149-2cc8-4812-e4a3-3d5217429eae"
   },
   "outputs": [
    {
     "data": {
      "text/plain": [
       "array([4, 5, 6, 7, 8, 9])"
      ]
     },
     "execution_count": 307,
     "metadata": {},
     "output_type": "execute_result"
    }
   ],
   "source": [
    "g"
   ]
  },
  {
   "cell_type": "code",
   "execution_count": 308,
   "metadata": {
    "colab": {
     "base_uri": "https://localhost:8080/"
    },
    "id": "IdhUTXtIpmhn",
    "outputId": "6a4c6ca0-746d-4d27-b6e3-e254ec5b185b"
   },
   "outputs": [
    {
     "data": {
      "text/plain": [
       "numpy.ndarray"
      ]
     },
     "execution_count": 308,
     "metadata": {},
     "output_type": "execute_result"
    }
   ],
   "source": [
    "type(g)"
   ]
  },
  {
   "cell_type": "code",
   "execution_count": 309,
   "metadata": {
    "id": "Z3K6MjCbpoQh"
   },
   "outputs": [],
   "source": [
    "lista_listas = [[1, 2, 3, 4, 5], [4, 5, 6, 7, 8]]"
   ]
  },
  {
   "cell_type": "code",
   "execution_count": 310,
   "metadata": {
    "id": "c40qVW4ypute"
   },
   "outputs": [],
   "source": [
    "# Podemos usar mais de uma lista na construção do array:\n",
    "\n",
    "h = np.array([lista_listas])"
   ]
  },
  {
   "cell_type": "code",
   "execution_count": 311,
   "metadata": {
    "colab": {
     "base_uri": "https://localhost:8080/"
    },
    "id": "VyxRF20qpw5t",
    "outputId": "aedf268a-6c5a-4f30-efd4-f266282744b0"
   },
   "outputs": [
    {
     "data": {
      "text/plain": [
       "array([[[1, 2, 3, 4, 5],\n",
       "        [4, 5, 6, 7, 8]]])"
      ]
     },
     "execution_count": 311,
     "metadata": {},
     "output_type": "execute_result"
    }
   ],
   "source": [
    "h"
   ]
  },
  {
   "cell_type": "code",
   "execution_count": 312,
   "metadata": {
    "id": "ybbFmXZupxiE"
   },
   "outputs": [],
   "source": [
    "np.random.seed(0)"
   ]
  },
  {
   "cell_type": "code",
   "execution_count": 313,
   "metadata": {
    "id": "cp8uFQ-EqCqZ"
   },
   "outputs": [],
   "source": [
    "i = np.random.randint(10, size = 6)"
   ]
  },
  {
   "cell_type": "code",
   "execution_count": 314,
   "metadata": {
    "colab": {
     "base_uri": "https://localhost:8080/"
    },
    "id": "kk2xqTkcqMWp",
    "outputId": "41bb935e-053c-4d34-f3b4-1ff36389d8a5"
   },
   "outputs": [
    {
     "data": {
      "text/plain": [
       "array([5, 0, 3, 3, 7, 9])"
      ]
     },
     "execution_count": 314,
     "metadata": {},
     "output_type": "execute_result"
    }
   ],
   "source": [
    "i"
   ]
  },
  {
   "cell_type": "markdown",
   "metadata": {
    "id": "G9ias_eFVoTa"
   },
   "source": [
    "Podemos realizar indexação e slicing nos arrays:"
   ]
  },
  {
   "cell_type": "code",
   "execution_count": 315,
   "metadata": {
    "colab": {
     "base_uri": "https://localhost:8080/"
    },
    "id": "7aWYKrgsqM1h",
    "outputId": "33adb588-36b6-47b7-84bc-db1c1b8dcebf"
   },
   "outputs": [
    {
     "data": {
      "text/plain": [
       "5"
      ]
     },
     "execution_count": 315,
     "metadata": {},
     "output_type": "execute_result"
    }
   ],
   "source": [
    "i[0]"
   ]
  },
  {
   "cell_type": "code",
   "execution_count": 316,
   "metadata": {
    "colab": {
     "base_uri": "https://localhost:8080/"
    },
    "id": "Z8I_4TMXqOSO",
    "outputId": "47b80ae3-98cb-49d5-fb0b-029d10348a64"
   },
   "outputs": [
    {
     "data": {
      "text/plain": [
       "3"
      ]
     },
     "execution_count": 316,
     "metadata": {},
     "output_type": "execute_result"
    }
   ],
   "source": [
    "i[3]"
   ]
  },
  {
   "cell_type": "code",
   "execution_count": 317,
   "metadata": {
    "colab": {
     "base_uri": "https://localhost:8080/"
    },
    "id": "nTArQ3igqO4O",
    "outputId": "aecec493-df92-4621-8a30-bd03feb99e86"
   },
   "outputs": [
    {
     "data": {
      "text/plain": [
       "9"
      ]
     },
     "execution_count": 317,
     "metadata": {},
     "output_type": "execute_result"
    }
   ],
   "source": [
    "i[-1]"
   ]
  },
  {
   "cell_type": "markdown",
   "metadata": {
    "id": "RM13xqi7qQSo"
   },
   "source": [
    "Muito parecido com listas"
   ]
  },
  {
   "cell_type": "markdown",
   "metadata": {
    "id": "M-BCOBJMqTxB"
   },
   "source": [
    "Operações matemáticas"
   ]
  },
  {
   "cell_type": "code",
   "execution_count": 318,
   "metadata": {
    "colab": {
     "base_uri": "https://localhost:8080/"
    },
    "id": "s0vrXmGAsSAF",
    "outputId": "7ca239d4-85c4-4d96-f4ac-9721c534bc55"
   },
   "outputs": [
    {
     "data": {
      "text/plain": [
       "array([ 13,  24, 105, 206, 507])"
      ]
     },
     "execution_count": 318,
     "metadata": {},
     "output_type": "execute_result"
    }
   ],
   "source": [
    "a = np.array([10,20,100,200,500])\n",
    "b = np.array([3,4,5,6,7])\n",
    "\n",
    "np.add(a, b)"
   ]
  },
  {
   "cell_type": "code",
   "execution_count": 319,
   "metadata": {
    "colab": {
     "base_uri": "https://localhost:8080/"
    },
    "id": "n6cNBp8UsScE",
    "outputId": "fc5e112e-7b6a-46f6-d62a-05438a2f5fb6"
   },
   "outputs": [
    {
     "data": {
      "text/plain": [
       "array([ 13,  24, 105, 206, 507])"
      ]
     },
     "execution_count": 319,
     "metadata": {},
     "output_type": "execute_result"
    }
   ],
   "source": [
    "a + b"
   ]
  },
  {
   "cell_type": "code",
   "execution_count": 320,
   "metadata": {
    "colab": {
     "base_uri": "https://localhost:8080/"
    },
    "id": "GsX1P33zsWET",
    "outputId": "00a6bbfc-5ec1-49a9-e74d-742dbf62a21f"
   },
   "outputs": [
    {
     "data": {
      "text/plain": [
       "array([  7,  16,  95, 194, 493])"
      ]
     },
     "execution_count": 320,
     "metadata": {},
     "output_type": "execute_result"
    }
   ],
   "source": [
    "np.subtract(a, b)"
   ]
  },
  {
   "cell_type": "code",
   "execution_count": 321,
   "metadata": {
    "colab": {
     "base_uri": "https://localhost:8080/"
    },
    "id": "6jB4tnLFsZQj",
    "outputId": "d10a4407-f702-47f6-c49d-b34b9789fdab"
   },
   "outputs": [
    {
     "data": {
      "text/plain": [
       "array([  7,  16,  95, 194, 493])"
      ]
     },
     "execution_count": 321,
     "metadata": {},
     "output_type": "execute_result"
    }
   ],
   "source": [
    "a - b"
   ]
  },
  {
   "cell_type": "code",
   "execution_count": 322,
   "metadata": {
    "colab": {
     "base_uri": "https://localhost:8080/"
    },
    "id": "tPlSdcMpscRe",
    "outputId": "f0eb182b-4595-4b85-bf3e-b767389a370f"
   },
   "outputs": [
    {
     "data": {
      "text/plain": [
       "array([  30,   80,  500, 1200, 3500])"
      ]
     },
     "execution_count": 322,
     "metadata": {},
     "output_type": "execute_result"
    }
   ],
   "source": [
    "np.multiply(a, b)"
   ]
  },
  {
   "cell_type": "code",
   "execution_count": 323,
   "metadata": {
    "colab": {
     "base_uri": "https://localhost:8080/"
    },
    "id": "x9OrFsxCsst1",
    "outputId": "08d6c146-dcf2-476f-c144-52688cf0484a"
   },
   "outputs": [
    {
     "data": {
      "text/plain": [
       "array([  30,   80,  500, 1200, 3500])"
      ]
     },
     "execution_count": 323,
     "metadata": {},
     "output_type": "execute_result"
    }
   ],
   "source": [
    "a*b"
   ]
  },
  {
   "cell_type": "code",
   "execution_count": 324,
   "metadata": {
    "colab": {
     "base_uri": "https://localhost:8080/"
    },
    "id": "BJ3XRtJrsvIY",
    "outputId": "4e794018-77b8-4d07-cfb1-02e2e3c6e38a"
   },
   "outputs": [
    {
     "data": {
      "text/plain": [
       "array([ 3.33333333,  5.        , 20.        , 33.33333333, 71.42857143])"
      ]
     },
     "execution_count": 324,
     "metadata": {},
     "output_type": "execute_result"
    }
   ],
   "source": [
    "np.divide(a,b)"
   ]
  },
  {
   "cell_type": "code",
   "execution_count": 325,
   "metadata": {
    "colab": {
     "base_uri": "https://localhost:8080/"
    },
    "id": "ZjcLTChLsxBi",
    "outputId": "23be9117-0e1a-4978-c6d6-7e96e174b427"
   },
   "outputs": [
    {
     "data": {
      "text/plain": [
       "array([ 3.33333333,  5.        , 20.        , 33.33333333, 71.42857143])"
      ]
     },
     "execution_count": 325,
     "metadata": {},
     "output_type": "execute_result"
    }
   ],
   "source": [
    "a/b"
   ]
  },
  {
   "cell_type": "markdown",
   "metadata": {
    "id": "rsXeuqI-sxl0"
   },
   "source": [
    "### 19.3. Pandas"
   ]
  },
  {
   "cell_type": "markdown",
   "metadata": {
    "id": "Y7Bj9iO-Jlmi"
   },
   "source": [
    "Mostrar aqui como baixar os dados de WEGE3 do Yahoo Finance\n",
    "\n",
    "Temos um arquivo .csv que foi disponibilizado junto com o material do curso"
   ]
  },
  {
   "cell_type": "code",
   "execution_count": 326,
   "metadata": {
    "id": "hY7mHuN_unbp"
   },
   "outputs": [],
   "source": [
    "dados = pd.read_csv('WEGE3.SA.csv')"
   ]
  },
  {
   "cell_type": "markdown",
   "metadata": {
    "id": "54T_UjDsVoTe"
   },
   "source": [
    "Com o atributo shape podemos verificar as dimensões"
   ]
  },
  {
   "cell_type": "code",
   "execution_count": 327,
   "metadata": {
    "colab": {
     "base_uri": "https://localhost:8080/"
    },
    "id": "cd02KOTlu5uV",
    "outputId": "78e3e3cb-8991-46b2-ebf8-eee12cd29bf4"
   },
   "outputs": [
    {
     "data": {
      "text/plain": [
       "(993, 7)"
      ]
     },
     "execution_count": 327,
     "metadata": {},
     "output_type": "execute_result"
    }
   ],
   "source": [
    "dados.shape"
   ]
  },
  {
   "cell_type": "markdown",
   "metadata": {
    "id": "Q0O2pR8UVoTe"
   },
   "source": [
    "Com o atributo dtypes podemos verificar o tipo das variáveis"
   ]
  },
  {
   "cell_type": "code",
   "execution_count": 328,
   "metadata": {
    "colab": {
     "base_uri": "https://localhost:8080/"
    },
    "id": "mAHEUd_cu69D",
    "outputId": "e32032f8-9834-4e48-ce96-d5e229031a89"
   },
   "outputs": [
    {
     "data": {
      "text/plain": [
       "Date          object\n",
       "Open         float64\n",
       "High         float64\n",
       "Low          float64\n",
       "Close        float64\n",
       "Adj Close    float64\n",
       "Volume       float64\n",
       "dtype: object"
      ]
     },
     "execution_count": 328,
     "metadata": {},
     "output_type": "execute_result"
    }
   ],
   "source": [
    "dados.dtypes"
   ]
  },
  {
   "cell_type": "code",
   "execution_count": 329,
   "metadata": {
    "colab": {
     "base_uri": "https://localhost:8080/"
    },
    "id": "k7N3vjebu7_C",
    "outputId": "b3cac212-4949-4199-9037-54c1b4bb057c"
   },
   "outputs": [
    {
     "data": {
      "text/plain": [
       "pandas.core.frame.DataFrame"
      ]
     },
     "execution_count": 329,
     "metadata": {},
     "output_type": "execute_result"
    }
   ],
   "source": [
    "# Tipo do objeto dados\n",
    "\n",
    "type(dados)"
   ]
  },
  {
   "cell_type": "code",
   "execution_count": 330,
   "metadata": {
    "colab": {
     "base_uri": "https://localhost:8080/",
     "height": 202
    },
    "id": "dHGFkh3Zu_pK",
    "outputId": "cb4f18e3-3022-4981-c96b-7e38a99e33b8"
   },
   "outputs": [
    {
     "data": {
      "text/html": [
       "<div>\n",
       "<style scoped>\n",
       "    .dataframe tbody tr th:only-of-type {\n",
       "        vertical-align: middle;\n",
       "    }\n",
       "\n",
       "    .dataframe tbody tr th {\n",
       "        vertical-align: top;\n",
       "    }\n",
       "\n",
       "    .dataframe thead th {\n",
       "        text-align: right;\n",
       "    }\n",
       "</style>\n",
       "<table border=\"1\" class=\"dataframe\">\n",
       "  <thead>\n",
       "    <tr style=\"text-align: right;\">\n",
       "      <th></th>\n",
       "      <th>Date</th>\n",
       "      <th>Open</th>\n",
       "      <th>High</th>\n",
       "      <th>Low</th>\n",
       "      <th>Close</th>\n",
       "      <th>Adj Close</th>\n",
       "      <th>Volume</th>\n",
       "    </tr>\n",
       "  </thead>\n",
       "  <tbody>\n",
       "    <tr>\n",
       "      <th>0</th>\n",
       "      <td>2017-07-24</td>\n",
       "      <td>7.392307</td>\n",
       "      <td>7.473076</td>\n",
       "      <td>7.261538</td>\n",
       "      <td>7.426923</td>\n",
       "      <td>7.051007</td>\n",
       "      <td>2638220.0</td>\n",
       "    </tr>\n",
       "    <tr>\n",
       "      <th>1</th>\n",
       "      <td>2017-07-25</td>\n",
       "      <td>7.476923</td>\n",
       "      <td>7.476923</td>\n",
       "      <td>7.307692</td>\n",
       "      <td>7.369230</td>\n",
       "      <td>6.996235</td>\n",
       "      <td>2505880.0</td>\n",
       "    </tr>\n",
       "    <tr>\n",
       "      <th>2</th>\n",
       "      <td>2017-07-26</td>\n",
       "      <td>7.323076</td>\n",
       "      <td>7.442307</td>\n",
       "      <td>7.276923</td>\n",
       "      <td>7.326923</td>\n",
       "      <td>6.956069</td>\n",
       "      <td>2112240.0</td>\n",
       "    </tr>\n",
       "    <tr>\n",
       "      <th>3</th>\n",
       "      <td>2017-07-27</td>\n",
       "      <td>7.388461</td>\n",
       "      <td>7.419230</td>\n",
       "      <td>7.223076</td>\n",
       "      <td>7.269230</td>\n",
       "      <td>6.901296</td>\n",
       "      <td>1910480.0</td>\n",
       "    </tr>\n",
       "    <tr>\n",
       "      <th>4</th>\n",
       "      <td>2017-07-28</td>\n",
       "      <td>7.261538</td>\n",
       "      <td>7.296153</td>\n",
       "      <td>7.165384</td>\n",
       "      <td>7.200000</td>\n",
       "      <td>6.835570</td>\n",
       "      <td>2866760.0</td>\n",
       "    </tr>\n",
       "  </tbody>\n",
       "</table>\n",
       "</div>"
      ],
      "text/plain": [
       "         Date      Open      High       Low     Close  Adj Close     Volume\n",
       "0  2017-07-24  7.392307  7.473076  7.261538  7.426923   7.051007  2638220.0\n",
       "1  2017-07-25  7.476923  7.476923  7.307692  7.369230   6.996235  2505880.0\n",
       "2  2017-07-26  7.323076  7.442307  7.276923  7.326923   6.956069  2112240.0\n",
       "3  2017-07-27  7.388461  7.419230  7.223076  7.269230   6.901296  1910480.0\n",
       "4  2017-07-28  7.261538  7.296153  7.165384  7.200000   6.835570  2866760.0"
      ]
     },
     "execution_count": 330,
     "metadata": {},
     "output_type": "execute_result"
    }
   ],
   "source": [
    "# O método head() permite ver as 5 primeiras linhas\n",
    "\n",
    "dados.head()"
   ]
  },
  {
   "cell_type": "code",
   "execution_count": 331,
   "metadata": {
    "colab": {
     "base_uri": "https://localhost:8080/",
     "height": 202
    },
    "id": "JjckxxSAvBHa",
    "outputId": "5cb0de1f-e72f-4007-8654-543654140457"
   },
   "outputs": [
    {
     "data": {
      "text/html": [
       "<div>\n",
       "<style scoped>\n",
       "    .dataframe tbody tr th:only-of-type {\n",
       "        vertical-align: middle;\n",
       "    }\n",
       "\n",
       "    .dataframe tbody tr th {\n",
       "        vertical-align: top;\n",
       "    }\n",
       "\n",
       "    .dataframe thead th {\n",
       "        text-align: right;\n",
       "    }\n",
       "</style>\n",
       "<table border=\"1\" class=\"dataframe\">\n",
       "  <thead>\n",
       "    <tr style=\"text-align: right;\">\n",
       "      <th></th>\n",
       "      <th>Date</th>\n",
       "      <th>Open</th>\n",
       "      <th>High</th>\n",
       "      <th>Low</th>\n",
       "      <th>Close</th>\n",
       "      <th>Adj Close</th>\n",
       "      <th>Volume</th>\n",
       "    </tr>\n",
       "  </thead>\n",
       "  <tbody>\n",
       "    <tr>\n",
       "      <th>988</th>\n",
       "      <td>2021-07-15</td>\n",
       "      <td>35.000000</td>\n",
       "      <td>35.590000</td>\n",
       "      <td>34.900002</td>\n",
       "      <td>34.919998</td>\n",
       "      <td>34.919998</td>\n",
       "      <td>4807000.0</td>\n",
       "    </tr>\n",
       "    <tr>\n",
       "      <th>989</th>\n",
       "      <td>2021-07-16</td>\n",
       "      <td>35.040001</td>\n",
       "      <td>35.259998</td>\n",
       "      <td>34.209999</td>\n",
       "      <td>34.290001</td>\n",
       "      <td>34.290001</td>\n",
       "      <td>5380000.0</td>\n",
       "    </tr>\n",
       "    <tr>\n",
       "      <th>990</th>\n",
       "      <td>2021-07-19</td>\n",
       "      <td>34.000000</td>\n",
       "      <td>34.369999</td>\n",
       "      <td>33.599998</td>\n",
       "      <td>34.180000</td>\n",
       "      <td>34.180000</td>\n",
       "      <td>4756600.0</td>\n",
       "    </tr>\n",
       "    <tr>\n",
       "      <th>991</th>\n",
       "      <td>2021-07-20</td>\n",
       "      <td>34.049999</td>\n",
       "      <td>34.830002</td>\n",
       "      <td>33.869999</td>\n",
       "      <td>34.549999</td>\n",
       "      <td>34.549999</td>\n",
       "      <td>4042300.0</td>\n",
       "    </tr>\n",
       "    <tr>\n",
       "      <th>992</th>\n",
       "      <td>2021-07-21</td>\n",
       "      <td>34.750000</td>\n",
       "      <td>34.970001</td>\n",
       "      <td>34.099998</td>\n",
       "      <td>34.450001</td>\n",
       "      <td>34.450001</td>\n",
       "      <td>4315700.0</td>\n",
       "    </tr>\n",
       "  </tbody>\n",
       "</table>\n",
       "</div>"
      ],
      "text/plain": [
       "           Date       Open       High        Low      Close  Adj Close  \\\n",
       "988  2021-07-15  35.000000  35.590000  34.900002  34.919998  34.919998   \n",
       "989  2021-07-16  35.040001  35.259998  34.209999  34.290001  34.290001   \n",
       "990  2021-07-19  34.000000  34.369999  33.599998  34.180000  34.180000   \n",
       "991  2021-07-20  34.049999  34.830002  33.869999  34.549999  34.549999   \n",
       "992  2021-07-21  34.750000  34.970001  34.099998  34.450001  34.450001   \n",
       "\n",
       "        Volume  \n",
       "988  4807000.0  \n",
       "989  5380000.0  \n",
       "990  4756600.0  \n",
       "991  4042300.0  \n",
       "992  4315700.0  "
      ]
     },
     "execution_count": 331,
     "metadata": {},
     "output_type": "execute_result"
    }
   ],
   "source": [
    "# O método tail() permite ver as 5 últimas linhas\n",
    "\n",
    "dados.tail()"
   ]
  },
  {
   "cell_type": "code",
   "execution_count": 332,
   "metadata": {
    "colab": {
     "base_uri": "https://localhost:8080/"
    },
    "id": "xF1tgbVmvPcx",
    "outputId": "0e99c14e-9272-4c25-9ee7-88ba7bbea18a"
   },
   "outputs": [
    {
     "data": {
      "text/plain": [
       "Date         2017-07-24\n",
       "Open           7.392307\n",
       "High           7.473076\n",
       "Low            7.261538\n",
       "Close          7.426923\n",
       "Adj Close      7.051007\n",
       "Volume        2638220.0\n",
       "Name: 0, dtype: object"
      ]
     },
     "execution_count": 332,
     "metadata": {},
     "output_type": "execute_result"
    }
   ],
   "source": [
    "# Usamos o comando .loc para filtrar pelo index\n",
    "\n",
    "dados.loc[0]"
   ]
  },
  {
   "cell_type": "code",
   "execution_count": 333,
   "metadata": {
    "colab": {
     "base_uri": "https://localhost:8080/"
    },
    "id": "HDbjiWB8vCmi",
    "outputId": "c34c7abb-82e6-449c-c983-8a0036026ffa"
   },
   "outputs": [
    {
     "data": {
      "text/plain": [
       "Date         2017-07-24\n",
       "Open           7.392307\n",
       "High           7.473076\n",
       "Low            7.261538\n",
       "Close          7.426923\n",
       "Adj Close      7.051007\n",
       "Volume        2638220.0\n",
       "Name: 0, dtype: object"
      ]
     },
     "execution_count": 333,
     "metadata": {},
     "output_type": "execute_result"
    }
   ],
   "source": [
    "dados.iloc[0]"
   ]
  },
  {
   "cell_type": "code",
   "execution_count": 334,
   "metadata": {
    "colab": {
     "base_uri": "https://localhost:8080/",
     "height": 35
    },
    "id": "E3L-jIFlvG4u",
    "outputId": "c08cb898-a1cb-4bf5-bd0b-9535904be326"
   },
   "outputs": [
    {
     "data": {
      "text/plain": [
       "'2017-07-24'"
      ]
     },
     "execution_count": 334,
     "metadata": {},
     "output_type": "execute_result"
    }
   ],
   "source": [
    "# Além de filtrar uma linha, podemos filtrar células\n",
    "\n",
    "dados.iloc[0,0]"
   ]
  },
  {
   "cell_type": "code",
   "execution_count": 335,
   "metadata": {
    "colab": {
     "base_uri": "https://localhost:8080/"
    },
    "id": "2hUwYFa_vKJc",
    "outputId": "282758c0-3d8a-4602-ea87-cb5dddc0af25"
   },
   "outputs": [
    {
     "data": {
      "text/plain": [
       "0       7.392307\n",
       "1       7.476923\n",
       "2       7.323076\n",
       "3       7.388461\n",
       "4       7.261538\n",
       "         ...    \n",
       "988    35.000000\n",
       "989    35.040001\n",
       "990    34.000000\n",
       "991    34.049999\n",
       "992    34.750000\n",
       "Name: Open, Length: 993, dtype: float64"
      ]
     },
     "execution_count": 335,
     "metadata": {},
     "output_type": "execute_result"
    }
   ],
   "source": [
    "# Ou podemos filtrar colunas de nome específico\n",
    "\n",
    "dados['Open']"
   ]
  },
  {
   "cell_type": "code",
   "execution_count": 336,
   "metadata": {
    "colab": {
     "base_uri": "https://localhost:8080/",
     "height": 281
    },
    "id": "PlSuZbEbvYOb",
    "outputId": "2cc9290e-1b4c-411c-d466-6ef1c0464e4a"
   },
   "outputs": [
    {
     "data": {
      "image/png": "[encoded data removed]",
      "text/plain": [
       "<Figure size 432x288 with 1 Axes>"
      ]
     },
     "metadata": {
      "needs_background": "light"
     },
     "output_type": "display_data"
    }
   ],
   "source": [
    "# Podemos plotar apenas uma coluna\n",
    "\n",
    "dados['Close'].plot();"
   ]
  },
  {
   "cell_type": "code",
   "execution_count": 337,
   "metadata": {
    "colab": {
     "base_uri": "https://localhost:8080/",
     "height": 281
    },
    "id": "YO21AveKvnKD",
    "outputId": "bd5c018b-ad4a-4000-d216-dd4c4b13affd"
   },
   "outputs": [
    {
     "data": {
      "image/png": "[encoded data removed]",
      "text/plain": [
       "<Figure size 432x288 with 1 Axes>"
      ]
     },
     "metadata": {
      "needs_background": "light"
     },
     "output_type": "display_data"
    }
   ],
   "source": [
    "dados.Close.plot();"
   ]
  },
  {
   "cell_type": "code",
   "execution_count": 338,
   "metadata": {
    "colab": {
     "base_uri": "https://localhost:8080/",
     "height": 283
    },
    "id": "kLLAlhydvpaC",
    "outputId": "69fa8df0-113f-412d-d062-70e5a4050222"
   },
   "outputs": [
    {
     "data": {
      "image/png": "[encoded data removed]",
      "text/plain": [
       "<Figure size 432x288 with 1 Axes>"
      ]
     },
     "metadata": {
      "needs_background": "light"
     },
     "output_type": "display_data"
    }
   ],
   "source": [
    "# Podemos plotar um segmento de uma coluna. No exemplo abaixo, estamos plotando da linha 0 até a 500.\n",
    "\n",
    "dados.iloc[0:500].Close.plot();"
   ]
  },
  {
   "cell_type": "code",
   "execution_count": 339,
   "metadata": {
    "id": "j6gwDvbMwPs4"
   },
   "outputs": [],
   "source": [
    "# Abaixo, estamos passando os valores da coluna 'Date' para o índice, \n",
    "# de tal forma que o índice do dataframe se torne a própria data\n",
    "\n",
    "dados.index = dados.Date"
   ]
  },
  {
   "cell_type": "code",
   "execution_count": 340,
   "metadata": {
    "colab": {
     "base_uri": "https://localhost:8080/",
     "height": 233
    },
    "id": "fofuXdcKwYaZ",
    "outputId": "a0c8870e-294e-4315-ba15-f52a97e6f2fd"
   },
   "outputs": [
    {
     "data": {
      "text/html": [
       "<div>\n",
       "<style scoped>\n",
       "    .dataframe tbody tr th:only-of-type {\n",
       "        vertical-align: middle;\n",
       "    }\n",
       "\n",
       "    .dataframe tbody tr th {\n",
       "        vertical-align: top;\n",
       "    }\n",
       "\n",
       "    .dataframe thead th {\n",
       "        text-align: right;\n",
       "    }\n",
       "</style>\n",
       "<table border=\"1\" class=\"dataframe\">\n",
       "  <thead>\n",
       "    <tr style=\"text-align: right;\">\n",
       "      <th></th>\n",
       "      <th>Date</th>\n",
       "      <th>Open</th>\n",
       "      <th>High</th>\n",
       "      <th>Low</th>\n",
       "      <th>Close</th>\n",
       "      <th>Adj Close</th>\n",
       "      <th>Volume</th>\n",
       "    </tr>\n",
       "    <tr>\n",
       "      <th>Date</th>\n",
       "      <th></th>\n",
       "      <th></th>\n",
       "      <th></th>\n",
       "      <th></th>\n",
       "      <th></th>\n",
       "      <th></th>\n",
       "      <th></th>\n",
       "    </tr>\n",
       "  </thead>\n",
       "  <tbody>\n",
       "    <tr>\n",
       "      <th>2017-07-24</th>\n",
       "      <td>2017-07-24</td>\n",
       "      <td>7.392307</td>\n",
       "      <td>7.473076</td>\n",
       "      <td>7.261538</td>\n",
       "      <td>7.426923</td>\n",
       "      <td>7.051007</td>\n",
       "      <td>2638220.0</td>\n",
       "    </tr>\n",
       "    <tr>\n",
       "      <th>2017-07-25</th>\n",
       "      <td>2017-07-25</td>\n",
       "      <td>7.476923</td>\n",
       "      <td>7.476923</td>\n",
       "      <td>7.307692</td>\n",
       "      <td>7.369230</td>\n",
       "      <td>6.996235</td>\n",
       "      <td>2505880.0</td>\n",
       "    </tr>\n",
       "    <tr>\n",
       "      <th>2017-07-26</th>\n",
       "      <td>2017-07-26</td>\n",
       "      <td>7.323076</td>\n",
       "      <td>7.442307</td>\n",
       "      <td>7.276923</td>\n",
       "      <td>7.326923</td>\n",
       "      <td>6.956069</td>\n",
       "      <td>2112240.0</td>\n",
       "    </tr>\n",
       "    <tr>\n",
       "      <th>2017-07-27</th>\n",
       "      <td>2017-07-27</td>\n",
       "      <td>7.388461</td>\n",
       "      <td>7.419230</td>\n",
       "      <td>7.223076</td>\n",
       "      <td>7.269230</td>\n",
       "      <td>6.901296</td>\n",
       "      <td>1910480.0</td>\n",
       "    </tr>\n",
       "    <tr>\n",
       "      <th>2017-07-28</th>\n",
       "      <td>2017-07-28</td>\n",
       "      <td>7.261538</td>\n",
       "      <td>7.296153</td>\n",
       "      <td>7.165384</td>\n",
       "      <td>7.200000</td>\n",
       "      <td>6.835570</td>\n",
       "      <td>2866760.0</td>\n",
       "    </tr>\n",
       "  </tbody>\n",
       "</table>\n",
       "</div>"
      ],
      "text/plain": [
       "                  Date      Open      High       Low     Close  Adj Close  \\\n",
       "Date                                                                        \n",
       "2017-07-24  2017-07-24  7.392307  7.473076  7.261538  7.426923   7.051007   \n",
       "2017-07-25  2017-07-25  7.476923  7.476923  7.307692  7.369230   6.996235   \n",
       "2017-07-26  2017-07-26  7.323076  7.442307  7.276923  7.326923   6.956069   \n",
       "2017-07-27  2017-07-27  7.388461  7.419230  7.223076  7.269230   6.901296   \n",
       "2017-07-28  2017-07-28  7.261538  7.296153  7.165384  7.200000   6.835570   \n",
       "\n",
       "               Volume  \n",
       "Date                   \n",
       "2017-07-24  2638220.0  \n",
       "2017-07-25  2505880.0  \n",
       "2017-07-26  2112240.0  \n",
       "2017-07-27  1910480.0  \n",
       "2017-07-28  2866760.0  "
      ]
     },
     "execution_count": 340,
     "metadata": {},
     "output_type": "execute_result"
    }
   ],
   "source": [
    "dados.head()"
   ]
  },
  {
   "cell_type": "code",
   "execution_count": 341,
   "metadata": {
    "colab": {
     "base_uri": "https://localhost:8080/"
    },
    "id": "IpifkbQ84uxl",
    "outputId": "a71cdc29-8238-4b94-d7b3-2a134a4a0738"
   },
   "outputs": [
    {
     "data": {
      "text/plain": [
       "Date         2017-07-24\n",
       "Open           7.392307\n",
       "High           7.473076\n",
       "Low            7.261538\n",
       "Close          7.426923\n",
       "Adj Close      7.051007\n",
       "Volume        2638220.0\n",
       "Name: 2017-07-24, dtype: object"
      ]
     },
     "execution_count": 341,
     "metadata": {},
     "output_type": "execute_result"
    }
   ],
   "source": [
    "# Isso nos permite agora filtrar linhas de acordo com uma data específica\n",
    "\n",
    "dados.loc['2017-07-24']"
   ]
  },
  {
   "cell_type": "markdown",
   "metadata": {
    "id": "8hzkRuBFVoTh"
   },
   "source": [
    "Vamos trabalhar agora com diretórios diferentes"
   ]
  },
  {
   "cell_type": "code",
   "execution_count": 342,
   "metadata": {
    "id": "zjb-hwvo5Anl"
   },
   "outputs": [],
   "source": [
    "import os"
   ]
  },
  {
   "cell_type": "markdown",
   "metadata": {
    "id": "LPULjNR1VoTi"
   },
   "source": [
    "Qual o diretório que estamos trabalhando neste momento?"
   ]
  },
  {
   "cell_type": "code",
   "execution_count": 343,
   "metadata": {
    "colab": {
     "base_uri": "https://localhost:8080/",
     "height": 35
    },
    "id": "pF4yVoWL5BlV",
    "outputId": "18159832-56e9-4798-c714-18cfee78a023"
   },
   "outputs": [
    {
     "data": {
      "text/plain": [
       "'C:\\\\Users\\\\camil\\\\Videos\\\\BootCamp Modal - Data Science\\\\2 -Data Science com Python\\\\Modulo 1\\\\Aula 2'"
      ]
     },
     "execution_count": 343,
     "metadata": {},
     "output_type": "execute_result"
    }
   ],
   "source": [
    "os. getcwd()"
   ]
  },
  {
   "cell_type": "code",
   "execution_count": 345,
   "metadata": {
    "id": "W73-BIVp5Ndx"
   },
   "outputs": [
    {
     "ename": "FileNotFoundError",
     "evalue": "[WinError 2] O sistema não pode encontrar o arquivo especificado: '/tmp'",
     "output_type": "error",
     "traceback": [
      "\u001b[1;31m---------------------------------------------------------------------------\u001b[0m",
      "\u001b[1;31mFileNotFoundError\u001b[0m                         Traceback (most recent call last)",
      "\u001b[1;32m~\\AppData\\Local\\Temp/ipykernel_2736/1922606004.py\u001b[0m in \u001b[0;36m<module>\u001b[1;34m\u001b[0m\n\u001b[0;32m      1\u001b[0m \u001b[1;31m# Caso você estivesse trabalhando com o Jupyter, ou algum outro IDE na sua máquina\u001b[0m\u001b[1;33m\u001b[0m\u001b[1;33m\u001b[0m\u001b[0m\n\u001b[1;32m----> 2\u001b[1;33m \u001b[0mos\u001b[0m\u001b[1;33m.\u001b[0m\u001b[0mchdir\u001b[0m\u001b[1;33m(\u001b[0m\u001b[1;34m'/tmp'\u001b[0m\u001b[1;33m)\u001b[0m\u001b[1;33m\u001b[0m\u001b[1;33m\u001b[0m\u001b[0m\n\u001b[0m",
      "\u001b[1;31mFileNotFoundError\u001b[0m: [WinError 2] O sistema não pode encontrar o arquivo especificado: '/tmp'"
     ]
    }
   ],
   "source": [
    "# Caso você estivesse trabalhando com o Jupyter, ou algum outro IDE na sua máquina\n",
    "os.chdir('/tmp')"
   ]
  },
  {
   "cell_type": "markdown",
   "metadata": {
    "id": "g6fo3dU84z0B"
   },
   "source": [
    "Como renomear e renomear colunas"
   ]
  },
  {
   "cell_type": "code",
   "execution_count": 346,
   "metadata": {
    "id": "kWXzAwse48M_"
   },
   "outputs": [],
   "source": [
    "dados.rename(columns={'Date': 'Data', 'Adj Close': 'WEGE3'}, inplace=True)"
   ]
  },
  {
   "cell_type": "code",
   "execution_count": 347,
   "metadata": {
    "colab": {
     "base_uri": "https://localhost:8080/",
     "height": 233
    },
    "id": "Ab44BHsu7_01",
    "outputId": "c37e8230-46a4-4524-efc2-95226753fbfc"
   },
   "outputs": [
    {
     "data": {
      "text/html": [
       "<div>\n",
       "<style scoped>\n",
       "    .dataframe tbody tr th:only-of-type {\n",
       "        vertical-align: middle;\n",
       "    }\n",
       "\n",
       "    .dataframe tbody tr th {\n",
       "        vertical-align: top;\n",
       "    }\n",
       "\n",
       "    .dataframe thead th {\n",
       "        text-align: right;\n",
       "    }\n",
       "</style>\n",
       "<table border=\"1\" class=\"dataframe\">\n",
       "  <thead>\n",
       "    <tr style=\"text-align: right;\">\n",
       "      <th></th>\n",
       "      <th>Data</th>\n",
       "      <th>Open</th>\n",
       "      <th>High</th>\n",
       "      <th>Low</th>\n",
       "      <th>Close</th>\n",
       "      <th>WEGE3</th>\n",
       "      <th>Volume</th>\n",
       "    </tr>\n",
       "    <tr>\n",
       "      <th>Date</th>\n",
       "      <th></th>\n",
       "      <th></th>\n",
       "      <th></th>\n",
       "      <th></th>\n",
       "      <th></th>\n",
       "      <th></th>\n",
       "      <th></th>\n",
       "    </tr>\n",
       "  </thead>\n",
       "  <tbody>\n",
       "    <tr>\n",
       "      <th>2017-07-24</th>\n",
       "      <td>2017-07-24</td>\n",
       "      <td>7.392307</td>\n",
       "      <td>7.473076</td>\n",
       "      <td>7.261538</td>\n",
       "      <td>7.426923</td>\n",
       "      <td>7.051007</td>\n",
       "      <td>2638220.0</td>\n",
       "    </tr>\n",
       "    <tr>\n",
       "      <th>2017-07-25</th>\n",
       "      <td>2017-07-25</td>\n",
       "      <td>7.476923</td>\n",
       "      <td>7.476923</td>\n",
       "      <td>7.307692</td>\n",
       "      <td>7.369230</td>\n",
       "      <td>6.996235</td>\n",
       "      <td>2505880.0</td>\n",
       "    </tr>\n",
       "    <tr>\n",
       "      <th>2017-07-26</th>\n",
       "      <td>2017-07-26</td>\n",
       "      <td>7.323076</td>\n",
       "      <td>7.442307</td>\n",
       "      <td>7.276923</td>\n",
       "      <td>7.326923</td>\n",
       "      <td>6.956069</td>\n",
       "      <td>2112240.0</td>\n",
       "    </tr>\n",
       "    <tr>\n",
       "      <th>2017-07-27</th>\n",
       "      <td>2017-07-27</td>\n",
       "      <td>7.388461</td>\n",
       "      <td>7.419230</td>\n",
       "      <td>7.223076</td>\n",
       "      <td>7.269230</td>\n",
       "      <td>6.901296</td>\n",
       "      <td>1910480.0</td>\n",
       "    </tr>\n",
       "    <tr>\n",
       "      <th>2017-07-28</th>\n",
       "      <td>2017-07-28</td>\n",
       "      <td>7.261538</td>\n",
       "      <td>7.296153</td>\n",
       "      <td>7.165384</td>\n",
       "      <td>7.200000</td>\n",
       "      <td>6.835570</td>\n",
       "      <td>2866760.0</td>\n",
       "    </tr>\n",
       "  </tbody>\n",
       "</table>\n",
       "</div>"
      ],
      "text/plain": [
       "                  Data      Open      High       Low     Close     WEGE3  \\\n",
       "Date                                                                       \n",
       "2017-07-24  2017-07-24  7.392307  7.473076  7.261538  7.426923  7.051007   \n",
       "2017-07-25  2017-07-25  7.476923  7.476923  7.307692  7.369230  6.996235   \n",
       "2017-07-26  2017-07-26  7.323076  7.442307  7.276923  7.326923  6.956069   \n",
       "2017-07-27  2017-07-27  7.388461  7.419230  7.223076  7.269230  6.901296   \n",
       "2017-07-28  2017-07-28  7.261538  7.296153  7.165384  7.200000  6.835570   \n",
       "\n",
       "               Volume  \n",
       "Date                   \n",
       "2017-07-24  2638220.0  \n",
       "2017-07-25  2505880.0  \n",
       "2017-07-26  2112240.0  \n",
       "2017-07-27  1910480.0  \n",
       "2017-07-28  2866760.0  "
      ]
     },
     "execution_count": 347,
     "metadata": {},
     "output_type": "execute_result"
    }
   ],
   "source": [
    "dados.head()"
   ]
  },
  {
   "cell_type": "code",
   "execution_count": 348,
   "metadata": {
    "id": "Z3V28WjB8Aqy"
   },
   "outputs": [],
   "source": [
    "# Removendo colunas\n",
    "\n",
    "dados.drop(['Data', 'Volume'], axis = 1, inplace = True)"
   ]
  },
  {
   "cell_type": "code",
   "execution_count": 349,
   "metadata": {
    "colab": {
     "base_uri": "https://localhost:8080/",
     "height": 233
    },
    "id": "USMuSX_uIlGd",
    "outputId": "d0cae58f-442a-4a89-886f-0f2bfffdfd8d"
   },
   "outputs": [
    {
     "data": {
      "text/html": [
       "<div>\n",
       "<style scoped>\n",
       "    .dataframe tbody tr th:only-of-type {\n",
       "        vertical-align: middle;\n",
       "    }\n",
       "\n",
       "    .dataframe tbody tr th {\n",
       "        vertical-align: top;\n",
       "    }\n",
       "\n",
       "    .dataframe thead th {\n",
       "        text-align: right;\n",
       "    }\n",
       "</style>\n",
       "<table border=\"1\" class=\"dataframe\">\n",
       "  <thead>\n",
       "    <tr style=\"text-align: right;\">\n",
       "      <th></th>\n",
       "      <th>Open</th>\n",
       "      <th>High</th>\n",
       "      <th>Low</th>\n",
       "      <th>Close</th>\n",
       "      <th>WEGE3</th>\n",
       "    </tr>\n",
       "    <tr>\n",
       "      <th>Date</th>\n",
       "      <th></th>\n",
       "      <th></th>\n",
       "      <th></th>\n",
       "      <th></th>\n",
       "      <th></th>\n",
       "    </tr>\n",
       "  </thead>\n",
       "  <tbody>\n",
       "    <tr>\n",
       "      <th>2017-07-24</th>\n",
       "      <td>7.392307</td>\n",
       "      <td>7.473076</td>\n",
       "      <td>7.261538</td>\n",
       "      <td>7.426923</td>\n",
       "      <td>7.051007</td>\n",
       "    </tr>\n",
       "    <tr>\n",
       "      <th>2017-07-25</th>\n",
       "      <td>7.476923</td>\n",
       "      <td>7.476923</td>\n",
       "      <td>7.307692</td>\n",
       "      <td>7.369230</td>\n",
       "      <td>6.996235</td>\n",
       "    </tr>\n",
       "    <tr>\n",
       "      <th>2017-07-26</th>\n",
       "      <td>7.323076</td>\n",
       "      <td>7.442307</td>\n",
       "      <td>7.276923</td>\n",
       "      <td>7.326923</td>\n",
       "      <td>6.956069</td>\n",
       "    </tr>\n",
       "    <tr>\n",
       "      <th>2017-07-27</th>\n",
       "      <td>7.388461</td>\n",
       "      <td>7.419230</td>\n",
       "      <td>7.223076</td>\n",
       "      <td>7.269230</td>\n",
       "      <td>6.901296</td>\n",
       "    </tr>\n",
       "    <tr>\n",
       "      <th>2017-07-28</th>\n",
       "      <td>7.261538</td>\n",
       "      <td>7.296153</td>\n",
       "      <td>7.165384</td>\n",
       "      <td>7.200000</td>\n",
       "      <td>6.835570</td>\n",
       "    </tr>\n",
       "  </tbody>\n",
       "</table>\n",
       "</div>"
      ],
      "text/plain": [
       "                Open      High       Low     Close     WEGE3\n",
       "Date                                                        \n",
       "2017-07-24  7.392307  7.473076  7.261538  7.426923  7.051007\n",
       "2017-07-25  7.476923  7.476923  7.307692  7.369230  6.996235\n",
       "2017-07-26  7.323076  7.442307  7.276923  7.326923  6.956069\n",
       "2017-07-27  7.388461  7.419230  7.223076  7.269230  6.901296\n",
       "2017-07-28  7.261538  7.296153  7.165384  7.200000  6.835570"
      ]
     },
     "execution_count": 349,
     "metadata": {},
     "output_type": "execute_result"
    }
   ],
   "source": [
    "dados.head()"
   ]
  },
  {
   "cell_type": "code",
   "execution_count": 350,
   "metadata": {
    "colab": {
     "base_uri": "https://localhost:8080/",
     "height": 296
    },
    "id": "UFv2hFhBIpvx",
    "outputId": "113e1fc6-4c74-4537-8bf6-114fad278d3d"
   },
   "outputs": [
    {
     "data": {
      "image/png": "[encoded data removed]",
      "text/plain": [
       "<Figure size 432x288 with 1 Axes>"
      ]
     },
     "metadata": {
      "needs_background": "light"
     },
     "output_type": "display_data"
    }
   ],
   "source": [
    "# Plotando todas as colunas\n",
    "\n",
    "dados.plot();"
   ]
  },
  {
   "cell_type": "markdown",
   "metadata": {
    "id": "XJnn9oaPIzpN"
   },
   "source": [
    "Quantas linhas e colunas tem o dataframe?"
   ]
  },
  {
   "cell_type": "code",
   "execution_count": 351,
   "metadata": {
    "colab": {
     "base_uri": "https://localhost:8080/"
    },
    "id": "DsWWOEnCIsjG",
    "outputId": "05a44b64-3b59-4817-caf8-9b5c63ae0c7b"
   },
   "outputs": [
    {
     "data": {
      "text/plain": [
       "(993, 5)"
      ]
     },
     "execution_count": 351,
     "metadata": {},
     "output_type": "execute_result"
    }
   ],
   "source": [
    "dados.shape"
   ]
  },
  {
   "cell_type": "markdown",
   "metadata": {
    "id": "7_e8jshMVoTq"
   },
   "source": [
    "Filtrando apenas algumas linhas específicas"
   ]
  },
  {
   "cell_type": "code",
   "execution_count": 352,
   "metadata": {
    "colab": {
     "base_uri": "https://localhost:8080/",
     "height": 279
    },
    "id": "0l_PsHhTIzCX",
    "outputId": "c06f404a-d3c1-46b5-fcfd-7ca0477dca2c"
   },
   "outputs": [
    {
     "data": {
      "image/png": "[encoded data removed]",
      "text/plain": [
       "<Figure size 432x288 with 1 Axes>"
      ]
     },
     "metadata": {
      "needs_background": "light"
     },
     "output_type": "display_data"
    }
   ],
   "source": [
    "dados.iloc[943:994].plot();"
   ]
  },
  {
   "cell_type": "markdown",
   "metadata": {
    "id": "JvW_8htpVoTq"
   },
   "source": [
    "Aumentando o tamanho do gráfico"
   ]
  },
  {
   "cell_type": "code",
   "execution_count": 353,
   "metadata": {
    "colab": {
     "base_uri": "https://localhost:8080/",
     "height": 606
    },
    "id": "X40UfD_EI9B3",
    "outputId": "ecd06d59-04ad-4f2f-eba4-ed5e3fe2d509"
   },
   "outputs": [
    {
     "data": {
      "image/png": "[encoded data removed]",
      "text/plain": [
       "<Figure size 720x720 with 1 Axes>"
      ]
     },
     "metadata": {
      "needs_background": "light"
     },
     "output_type": "display_data"
    }
   ],
   "source": [
    "dados.iloc[943:994].plot(figsize = (10,10));"
   ]
  },
  {
   "cell_type": "code",
   "execution_count": null,
   "metadata": {},
   "outputs": [],
   "source": []
  }
 ],
 "metadata": {
  "colab": {
   "collapsed_sections": [
    "owK558tcN1tN",
    "DrofZ8yr6w3W",
    "E5YQNZ7HdG2l",
    "6sLzBHwLgRfV",
    "t5LbBfLFrMIq",
    "rJRa3-GNvxsa",
    "qEilJ8jjwLwd",
    "Am_HryU-MYbK",
    "oB7UZD3GOwH4",
    "mCbL-mfLO2al",
    "8ToMK_pcPNu0",
    "SJ5pcllPR0GC",
    "8nAoquj_56Ja",
    "wgI_SIPhDYaZ",
    "6Ska-MXdEGBo",
    "aDl5D4ZiEsxb",
    "Jp4qcyVeJm2v",
    "FS2Oa6Z3K4A-",
    "C60mz5B7Ob5Y",
    "jX2R2eyegRfk",
    "dmzQ23i9oHl5",
    "rsXeuqI-sxl0"
   ],
   "name": "DS_01_Introdução_ao_Python_Modalmais - Final.ipynb",
   "provenance": []
  },
  "kernelspec": {
   "display_name": "Python 3 (ipykernel)",
   "language": "python",
   "name": "python3"
  },
  "language_info": {
   "codemirror_mode": {
    "name": "ipython",
    "version": 3
   },
   "file_extension": ".py",
   "mimetype": "text/x-python",
   "name": "python",
   "nbconvert_exporter": "python",
   "pygments_lexer": "ipython3",
   "version": "3.9.7"
  }
 },
 "nbformat": 4,
 "nbformat_minor": 1
}
