{
 "cells": [
  {
   "cell_type": "markdown",
   "metadata": {
    "id": "s_hAa25oPUzY"
   },
   "source": [
    "# ***Data Science com Python***\n",
    "## Modelagem e Avaliação de Resutados - Classificação\n",
    "### Camila Teixeira"
   ]
  },
  {
   "cell_type": "markdown",
   "metadata": {
    "id": "DRofucVBPe8c"
   },
   "source": [
    "Professor: Lucas Roberto Correa\n",
    "\n",
    "Estudo de caso: Base de dados de pessoas que um banco entrou em contato para oferecer um investimento. Nessa base consta quem já aceitou e quem não aceitou fazer o investimento. \n",
    "O objetivo deste modelo é saber quem será mais propenso a aceitar a proposta e ordená-los nesse sentido."
   ]
  },
  {
   "cell_type": "markdown",
   "metadata": {
    "id": "FNvxRtVkQO1X"
   },
   "source": [
    "## Import packages"
   ]
  },
  {
   "cell_type": "code",
   "execution_count": 1,
   "metadata": {
    "id": "TEiMRv_jPBbA"
   },
   "outputs": [],
   "source": [
    "# Manipução de dados\n",
    "import pandas as pd\n",
    "\n",
    "# Visualização de dados\n",
    "import seaborn as sns\n",
    "import matplotlib.pyplot as plt\n",
    "\n",
    "# Quebra dos dados de train / test\n",
    "from sklearn.model_selection import train_test_split\n",
    "\n",
    "# Feature selection\n",
    "from sklearn.feature_selection import SelectKBest\n",
    "from sklearn.feature_selection import chi2\n",
    "from sklearn.feature_selection import RFE\n",
    "from sklearn.linear_model import LogisticRegression\n",
    "from sklearn.preprocessing import MinMaxScaler\n",
    "\n",
    "# Modelo de classificação\n",
    "from sklearn.tree import DecisionTreeClassifier\n",
    "from sklearn.ensemble import RandomForestClassifier\n",
    "from sklearn.ensemble import GradientBoostingClassifier\n",
    "\n",
    "# Validação cruzada\n",
    "from sklearn.model_selection import cross_val_score\n",
    "\n",
    "# Metricas\n",
    "from sklearn.metrics import accuracy_score\n",
    "from sklearn.metrics import roc_auc_score\n",
    "from sklearn.metrics import make_scorer\n",
    "\n",
    "from sklearn.metrics import precision_score\n",
    "from sklearn.metrics import recall_score\n",
    "from sklearn.metrics import confusion_matrix\n",
    "from sklearn.metrics import roc_curve, auc\n",
    "\n",
    "# Tuning de hiperparâmetros\n",
    "from sklearn.model_selection import GridSearchCV"
   ]
  },
  {
   "cell_type": "code",
   "execution_count": 2,
   "metadata": {
    "id": "T7zDVOK6SUB2"
   },
   "outputs": [],
   "source": [
    "# adicção de algumas configurações de visualização\n",
    "\n",
    "pd.set_option('display.max_rows', None)\n",
    "pd.set_option('display.max_columns', None)\n",
    "pd.set_option('display.width', None)\n",
    "pd.set_option('display.max_colwidth', None)"
   ]
  },
  {
   "cell_type": "code",
   "execution_count": 3,
   "metadata": {
    "id": "1ABFt9cuSYdJ"
   },
   "outputs": [],
   "source": [
    "metadados = pd.read_excel('metadata.xlsx')"
   ]
  },
  {
   "cell_type": "markdown",
   "metadata": {
    "id": "PQmKky4-TZ04"
   },
   "source": [
    "## Bases em: Kaggle"
   ]
  },
  {
   "cell_type": "code",
   "execution_count": 4,
   "metadata": {
    "colab": {
     "base_uri": "https://localhost:8080/",
     "height": 551
    },
    "executionInfo": {
     "elapsed": 4,
     "status": "ok",
     "timestamp": 1653263257527,
     "user": {
      "displayName": "Lucas Corrêa",
      "userId": "06320273670240218623"
     },
     "user_tz": 180
    },
    "id": "R07o9VgfTL3s",
    "outputId": "b904856c-bccb-4572-986b-dd30a1ce9885"
   },
   "outputs": [
    {
     "data": {
      "text/html": [
       "<div>\n",
       "<style scoped>\n",
       "    .dataframe tbody tr th:only-of-type {\n",
       "        vertical-align: middle;\n",
       "    }\n",
       "\n",
       "    .dataframe tbody tr th {\n",
       "        vertical-align: top;\n",
       "    }\n",
       "\n",
       "    .dataframe thead th {\n",
       "        text-align: right;\n",
       "    }\n",
       "</style>\n",
       "<table border=\"1\" class=\"dataframe\">\n",
       "  <thead>\n",
       "    <tr style=\"text-align: right;\">\n",
       "      <th></th>\n",
       "      <th>Feature</th>\n",
       "      <th>Feature_Type</th>\n",
       "      <th>Description</th>\n",
       "    </tr>\n",
       "  </thead>\n",
       "  <tbody>\n",
       "    <tr>\n",
       "      <th>0</th>\n",
       "      <td>age</td>\n",
       "      <td>numeric</td>\n",
       "      <td>age of a person</td>\n",
       "    </tr>\n",
       "    <tr>\n",
       "      <th>1</th>\n",
       "      <td>job</td>\n",
       "      <td>Categorical,nominal</td>\n",
       "      <td>type of job ('admin.','blue-collar','entrepreneur','housemaid','management','retired','self-employed','services','student','technician','unemployed','unknown')</td>\n",
       "    </tr>\n",
       "    <tr>\n",
       "      <th>2</th>\n",
       "      <td>marital</td>\n",
       "      <td>categorical,nominal</td>\n",
       "      <td>marital status ('divorced','married','single','unknown'; note: 'divorced' means divorced or widowed)</td>\n",
       "    </tr>\n",
       "    <tr>\n",
       "      <th>3</th>\n",
       "      <td>education</td>\n",
       "      <td>categorical,nominal</td>\n",
       "      <td>('basic.4y','basic.6y','basic.9y','high.school','illiterate','professional.course','university.degree','unknown')</td>\n",
       "    </tr>\n",
       "    <tr>\n",
       "      <th>4</th>\n",
       "      <td>default</td>\n",
       "      <td>categorical,nominal</td>\n",
       "      <td>has credit in default? ('no','yes','unknown')</td>\n",
       "    </tr>\n",
       "    <tr>\n",
       "      <th>5</th>\n",
       "      <td>housing</td>\n",
       "      <td>categorical,nominal</td>\n",
       "      <td>has housing loan? ('no','yes','unknown')</td>\n",
       "    </tr>\n",
       "    <tr>\n",
       "      <th>6</th>\n",
       "      <td>loan</td>\n",
       "      <td>categorical,nominal</td>\n",
       "      <td>has personal loan? ('no','yes','unknown')</td>\n",
       "    </tr>\n",
       "    <tr>\n",
       "      <th>7</th>\n",
       "      <td>contact</td>\n",
       "      <td>categorical,nominal</td>\n",
       "      <td>contact communication type ('cellular','telephone')</td>\n",
       "    </tr>\n",
       "    <tr>\n",
       "      <th>8</th>\n",
       "      <td>month</td>\n",
       "      <td>categorical,ordinal</td>\n",
       "      <td>last contact month of year ('jan', 'feb', 'mar', …, 'nov', 'dec')</td>\n",
       "    </tr>\n",
       "    <tr>\n",
       "      <th>9</th>\n",
       "      <td>dayofweek</td>\n",
       "      <td>categorical,ordinal</td>\n",
       "      <td>last contact day of the week ('mon','tue','wed','thu','fri')</td>\n",
       "    </tr>\n",
       "    <tr>\n",
       "      <th>10</th>\n",
       "      <td>duration</td>\n",
       "      <td>numeric</td>\n",
       "      <td>last contact duration, in seconds . Important note: this attribute highly affects the output target (e.g., if duration=0 then y='no')</td>\n",
       "    </tr>\n",
       "    <tr>\n",
       "      <th>11</th>\n",
       "      <td>campaign</td>\n",
       "      <td>numeric</td>\n",
       "      <td>number of contacts performed during this campaign and for this client (includes last contact)</td>\n",
       "    </tr>\n",
       "    <tr>\n",
       "      <th>12</th>\n",
       "      <td>pdays</td>\n",
       "      <td>numeric</td>\n",
       "      <td>number of days that passed by after the client was last contacted from a previous campaign (999 means client was not previously contacted)</td>\n",
       "    </tr>\n",
       "    <tr>\n",
       "      <th>13</th>\n",
       "      <td>previous</td>\n",
       "      <td>numeric</td>\n",
       "      <td>number of contacts performed before this campaign and for this client</td>\n",
       "    </tr>\n",
       "    <tr>\n",
       "      <th>14</th>\n",
       "      <td>poutcome</td>\n",
       "      <td>categorical,nominal</td>\n",
       "      <td>outcome of the previous marketing campaign ('failure','nonexistent','success')</td>\n",
       "    </tr>\n",
       "    <tr>\n",
       "      <th>15</th>\n",
       "      <td>y</td>\n",
       "      <td>binary</td>\n",
       "      <td>has the client subscribed a term deposit? ('yes','no')</td>\n",
       "    </tr>\n",
       "  </tbody>\n",
       "</table>\n",
       "</div>"
      ],
      "text/plain": [
       "      Feature         Feature_Type  \\\n",
       "0         age              numeric   \n",
       "1         job  Categorical,nominal   \n",
       "2     marital  categorical,nominal   \n",
       "3   education  categorical,nominal   \n",
       "4     default  categorical,nominal   \n",
       "5     housing  categorical,nominal   \n",
       "6        loan  categorical,nominal   \n",
       "7     contact  categorical,nominal   \n",
       "8       month  categorical,ordinal   \n",
       "9   dayofweek  categorical,ordinal   \n",
       "10   duration              numeric   \n",
       "11   campaign              numeric   \n",
       "12      pdays              numeric   \n",
       "13   previous              numeric   \n",
       "14   poutcome  categorical,nominal   \n",
       "15          y               binary   \n",
       "\n",
       "                                                                                                                                                        Description  \n",
       "0                                                                                                                                                   age of a person  \n",
       "1   type of job ('admin.','blue-collar','entrepreneur','housemaid','management','retired','self-employed','services','student','technician','unemployed','unknown')  \n",
       "2                                                              marital status ('divorced','married','single','unknown'; note: 'divorced' means divorced or widowed)  \n",
       "3                                                 ('basic.4y','basic.6y','basic.9y','high.school','illiterate','professional.course','university.degree','unknown')  \n",
       "4                                                                                                                     has credit in default? ('no','yes','unknown')  \n",
       "5                                                                                                                          has housing loan? ('no','yes','unknown')  \n",
       "6                                                                                                                         has personal loan? ('no','yes','unknown')  \n",
       "7                                                                                                               contact communication type ('cellular','telephone')  \n",
       "8                                                                                                 last contact month of year ('jan', 'feb', 'mar', …, 'nov', 'dec')  \n",
       "9                                                                                                      last contact day of the week ('mon','tue','wed','thu','fri')  \n",
       "10                            last contact duration, in seconds . Important note: this attribute highly affects the output target (e.g., if duration=0 then y='no')  \n",
       "11                                                                    number of contacts performed during this campaign and for this client (includes last contact)  \n",
       "12                       number of days that passed by after the client was last contacted from a previous campaign (999 means client was not previously contacted)  \n",
       "13                                                                                            number of contacts performed before this campaign and for this client  \n",
       "14                                                                                   outcome of the previous marketing campaign ('failure','nonexistent','success')  \n",
       "15                                                                                                           has the client subscribed a term deposit? ('yes','no')  "
      ]
     },
     "execution_count": 4,
     "metadata": {},
     "output_type": "execute_result"
    }
   ],
   "source": [
    "metadados"
   ]
  },
  {
   "cell_type": "code",
   "execution_count": 5,
   "metadata": {
    "id": "wbtvVTmcTNW1"
   },
   "outputs": [],
   "source": [
    "df = pd.read_csv('new_train.csv', sep=',')"
   ]
  },
  {
   "cell_type": "code",
   "execution_count": 6,
   "metadata": {
    "colab": {
     "base_uri": "https://localhost:8080/",
     "height": 206
    },
    "executionInfo": {
     "elapsed": 11,
     "status": "ok",
     "timestamp": 1653263257933,
     "user": {
      "displayName": "Lucas Corrêa",
      "userId": "06320273670240218623"
     },
     "user_tz": 180
    },
    "id": "WmAx1insU_UO",
    "outputId": "d6923eba-5c38-4450-9560-c6f61c4765d9"
   },
   "outputs": [
    {
     "data": {
      "text/html": [
       "<div>\n",
       "<style scoped>\n",
       "    .dataframe tbody tr th:only-of-type {\n",
       "        vertical-align: middle;\n",
       "    }\n",
       "\n",
       "    .dataframe tbody tr th {\n",
       "        vertical-align: top;\n",
       "    }\n",
       "\n",
       "    .dataframe thead th {\n",
       "        text-align: right;\n",
       "    }\n",
       "</style>\n",
       "<table border=\"1\" class=\"dataframe\">\n",
       "  <thead>\n",
       "    <tr style=\"text-align: right;\">\n",
       "      <th></th>\n",
       "      <th>age</th>\n",
       "      <th>job</th>\n",
       "      <th>marital</th>\n",
       "      <th>education</th>\n",
       "      <th>default</th>\n",
       "      <th>housing</th>\n",
       "      <th>loan</th>\n",
       "      <th>contact</th>\n",
       "      <th>month</th>\n",
       "      <th>day_of_week</th>\n",
       "      <th>duration</th>\n",
       "      <th>campaign</th>\n",
       "      <th>pdays</th>\n",
       "      <th>previous</th>\n",
       "      <th>poutcome</th>\n",
       "      <th>y</th>\n",
       "    </tr>\n",
       "  </thead>\n",
       "  <tbody>\n",
       "    <tr>\n",
       "      <th>0</th>\n",
       "      <td>49</td>\n",
       "      <td>blue-collar</td>\n",
       "      <td>married</td>\n",
       "      <td>basic.9y</td>\n",
       "      <td>unknown</td>\n",
       "      <td>no</td>\n",
       "      <td>no</td>\n",
       "      <td>cellular</td>\n",
       "      <td>nov</td>\n",
       "      <td>wed</td>\n",
       "      <td>227</td>\n",
       "      <td>4</td>\n",
       "      <td>999</td>\n",
       "      <td>0</td>\n",
       "      <td>nonexistent</td>\n",
       "      <td>no</td>\n",
       "    </tr>\n",
       "    <tr>\n",
       "      <th>1</th>\n",
       "      <td>37</td>\n",
       "      <td>entrepreneur</td>\n",
       "      <td>married</td>\n",
       "      <td>university.degree</td>\n",
       "      <td>no</td>\n",
       "      <td>no</td>\n",
       "      <td>no</td>\n",
       "      <td>telephone</td>\n",
       "      <td>nov</td>\n",
       "      <td>wed</td>\n",
       "      <td>202</td>\n",
       "      <td>2</td>\n",
       "      <td>999</td>\n",
       "      <td>1</td>\n",
       "      <td>failure</td>\n",
       "      <td>no</td>\n",
       "    </tr>\n",
       "    <tr>\n",
       "      <th>2</th>\n",
       "      <td>78</td>\n",
       "      <td>retired</td>\n",
       "      <td>married</td>\n",
       "      <td>basic.4y</td>\n",
       "      <td>no</td>\n",
       "      <td>no</td>\n",
       "      <td>no</td>\n",
       "      <td>cellular</td>\n",
       "      <td>jul</td>\n",
       "      <td>mon</td>\n",
       "      <td>1148</td>\n",
       "      <td>1</td>\n",
       "      <td>999</td>\n",
       "      <td>0</td>\n",
       "      <td>nonexistent</td>\n",
       "      <td>yes</td>\n",
       "    </tr>\n",
       "    <tr>\n",
       "      <th>3</th>\n",
       "      <td>36</td>\n",
       "      <td>admin.</td>\n",
       "      <td>married</td>\n",
       "      <td>university.degree</td>\n",
       "      <td>no</td>\n",
       "      <td>yes</td>\n",
       "      <td>no</td>\n",
       "      <td>telephone</td>\n",
       "      <td>may</td>\n",
       "      <td>mon</td>\n",
       "      <td>120</td>\n",
       "      <td>2</td>\n",
       "      <td>999</td>\n",
       "      <td>0</td>\n",
       "      <td>nonexistent</td>\n",
       "      <td>no</td>\n",
       "    </tr>\n",
       "    <tr>\n",
       "      <th>4</th>\n",
       "      <td>59</td>\n",
       "      <td>retired</td>\n",
       "      <td>divorced</td>\n",
       "      <td>university.degree</td>\n",
       "      <td>no</td>\n",
       "      <td>no</td>\n",
       "      <td>no</td>\n",
       "      <td>cellular</td>\n",
       "      <td>jun</td>\n",
       "      <td>tue</td>\n",
       "      <td>368</td>\n",
       "      <td>2</td>\n",
       "      <td>999</td>\n",
       "      <td>0</td>\n",
       "      <td>nonexistent</td>\n",
       "      <td>no</td>\n",
       "    </tr>\n",
       "  </tbody>\n",
       "</table>\n",
       "</div>"
      ],
      "text/plain": [
       "   age           job   marital          education  default housing loan  \\\n",
       "0   49   blue-collar   married           basic.9y  unknown      no   no   \n",
       "1   37  entrepreneur   married  university.degree       no      no   no   \n",
       "2   78       retired   married           basic.4y       no      no   no   \n",
       "3   36        admin.   married  university.degree       no     yes   no   \n",
       "4   59       retired  divorced  university.degree       no      no   no   \n",
       "\n",
       "     contact month day_of_week  duration  campaign  pdays  previous  \\\n",
       "0   cellular   nov         wed       227         4    999         0   \n",
       "1  telephone   nov         wed       202         2    999         1   \n",
       "2   cellular   jul         mon      1148         1    999         0   \n",
       "3  telephone   may         mon       120         2    999         0   \n",
       "4   cellular   jun         tue       368         2    999         0   \n",
       "\n",
       "      poutcome    y  \n",
       "0  nonexistent   no  \n",
       "1      failure   no  \n",
       "2  nonexistent  yes  \n",
       "3  nonexistent   no  \n",
       "4  nonexistent   no  "
      ]
     },
     "execution_count": 6,
     "metadata": {},
     "output_type": "execute_result"
    }
   ],
   "source": [
    "df.head()"
   ]
  },
  {
   "cell_type": "code",
   "execution_count": 7,
   "metadata": {
    "colab": {
     "base_uri": "https://localhost:8080/"
    },
    "executionInfo": {
     "elapsed": 10,
     "status": "ok",
     "timestamp": 1653263257933,
     "user": {
      "displayName": "Lucas Corrêa",
      "userId": "06320273670240218623"
     },
     "user_tz": 180
    },
    "id": "sUpI9XreVBRv",
    "outputId": "9fd3dcae-4d73-4539-ca7a-731a4fa56bb4"
   },
   "outputs": [
    {
     "name": "stdout",
     "output_type": "stream",
     "text": [
      "<class 'pandas.core.frame.DataFrame'>\n",
      "RangeIndex: 32950 entries, 0 to 32949\n",
      "Data columns (total 16 columns):\n",
      " #   Column       Non-Null Count  Dtype \n",
      "---  ------       --------------  ----- \n",
      " 0   age          32950 non-null  int64 \n",
      " 1   job          32950 non-null  object\n",
      " 2   marital      32950 non-null  object\n",
      " 3   education    32950 non-null  object\n",
      " 4   default      32950 non-null  object\n",
      " 5   housing      32950 non-null  object\n",
      " 6   loan         32950 non-null  object\n",
      " 7   contact      32950 non-null  object\n",
      " 8   month        32950 non-null  object\n",
      " 9   day_of_week  32950 non-null  object\n",
      " 10  duration     32950 non-null  int64 \n",
      " 11  campaign     32950 non-null  int64 \n",
      " 12  pdays        32950 non-null  int64 \n",
      " 13  previous     32950 non-null  int64 \n",
      " 14  poutcome     32950 non-null  object\n",
      " 15  y            32950 non-null  object\n",
      "dtypes: int64(5), object(11)\n",
      "memory usage: 4.0+ MB\n"
     ]
    }
   ],
   "source": [
    "df.info()"
   ]
  },
  {
   "cell_type": "code",
   "execution_count": 8,
   "metadata": {
    "colab": {
     "base_uri": "https://localhost:8080/",
     "height": 206
    },
    "executionInfo": {
     "elapsed": 8,
     "status": "ok",
     "timestamp": 1653263257933,
     "user": {
      "displayName": "Lucas Corrêa",
      "userId": "06320273670240218623"
     },
     "user_tz": 180
    },
    "id": "y0cbSnQQVRvr",
    "outputId": "6aab1786-8dae-4bb6-fa31-446e47be951c"
   },
   "outputs": [
    {
     "data": {
      "text/html": [
       "<div>\n",
       "<style scoped>\n",
       "    .dataframe tbody tr th:only-of-type {\n",
       "        vertical-align: middle;\n",
       "    }\n",
       "\n",
       "    .dataframe tbody tr th {\n",
       "        vertical-align: top;\n",
       "    }\n",
       "\n",
       "    .dataframe thead th {\n",
       "        text-align: right;\n",
       "    }\n",
       "</style>\n",
       "<table border=\"1\" class=\"dataframe\">\n",
       "  <thead>\n",
       "    <tr style=\"text-align: right;\">\n",
       "      <th></th>\n",
       "      <th>age</th>\n",
       "      <th>duration</th>\n",
       "      <th>campaign</th>\n",
       "      <th>pdays</th>\n",
       "      <th>previous</th>\n",
       "    </tr>\n",
       "  </thead>\n",
       "  <tbody>\n",
       "    <tr>\n",
       "      <th>age</th>\n",
       "      <td>1.000000</td>\n",
       "      <td>-0.001841</td>\n",
       "      <td>0.003302</td>\n",
       "      <td>-0.032011</td>\n",
       "      <td>0.020670</td>\n",
       "    </tr>\n",
       "    <tr>\n",
       "      <th>duration</th>\n",
       "      <td>-0.001841</td>\n",
       "      <td>1.000000</td>\n",
       "      <td>-0.075663</td>\n",
       "      <td>-0.047127</td>\n",
       "      <td>0.022538</td>\n",
       "    </tr>\n",
       "    <tr>\n",
       "      <th>campaign</th>\n",
       "      <td>0.003302</td>\n",
       "      <td>-0.075663</td>\n",
       "      <td>1.000000</td>\n",
       "      <td>0.053795</td>\n",
       "      <td>-0.079051</td>\n",
       "    </tr>\n",
       "    <tr>\n",
       "      <th>pdays</th>\n",
       "      <td>-0.032011</td>\n",
       "      <td>-0.047127</td>\n",
       "      <td>0.053795</td>\n",
       "      <td>1.000000</td>\n",
       "      <td>-0.589601</td>\n",
       "    </tr>\n",
       "    <tr>\n",
       "      <th>previous</th>\n",
       "      <td>0.020670</td>\n",
       "      <td>0.022538</td>\n",
       "      <td>-0.079051</td>\n",
       "      <td>-0.589601</td>\n",
       "      <td>1.000000</td>\n",
       "    </tr>\n",
       "  </tbody>\n",
       "</table>\n",
       "</div>"
      ],
      "text/plain": [
       "               age  duration  campaign     pdays  previous\n",
       "age       1.000000 -0.001841  0.003302 -0.032011  0.020670\n",
       "duration -0.001841  1.000000 -0.075663 -0.047127  0.022538\n",
       "campaign  0.003302 -0.075663  1.000000  0.053795 -0.079051\n",
       "pdays    -0.032011 -0.047127  0.053795  1.000000 -0.589601\n",
       "previous  0.020670  0.022538 -0.079051 -0.589601  1.000000"
      ]
     },
     "execution_count": 8,
     "metadata": {},
     "output_type": "execute_result"
    }
   ],
   "source": [
    "df.corr()"
   ]
  },
  {
   "cell_type": "code",
   "execution_count": 9,
   "metadata": {
    "colab": {
     "base_uri": "https://localhost:8080/"
    },
    "executionInfo": {
     "elapsed": 9,
     "status": "ok",
     "timestamp": 1653263257934,
     "user": {
      "displayName": "Lucas Corrêa",
      "userId": "06320273670240218623"
     },
     "user_tz": 180
    },
    "id": "Fo1akARAVYol",
    "outputId": "6b29b5e3-754f-4ec4-e627-9fa6f66bacd1"
   },
   "outputs": [
    {
     "data": {
      "text/plain": [
       "nonexistent    28416\n",
       "failure         3429\n",
       "success         1105\n",
       "Name: poutcome, dtype: int64"
      ]
     },
     "execution_count": 9,
     "metadata": {},
     "output_type": "execute_result"
    }
   ],
   "source": [
    "df['poutcome'].value_counts()"
   ]
  },
  {
   "cell_type": "markdown",
   "metadata": {
    "id": "U8bFX4yXV5N-"
   },
   "source": [
    "## Criar uma nova variavel para a modelagem com base em poutcome e previous"
   ]
  },
  {
   "cell_type": "code",
   "execution_count": 10,
   "metadata": {
    "id": "4L-rzwfUVs7v"
   },
   "outputs": [],
   "source": [
    "df['difficulty'] = -1 # para tudo que for desconhecido\n",
    "\n",
    "# procurar se df['poutcome'] for igual a 'success' e df['previous'] estiver entre (0,1) que significa pouco contato,\n",
    "# df['difficulty'] receberá o valor 0.\n",
    "\n",
    "df.loc[(df['poutcome'] == 'success') & (df['previous'].between(0,1)), 'difficulty'] = 0 # facil\n",
    "df.loc[(df['poutcome'] == 'success') & (df['previous'].between(2,4)), 'difficulty'] = 1 # médio\n",
    "df.loc[(df['poutcome'] == 'success') & (df['previous'].between(5,7)), 'difficulty'] = 2 # dificil\n",
    "df.loc[(df['poutcome'] == 'nonexistent') & (df['previous'] > 7), 'difficulty'] = 3 # muito dificil\n",
    "df.loc[(df['poutcome'] == 'failure'), 'difficulty'] = 4 # impossivel"
   ]
  },
  {
   "cell_type": "code",
   "execution_count": 11,
   "metadata": {
    "colab": {
     "base_uri": "https://localhost:8080/"
    },
    "executionInfo": {
     "elapsed": 8,
     "status": "ok",
     "timestamp": 1653263257935,
     "user": {
      "displayName": "Lucas Corrêa",
      "userId": "06320273670240218623"
     },
     "user_tz": 180
    },
    "id": "uTipoiZxX7Ju",
    "outputId": "3e8dae27-7f1e-4a19-8f19-9f7a1cca0a60"
   },
   "outputs": [
    {
     "data": {
      "text/plain": [
       "-1    28416\n",
       " 4     3429\n",
       " 0      697\n",
       " 1      391\n",
       " 2       17\n",
       "Name: difficulty, dtype: int64"
      ]
     },
     "execution_count": 11,
     "metadata": {},
     "output_type": "execute_result"
    }
   ],
   "source": [
    "df['difficulty'].value_counts()"
   ]
  },
  {
   "cell_type": "markdown",
   "metadata": {
    "id": "7YHrU2mlY78t"
   },
   "source": [
    "## ABT - Analytical Base Table"
   ]
  },
  {
   "cell_type": "code",
   "execution_count": 12,
   "metadata": {
    "colab": {
     "base_uri": "https://localhost:8080/"
    },
    "executionInfo": {
     "elapsed": 263,
     "status": "ok",
     "timestamp": 1653263258191,
     "user": {
      "displayName": "Lucas Corrêa",
      "userId": "06320273670240218623"
     },
     "user_tz": 180
    },
    "id": "aP5xxk0IYBpG",
    "outputId": "820c38c7-b6e5-4a38-af87-696e0ac4f459"
   },
   "outputs": [
    {
     "data": {
      "text/plain": [
       "Index(['age', 'job', 'marital', 'education', 'default', 'housing', 'loan',\n",
       "       'contact', 'month', 'day_of_week', 'duration', 'campaign', 'pdays',\n",
       "       'previous', 'poutcome', 'y', 'difficulty'],\n",
       "      dtype='object')"
      ]
     },
     "execution_count": 12,
     "metadata": {},
     "output_type": "execute_result"
    }
   ],
   "source": [
    "df.columns"
   ]
  },
  {
   "cell_type": "code",
   "execution_count": 13,
   "metadata": {
    "colab": {
     "base_uri": "https://localhost:8080/"
    },
    "executionInfo": {
     "elapsed": 12,
     "status": "ok",
     "timestamp": 1653263258193,
     "user": {
      "displayName": "Lucas Corrêa",
      "userId": "06320273670240218623"
     },
     "user_tz": 180
    },
    "id": "FR-jevYcY_-h",
    "outputId": "36c22895-542f-4f30-ea76-abf5d3823588"
   },
   "outputs": [
    {
     "data": {
      "text/plain": [
       "age            0\n",
       "job            0\n",
       "marital        0\n",
       "education      0\n",
       "default        0\n",
       "housing        0\n",
       "loan           0\n",
       "contact        0\n",
       "month          0\n",
       "day_of_week    0\n",
       "duration       0\n",
       "campaign       0\n",
       "pdays          0\n",
       "previous       0\n",
       "poutcome       0\n",
       "y              0\n",
       "difficulty     0\n",
       "dtype: int64"
      ]
     },
     "execution_count": 13,
     "metadata": {},
     "output_type": "execute_result"
    }
   ],
   "source": [
    "df.isnull().sum()"
   ]
  },
  {
   "cell_type": "code",
   "execution_count": 14,
   "metadata": {
    "colab": {
     "base_uri": "https://localhost:8080/"
    },
    "executionInfo": {
     "elapsed": 11,
     "status": "ok",
     "timestamp": 1653263258193,
     "user": {
      "displayName": "Lucas Corrêa",
      "userId": "06320273670240218623"
     },
     "user_tz": 180
    },
    "id": "Gkvervu3ZJAN",
    "outputId": "51c0c077-d565-42ad-a100-6bb52fa863b3"
   },
   "outputs": [
    {
     "data": {
      "text/plain": [
       "age             int64\n",
       "job            object\n",
       "marital        object\n",
       "education      object\n",
       "default        object\n",
       "housing        object\n",
       "loan           object\n",
       "contact        object\n",
       "month          object\n",
       "day_of_week    object\n",
       "duration        int64\n",
       "campaign        int64\n",
       "pdays           int64\n",
       "previous        int64\n",
       "poutcome       object\n",
       "y              object\n",
       "difficulty      int64\n",
       "dtype: object"
      ]
     },
     "execution_count": 14,
     "metadata": {},
     "output_type": "execute_result"
    }
   ],
   "source": [
    "df.dtypes"
   ]
  },
  {
   "cell_type": "markdown",
   "metadata": {
    "id": "AR8XSNr-ZS4d"
   },
   "source": [
    "## Separar da Var resposta das variáveis explicativas"
   ]
  },
  {
   "cell_type": "code",
   "execution_count": 15,
   "metadata": {
    "id": "rlBgkkI_ZNBd"
   },
   "outputs": [],
   "source": [
    "explicativas = df.drop(columns=['y'])"
   ]
  },
  {
   "cell_type": "code",
   "execution_count": 16,
   "metadata": {
    "colab": {
     "base_uri": "https://localhost:8080/",
     "height": 206
    },
    "executionInfo": {
     "elapsed": 9,
     "status": "ok",
     "timestamp": 1653263258193,
     "user": {
      "displayName": "Lucas Corrêa",
      "userId": "06320273670240218623"
     },
     "user_tz": 180
    },
    "id": "SWw0CzJzZqdZ",
    "outputId": "0f3dc062-92d0-494b-c82d-b5e0dd834ba2"
   },
   "outputs": [
    {
     "data": {
      "text/html": [
       "<div>\n",
       "<style scoped>\n",
       "    .dataframe tbody tr th:only-of-type {\n",
       "        vertical-align: middle;\n",
       "    }\n",
       "\n",
       "    .dataframe tbody tr th {\n",
       "        vertical-align: top;\n",
       "    }\n",
       "\n",
       "    .dataframe thead th {\n",
       "        text-align: right;\n",
       "    }\n",
       "</style>\n",
       "<table border=\"1\" class=\"dataframe\">\n",
       "  <thead>\n",
       "    <tr style=\"text-align: right;\">\n",
       "      <th></th>\n",
       "      <th>age</th>\n",
       "      <th>job</th>\n",
       "      <th>marital</th>\n",
       "      <th>education</th>\n",
       "      <th>default</th>\n",
       "      <th>housing</th>\n",
       "      <th>loan</th>\n",
       "      <th>contact</th>\n",
       "      <th>month</th>\n",
       "      <th>day_of_week</th>\n",
       "      <th>duration</th>\n",
       "      <th>campaign</th>\n",
       "      <th>pdays</th>\n",
       "      <th>previous</th>\n",
       "      <th>poutcome</th>\n",
       "      <th>difficulty</th>\n",
       "    </tr>\n",
       "  </thead>\n",
       "  <tbody>\n",
       "    <tr>\n",
       "      <th>32945</th>\n",
       "      <td>28</td>\n",
       "      <td>services</td>\n",
       "      <td>single</td>\n",
       "      <td>high.school</td>\n",
       "      <td>no</td>\n",
       "      <td>yes</td>\n",
       "      <td>no</td>\n",
       "      <td>cellular</td>\n",
       "      <td>jul</td>\n",
       "      <td>tue</td>\n",
       "      <td>192</td>\n",
       "      <td>1</td>\n",
       "      <td>999</td>\n",
       "      <td>0</td>\n",
       "      <td>nonexistent</td>\n",
       "      <td>-1</td>\n",
       "    </tr>\n",
       "    <tr>\n",
       "      <th>32946</th>\n",
       "      <td>52</td>\n",
       "      <td>technician</td>\n",
       "      <td>married</td>\n",
       "      <td>professional.course</td>\n",
       "      <td>no</td>\n",
       "      <td>yes</td>\n",
       "      <td>no</td>\n",
       "      <td>cellular</td>\n",
       "      <td>nov</td>\n",
       "      <td>fri</td>\n",
       "      <td>64</td>\n",
       "      <td>1</td>\n",
       "      <td>999</td>\n",
       "      <td>1</td>\n",
       "      <td>failure</td>\n",
       "      <td>4</td>\n",
       "    </tr>\n",
       "    <tr>\n",
       "      <th>32947</th>\n",
       "      <td>54</td>\n",
       "      <td>admin.</td>\n",
       "      <td>married</td>\n",
       "      <td>basic.9y</td>\n",
       "      <td>no</td>\n",
       "      <td>no</td>\n",
       "      <td>yes</td>\n",
       "      <td>cellular</td>\n",
       "      <td>jul</td>\n",
       "      <td>mon</td>\n",
       "      <td>131</td>\n",
       "      <td>4</td>\n",
       "      <td>999</td>\n",
       "      <td>0</td>\n",
       "      <td>nonexistent</td>\n",
       "      <td>-1</td>\n",
       "    </tr>\n",
       "    <tr>\n",
       "      <th>32948</th>\n",
       "      <td>29</td>\n",
       "      <td>admin.</td>\n",
       "      <td>married</td>\n",
       "      <td>university.degree</td>\n",
       "      <td>no</td>\n",
       "      <td>no</td>\n",
       "      <td>no</td>\n",
       "      <td>telephone</td>\n",
       "      <td>may</td>\n",
       "      <td>fri</td>\n",
       "      <td>165</td>\n",
       "      <td>1</td>\n",
       "      <td>999</td>\n",
       "      <td>0</td>\n",
       "      <td>nonexistent</td>\n",
       "      <td>-1</td>\n",
       "    </tr>\n",
       "    <tr>\n",
       "      <th>32949</th>\n",
       "      <td>35</td>\n",
       "      <td>admin.</td>\n",
       "      <td>married</td>\n",
       "      <td>university.degree</td>\n",
       "      <td>no</td>\n",
       "      <td>no</td>\n",
       "      <td>yes</td>\n",
       "      <td>telephone</td>\n",
       "      <td>jun</td>\n",
       "      <td>tue</td>\n",
       "      <td>544</td>\n",
       "      <td>3</td>\n",
       "      <td>999</td>\n",
       "      <td>0</td>\n",
       "      <td>nonexistent</td>\n",
       "      <td>-1</td>\n",
       "    </tr>\n",
       "  </tbody>\n",
       "</table>\n",
       "</div>"
      ],
      "text/plain": [
       "       age         job  marital            education default housing loan  \\\n",
       "32945   28    services   single          high.school      no     yes   no   \n",
       "32946   52  technician  married  professional.course      no     yes   no   \n",
       "32947   54      admin.  married             basic.9y      no      no  yes   \n",
       "32948   29      admin.  married    university.degree      no      no   no   \n",
       "32949   35      admin.  married    university.degree      no      no  yes   \n",
       "\n",
       "         contact month day_of_week  duration  campaign  pdays  previous  \\\n",
       "32945   cellular   jul         tue       192         1    999         0   \n",
       "32946   cellular   nov         fri        64         1    999         1   \n",
       "32947   cellular   jul         mon       131         4    999         0   \n",
       "32948  telephone   may         fri       165         1    999         0   \n",
       "32949  telephone   jun         tue       544         3    999         0   \n",
       "\n",
       "          poutcome  difficulty  \n",
       "32945  nonexistent          -1  \n",
       "32946      failure           4  \n",
       "32947  nonexistent          -1  \n",
       "32948  nonexistent          -1  \n",
       "32949  nonexistent          -1  "
      ]
     },
     "execution_count": 16,
     "metadata": {},
     "output_type": "execute_result"
    }
   ],
   "source": [
    "explicativas.tail()"
   ]
  },
  {
   "cell_type": "markdown",
   "metadata": {
    "id": "5WNpkV5KZwQR"
   },
   "source": [
    "## Tratar a nossa variável resp"
   ]
  },
  {
   "cell_type": "code",
   "execution_count": 17,
   "metadata": {
    "colab": {
     "base_uri": "https://localhost:8080/"
    },
    "executionInfo": {
     "elapsed": 10,
     "status": "ok",
     "timestamp": 1653263258194,
     "user": {
      "displayName": "Lucas Corrêa",
      "userId": "06320273670240218623"
     },
     "user_tz": 180
    },
    "id": "PWdJoz7BZtJS",
    "outputId": "ecce9d7b-50de-45a7-edee-1cf23829308f"
   },
   "outputs": [
    {
     "data": {
      "text/plain": [
       "no     29238\n",
       "yes     3712\n",
       "Name: y, dtype: int64"
      ]
     },
     "execution_count": 17,
     "metadata": {},
     "output_type": "execute_result"
    }
   ],
   "source": [
    "var_resp = df['y']\n",
    "var_resp.value_counts()"
   ]
  },
  {
   "cell_type": "code",
   "execution_count": 18,
   "metadata": {
    "id": "FbNEAp91Z0Ms"
   },
   "outputs": [],
   "source": [
    "var_resp = var_resp.replace('no', 0)\n",
    "var_resp = var_resp.replace('yes', 1)"
   ]
  },
  {
   "cell_type": "code",
   "execution_count": 19,
   "metadata": {
    "colab": {
     "base_uri": "https://localhost:8080/"
    },
    "executionInfo": {
     "elapsed": 5,
     "status": "ok",
     "timestamp": 1653263258449,
     "user": {
      "displayName": "Lucas Corrêa",
      "userId": "06320273670240218623"
     },
     "user_tz": 180
    },
    "id": "TbAPUyTaaOqh",
    "outputId": "c5fafa9c-b41a-49af-d806-7122a2ddd1d4"
   },
   "outputs": [
    {
     "data": {
      "text/plain": [
       "0    29238\n",
       "1     3712\n",
       "Name: y, dtype: int64"
      ]
     },
     "execution_count": 19,
     "metadata": {},
     "output_type": "execute_result"
    }
   ],
   "source": [
    "var_resp.value_counts()"
   ]
  },
  {
   "cell_type": "code",
   "execution_count": 20,
   "metadata": {
    "colab": {
     "base_uri": "https://localhost:8080/",
     "height": 206
    },
    "executionInfo": {
     "elapsed": 4,
     "status": "ok",
     "timestamp": 1653263258449,
     "user": {
      "displayName": "Lucas Corrêa",
      "userId": "06320273670240218623"
     },
     "user_tz": 180
    },
    "id": "lVD_1daxaRyD",
    "outputId": "fc0e8738-87ef-4084-e968-e932124410da"
   },
   "outputs": [
    {
     "data": {
      "text/html": [
       "<div>\n",
       "<style scoped>\n",
       "    .dataframe tbody tr th:only-of-type {\n",
       "        vertical-align: middle;\n",
       "    }\n",
       "\n",
       "    .dataframe tbody tr th {\n",
       "        vertical-align: top;\n",
       "    }\n",
       "\n",
       "    .dataframe thead th {\n",
       "        text-align: right;\n",
       "    }\n",
       "</style>\n",
       "<table border=\"1\" class=\"dataframe\">\n",
       "  <thead>\n",
       "    <tr style=\"text-align: right;\">\n",
       "      <th></th>\n",
       "      <th>age</th>\n",
       "      <th>job</th>\n",
       "      <th>marital</th>\n",
       "      <th>education</th>\n",
       "      <th>default</th>\n",
       "      <th>housing</th>\n",
       "      <th>loan</th>\n",
       "      <th>contact</th>\n",
       "      <th>month</th>\n",
       "      <th>day_of_week</th>\n",
       "      <th>duration</th>\n",
       "      <th>campaign</th>\n",
       "      <th>pdays</th>\n",
       "      <th>previous</th>\n",
       "      <th>poutcome</th>\n",
       "      <th>difficulty</th>\n",
       "    </tr>\n",
       "  </thead>\n",
       "  <tbody>\n",
       "    <tr>\n",
       "      <th>0</th>\n",
       "      <td>49</td>\n",
       "      <td>blue-collar</td>\n",
       "      <td>married</td>\n",
       "      <td>basic.9y</td>\n",
       "      <td>unknown</td>\n",
       "      <td>no</td>\n",
       "      <td>no</td>\n",
       "      <td>cellular</td>\n",
       "      <td>nov</td>\n",
       "      <td>wed</td>\n",
       "      <td>227</td>\n",
       "      <td>4</td>\n",
       "      <td>999</td>\n",
       "      <td>0</td>\n",
       "      <td>nonexistent</td>\n",
       "      <td>-1</td>\n",
       "    </tr>\n",
       "    <tr>\n",
       "      <th>1</th>\n",
       "      <td>37</td>\n",
       "      <td>entrepreneur</td>\n",
       "      <td>married</td>\n",
       "      <td>university.degree</td>\n",
       "      <td>no</td>\n",
       "      <td>no</td>\n",
       "      <td>no</td>\n",
       "      <td>telephone</td>\n",
       "      <td>nov</td>\n",
       "      <td>wed</td>\n",
       "      <td>202</td>\n",
       "      <td>2</td>\n",
       "      <td>999</td>\n",
       "      <td>1</td>\n",
       "      <td>failure</td>\n",
       "      <td>4</td>\n",
       "    </tr>\n",
       "    <tr>\n",
       "      <th>2</th>\n",
       "      <td>78</td>\n",
       "      <td>retired</td>\n",
       "      <td>married</td>\n",
       "      <td>basic.4y</td>\n",
       "      <td>no</td>\n",
       "      <td>no</td>\n",
       "      <td>no</td>\n",
       "      <td>cellular</td>\n",
       "      <td>jul</td>\n",
       "      <td>mon</td>\n",
       "      <td>1148</td>\n",
       "      <td>1</td>\n",
       "      <td>999</td>\n",
       "      <td>0</td>\n",
       "      <td>nonexistent</td>\n",
       "      <td>-1</td>\n",
       "    </tr>\n",
       "    <tr>\n",
       "      <th>3</th>\n",
       "      <td>36</td>\n",
       "      <td>admin.</td>\n",
       "      <td>married</td>\n",
       "      <td>university.degree</td>\n",
       "      <td>no</td>\n",
       "      <td>yes</td>\n",
       "      <td>no</td>\n",
       "      <td>telephone</td>\n",
       "      <td>may</td>\n",
       "      <td>mon</td>\n",
       "      <td>120</td>\n",
       "      <td>2</td>\n",
       "      <td>999</td>\n",
       "      <td>0</td>\n",
       "      <td>nonexistent</td>\n",
       "      <td>-1</td>\n",
       "    </tr>\n",
       "    <tr>\n",
       "      <th>4</th>\n",
       "      <td>59</td>\n",
       "      <td>retired</td>\n",
       "      <td>divorced</td>\n",
       "      <td>university.degree</td>\n",
       "      <td>no</td>\n",
       "      <td>no</td>\n",
       "      <td>no</td>\n",
       "      <td>cellular</td>\n",
       "      <td>jun</td>\n",
       "      <td>tue</td>\n",
       "      <td>368</td>\n",
       "      <td>2</td>\n",
       "      <td>999</td>\n",
       "      <td>0</td>\n",
       "      <td>nonexistent</td>\n",
       "      <td>-1</td>\n",
       "    </tr>\n",
       "  </tbody>\n",
       "</table>\n",
       "</div>"
      ],
      "text/plain": [
       "   age           job   marital          education  default housing loan  \\\n",
       "0   49   blue-collar   married           basic.9y  unknown      no   no   \n",
       "1   37  entrepreneur   married  university.degree       no      no   no   \n",
       "2   78       retired   married           basic.4y       no      no   no   \n",
       "3   36        admin.   married  university.degree       no     yes   no   \n",
       "4   59       retired  divorced  university.degree       no      no   no   \n",
       "\n",
       "     contact month day_of_week  duration  campaign  pdays  previous  \\\n",
       "0   cellular   nov         wed       227         4    999         0   \n",
       "1  telephone   nov         wed       202         2    999         1   \n",
       "2   cellular   jul         mon      1148         1    999         0   \n",
       "3  telephone   may         mon       120         2    999         0   \n",
       "4   cellular   jun         tue       368         2    999         0   \n",
       "\n",
       "      poutcome  difficulty  \n",
       "0  nonexistent          -1  \n",
       "1      failure           4  \n",
       "2  nonexistent          -1  \n",
       "3  nonexistent          -1  \n",
       "4  nonexistent          -1  "
      ]
     },
     "execution_count": 20,
     "metadata": {},
     "output_type": "execute_result"
    }
   ],
   "source": [
    "explicativas.head()"
   ]
  },
  {
   "cell_type": "markdown",
   "metadata": {
    "id": "URjLY0QXbPoi"
   },
   "source": [
    "## Tratar as variáveis explicativas categóricas"
   ]
  },
  {
   "cell_type": "code",
   "execution_count": 21,
   "metadata": {
    "id": "e7n9xTI1acn-"
   },
   "outputs": [],
   "source": [
    "expl_cat = explicativas[['job','marital','education','default','housing','loan','contact','month','day_of_week','poutcome','difficulty']]"
   ]
  },
  {
   "cell_type": "code",
   "execution_count": 22,
   "metadata": {
    "id": "Wl-gRq_pb0Fi"
   },
   "outputs": [],
   "source": [
    "expl_num = explicativas[['age','duration','campaign','pdays','previous']]"
   ]
  },
  {
   "cell_type": "code",
   "execution_count": 23,
   "metadata": {
    "id": "6KQMl_QHb28p"
   },
   "outputs": [],
   "source": [
    "# Para fazer o encoding das variáveis usar o método get_dummies que converte dados categóricos em variáveis fictícias ou indicadores.\n",
    "\n",
    "expl_cat_encoding = pd.get_dummies(expl_cat,\n",
    "                                   prefix_sep='_',\n",
    "                                   columns=expl_cat.columns,\n",
    "                                   drop_first=True)"
   ]
  },
  {
   "cell_type": "code",
   "execution_count": 24,
   "metadata": {
    "colab": {
     "base_uri": "https://localhost:8080/",
     "height": 287
    },
    "executionInfo": {
     "elapsed": 6,
     "status": "ok",
     "timestamp": 1653263258732,
     "user": {
      "displayName": "Lucas Corrêa",
      "userId": "06320273670240218623"
     },
     "user_tz": 180
    },
    "id": "aTG2WgyVddSR",
    "outputId": "cfb38892-585a-415f-bf2c-986e54d99fdf"
   },
   "outputs": [
    {
     "data": {
      "text/html": [
       "<div>\n",
       "<style scoped>\n",
       "    .dataframe tbody tr th:only-of-type {\n",
       "        vertical-align: middle;\n",
       "    }\n",
       "\n",
       "    .dataframe tbody tr th {\n",
       "        vertical-align: top;\n",
       "    }\n",
       "\n",
       "    .dataframe thead th {\n",
       "        text-align: right;\n",
       "    }\n",
       "</style>\n",
       "<table border=\"1\" class=\"dataframe\">\n",
       "  <thead>\n",
       "    <tr style=\"text-align: right;\">\n",
       "      <th></th>\n",
       "      <th>job_blue-collar</th>\n",
       "      <th>job_entrepreneur</th>\n",
       "      <th>job_housemaid</th>\n",
       "      <th>job_management</th>\n",
       "      <th>job_retired</th>\n",
       "      <th>job_self-employed</th>\n",
       "      <th>job_services</th>\n",
       "      <th>job_student</th>\n",
       "      <th>job_technician</th>\n",
       "      <th>job_unemployed</th>\n",
       "      <th>job_unknown</th>\n",
       "      <th>marital_married</th>\n",
       "      <th>marital_single</th>\n",
       "      <th>marital_unknown</th>\n",
       "      <th>education_basic.6y</th>\n",
       "      <th>education_basic.9y</th>\n",
       "      <th>education_high.school</th>\n",
       "      <th>education_illiterate</th>\n",
       "      <th>education_professional.course</th>\n",
       "      <th>education_university.degree</th>\n",
       "      <th>education_unknown</th>\n",
       "      <th>default_unknown</th>\n",
       "      <th>default_yes</th>\n",
       "      <th>housing_unknown</th>\n",
       "      <th>housing_yes</th>\n",
       "      <th>loan_unknown</th>\n",
       "      <th>loan_yes</th>\n",
       "      <th>contact_telephone</th>\n",
       "      <th>month_aug</th>\n",
       "      <th>month_dec</th>\n",
       "      <th>month_jul</th>\n",
       "      <th>month_jun</th>\n",
       "      <th>month_mar</th>\n",
       "      <th>month_may</th>\n",
       "      <th>month_nov</th>\n",
       "      <th>month_oct</th>\n",
       "      <th>month_sep</th>\n",
       "      <th>day_of_week_mon</th>\n",
       "      <th>day_of_week_thu</th>\n",
       "      <th>day_of_week_tue</th>\n",
       "      <th>day_of_week_wed</th>\n",
       "      <th>poutcome_nonexistent</th>\n",
       "      <th>poutcome_success</th>\n",
       "      <th>difficulty_0</th>\n",
       "      <th>difficulty_1</th>\n",
       "      <th>difficulty_2</th>\n",
       "      <th>difficulty_4</th>\n",
       "    </tr>\n",
       "  </thead>\n",
       "  <tbody>\n",
       "    <tr>\n",
       "      <th>0</th>\n",
       "      <td>1</td>\n",
       "      <td>0</td>\n",
       "      <td>0</td>\n",
       "      <td>0</td>\n",
       "      <td>0</td>\n",
       "      <td>0</td>\n",
       "      <td>0</td>\n",
       "      <td>0</td>\n",
       "      <td>0</td>\n",
       "      <td>0</td>\n",
       "      <td>0</td>\n",
       "      <td>1</td>\n",
       "      <td>0</td>\n",
       "      <td>0</td>\n",
       "      <td>0</td>\n",
       "      <td>1</td>\n",
       "      <td>0</td>\n",
       "      <td>0</td>\n",
       "      <td>0</td>\n",
       "      <td>0</td>\n",
       "      <td>0</td>\n",
       "      <td>1</td>\n",
       "      <td>0</td>\n",
       "      <td>0</td>\n",
       "      <td>0</td>\n",
       "      <td>0</td>\n",
       "      <td>0</td>\n",
       "      <td>0</td>\n",
       "      <td>0</td>\n",
       "      <td>0</td>\n",
       "      <td>0</td>\n",
       "      <td>0</td>\n",
       "      <td>0</td>\n",
       "      <td>0</td>\n",
       "      <td>1</td>\n",
       "      <td>0</td>\n",
       "      <td>0</td>\n",
       "      <td>0</td>\n",
       "      <td>0</td>\n",
       "      <td>0</td>\n",
       "      <td>1</td>\n",
       "      <td>1</td>\n",
       "      <td>0</td>\n",
       "      <td>0</td>\n",
       "      <td>0</td>\n",
       "      <td>0</td>\n",
       "      <td>0</td>\n",
       "    </tr>\n",
       "    <tr>\n",
       "      <th>1</th>\n",
       "      <td>0</td>\n",
       "      <td>1</td>\n",
       "      <td>0</td>\n",
       "      <td>0</td>\n",
       "      <td>0</td>\n",
       "      <td>0</td>\n",
       "      <td>0</td>\n",
       "      <td>0</td>\n",
       "      <td>0</td>\n",
       "      <td>0</td>\n",
       "      <td>0</td>\n",
       "      <td>1</td>\n",
       "      <td>0</td>\n",
       "      <td>0</td>\n",
       "      <td>0</td>\n",
       "      <td>0</td>\n",
       "      <td>0</td>\n",
       "      <td>0</td>\n",
       "      <td>0</td>\n",
       "      <td>1</td>\n",
       "      <td>0</td>\n",
       "      <td>0</td>\n",
       "      <td>0</td>\n",
       "      <td>0</td>\n",
       "      <td>0</td>\n",
       "      <td>0</td>\n",
       "      <td>0</td>\n",
       "      <td>1</td>\n",
       "      <td>0</td>\n",
       "      <td>0</td>\n",
       "      <td>0</td>\n",
       "      <td>0</td>\n",
       "      <td>0</td>\n",
       "      <td>0</td>\n",
       "      <td>1</td>\n",
       "      <td>0</td>\n",
       "      <td>0</td>\n",
       "      <td>0</td>\n",
       "      <td>0</td>\n",
       "      <td>0</td>\n",
       "      <td>1</td>\n",
       "      <td>0</td>\n",
       "      <td>0</td>\n",
       "      <td>0</td>\n",
       "      <td>0</td>\n",
       "      <td>0</td>\n",
       "      <td>1</td>\n",
       "    </tr>\n",
       "    <tr>\n",
       "      <th>2</th>\n",
       "      <td>0</td>\n",
       "      <td>0</td>\n",
       "      <td>0</td>\n",
       "      <td>0</td>\n",
       "      <td>1</td>\n",
       "      <td>0</td>\n",
       "      <td>0</td>\n",
       "      <td>0</td>\n",
       "      <td>0</td>\n",
       "      <td>0</td>\n",
       "      <td>0</td>\n",
       "      <td>1</td>\n",
       "      <td>0</td>\n",
       "      <td>0</td>\n",
       "      <td>0</td>\n",
       "      <td>0</td>\n",
       "      <td>0</td>\n",
       "      <td>0</td>\n",
       "      <td>0</td>\n",
       "      <td>0</td>\n",
       "      <td>0</td>\n",
       "      <td>0</td>\n",
       "      <td>0</td>\n",
       "      <td>0</td>\n",
       "      <td>0</td>\n",
       "      <td>0</td>\n",
       "      <td>0</td>\n",
       "      <td>0</td>\n",
       "      <td>0</td>\n",
       "      <td>0</td>\n",
       "      <td>1</td>\n",
       "      <td>0</td>\n",
       "      <td>0</td>\n",
       "      <td>0</td>\n",
       "      <td>0</td>\n",
       "      <td>0</td>\n",
       "      <td>0</td>\n",
       "      <td>1</td>\n",
       "      <td>0</td>\n",
       "      <td>0</td>\n",
       "      <td>0</td>\n",
       "      <td>1</td>\n",
       "      <td>0</td>\n",
       "      <td>0</td>\n",
       "      <td>0</td>\n",
       "      <td>0</td>\n",
       "      <td>0</td>\n",
       "    </tr>\n",
       "    <tr>\n",
       "      <th>3</th>\n",
       "      <td>0</td>\n",
       "      <td>0</td>\n",
       "      <td>0</td>\n",
       "      <td>0</td>\n",
       "      <td>0</td>\n",
       "      <td>0</td>\n",
       "      <td>0</td>\n",
       "      <td>0</td>\n",
       "      <td>0</td>\n",
       "      <td>0</td>\n",
       "      <td>0</td>\n",
       "      <td>1</td>\n",
       "      <td>0</td>\n",
       "      <td>0</td>\n",
       "      <td>0</td>\n",
       "      <td>0</td>\n",
       "      <td>0</td>\n",
       "      <td>0</td>\n",
       "      <td>0</td>\n",
       "      <td>1</td>\n",
       "      <td>0</td>\n",
       "      <td>0</td>\n",
       "      <td>0</td>\n",
       "      <td>0</td>\n",
       "      <td>1</td>\n",
       "      <td>0</td>\n",
       "      <td>0</td>\n",
       "      <td>1</td>\n",
       "      <td>0</td>\n",
       "      <td>0</td>\n",
       "      <td>0</td>\n",
       "      <td>0</td>\n",
       "      <td>0</td>\n",
       "      <td>1</td>\n",
       "      <td>0</td>\n",
       "      <td>0</td>\n",
       "      <td>0</td>\n",
       "      <td>1</td>\n",
       "      <td>0</td>\n",
       "      <td>0</td>\n",
       "      <td>0</td>\n",
       "      <td>1</td>\n",
       "      <td>0</td>\n",
       "      <td>0</td>\n",
       "      <td>0</td>\n",
       "      <td>0</td>\n",
       "      <td>0</td>\n",
       "    </tr>\n",
       "    <tr>\n",
       "      <th>4</th>\n",
       "      <td>0</td>\n",
       "      <td>0</td>\n",
       "      <td>0</td>\n",
       "      <td>0</td>\n",
       "      <td>1</td>\n",
       "      <td>0</td>\n",
       "      <td>0</td>\n",
       "      <td>0</td>\n",
       "      <td>0</td>\n",
       "      <td>0</td>\n",
       "      <td>0</td>\n",
       "      <td>0</td>\n",
       "      <td>0</td>\n",
       "      <td>0</td>\n",
       "      <td>0</td>\n",
       "      <td>0</td>\n",
       "      <td>0</td>\n",
       "      <td>0</td>\n",
       "      <td>0</td>\n",
       "      <td>1</td>\n",
       "      <td>0</td>\n",
       "      <td>0</td>\n",
       "      <td>0</td>\n",
       "      <td>0</td>\n",
       "      <td>0</td>\n",
       "      <td>0</td>\n",
       "      <td>0</td>\n",
       "      <td>0</td>\n",
       "      <td>0</td>\n",
       "      <td>0</td>\n",
       "      <td>0</td>\n",
       "      <td>1</td>\n",
       "      <td>0</td>\n",
       "      <td>0</td>\n",
       "      <td>0</td>\n",
       "      <td>0</td>\n",
       "      <td>0</td>\n",
       "      <td>0</td>\n",
       "      <td>0</td>\n",
       "      <td>1</td>\n",
       "      <td>0</td>\n",
       "      <td>1</td>\n",
       "      <td>0</td>\n",
       "      <td>0</td>\n",
       "      <td>0</td>\n",
       "      <td>0</td>\n",
       "      <td>0</td>\n",
       "    </tr>\n",
       "  </tbody>\n",
       "</table>\n",
       "</div>"
      ],
      "text/plain": [
       "   job_blue-collar  job_entrepreneur  job_housemaid  job_management  \\\n",
       "0                1                 0              0               0   \n",
       "1                0                 1              0               0   \n",
       "2                0                 0              0               0   \n",
       "3                0                 0              0               0   \n",
       "4                0                 0              0               0   \n",
       "\n",
       "   job_retired  job_self-employed  job_services  job_student  job_technician  \\\n",
       "0            0                  0             0            0               0   \n",
       "1            0                  0             0            0               0   \n",
       "2            1                  0             0            0               0   \n",
       "3            0                  0             0            0               0   \n",
       "4            1                  0             0            0               0   \n",
       "\n",
       "   job_unemployed  job_unknown  marital_married  marital_single  \\\n",
       "0               0            0                1               0   \n",
       "1               0            0                1               0   \n",
       "2               0            0                1               0   \n",
       "3               0            0                1               0   \n",
       "4               0            0                0               0   \n",
       "\n",
       "   marital_unknown  education_basic.6y  education_basic.9y  \\\n",
       "0                0                   0                   1   \n",
       "1                0                   0                   0   \n",
       "2                0                   0                   0   \n",
       "3                0                   0                   0   \n",
       "4                0                   0                   0   \n",
       "\n",
       "   education_high.school  education_illiterate  education_professional.course  \\\n",
       "0                      0                     0                              0   \n",
       "1                      0                     0                              0   \n",
       "2                      0                     0                              0   \n",
       "3                      0                     0                              0   \n",
       "4                      0                     0                              0   \n",
       "\n",
       "   education_university.degree  education_unknown  default_unknown  \\\n",
       "0                            0                  0                1   \n",
       "1                            1                  0                0   \n",
       "2                            0                  0                0   \n",
       "3                            1                  0                0   \n",
       "4                            1                  0                0   \n",
       "\n",
       "   default_yes  housing_unknown  housing_yes  loan_unknown  loan_yes  \\\n",
       "0            0                0            0             0         0   \n",
       "1            0                0            0             0         0   \n",
       "2            0                0            0             0         0   \n",
       "3            0                0            1             0         0   \n",
       "4            0                0            0             0         0   \n",
       "\n",
       "   contact_telephone  month_aug  month_dec  month_jul  month_jun  month_mar  \\\n",
       "0                  0          0          0          0          0          0   \n",
       "1                  1          0          0          0          0          0   \n",
       "2                  0          0          0          1          0          0   \n",
       "3                  1          0          0          0          0          0   \n",
       "4                  0          0          0          0          1          0   \n",
       "\n",
       "   month_may  month_nov  month_oct  month_sep  day_of_week_mon  \\\n",
       "0          0          1          0          0                0   \n",
       "1          0          1          0          0                0   \n",
       "2          0          0          0          0                1   \n",
       "3          1          0          0          0                1   \n",
       "4          0          0          0          0                0   \n",
       "\n",
       "   day_of_week_thu  day_of_week_tue  day_of_week_wed  poutcome_nonexistent  \\\n",
       "0                0                0                1                     1   \n",
       "1                0                0                1                     0   \n",
       "2                0                0                0                     1   \n",
       "3                0                0                0                     1   \n",
       "4                0                1                0                     1   \n",
       "\n",
       "   poutcome_success  difficulty_0  difficulty_1  difficulty_2  difficulty_4  \n",
       "0                 0             0             0             0             0  \n",
       "1                 0             0             0             0             1  \n",
       "2                 0             0             0             0             0  \n",
       "3                 0             0             0             0             0  \n",
       "4                 0             0             0             0             0  "
      ]
     },
     "execution_count": 24,
     "metadata": {},
     "output_type": "execute_result"
    }
   ],
   "source": [
    "expl_cat_encoding.head()"
   ]
  },
  {
   "cell_type": "code",
   "execution_count": 25,
   "metadata": {
    "id": "SL8LmEuVdgND"
   },
   "outputs": [],
   "source": [
    "explicativas_tratadas = expl_num.merge(expl_cat_encoding,\n",
    "                                       left_index=True,\n",
    "                                       right_index=True)"
   ]
  },
  {
   "cell_type": "code",
   "execution_count": 26,
   "metadata": {
    "colab": {
     "base_uri": "https://localhost:8080/",
     "height": 287
    },
    "executionInfo": {
     "elapsed": 310,
     "status": "ok",
     "timestamp": 1653263259038,
     "user": {
      "displayName": "Lucas Corrêa",
      "userId": "06320273670240218623"
     },
     "user_tz": 180
    },
    "id": "If5yWXBOKCUo",
    "outputId": "cace0f99-f2eb-46ac-c9e8-1c72bb08e807"
   },
   "outputs": [
    {
     "data": {
      "text/html": [
       "<div>\n",
       "<style scoped>\n",
       "    .dataframe tbody tr th:only-of-type {\n",
       "        vertical-align: middle;\n",
       "    }\n",
       "\n",
       "    .dataframe tbody tr th {\n",
       "        vertical-align: top;\n",
       "    }\n",
       "\n",
       "    .dataframe thead th {\n",
       "        text-align: right;\n",
       "    }\n",
       "</style>\n",
       "<table border=\"1\" class=\"dataframe\">\n",
       "  <thead>\n",
       "    <tr style=\"text-align: right;\">\n",
       "      <th></th>\n",
       "      <th>age</th>\n",
       "      <th>duration</th>\n",
       "      <th>campaign</th>\n",
       "      <th>pdays</th>\n",
       "      <th>previous</th>\n",
       "      <th>job_blue-collar</th>\n",
       "      <th>job_entrepreneur</th>\n",
       "      <th>job_housemaid</th>\n",
       "      <th>job_management</th>\n",
       "      <th>job_retired</th>\n",
       "      <th>job_self-employed</th>\n",
       "      <th>job_services</th>\n",
       "      <th>job_student</th>\n",
       "      <th>job_technician</th>\n",
       "      <th>job_unemployed</th>\n",
       "      <th>job_unknown</th>\n",
       "      <th>marital_married</th>\n",
       "      <th>marital_single</th>\n",
       "      <th>marital_unknown</th>\n",
       "      <th>education_basic.6y</th>\n",
       "      <th>education_basic.9y</th>\n",
       "      <th>education_high.school</th>\n",
       "      <th>education_illiterate</th>\n",
       "      <th>education_professional.course</th>\n",
       "      <th>education_university.degree</th>\n",
       "      <th>education_unknown</th>\n",
       "      <th>default_unknown</th>\n",
       "      <th>default_yes</th>\n",
       "      <th>housing_unknown</th>\n",
       "      <th>housing_yes</th>\n",
       "      <th>loan_unknown</th>\n",
       "      <th>loan_yes</th>\n",
       "      <th>contact_telephone</th>\n",
       "      <th>month_aug</th>\n",
       "      <th>month_dec</th>\n",
       "      <th>month_jul</th>\n",
       "      <th>month_jun</th>\n",
       "      <th>month_mar</th>\n",
       "      <th>month_may</th>\n",
       "      <th>month_nov</th>\n",
       "      <th>month_oct</th>\n",
       "      <th>month_sep</th>\n",
       "      <th>day_of_week_mon</th>\n",
       "      <th>day_of_week_thu</th>\n",
       "      <th>day_of_week_tue</th>\n",
       "      <th>day_of_week_wed</th>\n",
       "      <th>poutcome_nonexistent</th>\n",
       "      <th>poutcome_success</th>\n",
       "      <th>difficulty_0</th>\n",
       "      <th>difficulty_1</th>\n",
       "      <th>difficulty_2</th>\n",
       "      <th>difficulty_4</th>\n",
       "    </tr>\n",
       "  </thead>\n",
       "  <tbody>\n",
       "    <tr>\n",
       "      <th>0</th>\n",
       "      <td>49</td>\n",
       "      <td>227</td>\n",
       "      <td>4</td>\n",
       "      <td>999</td>\n",
       "      <td>0</td>\n",
       "      <td>1</td>\n",
       "      <td>0</td>\n",
       "      <td>0</td>\n",
       "      <td>0</td>\n",
       "      <td>0</td>\n",
       "      <td>0</td>\n",
       "      <td>0</td>\n",
       "      <td>0</td>\n",
       "      <td>0</td>\n",
       "      <td>0</td>\n",
       "      <td>0</td>\n",
       "      <td>1</td>\n",
       "      <td>0</td>\n",
       "      <td>0</td>\n",
       "      <td>0</td>\n",
       "      <td>1</td>\n",
       "      <td>0</td>\n",
       "      <td>0</td>\n",
       "      <td>0</td>\n",
       "      <td>0</td>\n",
       "      <td>0</td>\n",
       "      <td>1</td>\n",
       "      <td>0</td>\n",
       "      <td>0</td>\n",
       "      <td>0</td>\n",
       "      <td>0</td>\n",
       "      <td>0</td>\n",
       "      <td>0</td>\n",
       "      <td>0</td>\n",
       "      <td>0</td>\n",
       "      <td>0</td>\n",
       "      <td>0</td>\n",
       "      <td>0</td>\n",
       "      <td>0</td>\n",
       "      <td>1</td>\n",
       "      <td>0</td>\n",
       "      <td>0</td>\n",
       "      <td>0</td>\n",
       "      <td>0</td>\n",
       "      <td>0</td>\n",
       "      <td>1</td>\n",
       "      <td>1</td>\n",
       "      <td>0</td>\n",
       "      <td>0</td>\n",
       "      <td>0</td>\n",
       "      <td>0</td>\n",
       "      <td>0</td>\n",
       "    </tr>\n",
       "    <tr>\n",
       "      <th>1</th>\n",
       "      <td>37</td>\n",
       "      <td>202</td>\n",
       "      <td>2</td>\n",
       "      <td>999</td>\n",
       "      <td>1</td>\n",
       "      <td>0</td>\n",
       "      <td>1</td>\n",
       "      <td>0</td>\n",
       "      <td>0</td>\n",
       "      <td>0</td>\n",
       "      <td>0</td>\n",
       "      <td>0</td>\n",
       "      <td>0</td>\n",
       "      <td>0</td>\n",
       "      <td>0</td>\n",
       "      <td>0</td>\n",
       "      <td>1</td>\n",
       "      <td>0</td>\n",
       "      <td>0</td>\n",
       "      <td>0</td>\n",
       "      <td>0</td>\n",
       "      <td>0</td>\n",
       "      <td>0</td>\n",
       "      <td>0</td>\n",
       "      <td>1</td>\n",
       "      <td>0</td>\n",
       "      <td>0</td>\n",
       "      <td>0</td>\n",
       "      <td>0</td>\n",
       "      <td>0</td>\n",
       "      <td>0</td>\n",
       "      <td>0</td>\n",
       "      <td>1</td>\n",
       "      <td>0</td>\n",
       "      <td>0</td>\n",
       "      <td>0</td>\n",
       "      <td>0</td>\n",
       "      <td>0</td>\n",
       "      <td>0</td>\n",
       "      <td>1</td>\n",
       "      <td>0</td>\n",
       "      <td>0</td>\n",
       "      <td>0</td>\n",
       "      <td>0</td>\n",
       "      <td>0</td>\n",
       "      <td>1</td>\n",
       "      <td>0</td>\n",
       "      <td>0</td>\n",
       "      <td>0</td>\n",
       "      <td>0</td>\n",
       "      <td>0</td>\n",
       "      <td>1</td>\n",
       "    </tr>\n",
       "    <tr>\n",
       "      <th>2</th>\n",
       "      <td>78</td>\n",
       "      <td>1148</td>\n",
       "      <td>1</td>\n",
       "      <td>999</td>\n",
       "      <td>0</td>\n",
       "      <td>0</td>\n",
       "      <td>0</td>\n",
       "      <td>0</td>\n",
       "      <td>0</td>\n",
       "      <td>1</td>\n",
       "      <td>0</td>\n",
       "      <td>0</td>\n",
       "      <td>0</td>\n",
       "      <td>0</td>\n",
       "      <td>0</td>\n",
       "      <td>0</td>\n",
       "      <td>1</td>\n",
       "      <td>0</td>\n",
       "      <td>0</td>\n",
       "      <td>0</td>\n",
       "      <td>0</td>\n",
       "      <td>0</td>\n",
       "      <td>0</td>\n",
       "      <td>0</td>\n",
       "      <td>0</td>\n",
       "      <td>0</td>\n",
       "      <td>0</td>\n",
       "      <td>0</td>\n",
       "      <td>0</td>\n",
       "      <td>0</td>\n",
       "      <td>0</td>\n",
       "      <td>0</td>\n",
       "      <td>0</td>\n",
       "      <td>0</td>\n",
       "      <td>0</td>\n",
       "      <td>1</td>\n",
       "      <td>0</td>\n",
       "      <td>0</td>\n",
       "      <td>0</td>\n",
       "      <td>0</td>\n",
       "      <td>0</td>\n",
       "      <td>0</td>\n",
       "      <td>1</td>\n",
       "      <td>0</td>\n",
       "      <td>0</td>\n",
       "      <td>0</td>\n",
       "      <td>1</td>\n",
       "      <td>0</td>\n",
       "      <td>0</td>\n",
       "      <td>0</td>\n",
       "      <td>0</td>\n",
       "      <td>0</td>\n",
       "    </tr>\n",
       "    <tr>\n",
       "      <th>3</th>\n",
       "      <td>36</td>\n",
       "      <td>120</td>\n",
       "      <td>2</td>\n",
       "      <td>999</td>\n",
       "      <td>0</td>\n",
       "      <td>0</td>\n",
       "      <td>0</td>\n",
       "      <td>0</td>\n",
       "      <td>0</td>\n",
       "      <td>0</td>\n",
       "      <td>0</td>\n",
       "      <td>0</td>\n",
       "      <td>0</td>\n",
       "      <td>0</td>\n",
       "      <td>0</td>\n",
       "      <td>0</td>\n",
       "      <td>1</td>\n",
       "      <td>0</td>\n",
       "      <td>0</td>\n",
       "      <td>0</td>\n",
       "      <td>0</td>\n",
       "      <td>0</td>\n",
       "      <td>0</td>\n",
       "      <td>0</td>\n",
       "      <td>1</td>\n",
       "      <td>0</td>\n",
       "      <td>0</td>\n",
       "      <td>0</td>\n",
       "      <td>0</td>\n",
       "      <td>1</td>\n",
       "      <td>0</td>\n",
       "      <td>0</td>\n",
       "      <td>1</td>\n",
       "      <td>0</td>\n",
       "      <td>0</td>\n",
       "      <td>0</td>\n",
       "      <td>0</td>\n",
       "      <td>0</td>\n",
       "      <td>1</td>\n",
       "      <td>0</td>\n",
       "      <td>0</td>\n",
       "      <td>0</td>\n",
       "      <td>1</td>\n",
       "      <td>0</td>\n",
       "      <td>0</td>\n",
       "      <td>0</td>\n",
       "      <td>1</td>\n",
       "      <td>0</td>\n",
       "      <td>0</td>\n",
       "      <td>0</td>\n",
       "      <td>0</td>\n",
       "      <td>0</td>\n",
       "    </tr>\n",
       "    <tr>\n",
       "      <th>4</th>\n",
       "      <td>59</td>\n",
       "      <td>368</td>\n",
       "      <td>2</td>\n",
       "      <td>999</td>\n",
       "      <td>0</td>\n",
       "      <td>0</td>\n",
       "      <td>0</td>\n",
       "      <td>0</td>\n",
       "      <td>0</td>\n",
       "      <td>1</td>\n",
       "      <td>0</td>\n",
       "      <td>0</td>\n",
       "      <td>0</td>\n",
       "      <td>0</td>\n",
       "      <td>0</td>\n",
       "      <td>0</td>\n",
       "      <td>0</td>\n",
       "      <td>0</td>\n",
       "      <td>0</td>\n",
       "      <td>0</td>\n",
       "      <td>0</td>\n",
       "      <td>0</td>\n",
       "      <td>0</td>\n",
       "      <td>0</td>\n",
       "      <td>1</td>\n",
       "      <td>0</td>\n",
       "      <td>0</td>\n",
       "      <td>0</td>\n",
       "      <td>0</td>\n",
       "      <td>0</td>\n",
       "      <td>0</td>\n",
       "      <td>0</td>\n",
       "      <td>0</td>\n",
       "      <td>0</td>\n",
       "      <td>0</td>\n",
       "      <td>0</td>\n",
       "      <td>1</td>\n",
       "      <td>0</td>\n",
       "      <td>0</td>\n",
       "      <td>0</td>\n",
       "      <td>0</td>\n",
       "      <td>0</td>\n",
       "      <td>0</td>\n",
       "      <td>0</td>\n",
       "      <td>1</td>\n",
       "      <td>0</td>\n",
       "      <td>1</td>\n",
       "      <td>0</td>\n",
       "      <td>0</td>\n",
       "      <td>0</td>\n",
       "      <td>0</td>\n",
       "      <td>0</td>\n",
       "    </tr>\n",
       "  </tbody>\n",
       "</table>\n",
       "</div>"
      ],
      "text/plain": [
       "   age  duration  campaign  pdays  previous  job_blue-collar  \\\n",
       "0   49       227         4    999         0                1   \n",
       "1   37       202         2    999         1                0   \n",
       "2   78      1148         1    999         0                0   \n",
       "3   36       120         2    999         0                0   \n",
       "4   59       368         2    999         0                0   \n",
       "\n",
       "   job_entrepreneur  job_housemaid  job_management  job_retired  \\\n",
       "0                 0              0               0            0   \n",
       "1                 1              0               0            0   \n",
       "2                 0              0               0            1   \n",
       "3                 0              0               0            0   \n",
       "4                 0              0               0            1   \n",
       "\n",
       "   job_self-employed  job_services  job_student  job_technician  \\\n",
       "0                  0             0            0               0   \n",
       "1                  0             0            0               0   \n",
       "2                  0             0            0               0   \n",
       "3                  0             0            0               0   \n",
       "4                  0             0            0               0   \n",
       "\n",
       "   job_unemployed  job_unknown  marital_married  marital_single  \\\n",
       "0               0            0                1               0   \n",
       "1               0            0                1               0   \n",
       "2               0            0                1               0   \n",
       "3               0            0                1               0   \n",
       "4               0            0                0               0   \n",
       "\n",
       "   marital_unknown  education_basic.6y  education_basic.9y  \\\n",
       "0                0                   0                   1   \n",
       "1                0                   0                   0   \n",
       "2                0                   0                   0   \n",
       "3                0                   0                   0   \n",
       "4                0                   0                   0   \n",
       "\n",
       "   education_high.school  education_illiterate  education_professional.course  \\\n",
       "0                      0                     0                              0   \n",
       "1                      0                     0                              0   \n",
       "2                      0                     0                              0   \n",
       "3                      0                     0                              0   \n",
       "4                      0                     0                              0   \n",
       "\n",
       "   education_university.degree  education_unknown  default_unknown  \\\n",
       "0                            0                  0                1   \n",
       "1                            1                  0                0   \n",
       "2                            0                  0                0   \n",
       "3                            1                  0                0   \n",
       "4                            1                  0                0   \n",
       "\n",
       "   default_yes  housing_unknown  housing_yes  loan_unknown  loan_yes  \\\n",
       "0            0                0            0             0         0   \n",
       "1            0                0            0             0         0   \n",
       "2            0                0            0             0         0   \n",
       "3            0                0            1             0         0   \n",
       "4            0                0            0             0         0   \n",
       "\n",
       "   contact_telephone  month_aug  month_dec  month_jul  month_jun  month_mar  \\\n",
       "0                  0          0          0          0          0          0   \n",
       "1                  1          0          0          0          0          0   \n",
       "2                  0          0          0          1          0          0   \n",
       "3                  1          0          0          0          0          0   \n",
       "4                  0          0          0          0          1          0   \n",
       "\n",
       "   month_may  month_nov  month_oct  month_sep  day_of_week_mon  \\\n",
       "0          0          1          0          0                0   \n",
       "1          0          1          0          0                0   \n",
       "2          0          0          0          0                1   \n",
       "3          1          0          0          0                1   \n",
       "4          0          0          0          0                0   \n",
       "\n",
       "   day_of_week_thu  day_of_week_tue  day_of_week_wed  poutcome_nonexistent  \\\n",
       "0                0                0                1                     1   \n",
       "1                0                0                1                     0   \n",
       "2                0                0                0                     1   \n",
       "3                0                0                0                     1   \n",
       "4                0                1                0                     1   \n",
       "\n",
       "   poutcome_success  difficulty_0  difficulty_1  difficulty_2  difficulty_4  \n",
       "0                 0             0             0             0             0  \n",
       "1                 0             0             0             0             1  \n",
       "2                 0             0             0             0             0  \n",
       "3                 0             0             0             0             0  \n",
       "4                 0             0             0             0             0  "
      ]
     },
     "execution_count": 26,
     "metadata": {},
     "output_type": "execute_result"
    }
   ],
   "source": [
    "explicativas_tratadas.head()"
   ]
  },
  {
   "cell_type": "code",
   "execution_count": 27,
   "metadata": {
    "colab": {
     "base_uri": "https://localhost:8080/"
    },
    "executionInfo": {
     "elapsed": 8,
     "status": "ok",
     "timestamp": 1653263259039,
     "user": {
      "displayName": "Lucas Corrêa",
      "userId": "06320273670240218623"
     },
     "user_tz": 180
    },
    "id": "D-CbQOQ4KDtX",
    "outputId": "27bdcd85-a9c7-4ea9-92aa-e801ab102154"
   },
   "outputs": [
    {
     "data": {
      "text/plain": [
       "(32950, 52)"
      ]
     },
     "execution_count": 27,
     "metadata": {},
     "output_type": "execute_result"
    }
   ],
   "source": [
    "explicativas_tratadas.shape"
   ]
  },
  {
   "cell_type": "markdown",
   "metadata": {
    "id": "rhBhPF51KsR3"
   },
   "source": [
    "## Feature Selection"
   ]
  },
  {
   "cell_type": "code",
   "execution_count": 28,
   "metadata": {
    "colab": {
     "base_uri": "https://localhost:8080/"
    },
    "executionInfo": {
     "elapsed": 7,
     "status": "ok",
     "timestamp": 1653263259039,
     "user": {
      "displayName": "Lucas Corrêa",
      "userId": "06320273670240218623"
     },
     "user_tz": 180
    },
    "id": "uBMnVqA_KMEq",
    "outputId": "66e2e99b-c384-4e11-e6f6-2862a12ce5ee",
    "scrolled": true
   },
   "outputs": [
    {
     "data": {
      "text/plain": [
       "array([[1., 0., 0., ..., 0., 0., 0.],\n",
       "       [0., 1., 0., ..., 0., 0., 1.],\n",
       "       [0., 0., 0., ..., 0., 0., 0.],\n",
       "       ...,\n",
       "       [0., 0., 0., ..., 0., 0., 0.],\n",
       "       [0., 0., 0., ..., 0., 0., 0.],\n",
       "       [0., 0., 0., ..., 0., 0., 0.]])"
      ]
     },
     "execution_count": 28,
     "metadata": {},
     "output_type": "execute_result"
    }
   ],
   "source": [
    "# chi2 para variáveis categóricas\n",
    "# MinMaxScaler dimensiona todos os recursos de dados no intervalo [0, 1] ou então no intervalo [-1, 1] se houver valores negativos no conjunto de dados. Esta escala comprime todos os inliers na faixa estreita [0, 0,005].\n",
    "# fit_transform calcula a média e a variância de cada uma das características presentes nos dados.Ele é usado nos dados de treinamento para que possamos dimensionar os dados de treinamento e também aprender os parâmetros de dimensionamento.\n",
    "\n",
    "expl_cat_norm = MinMaxScaler().fit_transform(expl_cat_encoding)\n",
    "expl_cat_norm"
   ]
  },
  {
   "cell_type": "code",
   "execution_count": 29,
   "metadata": {
    "colab": {
     "base_uri": "https://localhost:8080/"
    },
    "executionInfo": {
     "elapsed": 6,
     "status": "ok",
     "timestamp": 1653263259039,
     "user": {
      "displayName": "Lucas Corrêa",
      "userId": "06320273670240218623"
     },
     "user_tz": 180
    },
    "id": "lRtAQ7NSLQsQ",
    "outputId": "9588fc61-2781-4349-e949-9bcf4517a8d4"
   },
   "outputs": [
    {
     "data": {
      "text/plain": [
       "SelectKBest(k=5, score_func=<function chi2 at 0x00000277091E5700>)"
      ]
     },
     "execution_count": 29,
     "metadata": {},
     "output_type": "execute_result"
    }
   ],
   "source": [
    "# Seleção\n",
    "# SelectKBest seleciona de acordo com os 'K' maiores\n",
    "\n",
    "chi_selector = SelectKBest(chi2, k=5)\n",
    "\n",
    "# Usar o método fit para o processo de treinamento aprender quais highest scores (melhores) de K das variáveis explicativas interferem nas variáveis respostas.\n",
    "\n",
    "chi_selector.fit(expl_cat_norm, var_resp)"
   ]
  },
  {
   "cell_type": "code",
   "execution_count": 30,
   "metadata": {
    "colab": {
     "base_uri": "https://localhost:8080/"
    },
    "executionInfo": {
     "elapsed": 4,
     "status": "ok",
     "timestamp": 1653263259246,
     "user": {
      "displayName": "Lucas Corrêa",
      "userId": "06320273670240218623"
     },
     "user_tz": 180
    },
    "id": "6S6Qi6UIL5Ja",
    "outputId": "f42b298c-0a3e-44d0-f877-d4a1ddb2f6d8"
   },
   "outputs": [
    {
     "data": {
      "text/plain": [
       "array([False, False, False, False, False, False, False, False, False,\n",
       "       False, False, False, False, False, False, False, False, False,\n",
       "       False, False, False, False, False, False, False, False, False,\n",
       "       False, False, False, False, False,  True, False, False,  True,\n",
       "       False, False, False, False, False, False,  True,  True,  True,\n",
       "       False, False])"
      ]
     },
     "execution_count": 30,
     "metadata": {},
     "output_type": "execute_result"
    }
   ],
   "source": [
    "# traz do array 'expl_cat_norm' quais ficam ou não\n",
    "\n",
    "chi_selector.get_support()"
   ]
  },
  {
   "cell_type": "code",
   "execution_count": 31,
   "metadata": {},
   "outputs": [
    {
     "data": {
      "text/plain": [
       "['month_mar', 'month_oct', 'poutcome_success', 'difficulty_0', 'difficulty_1']"
      ]
     },
     "execution_count": 31,
     "metadata": {},
     "output_type": "execute_result"
    }
   ],
   "source": [
    "# Traz quais recursos foram selecionados\n",
    "\n",
    "chi_support = chi_selector.get_support()\n",
    "chi_feature = expl_cat_encoding.loc[:, chi_support].columns.tolist()\n",
    "chi_feature"
   ]
  },
  {
   "cell_type": "markdown",
   "metadata": {
    "id": "5ErlOeokNdHb"
   },
   "source": [
    "## Seleção de variáveis numéricas"
   ]
  },
  {
   "cell_type": "code",
   "execution_count": 32,
   "metadata": {
    "id": "lIUOLFqdMBye"
   },
   "outputs": [],
   "source": [
    "# No método 'LogisticRegression' o algoritmo prevê a probabilidade de ocorrência de um evento ajustando dados para uma função logística\n",
    "\n",
    "rfe_selector = RFE(estimator=LogisticRegression(random_state=42, max_iter=200), n_features_to_select=3, step=1)"
   ]
  },
  {
   "cell_type": "code",
   "execution_count": 33,
   "metadata": {
    "colab": {
     "base_uri": "https://localhost:8080/"
    },
    "executionInfo": {
     "elapsed": 2311,
     "status": "ok",
     "timestamp": 1653263261554,
     "user": {
      "displayName": "Lucas Corrêa",
      "userId": "06320273670240218623"
     },
     "user_tz": 180
    },
    "id": "Uu6wLZcoON95",
    "outputId": "ba4a49e5-de52-4679-ba2e-01376204aec2"
   },
   "outputs": [
    {
     "data": {
      "text/plain": [
       "RFE(estimator=LogisticRegression(max_iter=200, random_state=42),\n",
       "    n_features_to_select=3)"
      ]
     },
     "execution_count": 33,
     "metadata": {},
     "output_type": "execute_result"
    }
   ],
   "source": [
    "# Usar o método fit para o processo de treinamento aprender quais highest scores (melhores) de K das variáveis explicativas interferem nas variáveis respostas.\n",
    "\n",
    "rfe_selector.fit(expl_num, var_resp)"
   ]
  },
  {
   "cell_type": "code",
   "execution_count": 34,
   "metadata": {
    "colab": {
     "base_uri": "https://localhost:8080/"
    },
    "executionInfo": {
     "elapsed": 4,
     "status": "ok",
     "timestamp": 1653263261554,
     "user": {
      "displayName": "Lucas Corrêa",
      "userId": "06320273670240218623"
     },
     "user_tz": 180
    },
    "id": "8QuNUcMGOYU9",
    "outputId": "9aa55537-68f9-4e8a-81b8-68ca2b7486f1"
   },
   "outputs": [
    {
     "data": {
      "text/plain": [
       "['age', 'campaign', 'previous']"
      ]
     },
     "execution_count": 34,
     "metadata": {},
     "output_type": "execute_result"
    }
   ],
   "source": [
    "# Traz quais recursos foram selecionados\n",
    "\n",
    "rfe_support = rfe_selector.get_support()\n",
    "rfe_feature = expl_num.loc[:, rfe_support].columns.tolist()\n",
    "rfe_feature"
   ]
  },
  {
   "cell_type": "markdown",
   "metadata": {
    "id": "aljajht_Oxwg"
   },
   "source": [
    "## Base a ser considerada no processo de modelagem"
   ]
  },
  {
   "cell_type": "code",
   "execution_count": 35,
   "metadata": {
    "colab": {
     "base_uri": "https://localhost:8080/",
     "height": 206
    },
    "executionInfo": {
     "elapsed": 397,
     "status": "ok",
     "timestamp": 1653263261949,
     "user": {
      "displayName": "Lucas Corrêa",
      "userId": "06320273670240218623"
     },
     "user_tz": 180
    },
    "id": "dH0e-MmXOuik",
    "outputId": "2d61bcac-1a06-41a4-8bfa-b9e5128cfacc"
   },
   "outputs": [
    {
     "data": {
      "text/html": [
       "<div>\n",
       "<style scoped>\n",
       "    .dataframe tbody tr th:only-of-type {\n",
       "        vertical-align: middle;\n",
       "    }\n",
       "\n",
       "    .dataframe tbody tr th {\n",
       "        vertical-align: top;\n",
       "    }\n",
       "\n",
       "    .dataframe thead th {\n",
       "        text-align: right;\n",
       "    }\n",
       "</style>\n",
       "<table border=\"1\" class=\"dataframe\">\n",
       "  <thead>\n",
       "    <tr style=\"text-align: right;\">\n",
       "      <th></th>\n",
       "      <th>age</th>\n",
       "      <th>campaign</th>\n",
       "      <th>previous</th>\n",
       "    </tr>\n",
       "  </thead>\n",
       "  <tbody>\n",
       "    <tr>\n",
       "      <th>0</th>\n",
       "      <td>49</td>\n",
       "      <td>4</td>\n",
       "      <td>0</td>\n",
       "    </tr>\n",
       "    <tr>\n",
       "      <th>1</th>\n",
       "      <td>37</td>\n",
       "      <td>2</td>\n",
       "      <td>1</td>\n",
       "    </tr>\n",
       "    <tr>\n",
       "      <th>2</th>\n",
       "      <td>78</td>\n",
       "      <td>1</td>\n",
       "      <td>0</td>\n",
       "    </tr>\n",
       "    <tr>\n",
       "      <th>3</th>\n",
       "      <td>36</td>\n",
       "      <td>2</td>\n",
       "      <td>0</td>\n",
       "    </tr>\n",
       "    <tr>\n",
       "      <th>4</th>\n",
       "      <td>59</td>\n",
       "      <td>2</td>\n",
       "      <td>0</td>\n",
       "    </tr>\n",
       "  </tbody>\n",
       "</table>\n",
       "</div>"
      ],
      "text/plain": [
       "   age  campaign  previous\n",
       "0   49         4         0\n",
       "1   37         2         1\n",
       "2   78         1         0\n",
       "3   36         2         0\n",
       "4   59         2         0"
      ]
     },
     "execution_count": 35,
     "metadata": {},
     "output_type": "execute_result"
    }
   ],
   "source": [
    "# Variáveis numéricas a serem usadas na modelagem\n",
    "\n",
    "expl_num_feature_selection = expl_num[['age', 'campaign', 'previous']]\n",
    "expl_num_feature_selection.head()"
   ]
  },
  {
   "cell_type": "code",
   "execution_count": 36,
   "metadata": {
    "colab": {
     "base_uri": "https://localhost:8080/",
     "height": 206
    },
    "executionInfo": {
     "elapsed": 9,
     "status": "ok",
     "timestamp": 1653263261949,
     "user": {
      "displayName": "Lucas Corrêa",
      "userId": "06320273670240218623"
     },
     "user_tz": 180
    },
    "id": "90xwl8VBPAmg",
    "outputId": "8d5be005-5568-47ae-acee-4dbee767172d"
   },
   "outputs": [
    {
     "data": {
      "text/html": [
       "<div>\n",
       "<style scoped>\n",
       "    .dataframe tbody tr th:only-of-type {\n",
       "        vertical-align: middle;\n",
       "    }\n",
       "\n",
       "    .dataframe tbody tr th {\n",
       "        vertical-align: top;\n",
       "    }\n",
       "\n",
       "    .dataframe thead th {\n",
       "        text-align: right;\n",
       "    }\n",
       "</style>\n",
       "<table border=\"1\" class=\"dataframe\">\n",
       "  <thead>\n",
       "    <tr style=\"text-align: right;\">\n",
       "      <th></th>\n",
       "      <th>month</th>\n",
       "      <th>poutcome</th>\n",
       "      <th>difficulty</th>\n",
       "    </tr>\n",
       "  </thead>\n",
       "  <tbody>\n",
       "    <tr>\n",
       "      <th>0</th>\n",
       "      <td>nov</td>\n",
       "      <td>nonexistent</td>\n",
       "      <td>-1</td>\n",
       "    </tr>\n",
       "    <tr>\n",
       "      <th>1</th>\n",
       "      <td>nov</td>\n",
       "      <td>failure</td>\n",
       "      <td>4</td>\n",
       "    </tr>\n",
       "    <tr>\n",
       "      <th>2</th>\n",
       "      <td>jul</td>\n",
       "      <td>nonexistent</td>\n",
       "      <td>-1</td>\n",
       "    </tr>\n",
       "    <tr>\n",
       "      <th>3</th>\n",
       "      <td>may</td>\n",
       "      <td>nonexistent</td>\n",
       "      <td>-1</td>\n",
       "    </tr>\n",
       "    <tr>\n",
       "      <th>4</th>\n",
       "      <td>jun</td>\n",
       "      <td>nonexistent</td>\n",
       "      <td>-1</td>\n",
       "    </tr>\n",
       "  </tbody>\n",
       "</table>\n",
       "</div>"
      ],
      "text/plain": [
       "  month     poutcome  difficulty\n",
       "0   nov  nonexistent          -1\n",
       "1   nov      failure           4\n",
       "2   jul  nonexistent          -1\n",
       "3   may  nonexistent          -1\n",
       "4   jun  nonexistent          -1"
      ]
     },
     "execution_count": 36,
     "metadata": {},
     "output_type": "execute_result"
    }
   ],
   "source": [
    "# Variáveis explicativas a serem usadas na modelagem\n",
    "\n",
    "expl_cat_feature_selection = expl_cat[['month', 'poutcome', 'difficulty']]\n",
    "expl_cat_feature_selection.head()"
   ]
  },
  {
   "cell_type": "code",
   "execution_count": 37,
   "metadata": {
    "colab": {
     "base_uri": "https://localhost:8080/",
     "height": 206
    },
    "executionInfo": {
     "elapsed": 9,
     "status": "ok",
     "timestamp": 1653263261950,
     "user": {
      "displayName": "Lucas Corrêa",
      "userId": "06320273670240218623"
     },
     "user_tz": 180
    },
    "id": "FPvUFsCjPgVo",
    "outputId": "7b205e3c-bdff-451c-a53b-f638fb0592ef"
   },
   "outputs": [
    {
     "data": {
      "text/html": [
       "<div>\n",
       "<style scoped>\n",
       "    .dataframe tbody tr th:only-of-type {\n",
       "        vertical-align: middle;\n",
       "    }\n",
       "\n",
       "    .dataframe tbody tr th {\n",
       "        vertical-align: top;\n",
       "    }\n",
       "\n",
       "    .dataframe thead th {\n",
       "        text-align: right;\n",
       "    }\n",
       "</style>\n",
       "<table border=\"1\" class=\"dataframe\">\n",
       "  <thead>\n",
       "    <tr style=\"text-align: right;\">\n",
       "      <th></th>\n",
       "      <th>month_aug</th>\n",
       "      <th>month_dec</th>\n",
       "      <th>month_jul</th>\n",
       "      <th>month_jun</th>\n",
       "      <th>month_mar</th>\n",
       "      <th>month_may</th>\n",
       "      <th>month_nov</th>\n",
       "      <th>month_oct</th>\n",
       "      <th>month_sep</th>\n",
       "      <th>poutcome_nonexistent</th>\n",
       "      <th>poutcome_success</th>\n",
       "      <th>difficulty_0</th>\n",
       "      <th>difficulty_1</th>\n",
       "      <th>difficulty_2</th>\n",
       "      <th>difficulty_4</th>\n",
       "    </tr>\n",
       "  </thead>\n",
       "  <tbody>\n",
       "    <tr>\n",
       "      <th>0</th>\n",
       "      <td>0</td>\n",
       "      <td>0</td>\n",
       "      <td>0</td>\n",
       "      <td>0</td>\n",
       "      <td>0</td>\n",
       "      <td>0</td>\n",
       "      <td>1</td>\n",
       "      <td>0</td>\n",
       "      <td>0</td>\n",
       "      <td>1</td>\n",
       "      <td>0</td>\n",
       "      <td>0</td>\n",
       "      <td>0</td>\n",
       "      <td>0</td>\n",
       "      <td>0</td>\n",
       "    </tr>\n",
       "    <tr>\n",
       "      <th>1</th>\n",
       "      <td>0</td>\n",
       "      <td>0</td>\n",
       "      <td>0</td>\n",
       "      <td>0</td>\n",
       "      <td>0</td>\n",
       "      <td>0</td>\n",
       "      <td>1</td>\n",
       "      <td>0</td>\n",
       "      <td>0</td>\n",
       "      <td>0</td>\n",
       "      <td>0</td>\n",
       "      <td>0</td>\n",
       "      <td>0</td>\n",
       "      <td>0</td>\n",
       "      <td>1</td>\n",
       "    </tr>\n",
       "    <tr>\n",
       "      <th>2</th>\n",
       "      <td>0</td>\n",
       "      <td>0</td>\n",
       "      <td>1</td>\n",
       "      <td>0</td>\n",
       "      <td>0</td>\n",
       "      <td>0</td>\n",
       "      <td>0</td>\n",
       "      <td>0</td>\n",
       "      <td>0</td>\n",
       "      <td>1</td>\n",
       "      <td>0</td>\n",
       "      <td>0</td>\n",
       "      <td>0</td>\n",
       "      <td>0</td>\n",
       "      <td>0</td>\n",
       "    </tr>\n",
       "    <tr>\n",
       "      <th>3</th>\n",
       "      <td>0</td>\n",
       "      <td>0</td>\n",
       "      <td>0</td>\n",
       "      <td>0</td>\n",
       "      <td>0</td>\n",
       "      <td>1</td>\n",
       "      <td>0</td>\n",
       "      <td>0</td>\n",
       "      <td>0</td>\n",
       "      <td>1</td>\n",
       "      <td>0</td>\n",
       "      <td>0</td>\n",
       "      <td>0</td>\n",
       "      <td>0</td>\n",
       "      <td>0</td>\n",
       "    </tr>\n",
       "    <tr>\n",
       "      <th>4</th>\n",
       "      <td>0</td>\n",
       "      <td>0</td>\n",
       "      <td>0</td>\n",
       "      <td>1</td>\n",
       "      <td>0</td>\n",
       "      <td>0</td>\n",
       "      <td>0</td>\n",
       "      <td>0</td>\n",
       "      <td>0</td>\n",
       "      <td>1</td>\n",
       "      <td>0</td>\n",
       "      <td>0</td>\n",
       "      <td>0</td>\n",
       "      <td>0</td>\n",
       "      <td>0</td>\n",
       "    </tr>\n",
       "  </tbody>\n",
       "</table>\n",
       "</div>"
      ],
      "text/plain": [
       "   month_aug  month_dec  month_jul  month_jun  month_mar  month_may  \\\n",
       "0          0          0          0          0          0          0   \n",
       "1          0          0          0          0          0          0   \n",
       "2          0          0          1          0          0          0   \n",
       "3          0          0          0          0          0          1   \n",
       "4          0          0          0          1          0          0   \n",
       "\n",
       "   month_nov  month_oct  month_sep  poutcome_nonexistent  poutcome_success  \\\n",
       "0          1          0          0                     1                 0   \n",
       "1          1          0          0                     0                 0   \n",
       "2          0          0          0                     1                 0   \n",
       "3          0          0          0                     1                 0   \n",
       "4          0          0          0                     1                 0   \n",
       "\n",
       "   difficulty_0  difficulty_1  difficulty_2  difficulty_4  \n",
       "0             0             0             0             0  \n",
       "1             0             0             0             1  \n",
       "2             0             0             0             0  \n",
       "3             0             0             0             0  \n",
       "4             0             0             0             0  "
      ]
     },
     "execution_count": 37,
     "metadata": {},
     "output_type": "execute_result"
    }
   ],
   "source": [
    "# Para fazer o encoding das variáveis usar o método get_dummies que converte dados categóricos em variáveis fictícias ou indicadores.\n",
    "\n",
    "expl_cat_feature_selection = pd.get_dummies(expl_cat_feature_selection, prefix_sep='_', columns=expl_cat_feature_selection.columns, drop_first=True)\n",
    "expl_cat_feature_selection.head()"
   ]
  },
  {
   "cell_type": "code",
   "execution_count": 38,
   "metadata": {
    "id": "svpTAf5AQKUv"
   },
   "outputs": [],
   "source": [
    "explicativas_modelagem = expl_num_feature_selection.merge(expl_cat_feature_selection, \n",
    "                                                          left_index=True,\n",
    "                                                          right_index=True)"
   ]
  },
  {
   "cell_type": "code",
   "execution_count": 39,
   "metadata": {
    "colab": {
     "base_uri": "https://localhost:8080/",
     "height": 270
    },
    "executionInfo": {
     "elapsed": 8,
     "status": "ok",
     "timestamp": 1653263261950,
     "user": {
      "displayName": "Lucas Corrêa",
      "userId": "06320273670240218623"
     },
     "user_tz": 180
    },
    "id": "jOjfS6WNQfhh",
    "outputId": "1b7d4b91-d2c3-4165-eda0-198aca630df2"
   },
   "outputs": [
    {
     "data": {
      "text/html": [
       "<div>\n",
       "<style scoped>\n",
       "    .dataframe tbody tr th:only-of-type {\n",
       "        vertical-align: middle;\n",
       "    }\n",
       "\n",
       "    .dataframe tbody tr th {\n",
       "        vertical-align: top;\n",
       "    }\n",
       "\n",
       "    .dataframe thead th {\n",
       "        text-align: right;\n",
       "    }\n",
       "</style>\n",
       "<table border=\"1\" class=\"dataframe\">\n",
       "  <thead>\n",
       "    <tr style=\"text-align: right;\">\n",
       "      <th></th>\n",
       "      <th>age</th>\n",
       "      <th>campaign</th>\n",
       "      <th>previous</th>\n",
       "      <th>month_aug</th>\n",
       "      <th>month_dec</th>\n",
       "      <th>month_jul</th>\n",
       "      <th>month_jun</th>\n",
       "      <th>month_mar</th>\n",
       "      <th>month_may</th>\n",
       "      <th>month_nov</th>\n",
       "      <th>month_oct</th>\n",
       "      <th>month_sep</th>\n",
       "      <th>poutcome_nonexistent</th>\n",
       "      <th>poutcome_success</th>\n",
       "      <th>difficulty_0</th>\n",
       "      <th>difficulty_1</th>\n",
       "      <th>difficulty_2</th>\n",
       "      <th>difficulty_4</th>\n",
       "    </tr>\n",
       "  </thead>\n",
       "  <tbody>\n",
       "    <tr>\n",
       "      <th>32945</th>\n",
       "      <td>28</td>\n",
       "      <td>1</td>\n",
       "      <td>0</td>\n",
       "      <td>0</td>\n",
       "      <td>0</td>\n",
       "      <td>1</td>\n",
       "      <td>0</td>\n",
       "      <td>0</td>\n",
       "      <td>0</td>\n",
       "      <td>0</td>\n",
       "      <td>0</td>\n",
       "      <td>0</td>\n",
       "      <td>1</td>\n",
       "      <td>0</td>\n",
       "      <td>0</td>\n",
       "      <td>0</td>\n",
       "      <td>0</td>\n",
       "      <td>0</td>\n",
       "    </tr>\n",
       "    <tr>\n",
       "      <th>32946</th>\n",
       "      <td>52</td>\n",
       "      <td>1</td>\n",
       "      <td>1</td>\n",
       "      <td>0</td>\n",
       "      <td>0</td>\n",
       "      <td>0</td>\n",
       "      <td>0</td>\n",
       "      <td>0</td>\n",
       "      <td>0</td>\n",
       "      <td>1</td>\n",
       "      <td>0</td>\n",
       "      <td>0</td>\n",
       "      <td>0</td>\n",
       "      <td>0</td>\n",
       "      <td>0</td>\n",
       "      <td>0</td>\n",
       "      <td>0</td>\n",
       "      <td>1</td>\n",
       "    </tr>\n",
       "    <tr>\n",
       "      <th>32947</th>\n",
       "      <td>54</td>\n",
       "      <td>4</td>\n",
       "      <td>0</td>\n",
       "      <td>0</td>\n",
       "      <td>0</td>\n",
       "      <td>1</td>\n",
       "      <td>0</td>\n",
       "      <td>0</td>\n",
       "      <td>0</td>\n",
       "      <td>0</td>\n",
       "      <td>0</td>\n",
       "      <td>0</td>\n",
       "      <td>1</td>\n",
       "      <td>0</td>\n",
       "      <td>0</td>\n",
       "      <td>0</td>\n",
       "      <td>0</td>\n",
       "      <td>0</td>\n",
       "    </tr>\n",
       "    <tr>\n",
       "      <th>32948</th>\n",
       "      <td>29</td>\n",
       "      <td>1</td>\n",
       "      <td>0</td>\n",
       "      <td>0</td>\n",
       "      <td>0</td>\n",
       "      <td>0</td>\n",
       "      <td>0</td>\n",
       "      <td>0</td>\n",
       "      <td>1</td>\n",
       "      <td>0</td>\n",
       "      <td>0</td>\n",
       "      <td>0</td>\n",
       "      <td>1</td>\n",
       "      <td>0</td>\n",
       "      <td>0</td>\n",
       "      <td>0</td>\n",
       "      <td>0</td>\n",
       "      <td>0</td>\n",
       "    </tr>\n",
       "    <tr>\n",
       "      <th>32949</th>\n",
       "      <td>35</td>\n",
       "      <td>3</td>\n",
       "      <td>0</td>\n",
       "      <td>0</td>\n",
       "      <td>0</td>\n",
       "      <td>0</td>\n",
       "      <td>1</td>\n",
       "      <td>0</td>\n",
       "      <td>0</td>\n",
       "      <td>0</td>\n",
       "      <td>0</td>\n",
       "      <td>0</td>\n",
       "      <td>1</td>\n",
       "      <td>0</td>\n",
       "      <td>0</td>\n",
       "      <td>0</td>\n",
       "      <td>0</td>\n",
       "      <td>0</td>\n",
       "    </tr>\n",
       "  </tbody>\n",
       "</table>\n",
       "</div>"
      ],
      "text/plain": [
       "       age  campaign  previous  month_aug  month_dec  month_jul  month_jun  \\\n",
       "32945   28         1         0          0          0          1          0   \n",
       "32946   52         1         1          0          0          0          0   \n",
       "32947   54         4         0          0          0          1          0   \n",
       "32948   29         1         0          0          0          0          0   \n",
       "32949   35         3         0          0          0          0          1   \n",
       "\n",
       "       month_mar  month_may  month_nov  month_oct  month_sep  \\\n",
       "32945          0          0          0          0          0   \n",
       "32946          0          0          1          0          0   \n",
       "32947          0          0          0          0          0   \n",
       "32948          0          1          0          0          0   \n",
       "32949          0          0          0          0          0   \n",
       "\n",
       "       poutcome_nonexistent  poutcome_success  difficulty_0  difficulty_1  \\\n",
       "32945                     1                 0             0             0   \n",
       "32946                     0                 0             0             0   \n",
       "32947                     1                 0             0             0   \n",
       "32948                     1                 0             0             0   \n",
       "32949                     1                 0             0             0   \n",
       "\n",
       "       difficulty_2  difficulty_4  \n",
       "32945             0             0  \n",
       "32946             0             1  \n",
       "32947             0             0  \n",
       "32948             0             0  \n",
       "32949             0             0  "
      ]
     },
     "execution_count": 39,
     "metadata": {},
     "output_type": "execute_result"
    }
   ],
   "source": [
    "explicativas_modelagem.tail()"
   ]
  },
  {
   "cell_type": "markdown",
   "metadata": {
    "id": "YpDhszDAR2Kd"
   },
   "source": [
    "## Quebra dos dados entre train / test"
   ]
  },
  {
   "cell_type": "code",
   "execution_count": 40,
   "metadata": {
    "id": "_YPS_EtHQjee"
   },
   "outputs": [],
   "source": [
    "x_treino, x_teste, y_treino, y_teste = train_test_split(explicativas_modelagem,\n",
    "                                                        var_resp,\n",
    "                                                        test_size=0.3,\n",
    "                                                        random_state=42)"
   ]
  },
  {
   "cell_type": "markdown",
   "metadata": {
    "id": "hHxMrxMzSfkN"
   },
   "source": [
    "## O Algoritmo"
   ]
  },
  {
   "cell_type": "markdown",
   "metadata": {
    "id": "GoNnwuGZTUIN"
   },
   "source": [
    "Para treinamento de um modelo de modelagem clássico:\n",
    "* Import do pacote de ML\n",
    "* Instancie o obj em memória\n",
    "* Treinamento\n",
    "* Auferir os resultados"
   ]
  },
  {
   "cell_type": "code",
   "execution_count": 41,
   "metadata": {
    "id": "RNLuDQHSSZNA"
   },
   "outputs": [],
   "source": [
    "# Algoritmo de árvore\n",
    "\n",
    "tree = DecisionTreeClassifier(random_state=42)"
   ]
  },
  {
   "cell_type": "code",
   "execution_count": 42,
   "metadata": {
    "colab": {
     "base_uri": "https://localhost:8080/"
    },
    "executionInfo": {
     "elapsed": 8,
     "status": "ok",
     "timestamp": 1653263261951,
     "user": {
      "displayName": "Lucas Corrêa",
      "userId": "06320273670240218623"
     },
     "user_tz": 180
    },
    "id": "nptnDgyWSs4C",
    "outputId": "5f3b8270-0459-4a0a-cd72-4298bea5f97c"
   },
   "outputs": [
    {
     "data": {
      "text/plain": [
       "DecisionTreeClassifier(random_state=42)"
      ]
     },
     "execution_count": 42,
     "metadata": {},
     "output_type": "execute_result"
    }
   ],
   "source": [
    "tree"
   ]
  },
  {
   "cell_type": "code",
   "execution_count": 45,
   "metadata": {
    "id": "dWPoy2pbSti5"
   },
   "outputs": [],
   "source": [
    "# Random Forest é um método de aprendizado de máquina utilizado para problemas que envolvam classificação ou regressão.\n",
    "# Ele se baseia em uma coleção de árvores de decisão em que os são vetores aleatórios independentes e identicamente distribuídos.\n",
    "\n",
    "rf = RandomForestClassifier(n_estimators=400,\n",
    "                            random_state=42)"
   ]
  },
  {
   "cell_type": "code",
   "execution_count": 46,
   "metadata": {
    "colab": {
     "base_uri": "https://localhost:8080/"
    },
    "executionInfo": {
     "elapsed": 8,
     "status": "ok",
     "timestamp": 1653263261952,
     "user": {
      "displayName": "Lucas Corrêa",
      "userId": "06320273670240218623"
     },
     "user_tz": 180
    },
    "id": "OOGNChwsS9aS",
    "outputId": "ebd19542-b85f-4c64-9816-1cd585294ae7"
   },
   "outputs": [
    {
     "data": {
      "text/plain": [
       "RandomForestClassifier(n_estimators=400, random_state=42)"
      ]
     },
     "execution_count": 46,
     "metadata": {},
     "output_type": "execute_result"
    }
   ],
   "source": [
    "rf"
   ]
  },
  {
   "cell_type": "markdown",
   "metadata": {},
   "source": [
    "O algoritmo **Gradient Boosting** é uma técnica de aprendizado de máquina para problemas de regressão e classificação, que produz um modelo de previsão na forma de um conjunto de modelos de previsão fracos, geralmente árvores de decisão. Ele constrói o modelo em etapas, como outros métodos de reforço, e os generaliza, permitindo a otimização de uma função de perda diferenciável arbitrária.\n",
    "https://medium.com/equals-lab/uma-breve-introdu%C3%A7%C3%A3o-ao-algoritmo-de-machine-learning-gradient-boosting-utilizando-a-biblioteca-311285783099"
   ]
  },
  {
   "cell_type": "code",
   "execution_count": 47,
   "metadata": {
    "id": "Q9MIWSmJS-FC"
   },
   "outputs": [],
   "source": [
    "\n",
    "gb = GradientBoostingClassifier(n_estimators=400, \n",
    "                                random_state=42)"
   ]
  },
  {
   "cell_type": "code",
   "execution_count": 48,
   "metadata": {
    "colab": {
     "base_uri": "https://localhost:8080/"
    },
    "executionInfo": {
     "elapsed": 7,
     "status": "ok",
     "timestamp": 1653263262195,
     "user": {
      "displayName": "Lucas Corrêa",
      "userId": "06320273670240218623"
     },
     "user_tz": 180
    },
    "id": "-bYWb2vUTJBR",
    "outputId": "6b20b2a0-9ba2-4c9e-842b-86788c90677c"
   },
   "outputs": [
    {
     "data": {
      "text/plain": [
       "GradientBoostingClassifier(n_estimators=400, random_state=42)"
      ]
     },
     "execution_count": 48,
     "metadata": {},
     "output_type": "execute_result"
    }
   ],
   "source": [
    "gb"
   ]
  },
  {
   "cell_type": "code",
   "execution_count": 49,
   "metadata": {
    "colab": {
     "base_uri": "https://localhost:8080/"
    },
    "executionInfo": {
     "elapsed": 6,
     "status": "ok",
     "timestamp": 1653263262195,
     "user": {
      "displayName": "Lucas Corrêa",
      "userId": "06320273670240218623"
     },
     "user_tz": 180
    },
    "id": "AVspF_wtTJhh",
    "outputId": "502d9b8f-f5a8-4843-86e9-eef2af209278"
   },
   "outputs": [
    {
     "data": {
      "text/plain": [
       "DecisionTreeClassifier(random_state=42)"
      ]
     },
     "execution_count": 49,
     "metadata": {},
     "output_type": "execute_result"
    }
   ],
   "source": [
    "tree.fit(x_treino, y_treino)"
   ]
  },
  {
   "cell_type": "code",
   "execution_count": 50,
   "metadata": {
    "colab": {
     "base_uri": "https://localhost:8080/"
    },
    "executionInfo": {
     "elapsed": 6691,
     "status": "ok",
     "timestamp": 1653263268883,
     "user": {
      "displayName": "Lucas Corrêa",
      "userId": "06320273670240218623"
     },
     "user_tz": 180
    },
    "id": "1-VwAXFWT7ad",
    "outputId": "231132fd-4075-4978-cef2-75fd9e48df5c"
   },
   "outputs": [
    {
     "data": {
      "text/plain": [
       "RandomForestClassifier(n_estimators=400, random_state=42)"
      ]
     },
     "execution_count": 50,
     "metadata": {},
     "output_type": "execute_result"
    }
   ],
   "source": [
    "rf.fit(x_treino, y_treino)"
   ]
  },
  {
   "cell_type": "code",
   "execution_count": 51,
   "metadata": {
    "colab": {
     "base_uri": "https://localhost:8080/"
    },
    "executionInfo": {
     "elapsed": 6088,
     "status": "ok",
     "timestamp": 1653263274969,
     "user": {
      "displayName": "Lucas Corrêa",
      "userId": "06320273670240218623"
     },
     "user_tz": 180
    },
    "id": "265Bdan2UAQM",
    "outputId": "258c28f9-5a6f-4620-b4c9-b94667cafeb9"
   },
   "outputs": [
    {
     "data": {
      "text/plain": [
       "GradientBoostingClassifier(n_estimators=400, random_state=42)"
      ]
     },
     "execution_count": 51,
     "metadata": {},
     "output_type": "execute_result"
    }
   ],
   "source": [
    "gb.fit(x_treino, y_treino)"
   ]
  },
  {
   "cell_type": "markdown",
   "metadata": {
    "id": "kN2fzhBtU88e"
   },
   "source": [
    "## Acurácia da árvore"
   ]
  },
  {
   "cell_type": "code",
   "execution_count": 52,
   "metadata": {
    "colab": {
     "base_uri": "https://localhost:8080/"
    },
    "executionInfo": {
     "elapsed": 7,
     "status": "ok",
     "timestamp": 1653263274970,
     "user": {
      "displayName": "Lucas Corrêa",
      "userId": "06320273670240218623"
     },
     "user_tz": 180
    },
    "id": "Q29zJzEMUSRF",
    "outputId": "95cff8a0-2797-4eed-ef0c-727b95d0ee4b"
   },
   "outputs": [
    {
     "data": {
      "text/plain": [
       "0.9274658573596358"
      ]
     },
     "execution_count": 52,
     "metadata": {},
     "output_type": "execute_result"
    }
   ],
   "source": [
    "accuracy_score(y_treino, tree.predict(x_treino))"
   ]
  },
  {
   "cell_type": "code",
   "execution_count": 53,
   "metadata": {
    "colab": {
     "base_uri": "https://localhost:8080/"
    },
    "executionInfo": {
     "elapsed": 5,
     "status": "ok",
     "timestamp": 1653263274970,
     "user": {
      "displayName": "Lucas Corrêa",
      "userId": "06320273670240218623"
     },
     "user_tz": 180
    },
    "id": "RjNwmziFUrUA",
    "outputId": "5e7ab6fa-014e-4897-c8e2-453e4958412a"
   },
   "outputs": [
    {
     "data": {
      "text/plain": [
       "0.8823469903894791"
      ]
     },
     "execution_count": 53,
     "metadata": {},
     "output_type": "execute_result"
    }
   ],
   "source": [
    "accuracy_score(y_teste, tree.predict(x_teste))"
   ]
  },
  {
   "cell_type": "markdown",
   "metadata": {
    "id": "gpiwSfYEU6OA"
   },
   "source": [
    "## Acurácia da RandomForest"
   ]
  },
  {
   "cell_type": "code",
   "execution_count": 54,
   "metadata": {
    "colab": {
     "base_uri": "https://localhost:8080/"
    },
    "executionInfo": {
     "elapsed": 3601,
     "status": "ok",
     "timestamp": 1653263278568,
     "user": {
      "displayName": "Lucas Corrêa",
      "userId": "06320273670240218623"
     },
     "user_tz": 180
    },
    "id": "50dXwWhgUu1G",
    "outputId": "a0ca1d35-91cb-4da2-d929-5446477018d4"
   },
   "outputs": [
    {
     "data": {
      "text/plain": [
       "0.9274658573596358"
      ]
     },
     "execution_count": 54,
     "metadata": {},
     "output_type": "execute_result"
    }
   ],
   "source": [
    "accuracy_score(y_treino, rf.predict(x_treino))"
   ]
  },
  {
   "cell_type": "code",
   "execution_count": 55,
   "metadata": {
    "colab": {
     "base_uri": "https://localhost:8080/"
    },
    "executionInfo": {
     "elapsed": 1519,
     "status": "ok",
     "timestamp": 1653263280083,
     "user": {
      "displayName": "Lucas Corrêa",
      "userId": "06320273670240218623"
     },
     "user_tz": 180
    },
    "id": "-0ahrupMU3xm",
    "outputId": "fede1a0d-d0cb-4f3c-843b-ba59b10a343f"
   },
   "outputs": [
    {
     "data": {
      "text/plain": [
       "0.8845725847243298"
      ]
     },
     "execution_count": 55,
     "metadata": {},
     "output_type": "execute_result"
    }
   ],
   "source": [
    "accuracy_score(y_teste, rf.predict(x_teste))"
   ]
  },
  {
   "cell_type": "markdown",
   "metadata": {
    "id": "otgo6ka4U_tq"
   },
   "source": [
    "## Acuraria do GradientBoosting"
   ]
  },
  {
   "cell_type": "code",
   "execution_count": 56,
   "metadata": {
    "colab": {
     "base_uri": "https://localhost:8080/"
    },
    "executionInfo": {
     "elapsed": 367,
     "status": "ok",
     "timestamp": 1653263280446,
     "user": {
      "displayName": "Lucas Corrêa",
      "userId": "06320273670240218623"
     },
     "user_tz": 180
    },
    "id": "ybMLkiOjVCsG",
    "outputId": "8720eee5-1dc0-4927-c1b8-a42e161827b2"
   },
   "outputs": [
    {
     "data": {
      "text/plain": [
       "0.9065683936700628"
      ]
     },
     "execution_count": 56,
     "metadata": {},
     "output_type": "execute_result"
    }
   ],
   "source": [
    "accuracy_score(y_treino, gb.predict(x_treino))"
   ]
  },
  {
   "cell_type": "code",
   "execution_count": 57,
   "metadata": {
    "colab": {
     "base_uri": "https://localhost:8080/"
    },
    "executionInfo": {
     "elapsed": 5,
     "status": "ok",
     "timestamp": 1653263280446,
     "user": {
      "displayName": "Lucas Corrêa",
      "userId": "06320273670240218623"
     },
     "user_tz": 180
    },
    "id": "pyF__ITsVGtt",
    "outputId": "43574bf2-c34b-4e72-f108-647629a0f9d7"
   },
   "outputs": [
    {
     "data": {
      "text/plain": [
       "0.8932726353060192"
      ]
     },
     "execution_count": 57,
     "metadata": {},
     "output_type": "execute_result"
    }
   ],
   "source": [
    "accuracy_score(y_teste, gb.predict(x_teste))"
   ]
  },
  {
   "cell_type": "markdown",
   "metadata": {
    "id": "7UDyi13IMBJY"
   },
   "source": [
    "## Cross Validation"
   ]
  },
  {
   "cell_type": "code",
   "execution_count": 58,
   "metadata": {
    "id": "ceRy8DeeVIRn"
   },
   "outputs": [],
   "source": [
    "# O método Cross Validation consiste em particionar os dados em conjuntos(partes), onde um conjunto é utilizado para treino e \n",
    "# outro conjunto é utilizado para teste e avaliação do desempenho do modelo.\n",
    "\n",
    "tree_cv = cross_val_score(estimator=tree,\n",
    "                          X=x_treino,\n",
    "                          y=y_treino,\n",
    "                          cv=5,\n",
    "                          scoring=make_scorer(accuracy_score))"
   ]
  },
  {
   "cell_type": "code",
   "execution_count": 59,
   "metadata": {
    "colab": {
     "base_uri": "https://localhost:8080/"
    },
    "executionInfo": {
     "elapsed": 9,
     "status": "ok",
     "timestamp": 1653263281002,
     "user": {
      "displayName": "Lucas Corrêa",
      "userId": "06320273670240218623"
     },
     "user_tz": 180
    },
    "id": "ZqKXif1hMswQ",
    "outputId": "eab61ac6-53c7-4e52-8626-eda5e6f646b7"
   },
   "outputs": [
    {
     "data": {
      "text/plain": [
       "array([0.88792543, 0.89182744, 0.88163885, 0.88424019, 0.88575764])"
      ]
     },
     "execution_count": 59,
     "metadata": {},
     "output_type": "execute_result"
    }
   ],
   "source": [
    "tree_cv"
   ]
  },
  {
   "cell_type": "code",
   "execution_count": 60,
   "metadata": {
    "colab": {
     "base_uri": "https://localhost:8080/"
    },
    "executionInfo": {
     "elapsed": 7,
     "status": "ok",
     "timestamp": 1653263281002,
     "user": {
      "displayName": "Lucas Corrêa",
      "userId": "06320273670240218623"
     },
     "user_tz": 180
    },
    "id": "XXh95OaGNFLD",
    "outputId": "ee3546e4-92d0-4324-a18f-77830b40dee2"
   },
   "outputs": [
    {
     "data": {
      "text/plain": [
       "array([0.88792543, 0.89182744, 0.88163885, 0.88424019, 0.88575764])"
      ]
     },
     "execution_count": 60,
     "metadata": {},
     "output_type": "execute_result"
    }
   ],
   "source": [
    "tree_cv"
   ]
  },
  {
   "cell_type": "markdown",
   "metadata": {
    "id": "mXQgujIBNyYr"
   },
   "source": [
    "Relembrando o treinamento padrão dos algoritmos e observando o quanto os hiperparametros mudam nos resultados dos algoritmos."
   ]
  },
  {
   "cell_type": "code",
   "execution_count": 61,
   "metadata": {
    "colab": {
     "base_uri": "https://localhost:8080/"
    },
    "executionInfo": {
     "elapsed": 5,
     "status": "ok",
     "timestamp": 1653263281002,
     "user": {
      "displayName": "Lucas Corrêa",
      "userId": "06320273670240218623"
     },
     "user_tz": 180
    },
    "id": "Pmhc-oplOnmR",
    "outputId": "cfb4f260-39b0-48e4-8d82-9ed6b1bd4d08"
   },
   "outputs": [
    {
     "data": {
      "text/plain": [
       "age                     23065\n",
       "campaign                23065\n",
       "previous                23065\n",
       "month_aug               23065\n",
       "month_dec               23065\n",
       "month_jul               23065\n",
       "month_jun               23065\n",
       "month_mar               23065\n",
       "month_may               23065\n",
       "month_nov               23065\n",
       "month_oct               23065\n",
       "month_sep               23065\n",
       "poutcome_nonexistent    23065\n",
       "poutcome_success        23065\n",
       "difficulty_0            23065\n",
       "difficulty_1            23065\n",
       "difficulty_2            23065\n",
       "difficulty_4            23065\n",
       "dtype: int64"
      ]
     },
     "execution_count": 61,
     "metadata": {},
     "output_type": "execute_result"
    }
   ],
   "source": [
    "x_treino.count()"
   ]
  },
  {
   "cell_type": "code",
   "execution_count": 62,
   "metadata": {
    "id": "OAcc4n6TNbMD"
   },
   "outputs": [],
   "source": [
    "# Simulando com valores distintos de n para o primeiro conjunto de treinamento:\n",
    "# criterion= (\"entropy\")\n",
    "# max_depth= (50,100) \n",
    "# min_samples_split=(5, 50) \n",
    "# min_samples_leaf= (40, 200)\n",
    "\n",
    "\n",
    "tree_modificada = DecisionTreeClassifier(criterion=\"entropy\", max_depth=50, min_samples_leaf=5, min_samples_split=40)"
   ]
  },
  {
   "cell_type": "code",
   "execution_count": 63,
   "metadata": {
    "colab": {
     "base_uri": "https://localhost:8080/"
    },
    "executionInfo": {
     "elapsed": 379,
     "status": "ok",
     "timestamp": 1653263281379,
     "user": {
      "displayName": "Lucas Corrêa",
      "userId": "06320273670240218623"
     },
     "user_tz": 180
    },
    "id": "K3fDFcJBO5qC",
    "outputId": "8008c2d0-bba8-44b9-f5f4-001bfd80c37e"
   },
   "outputs": [
    {
     "data": {
      "text/plain": [
       "DecisionTreeClassifier(criterion='entropy', max_depth=50, min_samples_leaf=5,\n",
       "                       min_samples_split=40)"
      ]
     },
     "execution_count": 63,
     "metadata": {},
     "output_type": "execute_result"
    }
   ],
   "source": [
    "tree_modificada.fit(x_treino, y_treino)"
   ]
  },
  {
   "cell_type": "code",
   "execution_count": 64,
   "metadata": {
    "colab": {
     "base_uri": "https://localhost:8080/"
    },
    "executionInfo": {
     "elapsed": 9,
     "status": "ok",
     "timestamp": 1653263281379,
     "user": {
      "displayName": "Lucas Corrêa",
      "userId": "06320273670240218623"
     },
     "user_tz": 180
    },
    "id": "5k54rCf5O-qM",
    "outputId": "52031d07-cbf3-46f0-d795-c4ec02d372a5"
   },
   "outputs": [
    {
     "data": {
      "text/plain": [
       "0.9042705397788857"
      ]
     },
     "execution_count": 64,
     "metadata": {},
     "output_type": "execute_result"
    }
   ],
   "source": [
    "accuracy_score(y_treino, tree_modificada.predict(x_treino))"
   ]
  },
  {
   "cell_type": "code",
   "execution_count": 65,
   "metadata": {
    "id": "_DKSHOxTPEuG"
   },
   "outputs": [],
   "source": [
    "tree_modificada = DecisionTreeClassifier(criterion=\"entropy\", max_depth=100, min_samples_leaf=50, min_samples_split=200)"
   ]
  },
  {
   "cell_type": "code",
   "execution_count": 66,
   "metadata": {
    "colab": {
     "base_uri": "https://localhost:8080/"
    },
    "executionInfo": {
     "elapsed": 7,
     "status": "ok",
     "timestamp": 1653263281380,
     "user": {
      "displayName": "Lucas Corrêa",
      "userId": "06320273670240218623"
     },
     "user_tz": 180
    },
    "id": "23ebRVP-PalS",
    "outputId": "4d8fb90c-e3e0-4f26-8250-039343fe8be9"
   },
   "outputs": [
    {
     "data": {
      "text/plain": [
       "DecisionTreeClassifier(criterion='entropy', max_depth=100, min_samples_leaf=50,\n",
       "                       min_samples_split=200)"
      ]
     },
     "execution_count": 66,
     "metadata": {},
     "output_type": "execute_result"
    }
   ],
   "source": [
    "tree_modificada.fit(x_treino, y_treino)"
   ]
  },
  {
   "cell_type": "code",
   "execution_count": 67,
   "metadata": {
    "colab": {
     "base_uri": "https://localhost:8080/"
    },
    "executionInfo": {
     "elapsed": 6,
     "status": "ok",
     "timestamp": 1653263281380,
     "user": {
      "displayName": "Lucas Corrêa",
      "userId": "06320273670240218623"
     },
     "user_tz": 180
    },
    "id": "LVc-oqeJPgMr",
    "outputId": "b163c450-9cf0-4d88-d51b-99a6dedc9cb5"
   },
   "outputs": [
    {
     "data": {
      "text/plain": [
       "0.8997181877303273"
      ]
     },
     "execution_count": 67,
     "metadata": {},
     "output_type": "execute_result"
    }
   ],
   "source": [
    "accuracy_score(y_treino, tree_modificada.predict(x_treino))"
   ]
  },
  {
   "cell_type": "code",
   "execution_count": 68,
   "metadata": {
    "colab": {
     "base_uri": "https://localhost:8080/"
    },
    "executionInfo": {
     "elapsed": 5,
     "status": "ok",
     "timestamp": 1653263281380,
     "user": {
      "displayName": "Lucas Corrêa",
      "userId": "06320273670240218623"
     },
     "user_tz": 180
    },
    "id": "3IDJwPnBPojj",
    "outputId": "71f0a1cf-b7c4-4fc0-ca57-b90070d0e0de"
   },
   "outputs": [
    {
     "data": {
      "text/plain": [
       "0.8941831057157309"
      ]
     },
     "execution_count": 68,
     "metadata": {},
     "output_type": "execute_result"
    }
   ],
   "source": [
    "accuracy_score(y_teste, tree_modificada.predict(x_teste))"
   ]
  },
  {
   "cell_type": "markdown",
   "metadata": {
    "id": "jnYsOJOJ2wsZ"
   },
   "source": [
    "## Tuning de Hiperparâmetros"
   ]
  },
  {
   "cell_type": "markdown",
   "metadata": {
    "id": "8Z-mT-W1ZB6B"
   },
   "source": [
    "### Passos\n",
    "\n",
    " 1. import do pacote\n",
    " 2. chamada do objeto (estimador)\n",
    " 3. dicionario com os conjuntos de hiperparametros\n",
    " 4. chamada do objeto GridSearch\n",
    " 5. fit (treinamento)\n",
    " 6. verificar o resultado"
   ]
  },
  {
   "cell_type": "code",
   "execution_count": 75,
   "metadata": {
    "id": "b_E5Q3M63kjH"
   },
   "outputs": [],
   "source": [
    "# 1 - import do pacote\n",
    "\n",
    "from sklearn.ensemble import RandomForestClassifier\n",
    "from sklearn.model_selection import GridSearchCV"
   ]
  },
  {
   "cell_type": "code",
   "execution_count": 76,
   "metadata": {
    "id": "BffUm0ir3w2u"
   },
   "outputs": [],
   "source": [
    "# 2 - chamada do objeto (estimador)\n",
    "\n",
    "rf_grid_estimator = RandomForestClassifier()\n"
   ]
  },
  {
   "cell_type": "code",
   "execution_count": 77,
   "metadata": {
    "id": "Gr19tl9o4BOG"
   },
   "outputs": [],
   "source": [
    "# 3 - dicionario com os conjuntos de hiperparametros\n",
    "\n",
    "rf_grid_dc = {\n",
    "    'n_estimators':[50,100,200,500],\n",
    "    'criterion':['gini','entropy'],\n",
    "    'bootstrap':[True,False],\n",
    "    'random_state':[42]\n",
    "}"
   ]
  },
  {
   "cell_type": "code",
   "execution_count": 78,
   "metadata": {
    "colab": {
     "base_uri": "https://localhost:8080/"
    },
    "executionInfo": {
     "elapsed": 11,
     "status": "ok",
     "timestamp": 1653263281614,
     "user": {
      "displayName": "Lucas Corrêa",
      "userId": "06320273670240218623"
     },
     "user_tz": 180
    },
    "id": "y1gnPf3T4fd_",
    "outputId": "86ce2459-77f9-45bb-87cc-6da7d8b9f404"
   },
   "outputs": [
    {
     "data": {
      "text/plain": [
       "{'n_estimators': [50, 100, 200, 500],\n",
       " 'criterion': ['gini', 'entropy'],\n",
       " 'bootstrap': [True, False],\n",
       " 'random_state': [42]}"
      ]
     },
     "execution_count": 78,
     "metadata": {},
     "output_type": "execute_result"
    }
   ],
   "source": [
    "rf_grid_dc"
   ]
  },
  {
   "cell_type": "code",
   "execution_count": 79,
   "metadata": {
    "id": "iFVu64UH4hpe"
   },
   "outputs": [],
   "source": [
    "# 4 - chamada do objeto GridSearch\n",
    "\n",
    "rf_grid = GridSearchCV(rf_grid_estimator,\n",
    "                       rf_grid_dc,\n",
    "                       cv=2,\n",
    "                       scoring=make_scorer(accuracy_score))"
   ]
  },
  {
   "cell_type": "code",
   "execution_count": 80,
   "metadata": {
    "colab": {
     "base_uri": "https://localhost:8080/"
    },
    "executionInfo": {
     "elapsed": 6,
     "status": "ok",
     "timestamp": 1653263281614,
     "user": {
      "displayName": "Lucas Corrêa",
      "userId": "06320273670240218623"
     },
     "user_tz": 180
    },
    "id": "LFo9oAAL49_0",
    "outputId": "ff30cd37-3c39-45e4-efde-2608cb9c6984"
   },
   "outputs": [
    {
     "data": {
      "text/plain": [
       "GridSearchCV(cv=2, estimator=RandomForestClassifier(),\n",
       "             param_grid={'bootstrap': [True, False],\n",
       "                         'criterion': ['gini', 'entropy'],\n",
       "                         'n_estimators': [50, 100, 200, 500],\n",
       "                         'random_state': [42]},\n",
       "             scoring=make_scorer(accuracy_score))"
      ]
     },
     "execution_count": 80,
     "metadata": {},
     "output_type": "execute_result"
    }
   ],
   "source": [
    "rf_grid"
   ]
  },
  {
   "cell_type": "code",
   "execution_count": 81,
   "metadata": {
    "colab": {
     "base_uri": "https://localhost:8080/"
    },
    "executionInfo": {
     "elapsed": 83758,
     "status": "ok",
     "timestamp": 1653263365368,
     "user": {
      "displayName": "Lucas Corrêa",
      "userId": "06320273670240218623"
     },
     "user_tz": 180
    },
    "id": "sN33HRaU4_oe",
    "outputId": "94d320ae-1b2b-49f8-ee12-6f11ac58f30f"
   },
   "outputs": [
    {
     "data": {
      "text/plain": [
       "GridSearchCV(cv=2, estimator=RandomForestClassifier(),\n",
       "             param_grid={'bootstrap': [True, False],\n",
       "                         'criterion': ['gini', 'entropy'],\n",
       "                         'n_estimators': [50, 100, 200, 500],\n",
       "                         'random_state': [42]},\n",
       "             scoring=make_scorer(accuracy_score))"
      ]
     },
     "execution_count": 81,
     "metadata": {},
     "output_type": "execute_result"
    }
   ],
   "source": [
    "# 5 - it (treinamento)\n",
    "\n",
    "rf_grid.fit(x_treino, y_treino)"
   ]
  },
  {
   "cell_type": "code",
   "execution_count": 84,
   "metadata": {
    "colab": {
     "base_uri": "https://localhost:8080/"
    },
    "executionInfo": {
     "elapsed": 16,
     "status": "ok",
     "timestamp": 1653263365368,
     "user": {
      "displayName": "Lucas Corrêa",
      "userId": "06320273670240218623"
     },
     "user_tz": 180
    },
    "id": "z8f1qX-j5IBf",
    "outputId": "3870fa2a-7ce6-49e8-f2dd-e89d747ae74c"
   },
   "outputs": [
    {
     "data": {
      "text/plain": [
       "RandomForestClassifier(n_estimators=200, random_state=42)"
      ]
     },
     "execution_count": 84,
     "metadata": {},
     "output_type": "execute_result"
    }
   ],
   "source": [
    "rf_grid.best_estimator_"
   ]
  },
  {
   "cell_type": "code",
   "execution_count": 85,
   "metadata": {
    "colab": {
     "base_uri": "https://localhost:8080/"
    },
    "executionInfo": {
     "elapsed": 10,
     "status": "ok",
     "timestamp": 1653263365368,
     "user": {
      "displayName": "Lucas Corrêa",
      "userId": "06320273670240218623"
     },
     "user_tz": 180
    },
    "id": "NHtRfaI856rL",
    "outputId": "6ead5ad5-9f25-4b76-f484-f46cc3132ef2"
   },
   "outputs": [
    {
     "data": {
      "text/plain": [
       "{'bootstrap': True,\n",
       " 'criterion': 'gini',\n",
       " 'n_estimators': 200,\n",
       " 'random_state': 42}"
      ]
     },
     "execution_count": 85,
     "metadata": {},
     "output_type": "execute_result"
    }
   ],
   "source": [
    "# 6 - verificar o resultado\n",
    "\n",
    "rf_grid.best_params_"
   ]
  },
  {
   "cell_type": "markdown",
   "metadata": {
    "id": "9YyVyMdZ8KHR"
   },
   "source": [
    "## Tuning de Hiperparâmetros explorando demais métricas"
   ]
  },
  {
   "cell_type": "markdown",
   "metadata": {
    "id": "SA--WJsX6A_x"
   },
   "source": [
    "### Gradient Boosting"
   ]
  },
  {
   "cell_type": "code",
   "execution_count": 86,
   "metadata": {
    "id": "ShbD_FyP87Dg"
   },
   "outputs": [],
   "source": [
    "# 1\n",
    "from sklearn.ensemble import GradientBoostingClassifier"
   ]
  },
  {
   "cell_type": "code",
   "execution_count": 87,
   "metadata": {
    "id": "_yEDAVHO9B2N"
   },
   "outputs": [],
   "source": [
    "# 1\n",
    "from sklearn.model_selection import GridSearchCV"
   ]
  },
  {
   "cell_type": "code",
   "execution_count": 88,
   "metadata": {
    "id": "vaKy9AIs9LT2"
   },
   "outputs": [],
   "source": [
    "# 2\n",
    "gb_grid_estimator = GradientBoostingClassifier()"
   ]
  },
  {
   "cell_type": "code",
   "execution_count": 89,
   "metadata": {
    "id": "Aba3OGsr9Sd6"
   },
   "outputs": [],
   "source": [
    "# 3\n",
    "gb_grid_dc = {\n",
    "    'n_estimators':[100,200,500],\n",
    "    'min_samples_split':[2,40],\n",
    "    'min_samples_leaf':[2,100],\n",
    "    'random_state':[42]\n",
    "    \n",
    "}"
   ]
  },
  {
   "cell_type": "code",
   "execution_count": 90,
   "metadata": {
    "colab": {
     "base_uri": "https://localhost:8080/"
    },
    "executionInfo": {
     "elapsed": 8,
     "status": "ok",
     "timestamp": 1653263365369,
     "user": {
      "displayName": "Lucas Corrêa",
      "userId": "06320273670240218623"
     },
     "user_tz": 180
    },
    "id": "jmSIJluM9z_L",
    "outputId": "d8c5a51a-09b6-4d9f-ab41-651dab0dfa94"
   },
   "outputs": [
    {
     "data": {
      "text/plain": [
       "{'n_estimators': [100, 200, 500],\n",
       " 'min_samples_split': [2, 40],\n",
       " 'min_samples_leaf': [2, 100],\n",
       " 'random_state': [42]}"
      ]
     },
     "execution_count": 90,
     "metadata": {},
     "output_type": "execute_result"
    }
   ],
   "source": [
    "gb_grid_dc"
   ]
  },
  {
   "cell_type": "code",
   "execution_count": 91,
   "metadata": {
    "id": "kIoFPqXR91Lc"
   },
   "outputs": [],
   "source": [
    "# 4\n",
    "gb_grid = GridSearchCV(gb_grid_estimator,\n",
    "                       gb_grid_dc,\n",
    "                       scoring=make_scorer(roc_auc_score),\n",
    "                       cv=5)"
   ]
  },
  {
   "cell_type": "code",
   "execution_count": 92,
   "metadata": {
    "id": "7aqopfbncF6q"
   },
   "outputs": [],
   "source": [
    "# 4\n",
    "gb_grid_acc = GridSearchCV(gb_grid_estimator,\n",
    "                       gb_grid_dc,\n",
    "                       scoring=make_scorer(accuracy_score),\n",
    "                       cv=2)"
   ]
  },
  {
   "cell_type": "code",
   "execution_count": 93,
   "metadata": {
    "colab": {
     "base_uri": "https://localhost:8080/"
    },
    "executionInfo": {
     "elapsed": 50147,
     "status": "ok",
     "timestamp": 1653268126056,
     "user": {
      "displayName": "Lucas Corrêa",
      "userId": "06320273670240218623"
     },
     "user_tz": 180
    },
    "id": "eXxDbYVGcNro",
    "outputId": "d8c07cc9-5ecf-42f0-c87b-1f9977f8870a"
   },
   "outputs": [
    {
     "data": {
      "text/plain": [
       "GridSearchCV(cv=2, estimator=GradientBoostingClassifier(),\n",
       "             param_grid={'min_samples_leaf': [2, 100],\n",
       "                         'min_samples_split': [2, 40],\n",
       "                         'n_estimators': [100, 200, 500],\n",
       "                         'random_state': [42]},\n",
       "             scoring=make_scorer(accuracy_score))"
      ]
     },
     "execution_count": 93,
     "metadata": {},
     "output_type": "execute_result"
    }
   ],
   "source": [
    "# 5\n",
    "gb_grid_acc.fit(x_treino, y_treino)"
   ]
  },
  {
   "cell_type": "code",
   "execution_count": 94,
   "metadata": {
    "colab": {
     "base_uri": "https://localhost:8080/"
    },
    "executionInfo": {
     "elapsed": 13,
     "status": "ok",
     "timestamp": 1653268126056,
     "user": {
      "displayName": "Lucas Corrêa",
      "userId": "06320273670240218623"
     },
     "user_tz": 180
    },
    "id": "0N0gWAfrcQBz",
    "outputId": "b5147ff7-b902-42ad-bdd1-47cc72ea985e"
   },
   "outputs": [
    {
     "data": {
      "text/plain": [
       "0.9037502709733363"
      ]
     },
     "execution_count": 94,
     "metadata": {},
     "output_type": "execute_result"
    }
   ],
   "source": [
    "accuracy_score(y_treino, gb_grid_acc.predict(x_treino))"
   ]
  },
  {
   "cell_type": "code",
   "execution_count": 95,
   "metadata": {
    "colab": {
     "base_uri": "https://localhost:8080/"
    },
    "executionInfo": {
     "elapsed": 11,
     "status": "ok",
     "timestamp": 1653268126056,
     "user": {
      "displayName": "Lucas Corrêa",
      "userId": "06320273670240218623"
     },
     "user_tz": 180
    },
    "id": "9Qy1HvPOcP52",
    "outputId": "d711e3b3-ebc4-4a78-ef8c-4fcad25860fe"
   },
   "outputs": [
    {
     "data": {
      "text/plain": [
       "0.8946889226100152"
      ]
     },
     "execution_count": 95,
     "metadata": {},
     "output_type": "execute_result"
    }
   ],
   "source": [
    "accuracy_score(y_teste, gb_grid_acc.predict(x_teste))"
   ]
  },
  {
   "cell_type": "code",
   "execution_count": 96,
   "metadata": {
    "id": "5UoiGnY6_Rs-"
   },
   "outputs": [],
   "source": [
    "gb_grid_2 = GridSearchCV(gb_grid_estimator,\n",
    "                       gb_grid_dc,\n",
    "                       scoring='roc_auc',\n",
    "                       cv=5)\n",
    "\n",
    "# ref.: https://scikit-learn.org/stable/modules/model_evaluation.html#scoring-parameter"
   ]
  },
  {
   "cell_type": "code",
   "execution_count": 99,
   "metadata": {
    "colab": {
     "base_uri": "https://localhost:8080/"
    },
    "executionInfo": {
     "elapsed": 6,
     "status": "ok",
     "timestamp": 1653263365370,
     "user": {
      "displayName": "Lucas Corrêa",
      "userId": "06320273670240218623"
     },
     "user_tz": 180
    },
    "id": "rdsevzCv-DQv",
    "outputId": "955b99fc-7263-41ed-f96d-14cee9c8f040"
   },
   "outputs": [
    {
     "data": {
      "text/plain": [
       "GridSearchCV(cv=5, estimator=GradientBoostingClassifier(),\n",
       "             param_grid={'min_samples_leaf': [2, 100],\n",
       "                         'min_samples_split': [2, 40],\n",
       "                         'n_estimators': [100, 200, 500],\n",
       "                         'random_state': [42]},\n",
       "             scoring=make_scorer(roc_auc_score))"
      ]
     },
     "execution_count": 99,
     "metadata": {},
     "output_type": "execute_result"
    }
   ],
   "source": [
    "gb_grid"
   ]
  },
  {
   "cell_type": "code",
   "execution_count": 100,
   "metadata": {
    "colab": {
     "base_uri": "https://localhost:8080/"
    },
    "executionInfo": {
     "elapsed": 182928,
     "status": "ok",
     "timestamp": 1653263548293,
     "user": {
      "displayName": "Lucas Corrêa",
      "userId": "06320273670240218623"
     },
     "user_tz": 180
    },
    "id": "5rK-BYGt-EO4",
    "outputId": "38ad9f0c-e4fa-426f-ed5f-386987ef5720"
   },
   "outputs": [
    {
     "data": {
      "text/plain": [
       "GridSearchCV(cv=5, estimator=GradientBoostingClassifier(),\n",
       "             param_grid={'min_samples_leaf': [2, 100],\n",
       "                         'min_samples_split': [2, 40],\n",
       "                         'n_estimators': [100, 200, 500],\n",
       "                         'random_state': [42]},\n",
       "             scoring=make_scorer(roc_auc_score))"
      ]
     },
     "execution_count": 100,
     "metadata": {},
     "output_type": "execute_result"
    }
   ],
   "source": [
    "# 5\n",
    "\n",
    "gb_grid.fit(x_treino, y_treino)"
   ]
  },
  {
   "cell_type": "code",
   "execution_count": 101,
   "metadata": {
    "colab": {
     "base_uri": "https://localhost:8080/"
    },
    "executionInfo": {
     "elapsed": 13,
     "status": "ok",
     "timestamp": 1653263548293,
     "user": {
      "displayName": "Lucas Corrêa",
      "userId": "06320273670240218623"
     },
     "user_tz": 180
    },
    "id": "RvktiktU-LmV",
    "outputId": "e29496bf-5c4b-4cfe-cbbb-960134e31a81"
   },
   "outputs": [
    {
     "data": {
      "text/plain": [
       "{'min_samples_leaf': 2,\n",
       " 'min_samples_split': 2,\n",
       " 'n_estimators': 500,\n",
       " 'random_state': 42}"
      ]
     },
     "execution_count": 101,
     "metadata": {},
     "output_type": "execute_result"
    }
   ],
   "source": [
    "gb_grid.best_params_"
   ]
  },
  {
   "cell_type": "code",
   "execution_count": 102,
   "metadata": {
    "colab": {
     "base_uri": "https://localhost:8080/"
    },
    "executionInfo": {
     "elapsed": 9,
     "status": "ok",
     "timestamp": 1653263548293,
     "user": {
      "displayName": "Lucas Corrêa",
      "userId": "06320273670240218623"
     },
     "user_tz": 180
    },
    "id": "tOajG8kw-_B0",
    "outputId": "9d4cafcd-7377-4aae-a8fe-60313c1b12b0"
   },
   "outputs": [
    {
     "data": {
      "text/plain": [
       "0.5921775553994446"
      ]
     },
     "execution_count": 102,
     "metadata": {},
     "output_type": "execute_result"
    }
   ],
   "source": [
    "gb_grid.best_score_"
   ]
  },
  {
   "cell_type": "code",
   "execution_count": 103,
   "metadata": {
    "colab": {
     "base_uri": "https://localhost:8080/"
    },
    "executionInfo": {
     "elapsed": 7,
     "status": "ok",
     "timestamp": 1653263548294,
     "user": {
      "displayName": "Lucas Corrêa",
      "userId": "06320273670240218623"
     },
     "user_tz": 180
    },
    "id": "ZjU2CHAh_M8B",
    "outputId": "a7c84f93-3880-4737-baa9-3a867d5a95b9"
   },
   "outputs": [
    {
     "data": {
      "text/plain": [
       "0.5996638163337749"
      ]
     },
     "execution_count": 103,
     "metadata": {},
     "output_type": "execute_result"
    }
   ],
   "source": [
    "roc_auc_score(y_teste, gb_grid.predict(x_teste))"
   ]
  },
  {
   "cell_type": "markdown",
   "metadata": {
    "id": "3Xurr1DOj8Kd"
   },
   "source": [
    "## Métricas"
   ]
  },
  {
   "cell_type": "code",
   "execution_count": 104,
   "metadata": {
    "colab": {
     "base_uri": "https://localhost:8080/"
    },
    "executionInfo": {
     "elapsed": 359,
     "status": "ok",
     "timestamp": 1653263548649,
     "user": {
      "displayName": "Lucas Corrêa",
      "userId": "06320273670240218623"
     },
     "user_tz": 180
    },
    "id": "XqAjE6PzHxXQ",
    "outputId": "e9b367d0-2984-48af-b8ea-dc47306c072d"
   },
   "outputs": [
    {
     "data": {
      "text/plain": [
       "0.6222222222222222"
      ]
     },
     "execution_count": 104,
     "metadata": {},
     "output_type": "execute_result"
    }
   ],
   "source": [
    "precision_score(y_teste, gb_grid.predict(x_teste))"
   ]
  },
  {
   "cell_type": "code",
   "execution_count": 105,
   "metadata": {
    "colab": {
     "base_uri": "https://localhost:8080/"
    },
    "executionInfo": {
     "elapsed": 6,
     "status": "ok",
     "timestamp": 1653263548649,
     "user": {
      "displayName": "Lucas Corrêa",
      "userId": "06320273670240218623"
     },
     "user_tz": 180
    },
    "id": "CEm7TE5Hkw0J",
    "outputId": "1c6903d9-9cd3-4f6a-f298-70317fd0417b"
   },
   "outputs": [
    {
     "data": {
      "text/plain": [
       "0.21686746987951808"
      ]
     },
     "execution_count": 105,
     "metadata": {},
     "output_type": "execute_result"
    }
   ],
   "source": [
    "recall_score(y_teste, gb_grid.predict(x_teste))"
   ]
  },
  {
   "cell_type": "code",
   "execution_count": 106,
   "metadata": {
    "colab": {
     "base_uri": "https://localhost:8080/"
    },
    "executionInfo": {
     "elapsed": 4,
     "status": "ok",
     "timestamp": 1653263548650,
     "user": {
      "displayName": "Lucas Corrêa",
      "userId": "06320273670240218623"
     },
     "user_tz": 180
    },
    "id": "pk3AU4qXk5ei",
    "outputId": "512c03cb-1796-40ba-cf0f-8d5009d0db6a"
   },
   "outputs": [
    {
     "data": {
      "text/plain": [
       "array([[8570,  153],\n",
       "       [ 910,  252]], dtype=int64)"
      ]
     },
     "execution_count": 106,
     "metadata": {},
     "output_type": "execute_result"
    }
   ],
   "source": [
    "cf_matrix = confusion_matrix(y_teste, gb_grid.predict(x_teste))\n",
    "cf_matrix"
   ]
  },
  {
   "cell_type": "code",
   "execution_count": 109,
   "metadata": {
    "colab": {
     "base_uri": "https://localhost:8080/",
     "height": 325
    },
    "executionInfo": {
     "elapsed": 289,
     "status": "ok",
     "timestamp": 1653263548937,
     "user": {
      "displayName": "Lucas Corrêa",
      "userId": "06320273670240218623"
     },
     "user_tz": 180
    },
    "id": "e0HRHpNElMTh",
    "outputId": "68c3fb0a-6622-4718-9e18-08a9f3e540c5"
   },
   "outputs": [
    {
     "data": {
      "image/png": "[encoded data removed]",
      "text/plain": [
       "<Figure size 432x288 with 2 Axes>"
      ]
     },
     "metadata": {
      "needs_background": "light"
     },
     "output_type": "display_data"
    }
   ],
   "source": [
    "# annot para mostrar os valores dentro do plot, cmap para usar uma escalade azul, fmt formata o número como string.\n",
    "ax = sns.heatmap(cf_matrix, \n",
    "                 annot=True,\n",
    "                 cmap='Blues',\n",
    "                 fmt='.4g')\n",
    "\n",
    "# colocar o título\n",
    "ax.set_title(\"Matriz de confusão do modelo gb_grid\\n\\n\")\n",
    "\n",
    "# colocar rótulo do eixo\n",
    "ax.set_xlabel(\"Predito\")\n",
    "\n",
    "# colocar rótulo do eixo\n",
    "ax.set_ylabel(\"Real\")\n",
    "\n",
    "# colocar rótulo do dado\n",
    "ax.xaxis.set_ticklabels(['Negativo', 'Positivo'])\n",
    "ax.yaxis.set_ticklabels(['Negativo', 'Positivo'])\n",
    "\n",
    "plt.show()"
   ]
  },
  {
   "cell_type": "markdown",
   "metadata": {
    "id": "g-no1fNZqcng"
   },
   "source": [
    "## Plot curva ROC / AUC"
   ]
  },
  {
   "cell_type": "markdown",
   "metadata": {},
   "source": [
    "A curva ROC mostra o quão bom o modelo criado pode distinguir entre duas coisas (já que é utilizado para classificação). Essas duas coisas podem ser 0 ou 1, ou positivo e negativo. Os melhores modelos conseguem distinguir com precisão o binômio.\n",
    "Uma curva ROC traça “True Positive Rate vs. False Positive Rate” em diferentes limiares de classificação.\n",
    "\n",
    "Assim, na tentativa de simplificar a análise da ROC, a AUC (“area under the ROC curve”) nada mais é que uma maneira de resumir a curva ROC em um único valor, agregando todos os limiares da ROC, calculando a “área sob a curva”.\n",
    "O valor do AUC varia de 0,0 até 1,0 e o limiar entre a classe é 0,5. Ou seja, acima desse limite, o algoritmo classifica em uma classe e abaixo na outra classe.\n",
    "\n",
    "Quanto maior o AUC, melhor.\n",
    "https://medium.com/bio-data-blog/entenda-o-que-%C3%A9-auc-e-roc-nos-modelos-de-machine-learning-8191fb4df772"
   ]
  },
  {
   "cell_type": "code",
   "execution_count": 110,
   "metadata": {
    "colab": {
     "base_uri": "https://localhost:8080/"
    },
    "executionInfo": {
     "elapsed": 7,
     "status": "ok",
     "timestamp": 1653263548937,
     "user": {
      "displayName": "Lucas Corrêa",
      "userId": "06320273670240218623"
     },
     "user_tz": 180
    },
    "id": "qcY0VA8WqDZo",
    "outputId": "c7f81215-244a-4bbb-de30-fe0a356ae4d6"
   },
   "outputs": [
    {
     "data": {
      "text/plain": [
       "array([[0.95639744, 0.04360256],\n",
       "       [0.41500537, 0.58499463],\n",
       "       [0.92820103, 0.07179897],\n",
       "       ...,\n",
       "       [0.84407388, 0.15592612],\n",
       "       [0.92266856, 0.07733144],\n",
       "       [0.8653447 , 0.1346553 ]])"
      ]
     },
     "execution_count": 110,
     "metadata": {},
     "output_type": "execute_result"
    }
   ],
   "source": [
    "# para trazer as probabilidades atreladas ao modelo\n",
    "\n",
    "probs = gb_grid.predict_proba(x_teste)\n",
    "probs"
   ]
  },
  {
   "cell_type": "code",
   "execution_count": 111,
   "metadata": {
    "colab": {
     "base_uri": "https://localhost:8080/"
    },
    "executionInfo": {
     "elapsed": 5,
     "status": "ok",
     "timestamp": 1653263548937,
     "user": {
      "displayName": "Lucas Corrêa",
      "userId": "06320273670240218623"
     },
     "user_tz": 180
    },
    "id": "aA2FvN3hqq1Y",
    "outputId": "2b29cfb2-d83a-486d-8e35-40ccf84c0593"
   },
   "outputs": [
    {
     "data": {
      "text/plain": [
       "array([0.04360256, 0.58499463, 0.07179897, ..., 0.15592612, 0.07733144,\n",
       "       0.1346553 ])"
      ]
     },
     "execution_count": 111,
     "metadata": {},
     "output_type": "execute_result"
    }
   ],
   "source": [
    "preds = probs[:, 1]\n",
    "preds"
   ]
  },
  {
   "cell_type": "code",
   "execution_count": 112,
   "metadata": {
    "id": "IHlrFYIiq-uB"
   },
   "outputs": [],
   "source": [
    "taxa_falso_positivo, taxa_verdadeiro_positivo, threshold = roc_curve(y_teste, preds)"
   ]
  },
  {
   "cell_type": "code",
   "execution_count": 113,
   "metadata": {
    "id": "R0jt6ZiQri55"
   },
   "outputs": [],
   "source": [
    "roc_auc = auc(taxa_falso_positivo, taxa_verdadeiro_positivo)"
   ]
  },
  {
   "cell_type": "code",
   "execution_count": 114,
   "metadata": {
    "colab": {
     "base_uri": "https://localhost:8080/"
    },
    "executionInfo": {
     "elapsed": 6,
     "status": "ok",
     "timestamp": 1653263549342,
     "user": {
      "displayName": "Lucas Corrêa",
      "userId": "06320273670240218623"
     },
     "user_tz": 180
    },
    "id": "ksu0iC8psNeX",
    "outputId": "bff4c46a-2bd3-4c8b-cd34-3b31b75751be"
   },
   "outputs": [
    {
     "data": {
      "text/plain": [
       "0.7335046940024227"
      ]
     },
     "execution_count": 114,
     "metadata": {},
     "output_type": "execute_result"
    }
   ],
   "source": [
    "roc_auc"
   ]
  },
  {
   "cell_type": "code",
   "execution_count": 115,
   "metadata": {
    "colab": {
     "base_uri": "https://localhost:8080/",
     "height": 295
    },
    "executionInfo": {
     "elapsed": 6,
     "status": "ok",
     "timestamp": 1653263549342,
     "user": {
      "displayName": "Lucas Corrêa",
      "userId": "06320273670240218623"
     },
     "user_tz": 180
    },
    "id": "UoOFJy_ssOlH",
    "outputId": "12601843-dd96-4052-aaee-5f9c5a2ef752"
   },
   "outputs": [
    {
     "data": {
      "image/png": "[encoded data removed]",
      "text/plain": [
       "<Figure size 432x288 with 1 Axes>"
      ]
     },
     "metadata": {
      "needs_background": "light"
     },
     "output_type": "display_data"
    }
   ],
   "source": [
    "plt.title(\"Curva ROC\")\n",
    "plt.plot(taxa_falso_positivo,\n",
    "         taxa_verdadeiro_positivo,\n",
    "         'b',\n",
    "         label= \"AUC = %0.2f\" % roc_auc)\n",
    "plt.legend(loc= 'lower right')\n",
    "plt.plot([0,1], [0,1], 'r--')\n",
    "plt.xlim([0,1])\n",
    "plt.ylim([0,1])\n",
    "plt.ylabel('Taxa de Verdadeiro Positivo')\n",
    "plt.xlabel('Taxa de Falso Positivo')\n",
    "plt.show()"
   ]
  },
  {
   "cell_type": "markdown",
   "metadata": {
    "id": "c7r0QFfDMZqG"
   },
   "source": [
    "## Exercicios\n",
    "\n",
    "Proposta:\n",
    "\n",
    "* Refazer o pipeline completo, para Gradient_boosting aproveitando os codigos ja desenvolvidos no notebook, usando todas as variáveis no processo de modelagem\n",
    "\n",
    "* comparar os resultados com os anteriores\n",
    "\n",
    "* Em tuning de hiperparametros: n_estimators:[500, 1000]; min_samples_leaf[2,100]; min_samples_split:[10,200]; random_state:[42]"
   ]
  },
  {
   "cell_type": "markdown",
   "metadata": {
    "id": "Haywvar3MBpj"
   },
   "source": [
    "### Passos a serem seguidos:\n",
    "1. selecionar os dados de origem\n",
    "2. quebrar as categoricas e numericas\n",
    "3. tratar as variváveis categoricas\n",
    "4. juntar os dados e formar a ABT\n",
    "5. aplicar feature selection \n",
    "6. selecionar os dados para a ABT final de modelagem\n",
    "7. estruturar o dicionario para tuning\n",
    "8. instanciar os obj\n",
    "9. executar o train\n",
    "10. observar os resultados"
   ]
  },
  {
   "cell_type": "code",
   "execution_count": 116,
   "metadata": {
    "id": "5wh8ZLsfOrMz"
   },
   "outputs": [],
   "source": [
    "df_exercicio = df.copy()"
   ]
  },
  {
   "cell_type": "code",
   "execution_count": 117,
   "metadata": {
    "colab": {
     "base_uri": "https://localhost:8080/"
    },
    "executionInfo": {
     "elapsed": 221,
     "status": "ok",
     "timestamp": 1653264323763,
     "user": {
      "displayName": "Lucas Corrêa",
      "userId": "06320273670240218623"
     },
     "user_tz": 180
    },
    "id": "wErZyFYPOtGM",
    "outputId": "2507d53d-e862-40b9-de6f-f46f89b282c2"
   },
   "outputs": [
    {
     "data": {
      "text/plain": [
       "age             int64\n",
       "job            object\n",
       "marital        object\n",
       "education      object\n",
       "default        object\n",
       "housing        object\n",
       "loan           object\n",
       "contact        object\n",
       "month          object\n",
       "day_of_week    object\n",
       "duration        int64\n",
       "campaign        int64\n",
       "pdays           int64\n",
       "previous        int64\n",
       "poutcome       object\n",
       "y              object\n",
       "difficulty      int64\n",
       "dtype: object"
      ]
     },
     "execution_count": 117,
     "metadata": {},
     "output_type": "execute_result"
    }
   ],
   "source": [
    "df_exercicio.dtypes"
   ]
  },
  {
   "cell_type": "code",
   "execution_count": 118,
   "metadata": {
    "id": "PZIwnycFOtCf"
   },
   "outputs": [],
   "source": [
    "df_exercicio_cat = df_exercicio.drop(columns=['age','duration','campaign','pdays','previous','difficulty','y'], axis=1)"
   ]
  },
  {
   "cell_type": "code",
   "execution_count": 119,
   "metadata": {
    "colab": {
     "base_uri": "https://localhost:8080/"
    },
    "executionInfo": {
     "elapsed": 220,
     "status": "ok",
     "timestamp": 1653264436543,
     "user": {
      "displayName": "Lucas Corrêa",
      "userId": "06320273670240218623"
     },
     "user_tz": 180
    },
    "id": "bPFUKLq8Os_e",
    "outputId": "1ba98714-2b97-4d4b-90d9-404cea1eba44"
   },
   "outputs": [
    {
     "data": {
      "text/plain": [
       "Index(['job', 'marital', 'education', 'default', 'housing', 'loan', 'contact',\n",
       "       'month', 'day_of_week', 'poutcome'],\n",
       "      dtype='object')"
      ]
     },
     "execution_count": 119,
     "metadata": {},
     "output_type": "execute_result"
    }
   ],
   "source": [
    "df_exercicio_cat.columns"
   ]
  },
  {
   "cell_type": "code",
   "execution_count": 120,
   "metadata": {
    "id": "IjyK8xk6Os8w"
   },
   "outputs": [],
   "source": [
    "df_exercicio_num = df_exercicio.drop(columns=['job', 'marital', 'education', 'default', 'housing', 'loan', 'contact',\n",
    "       'month', 'day_of_week', 'poutcome','y'])"
   ]
  },
  {
   "cell_type": "code",
   "execution_count": 121,
   "metadata": {
    "colab": {
     "base_uri": "https://localhost:8080/"
    },
    "executionInfo": {
     "elapsed": 214,
     "status": "ok",
     "timestamp": 1653264529927,
     "user": {
      "displayName": "Lucas Corrêa",
      "userId": "06320273670240218623"
     },
     "user_tz": 180
    },
    "id": "11-s2cYQOs6A",
    "outputId": "b2d8c017-d731-437e-8ac5-605ce9615291"
   },
   "outputs": [
    {
     "data": {
      "text/plain": [
       "Index(['age', 'duration', 'campaign', 'pdays', 'previous', 'difficulty'], dtype='object')"
      ]
     },
     "execution_count": 121,
     "metadata": {},
     "output_type": "execute_result"
    }
   ],
   "source": [
    "df_exercicio_num.columns"
   ]
  },
  {
   "cell_type": "code",
   "execution_count": 122,
   "metadata": {
    "id": "7lW61uOrOswa"
   },
   "outputs": [],
   "source": [
    "df_exercicio_cat_dum = pd.get_dummies(df_exercicio_cat,\n",
    "                                      prefix_sep='_',\n",
    "                                      columns=df_exercicio_cat.columns,\n",
    "                                      drop_first=True)"
   ]
  },
  {
   "cell_type": "code",
   "execution_count": 123,
   "metadata": {
    "colab": {
     "base_uri": "https://localhost:8080/",
     "height": 287
    },
    "executionInfo": {
     "elapsed": 4,
     "status": "ok",
     "timestamp": 1653264693853,
     "user": {
      "displayName": "Lucas Corrêa",
      "userId": "06320273670240218623"
     },
     "user_tz": 180
    },
    "id": "jtjzhbz9QJ-U",
    "outputId": "b9614b0a-a193-4af3-dd0e-0f7dbfe3c8ad"
   },
   "outputs": [
    {
     "data": {
      "text/html": [
       "<div>\n",
       "<style scoped>\n",
       "    .dataframe tbody tr th:only-of-type {\n",
       "        vertical-align: middle;\n",
       "    }\n",
       "\n",
       "    .dataframe tbody tr th {\n",
       "        vertical-align: top;\n",
       "    }\n",
       "\n",
       "    .dataframe thead th {\n",
       "        text-align: right;\n",
       "    }\n",
       "</style>\n",
       "<table border=\"1\" class=\"dataframe\">\n",
       "  <thead>\n",
       "    <tr style=\"text-align: right;\">\n",
       "      <th></th>\n",
       "      <th>job_blue-collar</th>\n",
       "      <th>job_entrepreneur</th>\n",
       "      <th>job_housemaid</th>\n",
       "      <th>job_management</th>\n",
       "      <th>job_retired</th>\n",
       "      <th>job_self-employed</th>\n",
       "      <th>job_services</th>\n",
       "      <th>job_student</th>\n",
       "      <th>job_technician</th>\n",
       "      <th>job_unemployed</th>\n",
       "      <th>job_unknown</th>\n",
       "      <th>marital_married</th>\n",
       "      <th>marital_single</th>\n",
       "      <th>marital_unknown</th>\n",
       "      <th>education_basic.6y</th>\n",
       "      <th>education_basic.9y</th>\n",
       "      <th>education_high.school</th>\n",
       "      <th>education_illiterate</th>\n",
       "      <th>education_professional.course</th>\n",
       "      <th>education_university.degree</th>\n",
       "      <th>education_unknown</th>\n",
       "      <th>default_unknown</th>\n",
       "      <th>default_yes</th>\n",
       "      <th>housing_unknown</th>\n",
       "      <th>housing_yes</th>\n",
       "      <th>loan_unknown</th>\n",
       "      <th>loan_yes</th>\n",
       "      <th>contact_telephone</th>\n",
       "      <th>month_aug</th>\n",
       "      <th>month_dec</th>\n",
       "      <th>month_jul</th>\n",
       "      <th>month_jun</th>\n",
       "      <th>month_mar</th>\n",
       "      <th>month_may</th>\n",
       "      <th>month_nov</th>\n",
       "      <th>month_oct</th>\n",
       "      <th>month_sep</th>\n",
       "      <th>day_of_week_mon</th>\n",
       "      <th>day_of_week_thu</th>\n",
       "      <th>day_of_week_tue</th>\n",
       "      <th>day_of_week_wed</th>\n",
       "      <th>poutcome_nonexistent</th>\n",
       "      <th>poutcome_success</th>\n",
       "    </tr>\n",
       "  </thead>\n",
       "  <tbody>\n",
       "    <tr>\n",
       "      <th>0</th>\n",
       "      <td>1</td>\n",
       "      <td>0</td>\n",
       "      <td>0</td>\n",
       "      <td>0</td>\n",
       "      <td>0</td>\n",
       "      <td>0</td>\n",
       "      <td>0</td>\n",
       "      <td>0</td>\n",
       "      <td>0</td>\n",
       "      <td>0</td>\n",
       "      <td>0</td>\n",
       "      <td>1</td>\n",
       "      <td>0</td>\n",
       "      <td>0</td>\n",
       "      <td>0</td>\n",
       "      <td>1</td>\n",
       "      <td>0</td>\n",
       "      <td>0</td>\n",
       "      <td>0</td>\n",
       "      <td>0</td>\n",
       "      <td>0</td>\n",
       "      <td>1</td>\n",
       "      <td>0</td>\n",
       "      <td>0</td>\n",
       "      <td>0</td>\n",
       "      <td>0</td>\n",
       "      <td>0</td>\n",
       "      <td>0</td>\n",
       "      <td>0</td>\n",
       "      <td>0</td>\n",
       "      <td>0</td>\n",
       "      <td>0</td>\n",
       "      <td>0</td>\n",
       "      <td>0</td>\n",
       "      <td>1</td>\n",
       "      <td>0</td>\n",
       "      <td>0</td>\n",
       "      <td>0</td>\n",
       "      <td>0</td>\n",
       "      <td>0</td>\n",
       "      <td>1</td>\n",
       "      <td>1</td>\n",
       "      <td>0</td>\n",
       "    </tr>\n",
       "    <tr>\n",
       "      <th>1</th>\n",
       "      <td>0</td>\n",
       "      <td>1</td>\n",
       "      <td>0</td>\n",
       "      <td>0</td>\n",
       "      <td>0</td>\n",
       "      <td>0</td>\n",
       "      <td>0</td>\n",
       "      <td>0</td>\n",
       "      <td>0</td>\n",
       "      <td>0</td>\n",
       "      <td>0</td>\n",
       "      <td>1</td>\n",
       "      <td>0</td>\n",
       "      <td>0</td>\n",
       "      <td>0</td>\n",
       "      <td>0</td>\n",
       "      <td>0</td>\n",
       "      <td>0</td>\n",
       "      <td>0</td>\n",
       "      <td>1</td>\n",
       "      <td>0</td>\n",
       "      <td>0</td>\n",
       "      <td>0</td>\n",
       "      <td>0</td>\n",
       "      <td>0</td>\n",
       "      <td>0</td>\n",
       "      <td>0</td>\n",
       "      <td>1</td>\n",
       "      <td>0</td>\n",
       "      <td>0</td>\n",
       "      <td>0</td>\n",
       "      <td>0</td>\n",
       "      <td>0</td>\n",
       "      <td>0</td>\n",
       "      <td>1</td>\n",
       "      <td>0</td>\n",
       "      <td>0</td>\n",
       "      <td>0</td>\n",
       "      <td>0</td>\n",
       "      <td>0</td>\n",
       "      <td>1</td>\n",
       "      <td>0</td>\n",
       "      <td>0</td>\n",
       "    </tr>\n",
       "    <tr>\n",
       "      <th>2</th>\n",
       "      <td>0</td>\n",
       "      <td>0</td>\n",
       "      <td>0</td>\n",
       "      <td>0</td>\n",
       "      <td>1</td>\n",
       "      <td>0</td>\n",
       "      <td>0</td>\n",
       "      <td>0</td>\n",
       "      <td>0</td>\n",
       "      <td>0</td>\n",
       "      <td>0</td>\n",
       "      <td>1</td>\n",
       "      <td>0</td>\n",
       "      <td>0</td>\n",
       "      <td>0</td>\n",
       "      <td>0</td>\n",
       "      <td>0</td>\n",
       "      <td>0</td>\n",
       "      <td>0</td>\n",
       "      <td>0</td>\n",
       "      <td>0</td>\n",
       "      <td>0</td>\n",
       "      <td>0</td>\n",
       "      <td>0</td>\n",
       "      <td>0</td>\n",
       "      <td>0</td>\n",
       "      <td>0</td>\n",
       "      <td>0</td>\n",
       "      <td>0</td>\n",
       "      <td>0</td>\n",
       "      <td>1</td>\n",
       "      <td>0</td>\n",
       "      <td>0</td>\n",
       "      <td>0</td>\n",
       "      <td>0</td>\n",
       "      <td>0</td>\n",
       "      <td>0</td>\n",
       "      <td>1</td>\n",
       "      <td>0</td>\n",
       "      <td>0</td>\n",
       "      <td>0</td>\n",
       "      <td>1</td>\n",
       "      <td>0</td>\n",
       "    </tr>\n",
       "    <tr>\n",
       "      <th>3</th>\n",
       "      <td>0</td>\n",
       "      <td>0</td>\n",
       "      <td>0</td>\n",
       "      <td>0</td>\n",
       "      <td>0</td>\n",
       "      <td>0</td>\n",
       "      <td>0</td>\n",
       "      <td>0</td>\n",
       "      <td>0</td>\n",
       "      <td>0</td>\n",
       "      <td>0</td>\n",
       "      <td>1</td>\n",
       "      <td>0</td>\n",
       "      <td>0</td>\n",
       "      <td>0</td>\n",
       "      <td>0</td>\n",
       "      <td>0</td>\n",
       "      <td>0</td>\n",
       "      <td>0</td>\n",
       "      <td>1</td>\n",
       "      <td>0</td>\n",
       "      <td>0</td>\n",
       "      <td>0</td>\n",
       "      <td>0</td>\n",
       "      <td>1</td>\n",
       "      <td>0</td>\n",
       "      <td>0</td>\n",
       "      <td>1</td>\n",
       "      <td>0</td>\n",
       "      <td>0</td>\n",
       "      <td>0</td>\n",
       "      <td>0</td>\n",
       "      <td>0</td>\n",
       "      <td>1</td>\n",
       "      <td>0</td>\n",
       "      <td>0</td>\n",
       "      <td>0</td>\n",
       "      <td>1</td>\n",
       "      <td>0</td>\n",
       "      <td>0</td>\n",
       "      <td>0</td>\n",
       "      <td>1</td>\n",
       "      <td>0</td>\n",
       "    </tr>\n",
       "    <tr>\n",
       "      <th>4</th>\n",
       "      <td>0</td>\n",
       "      <td>0</td>\n",
       "      <td>0</td>\n",
       "      <td>0</td>\n",
       "      <td>1</td>\n",
       "      <td>0</td>\n",
       "      <td>0</td>\n",
       "      <td>0</td>\n",
       "      <td>0</td>\n",
       "      <td>0</td>\n",
       "      <td>0</td>\n",
       "      <td>0</td>\n",
       "      <td>0</td>\n",
       "      <td>0</td>\n",
       "      <td>0</td>\n",
       "      <td>0</td>\n",
       "      <td>0</td>\n",
       "      <td>0</td>\n",
       "      <td>0</td>\n",
       "      <td>1</td>\n",
       "      <td>0</td>\n",
       "      <td>0</td>\n",
       "      <td>0</td>\n",
       "      <td>0</td>\n",
       "      <td>0</td>\n",
       "      <td>0</td>\n",
       "      <td>0</td>\n",
       "      <td>0</td>\n",
       "      <td>0</td>\n",
       "      <td>0</td>\n",
       "      <td>0</td>\n",
       "      <td>1</td>\n",
       "      <td>0</td>\n",
       "      <td>0</td>\n",
       "      <td>0</td>\n",
       "      <td>0</td>\n",
       "      <td>0</td>\n",
       "      <td>0</td>\n",
       "      <td>0</td>\n",
       "      <td>1</td>\n",
       "      <td>0</td>\n",
       "      <td>1</td>\n",
       "      <td>0</td>\n",
       "    </tr>\n",
       "  </tbody>\n",
       "</table>\n",
       "</div>"
      ],
      "text/plain": [
       "   job_blue-collar  job_entrepreneur  job_housemaid  job_management  \\\n",
       "0                1                 0              0               0   \n",
       "1                0                 1              0               0   \n",
       "2                0                 0              0               0   \n",
       "3                0                 0              0               0   \n",
       "4                0                 0              0               0   \n",
       "\n",
       "   job_retired  job_self-employed  job_services  job_student  job_technician  \\\n",
       "0            0                  0             0            0               0   \n",
       "1            0                  0             0            0               0   \n",
       "2            1                  0             0            0               0   \n",
       "3            0                  0             0            0               0   \n",
       "4            1                  0             0            0               0   \n",
       "\n",
       "   job_unemployed  job_unknown  marital_married  marital_single  \\\n",
       "0               0            0                1               0   \n",
       "1               0            0                1               0   \n",
       "2               0            0                1               0   \n",
       "3               0            0                1               0   \n",
       "4               0            0                0               0   \n",
       "\n",
       "   marital_unknown  education_basic.6y  education_basic.9y  \\\n",
       "0                0                   0                   1   \n",
       "1                0                   0                   0   \n",
       "2                0                   0                   0   \n",
       "3                0                   0                   0   \n",
       "4                0                   0                   0   \n",
       "\n",
       "   education_high.school  education_illiterate  education_professional.course  \\\n",
       "0                      0                     0                              0   \n",
       "1                      0                     0                              0   \n",
       "2                      0                     0                              0   \n",
       "3                      0                     0                              0   \n",
       "4                      0                     0                              0   \n",
       "\n",
       "   education_university.degree  education_unknown  default_unknown  \\\n",
       "0                            0                  0                1   \n",
       "1                            1                  0                0   \n",
       "2                            0                  0                0   \n",
       "3                            1                  0                0   \n",
       "4                            1                  0                0   \n",
       "\n",
       "   default_yes  housing_unknown  housing_yes  loan_unknown  loan_yes  \\\n",
       "0            0                0            0             0         0   \n",
       "1            0                0            0             0         0   \n",
       "2            0                0            0             0         0   \n",
       "3            0                0            1             0         0   \n",
       "4            0                0            0             0         0   \n",
       "\n",
       "   contact_telephone  month_aug  month_dec  month_jul  month_jun  month_mar  \\\n",
       "0                  0          0          0          0          0          0   \n",
       "1                  1          0          0          0          0          0   \n",
       "2                  0          0          0          1          0          0   \n",
       "3                  1          0          0          0          0          0   \n",
       "4                  0          0          0          0          1          0   \n",
       "\n",
       "   month_may  month_nov  month_oct  month_sep  day_of_week_mon  \\\n",
       "0          0          1          0          0                0   \n",
       "1          0          1          0          0                0   \n",
       "2          0          0          0          0                1   \n",
       "3          1          0          0          0                1   \n",
       "4          0          0          0          0                0   \n",
       "\n",
       "   day_of_week_thu  day_of_week_tue  day_of_week_wed  poutcome_nonexistent  \\\n",
       "0                0                0                1                     1   \n",
       "1                0                0                1                     0   \n",
       "2                0                0                0                     1   \n",
       "3                0                0                0                     1   \n",
       "4                0                1                0                     1   \n",
       "\n",
       "   poutcome_success  \n",
       "0                 0  \n",
       "1                 0  \n",
       "2                 0  \n",
       "3                 0  \n",
       "4                 0  "
      ]
     },
     "execution_count": 123,
     "metadata": {},
     "output_type": "execute_result"
    }
   ],
   "source": [
    "df_exercicio_cat_dum.head()"
   ]
  },
  {
   "cell_type": "code",
   "execution_count": 124,
   "metadata": {
    "id": "Jb3fKorIQLcF"
   },
   "outputs": [],
   "source": [
    "df_exercicio_feature_selection = df_exercicio_cat_dum.merge(df_exercicio_num, left_index=True, right_index=True)"
   ]
  },
  {
   "cell_type": "code",
   "execution_count": 125,
   "metadata": {
    "colab": {
     "base_uri": "https://localhost:8080/"
    },
    "executionInfo": {
     "elapsed": 356,
     "status": "ok",
     "timestamp": 1653264786165,
     "user": {
      "displayName": "Lucas Corrêa",
      "userId": "06320273670240218623"
     },
     "user_tz": 180
    },
    "id": "JSUfMViIQkz9",
    "outputId": "f4d756ee-2f29-436b-8653-f9fb17cc47e3"
   },
   "outputs": [
    {
     "data": {
      "text/plain": [
       "(32950, 49)"
      ]
     },
     "execution_count": 125,
     "metadata": {},
     "output_type": "execute_result"
    }
   ],
   "source": [
    "df_exercicio_feature_selection.shape"
   ]
  },
  {
   "cell_type": "code",
   "execution_count": 126,
   "metadata": {
    "id": "sSSESOJYQpN2"
   },
   "outputs": [],
   "source": [
    "df_exercicio_var_resp = df_exercicio['y']"
   ]
  },
  {
   "cell_type": "code",
   "execution_count": 127,
   "metadata": {
    "colab": {
     "base_uri": "https://localhost:8080/"
    },
    "executionInfo": {
     "elapsed": 210,
     "status": "ok",
     "timestamp": 1653264824324,
     "user": {
      "displayName": "Lucas Corrêa",
      "userId": "06320273670240218623"
     },
     "user_tz": 180
    },
    "id": "UGylLespQx3t",
    "outputId": "94da4e67-a39f-4067-d7ac-305b36c9642c"
   },
   "outputs": [
    {
     "data": {
      "text/plain": [
       "0     no\n",
       "1     no\n",
       "2    yes\n",
       "3     no\n",
       "4     no\n",
       "Name: y, dtype: object"
      ]
     },
     "execution_count": 127,
     "metadata": {},
     "output_type": "execute_result"
    }
   ],
   "source": [
    "df_exercicio_var_resp.head()"
   ]
  },
  {
   "cell_type": "code",
   "execution_count": 128,
   "metadata": {
    "id": "63aQMmyTQzVd"
   },
   "outputs": [],
   "source": [
    "df_exercicio_var_resp = df_exercicio_var_resp.replace('no',0)\n",
    "df_exercicio_var_resp = df_exercicio_var_resp.replace('yes',1)"
   ]
  },
  {
   "cell_type": "code",
   "execution_count": 129,
   "metadata": {
    "colab": {
     "base_uri": "https://localhost:8080/"
    },
    "executionInfo": {
     "elapsed": 2,
     "status": "ok",
     "timestamp": 1653265780112,
     "user": {
      "displayName": "Lucas Corrêa",
      "userId": "06320273670240218623"
     },
     "user_tz": 180
    },
    "id": "jOK40HmlQ-01",
    "outputId": "431d3229-9366-4e58-e2cc-653c473a731a"
   },
   "outputs": [
    {
     "data": {
      "text/plain": [
       "0    0\n",
       "1    0\n",
       "2    1\n",
       "3    0\n",
       "4    0\n",
       "Name: y, dtype: int64"
      ]
     },
     "execution_count": 129,
     "metadata": {},
     "output_type": "execute_result"
    }
   ],
   "source": [
    "df_exercicio_var_resp.head()"
   ]
  },
  {
   "cell_type": "markdown",
   "metadata": {
    "id": "TVtiLYdRU-aq"
   },
   "source": [
    "## Seleção de variáveis"
   ]
  },
  {
   "cell_type": "code",
   "execution_count": 130,
   "metadata": {
    "colab": {
     "base_uri": "https://localhost:8080/"
    },
    "executionInfo": {
     "elapsed": 214,
     "status": "ok",
     "timestamp": 1653266218664,
     "user": {
      "displayName": "Lucas Corrêa",
      "userId": "06320273670240218623"
     },
     "user_tz": 180
    },
    "id": "cONTIc1uUV8E",
    "outputId": "1907514b-0041-41ff-e469-ecc96e8a17fd"
   },
   "outputs": [
    {
     "data": {
      "text/plain": [
       "['contact_telephone',\n",
       " 'month_mar',\n",
       " 'month_oct',\n",
       " 'month_sep',\n",
       " 'poutcome_success']"
      ]
     },
     "execution_count": 130,
     "metadata": {},
     "output_type": "execute_result"
    }
   ],
   "source": [
    "# Variáveis categóricas\n",
    "\n",
    "df_exercicio_cat_dum_norm = MinMaxScaler().fit_transform(df_exercicio_cat_dum)\n",
    "\n",
    "selecao_chi = SelectKBest(chi2, k=5)\n",
    "selecao_chi.fit(df_exercicio_cat_dum_norm, df_exercicio_var_resp)\n",
    "\n",
    "suporte_chi = selecao_chi.get_support()\n",
    "features_chi = df_exercicio_cat_dum.loc[:,suporte_chi].columns.tolist()\n",
    "features_chi"
   ]
  },
  {
   "cell_type": "code",
   "execution_count": 131,
   "metadata": {
    "colab": {
     "base_uri": "https://localhost:8080/"
    },
    "executionInfo": {
     "elapsed": 3199,
     "status": "ok",
     "timestamp": 1653266481759,
     "user": {
      "displayName": "Lucas Corrêa",
      "userId": "06320273670240218623"
     },
     "user_tz": 180
    },
    "id": "flnpKgzjV_vH",
    "outputId": "7c7310e2-e778-4d1b-be88-d6d424808a5e"
   },
   "outputs": [
    {
     "data": {
      "text/plain": [
       "['campaign', 'previous', 'difficulty']"
      ]
     },
     "execution_count": 131,
     "metadata": {},
     "output_type": "execute_result"
    }
   ],
   "source": [
    "# Variáveis numéricas\n",
    "\n",
    "selecao_rfe = RFE(estimator=LogisticRegression(random_state=42, max_iter=200), n_features_to_select=3, step=1)\n",
    "selecao_rfe.fit(df_exercicio_num, df_exercicio_var_resp)\n",
    "\n",
    "rfe_suporte = selecao_rfe.get_support()\n",
    "rfe_features = df_exercicio_num.loc[:,rfe_suporte].columns.tolist()\n",
    "rfe_features"
   ]
  },
  {
   "cell_type": "code",
   "execution_count": 132,
   "metadata": {
    "id": "TmKRwcclWtul"
   },
   "outputs": [],
   "source": [
    "df_exercicio_modelagem = df_exercicio_cat_dum.merge(df_exercicio_num, left_index=True, right_index=True)"
   ]
  },
  {
   "cell_type": "code",
   "execution_count": 133,
   "metadata": {
    "id": "KGPvfs1gXa_V"
   },
   "outputs": [],
   "source": [
    "x_treino_exer, x_teste_exer, y_treino_exer, y_teste_exer = train_test_split(df_exercicio_modelagem,\n",
    "                                                                            df_exercicio_var_resp,\n",
    "                                                                            test_size=0.3,\n",
    "                                                                            random_state=42)"
   ]
  },
  {
   "cell_type": "code",
   "execution_count": 134,
   "metadata": {
    "colab": {
     "base_uri": "https://localhost:8080/",
     "height": 287
    },
    "executionInfo": {
     "elapsed": 205,
     "status": "ok",
     "timestamp": 1653266671113,
     "user": {
      "displayName": "Lucas Corrêa",
      "userId": "06320273670240218623"
     },
     "user_tz": 180
    },
    "id": "G_3sKH52X0QP",
    "outputId": "e9267786-d6ea-452d-c135-96cf63acb328"
   },
   "outputs": [
    {
     "data": {
      "text/html": [
       "<div>\n",
       "<style scoped>\n",
       "    .dataframe tbody tr th:only-of-type {\n",
       "        vertical-align: middle;\n",
       "    }\n",
       "\n",
       "    .dataframe tbody tr th {\n",
       "        vertical-align: top;\n",
       "    }\n",
       "\n",
       "    .dataframe thead th {\n",
       "        text-align: right;\n",
       "    }\n",
       "</style>\n",
       "<table border=\"1\" class=\"dataframe\">\n",
       "  <thead>\n",
       "    <tr style=\"text-align: right;\">\n",
       "      <th></th>\n",
       "      <th>job_blue-collar</th>\n",
       "      <th>job_entrepreneur</th>\n",
       "      <th>job_housemaid</th>\n",
       "      <th>job_management</th>\n",
       "      <th>job_retired</th>\n",
       "      <th>job_self-employed</th>\n",
       "      <th>job_services</th>\n",
       "      <th>job_student</th>\n",
       "      <th>job_technician</th>\n",
       "      <th>job_unemployed</th>\n",
       "      <th>job_unknown</th>\n",
       "      <th>marital_married</th>\n",
       "      <th>marital_single</th>\n",
       "      <th>marital_unknown</th>\n",
       "      <th>education_basic.6y</th>\n",
       "      <th>education_basic.9y</th>\n",
       "      <th>education_high.school</th>\n",
       "      <th>education_illiterate</th>\n",
       "      <th>education_professional.course</th>\n",
       "      <th>education_university.degree</th>\n",
       "      <th>education_unknown</th>\n",
       "      <th>default_unknown</th>\n",
       "      <th>default_yes</th>\n",
       "      <th>housing_unknown</th>\n",
       "      <th>housing_yes</th>\n",
       "      <th>loan_unknown</th>\n",
       "      <th>loan_yes</th>\n",
       "      <th>contact_telephone</th>\n",
       "      <th>month_aug</th>\n",
       "      <th>month_dec</th>\n",
       "      <th>month_jul</th>\n",
       "      <th>month_jun</th>\n",
       "      <th>month_mar</th>\n",
       "      <th>month_may</th>\n",
       "      <th>month_nov</th>\n",
       "      <th>month_oct</th>\n",
       "      <th>month_sep</th>\n",
       "      <th>day_of_week_mon</th>\n",
       "      <th>day_of_week_thu</th>\n",
       "      <th>day_of_week_tue</th>\n",
       "      <th>day_of_week_wed</th>\n",
       "      <th>poutcome_nonexistent</th>\n",
       "      <th>poutcome_success</th>\n",
       "      <th>age</th>\n",
       "      <th>duration</th>\n",
       "      <th>campaign</th>\n",
       "      <th>pdays</th>\n",
       "      <th>previous</th>\n",
       "      <th>difficulty</th>\n",
       "    </tr>\n",
       "  </thead>\n",
       "  <tbody>\n",
       "    <tr>\n",
       "      <th>24186</th>\n",
       "      <td>1</td>\n",
       "      <td>0</td>\n",
       "      <td>0</td>\n",
       "      <td>0</td>\n",
       "      <td>0</td>\n",
       "      <td>0</td>\n",
       "      <td>0</td>\n",
       "      <td>0</td>\n",
       "      <td>0</td>\n",
       "      <td>0</td>\n",
       "      <td>0</td>\n",
       "      <td>0</td>\n",
       "      <td>1</td>\n",
       "      <td>0</td>\n",
       "      <td>0</td>\n",
       "      <td>0</td>\n",
       "      <td>0</td>\n",
       "      <td>0</td>\n",
       "      <td>0</td>\n",
       "      <td>0</td>\n",
       "      <td>0</td>\n",
       "      <td>0</td>\n",
       "      <td>0</td>\n",
       "      <td>0</td>\n",
       "      <td>1</td>\n",
       "      <td>0</td>\n",
       "      <td>0</td>\n",
       "      <td>0</td>\n",
       "      <td>0</td>\n",
       "      <td>0</td>\n",
       "      <td>0</td>\n",
       "      <td>0</td>\n",
       "      <td>0</td>\n",
       "      <td>1</td>\n",
       "      <td>0</td>\n",
       "      <td>0</td>\n",
       "      <td>0</td>\n",
       "      <td>0</td>\n",
       "      <td>0</td>\n",
       "      <td>0</td>\n",
       "      <td>0</td>\n",
       "      <td>1</td>\n",
       "      <td>0</td>\n",
       "      <td>33</td>\n",
       "      <td>39</td>\n",
       "      <td>3</td>\n",
       "      <td>999</td>\n",
       "      <td>0</td>\n",
       "      <td>-1</td>\n",
       "    </tr>\n",
       "    <tr>\n",
       "      <th>18087</th>\n",
       "      <td>0</td>\n",
       "      <td>0</td>\n",
       "      <td>0</td>\n",
       "      <td>1</td>\n",
       "      <td>0</td>\n",
       "      <td>0</td>\n",
       "      <td>0</td>\n",
       "      <td>0</td>\n",
       "      <td>0</td>\n",
       "      <td>0</td>\n",
       "      <td>0</td>\n",
       "      <td>0</td>\n",
       "      <td>1</td>\n",
       "      <td>0</td>\n",
       "      <td>0</td>\n",
       "      <td>0</td>\n",
       "      <td>0</td>\n",
       "      <td>0</td>\n",
       "      <td>0</td>\n",
       "      <td>1</td>\n",
       "      <td>0</td>\n",
       "      <td>0</td>\n",
       "      <td>0</td>\n",
       "      <td>0</td>\n",
       "      <td>1</td>\n",
       "      <td>0</td>\n",
       "      <td>0</td>\n",
       "      <td>0</td>\n",
       "      <td>0</td>\n",
       "      <td>0</td>\n",
       "      <td>0</td>\n",
       "      <td>0</td>\n",
       "      <td>0</td>\n",
       "      <td>0</td>\n",
       "      <td>1</td>\n",
       "      <td>0</td>\n",
       "      <td>0</td>\n",
       "      <td>0</td>\n",
       "      <td>1</td>\n",
       "      <td>0</td>\n",
       "      <td>0</td>\n",
       "      <td>1</td>\n",
       "      <td>0</td>\n",
       "      <td>48</td>\n",
       "      <td>90</td>\n",
       "      <td>2</td>\n",
       "      <td>999</td>\n",
       "      <td>0</td>\n",
       "      <td>-1</td>\n",
       "    </tr>\n",
       "    <tr>\n",
       "      <th>6950</th>\n",
       "      <td>0</td>\n",
       "      <td>0</td>\n",
       "      <td>0</td>\n",
       "      <td>1</td>\n",
       "      <td>0</td>\n",
       "      <td>0</td>\n",
       "      <td>0</td>\n",
       "      <td>0</td>\n",
       "      <td>0</td>\n",
       "      <td>0</td>\n",
       "      <td>0</td>\n",
       "      <td>0</td>\n",
       "      <td>1</td>\n",
       "      <td>0</td>\n",
       "      <td>0</td>\n",
       "      <td>0</td>\n",
       "      <td>1</td>\n",
       "      <td>0</td>\n",
       "      <td>0</td>\n",
       "      <td>0</td>\n",
       "      <td>0</td>\n",
       "      <td>0</td>\n",
       "      <td>0</td>\n",
       "      <td>0</td>\n",
       "      <td>0</td>\n",
       "      <td>0</td>\n",
       "      <td>0</td>\n",
       "      <td>1</td>\n",
       "      <td>0</td>\n",
       "      <td>0</td>\n",
       "      <td>0</td>\n",
       "      <td>0</td>\n",
       "      <td>0</td>\n",
       "      <td>1</td>\n",
       "      <td>0</td>\n",
       "      <td>0</td>\n",
       "      <td>0</td>\n",
       "      <td>1</td>\n",
       "      <td>0</td>\n",
       "      <td>0</td>\n",
       "      <td>0</td>\n",
       "      <td>1</td>\n",
       "      <td>0</td>\n",
       "      <td>31</td>\n",
       "      <td>114</td>\n",
       "      <td>3</td>\n",
       "      <td>999</td>\n",
       "      <td>0</td>\n",
       "      <td>-1</td>\n",
       "    </tr>\n",
       "    <tr>\n",
       "      <th>8200</th>\n",
       "      <td>1</td>\n",
       "      <td>0</td>\n",
       "      <td>0</td>\n",
       "      <td>0</td>\n",
       "      <td>0</td>\n",
       "      <td>0</td>\n",
       "      <td>0</td>\n",
       "      <td>0</td>\n",
       "      <td>0</td>\n",
       "      <td>0</td>\n",
       "      <td>0</td>\n",
       "      <td>0</td>\n",
       "      <td>0</td>\n",
       "      <td>0</td>\n",
       "      <td>1</td>\n",
       "      <td>0</td>\n",
       "      <td>0</td>\n",
       "      <td>0</td>\n",
       "      <td>0</td>\n",
       "      <td>0</td>\n",
       "      <td>0</td>\n",
       "      <td>1</td>\n",
       "      <td>0</td>\n",
       "      <td>1</td>\n",
       "      <td>0</td>\n",
       "      <td>1</td>\n",
       "      <td>0</td>\n",
       "      <td>0</td>\n",
       "      <td>0</td>\n",
       "      <td>0</td>\n",
       "      <td>1</td>\n",
       "      <td>0</td>\n",
       "      <td>0</td>\n",
       "      <td>0</td>\n",
       "      <td>0</td>\n",
       "      <td>0</td>\n",
       "      <td>0</td>\n",
       "      <td>0</td>\n",
       "      <td>0</td>\n",
       "      <td>0</td>\n",
       "      <td>0</td>\n",
       "      <td>1</td>\n",
       "      <td>0</td>\n",
       "      <td>40</td>\n",
       "      <td>138</td>\n",
       "      <td>3</td>\n",
       "      <td>999</td>\n",
       "      <td>0</td>\n",
       "      <td>-1</td>\n",
       "    </tr>\n",
       "    <tr>\n",
       "      <th>16051</th>\n",
       "      <td>1</td>\n",
       "      <td>0</td>\n",
       "      <td>0</td>\n",
       "      <td>0</td>\n",
       "      <td>0</td>\n",
       "      <td>0</td>\n",
       "      <td>0</td>\n",
       "      <td>0</td>\n",
       "      <td>0</td>\n",
       "      <td>0</td>\n",
       "      <td>0</td>\n",
       "      <td>1</td>\n",
       "      <td>0</td>\n",
       "      <td>0</td>\n",
       "      <td>0</td>\n",
       "      <td>0</td>\n",
       "      <td>1</td>\n",
       "      <td>0</td>\n",
       "      <td>0</td>\n",
       "      <td>0</td>\n",
       "      <td>0</td>\n",
       "      <td>0</td>\n",
       "      <td>0</td>\n",
       "      <td>0</td>\n",
       "      <td>1</td>\n",
       "      <td>0</td>\n",
       "      <td>0</td>\n",
       "      <td>0</td>\n",
       "      <td>1</td>\n",
       "      <td>0</td>\n",
       "      <td>0</td>\n",
       "      <td>0</td>\n",
       "      <td>0</td>\n",
       "      <td>0</td>\n",
       "      <td>0</td>\n",
       "      <td>0</td>\n",
       "      <td>0</td>\n",
       "      <td>0</td>\n",
       "      <td>0</td>\n",
       "      <td>0</td>\n",
       "      <td>0</td>\n",
       "      <td>1</td>\n",
       "      <td>0</td>\n",
       "      <td>30</td>\n",
       "      <td>252</td>\n",
       "      <td>1</td>\n",
       "      <td>999</td>\n",
       "      <td>0</td>\n",
       "      <td>-1</td>\n",
       "    </tr>\n",
       "  </tbody>\n",
       "</table>\n",
       "</div>"
      ],
      "text/plain": [
       "       job_blue-collar  job_entrepreneur  job_housemaid  job_management  \\\n",
       "24186                1                 0              0               0   \n",
       "18087                0                 0              0               1   \n",
       "6950                 0                 0              0               1   \n",
       "8200                 1                 0              0               0   \n",
       "16051                1                 0              0               0   \n",
       "\n",
       "       job_retired  job_self-employed  job_services  job_student  \\\n",
       "24186            0                  0             0            0   \n",
       "18087            0                  0             0            0   \n",
       "6950             0                  0             0            0   \n",
       "8200             0                  0             0            0   \n",
       "16051            0                  0             0            0   \n",
       "\n",
       "       job_technician  job_unemployed  job_unknown  marital_married  \\\n",
       "24186               0               0            0                0   \n",
       "18087               0               0            0                0   \n",
       "6950                0               0            0                0   \n",
       "8200                0               0            0                0   \n",
       "16051               0               0            0                1   \n",
       "\n",
       "       marital_single  marital_unknown  education_basic.6y  \\\n",
       "24186               1                0                   0   \n",
       "18087               1                0                   0   \n",
       "6950                1                0                   0   \n",
       "8200                0                0                   1   \n",
       "16051               0                0                   0   \n",
       "\n",
       "       education_basic.9y  education_high.school  education_illiterate  \\\n",
       "24186                   0                      0                     0   \n",
       "18087                   0                      0                     0   \n",
       "6950                    0                      1                     0   \n",
       "8200                    0                      0                     0   \n",
       "16051                   0                      1                     0   \n",
       "\n",
       "       education_professional.course  education_university.degree  \\\n",
       "24186                              0                            0   \n",
       "18087                              0                            1   \n",
       "6950                               0                            0   \n",
       "8200                               0                            0   \n",
       "16051                              0                            0   \n",
       "\n",
       "       education_unknown  default_unknown  default_yes  housing_unknown  \\\n",
       "24186                  0                0            0                0   \n",
       "18087                  0                0            0                0   \n",
       "6950                   0                0            0                0   \n",
       "8200                   0                1            0                1   \n",
       "16051                  0                0            0                0   \n",
       "\n",
       "       housing_yes  loan_unknown  loan_yes  contact_telephone  month_aug  \\\n",
       "24186            1             0         0                  0          0   \n",
       "18087            1             0         0                  0          0   \n",
       "6950             0             0         0                  1          0   \n",
       "8200             0             1         0                  0          0   \n",
       "16051            1             0         0                  0          1   \n",
       "\n",
       "       month_dec  month_jul  month_jun  month_mar  month_may  month_nov  \\\n",
       "24186          0          0          0          0          1          0   \n",
       "18087          0          0          0          0          0          1   \n",
       "6950           0          0          0          0          1          0   \n",
       "8200           0          1          0          0          0          0   \n",
       "16051          0          0          0          0          0          0   \n",
       "\n",
       "       month_oct  month_sep  day_of_week_mon  day_of_week_thu  \\\n",
       "24186          0          0                0                0   \n",
       "18087          0          0                0                1   \n",
       "6950           0          0                1                0   \n",
       "8200           0          0                0                0   \n",
       "16051          0          0                0                0   \n",
       "\n",
       "       day_of_week_tue  day_of_week_wed  poutcome_nonexistent  \\\n",
       "24186                0                0                     1   \n",
       "18087                0                0                     1   \n",
       "6950                 0                0                     1   \n",
       "8200                 0                0                     1   \n",
       "16051                0                0                     1   \n",
       "\n",
       "       poutcome_success  age  duration  campaign  pdays  previous  difficulty  \n",
       "24186                 0   33        39         3    999         0          -1  \n",
       "18087                 0   48        90         2    999         0          -1  \n",
       "6950                  0   31       114         3    999         0          -1  \n",
       "8200                  0   40       138         3    999         0          -1  \n",
       "16051                 0   30       252         1    999         0          -1  "
      ]
     },
     "execution_count": 134,
     "metadata": {},
     "output_type": "execute_result"
    }
   ],
   "source": [
    "x_treino_exer.head()"
   ]
  },
  {
   "cell_type": "code",
   "execution_count": 137,
   "metadata": {
    "id": "hvbYkjE0X2Pe"
   },
   "outputs": [],
   "source": [
    "from sklearn.ensemble import GradientBoostingClassifier\n",
    "from sklearn.model_selection import GridSearchCV"
   ]
  },
  {
   "cell_type": "code",
   "execution_count": 138,
   "metadata": {
    "id": "WMfnWTfAYVdJ"
   },
   "outputs": [],
   "source": [
    "exercicio_dict = {\n",
    "    'n_estimators':[500,1000],\n",
    "    'min_samples_leaf':[2,100],\n",
    "    'min_samples_split':[10,200],\n",
    "    'random_state':[42]\n",
    "}"
   ]
  },
  {
   "cell_type": "code",
   "execution_count": 139,
   "metadata": {
    "id": "Wwz1S_WKY1xt"
   },
   "outputs": [],
   "source": [
    "# modelo \n",
    "\n",
    "gb_exercicio = GradientBoostingClassifier(random_state=42)"
   ]
  },
  {
   "cell_type": "code",
   "execution_count": 140,
   "metadata": {
    "id": "k9lnREtQZAfv"
   },
   "outputs": [],
   "source": [
    "# tuning\n",
    "\n",
    "gb_exercicio_tuning = GridSearchCV(gb_exercicio,\n",
    "                                   exercicio_dict,\n",
    "                                   cv=2,\n",
    "                                   scoring=make_scorer(accuracy_score))"
   ]
  },
  {
   "cell_type": "code",
   "execution_count": 141,
   "metadata": {
    "colab": {
     "base_uri": "https://localhost:8080/"
    },
    "executionInfo": {
     "elapsed": 201920,
     "status": "ok",
     "timestamp": 1653267300383,
     "user": {
      "displayName": "Lucas Corrêa",
      "userId": "06320273670240218623"
     },
     "user_tz": 180
    },
    "id": "KwTLW3zMZVH2",
    "outputId": "858dc33f-5510-4d7e-9e8a-41a9ec7b771b"
   },
   "outputs": [
    {
     "data": {
      "text/plain": [
       "GridSearchCV(cv=2, estimator=GradientBoostingClassifier(random_state=42),\n",
       "             param_grid={'min_samples_leaf': [2, 100],\n",
       "                         'min_samples_split': [10, 200],\n",
       "                         'n_estimators': [500, 1000], 'random_state': [42]},\n",
       "             scoring=make_scorer(accuracy_score))"
      ]
     },
     "execution_count": 141,
     "metadata": {},
     "output_type": "execute_result"
    }
   ],
   "source": [
    "gb_exercicio_tuning.fit(x_treino_exer, y_treino_exer)"
   ]
  },
  {
   "cell_type": "code",
   "execution_count": 142,
   "metadata": {
    "colab": {
     "base_uri": "https://localhost:8080/"
    },
    "executionInfo": {
     "elapsed": 2,
     "status": "ok",
     "timestamp": 1653267325913,
     "user": {
      "displayName": "Lucas Corrêa",
      "userId": "06320273670240218623"
     },
     "user_tz": 180
    },
    "id": "GBVf5BRWZekn",
    "outputId": "afab3a07-3e0e-4352-ee97-1ba392c77f84"
   },
   "outputs": [
    {
     "data": {
      "text/plain": [
       "GradientBoostingClassifier(min_samples_leaf=100, min_samples_split=10,\n",
       "                           n_estimators=500, random_state=42)"
      ]
     },
     "execution_count": 142,
     "metadata": {},
     "output_type": "execute_result"
    }
   ],
   "source": [
    "gb_exercicio_tuning.best_estimator_"
   ]
  },
  {
   "cell_type": "code",
   "execution_count": 143,
   "metadata": {
    "colab": {
     "base_uri": "https://localhost:8080/"
    },
    "executionInfo": {
     "elapsed": 217,
     "status": "ok",
     "timestamp": 1653267344770,
     "user": {
      "displayName": "Lucas Corrêa",
      "userId": "06320273670240218623"
     },
     "user_tz": 180
    },
    "id": "CM7sjhYWaWII",
    "outputId": "e0ac8eac-5585-4df0-eecb-90511eedf590"
   },
   "outputs": [
    {
     "data": {
      "text/plain": [
       "0.9083459372295741"
      ]
     },
     "execution_count": 143,
     "metadata": {},
     "output_type": "execute_result"
    }
   ],
   "source": [
    "gb_exercicio_tuning.best_score_"
   ]
  },
  {
   "cell_type": "code",
   "execution_count": 144,
   "metadata": {
    "colab": {
     "base_uri": "https://localhost:8080/"
    },
    "executionInfo": {
     "elapsed": 574,
     "status": "ok",
     "timestamp": 1653267517445,
     "user": {
      "displayName": "Lucas Corrêa",
      "userId": "06320273670240218623"
     },
     "user_tz": 180
    },
    "id": "LDRDTKGBbBra",
    "outputId": "3cd3d784-8ccf-4bf2-dcf6-c287ba860450"
   },
   "outputs": [
    {
     "data": {
      "text/plain": [
       "0.9216561890309993"
      ]
     },
     "execution_count": 144,
     "metadata": {},
     "output_type": "execute_result"
    }
   ],
   "source": [
    "accuracy_score(y_treino_exer, gb_exercicio_tuning.predict(x_treino_exer))"
   ]
  },
  {
   "cell_type": "code",
   "execution_count": 145,
   "metadata": {
    "colab": {
     "base_uri": "https://localhost:8080/"
    },
    "executionInfo": {
     "elapsed": 198,
     "status": "ok",
     "timestamp": 1653267493013,
     "user": {
      "displayName": "Lucas Corrêa",
      "userId": "06320273670240218623"
     },
     "user_tz": 180
    },
    "id": "ifFPNZoaaarg",
    "outputId": "87c2f7be-3203-408e-c90e-05389cb6bf31"
   },
   "outputs": [
    {
     "data": {
      "text/plain": [
       "0.907233181588265"
      ]
     },
     "execution_count": 145,
     "metadata": {},
     "output_type": "execute_result"
    }
   ],
   "source": [
    "accuracy_score(y_teste_exer, gb_exercicio_tuning.predict(x_teste_exer))"
   ]
  },
  {
   "cell_type": "code",
   "execution_count": 146,
   "metadata": {
    "id": "l4M8h8mVa0Q3"
   },
   "outputs": [],
   "source": [
    "import joblib"
   ]
  },
  {
   "cell_type": "code",
   "execution_count": 147,
   "metadata": {
    "colab": {
     "base_uri": "https://localhost:8080/"
    },
    "executionInfo": {
     "elapsed": 269,
     "status": "ok",
     "timestamp": 1653267672575,
     "user": {
      "displayName": "Lucas Corrêa",
      "userId": "06320273670240218623"
     },
     "user_tz": 180
    },
    "id": "ZtOJ3pb_bUs3",
    "outputId": "09c45853-d62e-49a8-d40b-dc770551a3e0"
   },
   "outputs": [
    {
     "data": {
      "text/plain": [
       "['gb_exercicio_tuning.pkl']"
      ]
     },
     "execution_count": 147,
     "metadata": {},
     "output_type": "execute_result"
    }
   ],
   "source": [
    "joblib.dump(gb_exercicio_tuning, 'gb_exercicio_tuning.pkl')"
   ]
  }
 ],
 "metadata": {
  "colab": {
   "authorship_tag": "ABX9TyMDYUdpGbYdR84bQstSAcKH",
   "collapsed_sections": [
    "rhBhPF51KsR3"
   ],
   "name": "[AULA] Modulo 5 - Modelagem Classificação - Exercicios.ipynb",
   "provenance": []
  },
  "kernelspec": {
   "display_name": "Python 3 (ipykernel)",
   "language": "python",
   "name": "python3"
  },
  "language_info": {
   "codemirror_mode": {
    "name": "ipython",
    "version": 3
   },
   "file_extension": ".py",
   "mimetype": "text/x-python",
   "name": "python",
   "nbconvert_exporter": "python",
   "pygments_lexer": "ipython3",
   "version": "3.9.7"
  }
 },
 "nbformat": 4,
 "nbformat_minor": 1
}
