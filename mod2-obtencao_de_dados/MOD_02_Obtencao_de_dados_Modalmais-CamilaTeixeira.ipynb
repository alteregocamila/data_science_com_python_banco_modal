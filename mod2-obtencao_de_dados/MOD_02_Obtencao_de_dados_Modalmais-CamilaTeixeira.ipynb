{
 "cells": [
  {
   "cell_type": "markdown",
   "id": "_TQOfSK4mUTd",
   "metadata": {
    "id": "_TQOfSK4mUTd"
   },
   "source": [
    "# Data Science com Python - Aprenda com Modal\n",
    "## Otenção e Armazenamento de Dados\n",
    "### Camila Teixeira"
   ]
  },
  {
   "cell_type": "markdown",
   "id": "0d54c0ad-601e-4d23-969e-8b9e2dfe9ef8",
   "metadata": {
    "id": "0d54c0ad-601e-4d23-969e-8b9e2dfe9ef8"
   },
   "source": [
    "# 1. Instalando as Bibliotecas\n"
   ]
  },
  {
   "cell_type": "code",
   "execution_count": 1,
   "id": "df3f637d-ea40-49e6-adfa-d2a0402459a1",
   "metadata": {
    "colab": {
     "base_uri": "https://localhost:8080/"
    },
    "executionInfo": {
     "elapsed": 33914,
     "status": "ok",
     "timestamp": 1650665338009,
     "user": {
      "displayName": "Vitor Hugo Sattamini",
      "userId": "06763357969946926934"
     },
     "user_tz": 180
    },
    "id": "df3f637d-ea40-49e6-adfa-d2a0402459a1",
    "outputId": "b72c8381-98ae-4596-fbcd-4500f8aef447"
   },
   "outputs": [
    {
     "name": "stdout",
     "output_type": "stream",
     "text": [
      "Requirement already satisfied: pandas in c:\\users\\camil\\anaconda3\\lib\\site-packages (1.3.4)\n",
      "Requirement already satisfied: numpy in c:\\users\\camil\\anaconda3\\lib\\site-packages (1.20.3)\n",
      "Requirement already satisfied: python-dateutil>=2.7.3 in c:\\users\\camil\\anaconda3\\lib\\site-packages (from pandas) (2.8.2)\n",
      "Requirement already satisfied: pytz>=2017.3 in c:\\users\\camil\\anaconda3\\lib\\site-packages (from pandas) (2021.3)\n",
      "Requirement already satisfied: six>=1.5 in c:\\users\\camil\\anaconda3\\lib\\site-packages (from python-dateutil>=2.7.3->pandas) (1.16.0)\n",
      "Requirement already satisfied: datetime in c:\\users\\camil\\anaconda3\\lib\\site-packages (4.4)\n",
      "Requirement already satisfied: pytz in c:\\users\\camil\\anaconda3\\lib\\site-packages (from datetime) (2021.3)\n",
      "Requirement already satisfied: zope.interface in c:\\users\\camil\\anaconda3\\lib\\site-packages (from datetime) (5.4.0)\n",
      "Requirement already satisfied: setuptools in c:\\users\\camil\\anaconda3\\lib\\site-packages (from zope.interface->datetime) (58.0.4)\n",
      "Requirement already satisfied: matplotlib in c:\\users\\camil\\anaconda3\\lib\\site-packages (3.4.3)\n",
      "Requirement already satisfied: plotly in c:\\users\\camil\\anaconda3\\lib\\site-packages (5.8.0)\n",
      "Requirement already satisfied: numpy>=1.16 in c:\\users\\camil\\anaconda3\\lib\\site-packages (from matplotlib) (1.20.3)\n",
      "Requirement already satisfied: cycler>=0.10 in c:\\users\\camil\\anaconda3\\lib\\site-packages (from matplotlib) (0.10.0)\n",
      "Requirement already satisfied: kiwisolver>=1.0.1 in c:\\users\\camil\\anaconda3\\lib\\site-packages (from matplotlib) (1.3.1)\n",
      "Requirement already satisfied: python-dateutil>=2.7 in c:\\users\\camil\\anaconda3\\lib\\site-packages (from matplotlib) (2.8.2)\n",
      "Requirement already satisfied: pyparsing>=2.2.1 in c:\\users\\camil\\anaconda3\\lib\\site-packages (from matplotlib) (3.0.4)\n",
      "Requirement already satisfied: pillow>=6.2.0 in c:\\users\\camil\\anaconda3\\lib\\site-packages (from matplotlib) (8.4.0)\n",
      "Requirement already satisfied: tenacity>=6.2.0 in c:\\users\\camil\\anaconda3\\lib\\site-packages (from plotly) (8.0.1)\n",
      "Requirement already satisfied: six in c:\\users\\camil\\anaconda3\\lib\\site-packages (from cycler>=0.10->matplotlib) (1.16.0)\n",
      "Requirement already satisfied: yfinance in c:\\users\\camil\\anaconda3\\lib\\site-packages (0.1.70)\n",
      "Requirement already satisfied: numpy>=1.15 in c:\\users\\camil\\anaconda3\\lib\\site-packages (from yfinance) (1.20.3)\n",
      "Requirement already satisfied: requests>=2.26 in c:\\users\\camil\\anaconda3\\lib\\site-packages (from yfinance) (2.26.0)\n",
      "Requirement already satisfied: lxml>=4.5.1 in c:\\users\\camil\\anaconda3\\lib\\site-packages (from yfinance) (4.6.3)\n",
      "Requirement already satisfied: multitasking>=0.0.7 in c:\\users\\camil\\anaconda3\\lib\\site-packages (from yfinance) (0.0.10)\n",
      "Requirement already satisfied: pandas>=0.24.0 in c:\\users\\camil\\anaconda3\\lib\\site-packages (from yfinance) (1.3.4)\n",
      "Requirement already satisfied: pytz>=2017.3 in c:\\users\\camil\\anaconda3\\lib\\site-packages (from pandas>=0.24.0->yfinance) (2021.3)\n",
      "Requirement already satisfied: python-dateutil>=2.7.3 in c:\\users\\camil\\anaconda3\\lib\\site-packages (from pandas>=0.24.0->yfinance) (2.8.2)\n",
      "Requirement already satisfied: six>=1.5 in c:\\users\\camil\\anaconda3\\lib\\site-packages (from python-dateutil>=2.7.3->pandas>=0.24.0->yfinance) (1.16.0)\n",
      "Requirement already satisfied: charset-normalizer~=2.0.0 in c:\\users\\camil\\anaconda3\\lib\\site-packages (from requests>=2.26->yfinance) (2.0.4)\n",
      "Requirement already satisfied: certifi>=2017.4.17 in c:\\users\\camil\\anaconda3\\lib\\site-packages (from requests>=2.26->yfinance) (2021.10.8)\n",
      "Requirement already satisfied: urllib3<1.27,>=1.21.1 in c:\\users\\camil\\anaconda3\\lib\\site-packages (from requests>=2.26->yfinance) (1.26.7)\n",
      "Requirement already satisfied: idna<4,>=2.5 in c:\\users\\camil\\anaconda3\\lib\\site-packages (from requests>=2.26->yfinance) (3.2)\n",
      "Requirement already satisfied: quandl in c:\\users\\camil\\anaconda3\\lib\\site-packages (3.7.0)\n",
      "Requirement already satisfied: more-itertools in c:\\users\\camil\\anaconda3\\lib\\site-packages (from quandl) (8.10.0)\n",
      "Requirement already satisfied: numpy>=1.8 in c:\\users\\camil\\anaconda3\\lib\\site-packages (from quandl) (1.20.3)\n",
      "Requirement already satisfied: requests>=2.7.0 in c:\\users\\camil\\anaconda3\\lib\\site-packages (from quandl) (2.26.0)\n",
      "Requirement already satisfied: python-dateutil in c:\\users\\camil\\anaconda3\\lib\\site-packages (from quandl) (2.8.2)\n",
      "Requirement already satisfied: six in c:\\users\\camil\\anaconda3\\lib\\site-packages (from quandl) (1.16.0)\n",
      "Requirement already satisfied: inflection>=0.3.1 in c:\\users\\camil\\anaconda3\\lib\\site-packages (from quandl) (0.5.1)\n",
      "Requirement already satisfied: pandas>=0.14 in c:\\users\\camil\\anaconda3\\lib\\site-packages (from quandl) (1.3.4)\n",
      "Requirement already satisfied: pytz>=2017.3 in c:\\users\\camil\\anaconda3\\lib\\site-packages (from pandas>=0.14->quandl) (2021.3)\n",
      "Requirement already satisfied: charset-normalizer~=2.0.0 in c:\\users\\camil\\anaconda3\\lib\\site-packages (from requests>=2.7.0->quandl) (2.0.4)\n",
      "Requirement already satisfied: urllib3<1.27,>=1.21.1 in c:\\users\\camil\\anaconda3\\lib\\site-packages (from requests>=2.7.0->quandl) (1.26.7)\n",
      "Requirement already satisfied: certifi>=2017.4.17 in c:\\users\\camil\\anaconda3\\lib\\site-packages (from requests>=2.7.0->quandl) (2021.10.8)\n",
      "Requirement already satisfied: idna<4,>=2.5 in c:\\users\\camil\\anaconda3\\lib\\site-packages (from requests>=2.7.0->quandl) (3.2)\n"
     ]
    }
   ],
   "source": [
    "# Execute apenas se for preciso instalar as bibliotecas\n",
    "\n",
    "!pip install pandas numpy\n",
    "!pip install datetime\n",
    "!pip install matplotlib plotly\n",
    "!pip install yfinance\n",
    "!pip install quandl"
   ]
  },
  {
   "cell_type": "code",
   "execution_count": 2,
   "id": "b647dd7e-fbdb-465f-bf0c-4b40a0b809eb",
   "metadata": {
    "executionInfo": {
     "elapsed": 1950,
     "status": "ok",
     "timestamp": 1650665350789,
     "user": {
      "displayName": "Vitor Hugo Sattamini",
      "userId": "06763357969946926934"
     },
     "user_tz": 180
    },
    "id": "b647dd7e-fbdb-465f-bf0c-4b40a0b809eb"
   },
   "outputs": [],
   "source": [
    "# Manipulação de dados\n",
    "import pandas as pd\n",
    "import numpy as np\n",
    "\n",
    "# Visualização de dados\n",
    "import matplotlib.pyplot as plt\n",
    "import plotly.graph_objects as go\n",
    "\n",
    "# Importação de dados financeiros\n",
    "import yfinance as yf\n",
    "import quandl"
   ]
  },
  {
   "cell_type": "markdown",
   "id": "f01c779b-9658-445e-bf07-dc78ba793400",
   "metadata": {
    "id": "f01c779b-9658-445e-bf07-dc78ba793400"
   },
   "source": [
    "# 2. Obtenção de dados via arquivos"
   ]
  },
  {
   "cell_type": "markdown",
   "id": "A5YXh73CmUTk",
   "metadata": {
    "id": "A5YXh73CmUTk"
   },
   "source": [
    "## 2.1. Arquivos .csv"
   ]
  },
  {
   "cell_type": "code",
   "execution_count": 3,
   "id": "ET0cII9PmUTl",
   "metadata": {
    "id": "ET0cII9PmUTl"
   },
   "outputs": [],
   "source": [
    "ibov = pd.read_csv('Bovespa.csv')"
   ]
  },
  {
   "cell_type": "code",
   "execution_count": 5,
   "id": "alx9TgoQmUTl",
   "metadata": {
    "id": "alx9TgoQmUTl"
   },
   "outputs": [],
   "source": [
    "# Caso o arquivo esteja em outra pasta, você pode também determinar o seu diretório\n",
    "\n",
    "ibov = pd.read_csv('Bovespa.csv')"
   ]
  },
  {
   "cell_type": "code",
   "execution_count": 6,
   "id": "siG9fKkomUTm",
   "metadata": {
    "id": "siG9fKkomUTm",
    "outputId": "3089cfcf-a708-41d3-d387-a20818f0e28c",
    "scrolled": true
   },
   "outputs": [
    {
     "data": {
      "text/html": [
       "<div>\n",
       "<style scoped>\n",
       "    .dataframe tbody tr th:only-of-type {\n",
       "        vertical-align: middle;\n",
       "    }\n",
       "\n",
       "    .dataframe tbody tr th {\n",
       "        vertical-align: top;\n",
       "    }\n",
       "\n",
       "    .dataframe thead th {\n",
       "        text-align: right;\n",
       "    }\n",
       "</style>\n",
       "<table border=\"1\" class=\"dataframe\">\n",
       "  <thead>\n",
       "    <tr style=\"text-align: right;\">\n",
       "      <th></th>\n",
       "      <th>Date</th>\n",
       "      <th>ABCB4</th>\n",
       "      <th>BBAS3</th>\n",
       "      <th>BBDC4</th>\n",
       "      <th>BPAN4</th>\n",
       "      <th>BTOW3</th>\n",
       "      <th>CGAS3</th>\n",
       "      <th>CMIG4</th>\n",
       "      <th>CSNA3</th>\n",
       "      <th>CYRE3</th>\n",
       "      <th>...</th>\n",
       "      <th>POMO4</th>\n",
       "      <th>QGEP3</th>\n",
       "      <th>RAPT4</th>\n",
       "      <th>SAPR4</th>\n",
       "      <th>SBSP3</th>\n",
       "      <th>SUZB5</th>\n",
       "      <th>TUPY3</th>\n",
       "      <th>USIM5</th>\n",
       "      <th>VALE5</th>\n",
       "      <th>WEGE3</th>\n",
       "    </tr>\n",
       "  </thead>\n",
       "  <tbody>\n",
       "    <tr>\n",
       "      <th>0</th>\n",
       "      <td>6/5/2012</td>\n",
       "      <td>5.778904</td>\n",
       "      <td>13.193346</td>\n",
       "      <td>14.825962</td>\n",
       "      <td>NaN</td>\n",
       "      <td>4.67417</td>\n",
       "      <td>21.089613</td>\n",
       "      <td>16.403233</td>\n",
       "      <td>9.799454</td>\n",
       "      <td>13.011072</td>\n",
       "      <td>...</td>\n",
       "      <td>3.559332</td>\n",
       "      <td>7.938090</td>\n",
       "      <td>6.136378</td>\n",
       "      <td>4.945431</td>\n",
       "      <td>19.482090</td>\n",
       "      <td>4.228104</td>\n",
       "      <td>18.623053</td>\n",
       "      <td>7.724799</td>\n",
       "      <td>28.628716</td>\n",
       "      <td>6.314218</td>\n",
       "    </tr>\n",
       "    <tr>\n",
       "      <th>1</th>\n",
       "      <td>6/6/2012</td>\n",
       "      <td>5.784656</td>\n",
       "      <td>13.474055</td>\n",
       "      <td>15.421063</td>\n",
       "      <td>NaN</td>\n",
       "      <td>4.95184</td>\n",
       "      <td>21.367132</td>\n",
       "      <td>17.082111</td>\n",
       "      <td>9.838496</td>\n",
       "      <td>13.979592</td>\n",
       "      <td>...</td>\n",
       "      <td>3.727821</td>\n",
       "      <td>8.013066</td>\n",
       "      <td>6.316431</td>\n",
       "      <td>4.918369</td>\n",
       "      <td>19.842842</td>\n",
       "      <td>4.291890</td>\n",
       "      <td>18.852964</td>\n",
       "      <td>7.456715</td>\n",
       "      <td>29.472841</td>\n",
       "      <td>6.454251</td>\n",
       "    </tr>\n",
       "    <tr>\n",
       "      <th>2</th>\n",
       "      <td>6/8/2012</td>\n",
       "      <td>5.836405</td>\n",
       "      <td>13.488092</td>\n",
       "      <td>15.457347</td>\n",
       "      <td>NaN</td>\n",
       "      <td>5.08142</td>\n",
       "      <td>22.088638</td>\n",
       "      <td>17.082111</td>\n",
       "      <td>9.799454</td>\n",
       "      <td>14.025277</td>\n",
       "      <td>...</td>\n",
       "      <td>3.694127</td>\n",
       "      <td>7.825626</td>\n",
       "      <td>6.338035</td>\n",
       "      <td>5.256635</td>\n",
       "      <td>19.926100</td>\n",
       "      <td>4.437686</td>\n",
       "      <td>18.535686</td>\n",
       "      <td>7.635437</td>\n",
       "      <td>29.727674</td>\n",
       "      <td>6.368317</td>\n",
       "    </tr>\n",
       "    <tr>\n",
       "      <th>3</th>\n",
       "      <td>6/11/2012</td>\n",
       "      <td>5.922663</td>\n",
       "      <td>13.614412</td>\n",
       "      <td>15.628112</td>\n",
       "      <td>NaN</td>\n",
       "      <td>5.09993</td>\n",
       "      <td>22.088638</td>\n",
       "      <td>17.120369</td>\n",
       "      <td>9.705755</td>\n",
       "      <td>13.723758</td>\n",
       "      <td>...</td>\n",
       "      <td>3.753094</td>\n",
       "      <td>7.413257</td>\n",
       "      <td>6.482082</td>\n",
       "      <td>5.195747</td>\n",
       "      <td>20.203676</td>\n",
       "      <td>4.237216</td>\n",
       "      <td>17.629826</td>\n",
       "      <td>7.883664</td>\n",
       "      <td>29.377279</td>\n",
       "      <td>6.368317</td>\n",
       "    </tr>\n",
       "    <tr>\n",
       "      <th>4</th>\n",
       "      <td>6/12/2012</td>\n",
       "      <td>5.876658</td>\n",
       "      <td>13.614412</td>\n",
       "      <td>15.886813</td>\n",
       "      <td>NaN</td>\n",
       "      <td>5.34984</td>\n",
       "      <td>22.088638</td>\n",
       "      <td>17.689350</td>\n",
       "      <td>9.736986</td>\n",
       "      <td>13.632388</td>\n",
       "      <td>...</td>\n",
       "      <td>3.799433</td>\n",
       "      <td>7.413257</td>\n",
       "      <td>6.482082</td>\n",
       "      <td>5.202512</td>\n",
       "      <td>20.739265</td>\n",
       "      <td>4.146093</td>\n",
       "      <td>17.933311</td>\n",
       "      <td>7.754586</td>\n",
       "      <td>30.038250</td>\n",
       "      <td>6.365140</td>\n",
       "    </tr>\n",
       "  </tbody>\n",
       "</table>\n",
       "<p>5 rows × 34 columns</p>\n",
       "</div>"
      ],
      "text/plain": [
       "        Date     ABCB4      BBAS3      BBDC4  BPAN4    BTOW3      CGAS3  \\\n",
       "0   6/5/2012  5.778904  13.193346  14.825962    NaN  4.67417  21.089613   \n",
       "1   6/6/2012  5.784656  13.474055  15.421063    NaN  4.95184  21.367132   \n",
       "2   6/8/2012  5.836405  13.488092  15.457347    NaN  5.08142  22.088638   \n",
       "3  6/11/2012  5.922663  13.614412  15.628112    NaN  5.09993  22.088638   \n",
       "4  6/12/2012  5.876658  13.614412  15.886813    NaN  5.34984  22.088638   \n",
       "\n",
       "       CMIG4     CSNA3      CYRE3  ...     POMO4     QGEP3     RAPT4  \\\n",
       "0  16.403233  9.799454  13.011072  ...  3.559332  7.938090  6.136378   \n",
       "1  17.082111  9.838496  13.979592  ...  3.727821  8.013066  6.316431   \n",
       "2  17.082111  9.799454  14.025277  ...  3.694127  7.825626  6.338035   \n",
       "3  17.120369  9.705755  13.723758  ...  3.753094  7.413257  6.482082   \n",
       "4  17.689350  9.736986  13.632388  ...  3.799433  7.413257  6.482082   \n",
       "\n",
       "      SAPR4      SBSP3     SUZB5      TUPY3     USIM5      VALE5     WEGE3  \n",
       "0  4.945431  19.482090  4.228104  18.623053  7.724799  28.628716  6.314218  \n",
       "1  4.918369  19.842842  4.291890  18.852964  7.456715  29.472841  6.454251  \n",
       "2  5.256635  19.926100  4.437686  18.535686  7.635437  29.727674  6.368317  \n",
       "3  5.195747  20.203676  4.237216  17.629826  7.883664  29.377279  6.368317  \n",
       "4  5.202512  20.739265  4.146093  17.933311  7.754586  30.038250  6.365140  \n",
       "\n",
       "[5 rows x 34 columns]"
      ]
     },
     "execution_count": 6,
     "metadata": {},
     "output_type": "execute_result"
    }
   ],
   "source": [
    "# Esta é uma amostra de ações do IBOV obtida via Yahoo Finance\n",
    "ibov.head()"
   ]
  },
  {
   "cell_type": "code",
   "execution_count": 7,
   "id": "IiCMPQuumUTn",
   "metadata": {
    "id": "IiCMPQuumUTn",
    "outputId": "3e6fee11-b14b-455b-9500-719032d5f0d5",
    "scrolled": true
   },
   "outputs": [
    {
     "data": {
      "image/png": "[encoded data removed]",
      "text/plain": [
       "<Figure size 432x288 with 1 Axes>"
      ]
     },
     "metadata": {
      "needs_background": "light"
     },
     "output_type": "display_data"
    }
   ],
   "source": [
    "ibov.WEGE3.plot();"
   ]
  },
  {
   "cell_type": "markdown",
   "id": "4Dmdf8ZMmUTn",
   "metadata": {
    "id": "4Dmdf8ZMmUTn"
   },
   "source": [
    "## 2.2. Arquivos .txt"
   ]
  },
  {
   "cell_type": "code",
   "execution_count": 8,
   "id": "tXlLDHugmUTn",
   "metadata": {
    "id": "tXlLDHugmUTn"
   },
   "outputs": [],
   "source": [
    "# O arquivo \"WDO_MT5.txt\", que contém uma amostra de vários pregões do WDO (minidólar) no timeframe de 1 minuto\n",
    "\n",
    "data = pd.read_csv('WDO_MT5_sample.txt')"
   ]
  },
  {
   "cell_type": "code",
   "execution_count": 9,
   "id": "7n0bNI45mUTn",
   "metadata": {
    "colab": {
     "base_uri": "https://localhost:8080/",
     "height": 206
    },
    "executionInfo": {
     "elapsed": 262,
     "status": "ok",
     "timestamp": 1648223577674,
     "user": {
      "displayName": "Victor Gomes",
      "photoUrl": "https://lh3.googleusercontent.com/a/default-user=s64",
      "userId": "04471344046095235293"
     },
     "user_tz": 180
    },
    "id": "7n0bNI45mUTn",
    "outputId": "9630f7a1-403c-49ba-d2b8-195913c45c5a"
   },
   "outputs": [
    {
     "data": {
      "text/html": [
       "<div>\n",
       "<style scoped>\n",
       "    .dataframe tbody tr th:only-of-type {\n",
       "        vertical-align: middle;\n",
       "    }\n",
       "\n",
       "    .dataframe tbody tr th {\n",
       "        vertical-align: top;\n",
       "    }\n",
       "\n",
       "    .dataframe thead th {\n",
       "        text-align: right;\n",
       "    }\n",
       "</style>\n",
       "<table border=\"1\" class=\"dataframe\">\n",
       "  <thead>\n",
       "    <tr style=\"text-align: right;\">\n",
       "      <th></th>\n",
       "      <th>time</th>\n",
       "      <th>time.1</th>\n",
       "      <th>open</th>\n",
       "      <th>high</th>\n",
       "      <th>low</th>\n",
       "      <th>close</th>\n",
       "      <th>tick_volume</th>\n",
       "      <th>spread</th>\n",
       "      <th>real_volume</th>\n",
       "    </tr>\n",
       "  </thead>\n",
       "  <tbody>\n",
       "    <tr>\n",
       "      <th>0</th>\n",
       "      <td>2021-11-08 11:59:00</td>\n",
       "      <td>2021-11-08 11:59:00</td>\n",
       "      <td>5692.411</td>\n",
       "      <td>5692.922</td>\n",
       "      <td>5690.878</td>\n",
       "      <td>5691.900</td>\n",
       "      <td>2140</td>\n",
       "      <td>1</td>\n",
       "      <td>6413</td>\n",
       "    </tr>\n",
       "    <tr>\n",
       "      <th>1</th>\n",
       "      <td>2021-11-08 12:00:00</td>\n",
       "      <td>2021-11-08 12:00:00</td>\n",
       "      <td>5691.900</td>\n",
       "      <td>5693.943</td>\n",
       "      <td>5691.389</td>\n",
       "      <td>5693.943</td>\n",
       "      <td>1547</td>\n",
       "      <td>1</td>\n",
       "      <td>5209</td>\n",
       "    </tr>\n",
       "    <tr>\n",
       "      <th>2</th>\n",
       "      <td>2021-11-08 12:01:00</td>\n",
       "      <td>2021-11-08 12:01:00</td>\n",
       "      <td>5693.432</td>\n",
       "      <td>5693.943</td>\n",
       "      <td>5692.411</td>\n",
       "      <td>5693.943</td>\n",
       "      <td>1146</td>\n",
       "      <td>1</td>\n",
       "      <td>4500</td>\n",
       "    </tr>\n",
       "    <tr>\n",
       "      <th>3</th>\n",
       "      <td>2021-11-08 12:02:00</td>\n",
       "      <td>2021-11-08 12:02:00</td>\n",
       "      <td>5693.943</td>\n",
       "      <td>5693.943</td>\n",
       "      <td>5692.411</td>\n",
       "      <td>5693.943</td>\n",
       "      <td>685</td>\n",
       "      <td>1</td>\n",
       "      <td>2227</td>\n",
       "    </tr>\n",
       "    <tr>\n",
       "      <th>4</th>\n",
       "      <td>2021-11-08 12:03:00</td>\n",
       "      <td>2021-11-08 12:03:00</td>\n",
       "      <td>5693.432</td>\n",
       "      <td>5693.943</td>\n",
       "      <td>5691.900</td>\n",
       "      <td>5691.900</td>\n",
       "      <td>922</td>\n",
       "      <td>1</td>\n",
       "      <td>3612</td>\n",
       "    </tr>\n",
       "  </tbody>\n",
       "</table>\n",
       "</div>"
      ],
      "text/plain": [
       "                  time               time.1      open      high       low  \\\n",
       "0  2021-11-08 11:59:00  2021-11-08 11:59:00  5692.411  5692.922  5690.878   \n",
       "1  2021-11-08 12:00:00  2021-11-08 12:00:00  5691.900  5693.943  5691.389   \n",
       "2  2021-11-08 12:01:00  2021-11-08 12:01:00  5693.432  5693.943  5692.411   \n",
       "3  2021-11-08 12:02:00  2021-11-08 12:02:00  5693.943  5693.943  5692.411   \n",
       "4  2021-11-08 12:03:00  2021-11-08 12:03:00  5693.432  5693.943  5691.900   \n",
       "\n",
       "      close  tick_volume  spread  real_volume  \n",
       "0  5691.900         2140       1         6413  \n",
       "1  5693.943         1547       1         5209  \n",
       "2  5693.943         1146       1         4500  \n",
       "3  5693.943          685       1         2227  \n",
       "4  5691.900          922       1         3612  "
      ]
     },
     "execution_count": 9,
     "metadata": {},
     "output_type": "execute_result"
    }
   ],
   "source": [
    "data.head()"
   ]
  },
  {
   "cell_type": "code",
   "execution_count": 10,
   "id": "0ro11xFnmUTo",
   "metadata": {
    "colab": {
     "base_uri": "https://localhost:8080/",
     "height": 237
    },
    "executionInfo": {
     "elapsed": 307,
     "status": "ok",
     "timestamp": 1648223584934,
     "user": {
      "displayName": "Victor Gomes",
      "photoUrl": "https://lh3.googleusercontent.com/a/default-user=s64",
      "userId": "04471344046095235293"
     },
     "user_tz": 180
    },
    "id": "0ro11xFnmUTo",
    "outputId": "3b624e05-68cf-4264-f921-ff59eb9b2057"
   },
   "outputs": [
    {
     "data": {
      "text/html": [
       "<div>\n",
       "<style scoped>\n",
       "    .dataframe tbody tr th:only-of-type {\n",
       "        vertical-align: middle;\n",
       "    }\n",
       "\n",
       "    .dataframe tbody tr th {\n",
       "        vertical-align: top;\n",
       "    }\n",
       "\n",
       "    .dataframe thead th {\n",
       "        text-align: right;\n",
       "    }\n",
       "</style>\n",
       "<table border=\"1\" class=\"dataframe\">\n",
       "  <thead>\n",
       "    <tr style=\"text-align: right;\">\n",
       "      <th></th>\n",
       "      <th>time</th>\n",
       "      <th>time.1</th>\n",
       "      <th>open</th>\n",
       "      <th>high</th>\n",
       "      <th>low</th>\n",
       "      <th>close</th>\n",
       "      <th>tick_volume</th>\n",
       "      <th>spread</th>\n",
       "      <th>real_volume</th>\n",
       "    </tr>\n",
       "    <tr>\n",
       "      <th>time</th>\n",
       "      <th></th>\n",
       "      <th></th>\n",
       "      <th></th>\n",
       "      <th></th>\n",
       "      <th></th>\n",
       "      <th></th>\n",
       "      <th></th>\n",
       "      <th></th>\n",
       "      <th></th>\n",
       "    </tr>\n",
       "  </thead>\n",
       "  <tbody>\n",
       "    <tr>\n",
       "      <th>2021-11-08 11:59:00</th>\n",
       "      <td>2021-11-08 11:59:00</td>\n",
       "      <td>2021-11-08 11:59:00</td>\n",
       "      <td>5692.411</td>\n",
       "      <td>5692.922</td>\n",
       "      <td>5690.878</td>\n",
       "      <td>5691.900</td>\n",
       "      <td>2140</td>\n",
       "      <td>1</td>\n",
       "      <td>6413</td>\n",
       "    </tr>\n",
       "    <tr>\n",
       "      <th>2021-11-08 12:00:00</th>\n",
       "      <td>2021-11-08 12:00:00</td>\n",
       "      <td>2021-11-08 12:00:00</td>\n",
       "      <td>5691.900</td>\n",
       "      <td>5693.943</td>\n",
       "      <td>5691.389</td>\n",
       "      <td>5693.943</td>\n",
       "      <td>1547</td>\n",
       "      <td>1</td>\n",
       "      <td>5209</td>\n",
       "    </tr>\n",
       "    <tr>\n",
       "      <th>2021-11-08 12:01:00</th>\n",
       "      <td>2021-11-08 12:01:00</td>\n",
       "      <td>2021-11-08 12:01:00</td>\n",
       "      <td>5693.432</td>\n",
       "      <td>5693.943</td>\n",
       "      <td>5692.411</td>\n",
       "      <td>5693.943</td>\n",
       "      <td>1146</td>\n",
       "      <td>1</td>\n",
       "      <td>4500</td>\n",
       "    </tr>\n",
       "    <tr>\n",
       "      <th>2021-11-08 12:02:00</th>\n",
       "      <td>2021-11-08 12:02:00</td>\n",
       "      <td>2021-11-08 12:02:00</td>\n",
       "      <td>5693.943</td>\n",
       "      <td>5693.943</td>\n",
       "      <td>5692.411</td>\n",
       "      <td>5693.943</td>\n",
       "      <td>685</td>\n",
       "      <td>1</td>\n",
       "      <td>2227</td>\n",
       "    </tr>\n",
       "    <tr>\n",
       "      <th>2021-11-08 12:03:00</th>\n",
       "      <td>2021-11-08 12:03:00</td>\n",
       "      <td>2021-11-08 12:03:00</td>\n",
       "      <td>5693.432</td>\n",
       "      <td>5693.943</td>\n",
       "      <td>5691.900</td>\n",
       "      <td>5691.900</td>\n",
       "      <td>922</td>\n",
       "      <td>1</td>\n",
       "      <td>3612</td>\n",
       "    </tr>\n",
       "  </tbody>\n",
       "</table>\n",
       "</div>"
      ],
      "text/plain": [
       "                                   time               time.1      open  \\\n",
       "time                                                                     \n",
       "2021-11-08 11:59:00 2021-11-08 11:59:00  2021-11-08 11:59:00  5692.411   \n",
       "2021-11-08 12:00:00 2021-11-08 12:00:00  2021-11-08 12:00:00  5691.900   \n",
       "2021-11-08 12:01:00 2021-11-08 12:01:00  2021-11-08 12:01:00  5693.432   \n",
       "2021-11-08 12:02:00 2021-11-08 12:02:00  2021-11-08 12:02:00  5693.943   \n",
       "2021-11-08 12:03:00 2021-11-08 12:03:00  2021-11-08 12:03:00  5693.432   \n",
       "\n",
       "                         high       low     close  tick_volume  spread  \\\n",
       "time                                                                     \n",
       "2021-11-08 11:59:00  5692.922  5690.878  5691.900         2140       1   \n",
       "2021-11-08 12:00:00  5693.943  5691.389  5693.943         1547       1   \n",
       "2021-11-08 12:01:00  5693.943  5692.411  5693.943         1146       1   \n",
       "2021-11-08 12:02:00  5693.943  5692.411  5693.943          685       1   \n",
       "2021-11-08 12:03:00  5693.943  5691.900  5691.900          922       1   \n",
       "\n",
       "                     real_volume  \n",
       "time                              \n",
       "2021-11-08 11:59:00         6413  \n",
       "2021-11-08 12:00:00         5209  \n",
       "2021-11-08 12:01:00         4500  \n",
       "2021-11-08 12:02:00         2227  \n",
       "2021-11-08 12:03:00         3612  "
      ]
     },
     "execution_count": 10,
     "metadata": {},
     "output_type": "execute_result"
    }
   ],
   "source": [
    "data['time'] = pd.to_datetime(data['time'])\n",
    "data.index = data['time']\n",
    "\n",
    "data.head()"
   ]
  },
  {
   "cell_type": "markdown",
   "id": "_YpDpgHLmUTo",
   "metadata": {
    "id": "_YpDpgHLmUTo"
   },
   "source": [
    "## 2.3. Arquivos .xlsx"
   ]
  },
  {
   "cell_type": "code",
   "execution_count": 11,
   "id": "R_2yghzYmUTo",
   "metadata": {
    "id": "R_2yghzYmUTo"
   },
   "outputs": [],
   "source": [
    "# Abrir agora o arquivo Excel que contém uma amostra de dados intraday do minindice\n",
    "\n",
    "win = pd.read_excel('WIN_MT5.xlsx')"
   ]
  },
  {
   "cell_type": "code",
   "execution_count": 12,
   "id": "gJdXE6R6mUTp",
   "metadata": {
    "id": "gJdXE6R6mUTp",
    "outputId": "27ca165c-711c-47e3-dd1c-93897e511ac3"
   },
   "outputs": [
    {
     "data": {
      "text/html": [
       "<div>\n",
       "<style scoped>\n",
       "    .dataframe tbody tr th:only-of-type {\n",
       "        vertical-align: middle;\n",
       "    }\n",
       "\n",
       "    .dataframe tbody tr th {\n",
       "        vertical-align: top;\n",
       "    }\n",
       "\n",
       "    .dataframe thead th {\n",
       "        text-align: right;\n",
       "    }\n",
       "</style>\n",
       "<table border=\"1\" class=\"dataframe\">\n",
       "  <thead>\n",
       "    <tr style=\"text-align: right;\">\n",
       "      <th></th>\n",
       "      <th>time</th>\n",
       "      <th>time.1</th>\n",
       "      <th>open</th>\n",
       "      <th>high</th>\n",
       "      <th>low</th>\n",
       "      <th>close</th>\n",
       "      <th>tick_volume</th>\n",
       "      <th>spread</th>\n",
       "      <th>real_volume</th>\n",
       "    </tr>\n",
       "  </thead>\n",
       "  <tbody>\n",
       "    <tr>\n",
       "      <th>0</th>\n",
       "      <td>2022-02-17 10:29:00</td>\n",
       "      <td>2022-02-17 10:29:00</td>\n",
       "      <td>116440</td>\n",
       "      <td>116465</td>\n",
       "      <td>116415</td>\n",
       "      <td>116420</td>\n",
       "      <td>1968</td>\n",
       "      <td>0</td>\n",
       "      <td>18355</td>\n",
       "    </tr>\n",
       "    <tr>\n",
       "      <th>1</th>\n",
       "      <td>2022-02-17 10:30:00</td>\n",
       "      <td>2022-02-17 10:30:00</td>\n",
       "      <td>116420</td>\n",
       "      <td>116470</td>\n",
       "      <td>116405</td>\n",
       "      <td>116415</td>\n",
       "      <td>2662</td>\n",
       "      <td>0</td>\n",
       "      <td>25363</td>\n",
       "    </tr>\n",
       "    <tr>\n",
       "      <th>2</th>\n",
       "      <td>2022-02-17 10:31:00</td>\n",
       "      <td>2022-02-17 10:31:00</td>\n",
       "      <td>116410</td>\n",
       "      <td>116450</td>\n",
       "      <td>116400</td>\n",
       "      <td>116425</td>\n",
       "      <td>2274</td>\n",
       "      <td>0</td>\n",
       "      <td>25742</td>\n",
       "    </tr>\n",
       "    <tr>\n",
       "      <th>3</th>\n",
       "      <td>2022-02-17 10:32:00</td>\n",
       "      <td>2022-02-17 10:32:00</td>\n",
       "      <td>116425</td>\n",
       "      <td>116450</td>\n",
       "      <td>116410</td>\n",
       "      <td>116440</td>\n",
       "      <td>1203</td>\n",
       "      <td>0</td>\n",
       "      <td>15274</td>\n",
       "    </tr>\n",
       "    <tr>\n",
       "      <th>4</th>\n",
       "      <td>2022-02-17 10:33:00</td>\n",
       "      <td>2022-02-17 10:33:00</td>\n",
       "      <td>116440</td>\n",
       "      <td>116495</td>\n",
       "      <td>116425</td>\n",
       "      <td>116430</td>\n",
       "      <td>2427</td>\n",
       "      <td>0</td>\n",
       "      <td>33025</td>\n",
       "    </tr>\n",
       "  </tbody>\n",
       "</table>\n",
       "</div>"
      ],
      "text/plain": [
       "                 time              time.1    open    high     low   close  \\\n",
       "0 2022-02-17 10:29:00 2022-02-17 10:29:00  116440  116465  116415  116420   \n",
       "1 2022-02-17 10:30:00 2022-02-17 10:30:00  116420  116470  116405  116415   \n",
       "2 2022-02-17 10:31:00 2022-02-17 10:31:00  116410  116450  116400  116425   \n",
       "3 2022-02-17 10:32:00 2022-02-17 10:32:00  116425  116450  116410  116440   \n",
       "4 2022-02-17 10:33:00 2022-02-17 10:33:00  116440  116495  116425  116430   \n",
       "\n",
       "   tick_volume  spread  real_volume  \n",
       "0         1968       0        18355  \n",
       "1         2662       0        25363  \n",
       "2         2274       0        25742  \n",
       "3         1203       0        15274  \n",
       "4         2427       0        33025  "
      ]
     },
     "execution_count": 12,
     "metadata": {},
     "output_type": "execute_result"
    }
   ],
   "source": [
    "win.head()"
   ]
  },
  {
   "cell_type": "code",
   "execution_count": 13,
   "id": "e2hsLz4SmUTp",
   "metadata": {
    "id": "e2hsLz4SmUTp",
    "outputId": "0388cdd1-8e2a-478a-f0b6-1234035cd9b3"
   },
   "outputs": [
    {
     "data": {
      "image/png": "[encoded data removed]",
      "text/plain": [
       "<Figure size 432x288 with 1 Axes>"
      ]
     },
     "metadata": {
      "needs_background": "light"
     },
     "output_type": "display_data"
    }
   ],
   "source": [
    "win['time'] = pd.to_datetime(win['time'])\n",
    "win.index = win['time']\n",
    "\n",
    "win.close.plot();"
   ]
  },
  {
   "cell_type": "markdown",
   "id": "Pq8sBQZ_mUTp",
   "metadata": {
    "id": "Pq8sBQZ_mUTp"
   },
   "source": [
    "# 3. Obtenção via biblioteca"
   ]
  },
  {
   "cell_type": "markdown",
   "id": "PJIRxLbVyhwL",
   "metadata": {
    "id": "PJIRxLbVyhwL"
   },
   "source": [
    "Como exemplo, vamos utilizar a função \"download()\" da biblioteca \"yfinance\" que nos possibilita extrair dados de ações e de vários outros tipos de ativos"
   ]
  },
  {
   "cell_type": "code",
   "execution_count": 14,
   "id": "_iaON1vnmUTp",
   "metadata": {
    "colab": {
     "base_uri": "https://localhost:8080/",
     "height": 404
    },
    "executionInfo": {
     "elapsed": 635,
     "status": "ok",
     "timestamp": 1650665529699,
     "user": {
      "displayName": "Vitor Hugo Sattamini",
      "userId": "06763357969946926934"
     },
     "user_tz": 180
    },
    "id": "_iaON1vnmUTp",
    "outputId": "13e30957-c22f-482e-99ae-d110daf29d3d"
   },
   "outputs": [
    {
     "name": "stdout",
     "output_type": "stream",
     "text": [
      "[*********************100%***********************]  1 of 1 completed\n"
     ]
    },
    {
     "data": {
      "text/html": [
       "<div>\n",
       "<style scoped>\n",
       "    .dataframe tbody tr th:only-of-type {\n",
       "        vertical-align: middle;\n",
       "    }\n",
       "\n",
       "    .dataframe tbody tr th {\n",
       "        vertical-align: top;\n",
       "    }\n",
       "\n",
       "    .dataframe thead th {\n",
       "        text-align: right;\n",
       "    }\n",
       "</style>\n",
       "<table border=\"1\" class=\"dataframe\">\n",
       "  <thead>\n",
       "    <tr style=\"text-align: right;\">\n",
       "      <th></th>\n",
       "      <th>Open</th>\n",
       "      <th>High</th>\n",
       "      <th>Low</th>\n",
       "      <th>Close</th>\n",
       "      <th>Adj Close</th>\n",
       "      <th>Volume</th>\n",
       "    </tr>\n",
       "    <tr>\n",
       "      <th>Date</th>\n",
       "      <th></th>\n",
       "      <th></th>\n",
       "      <th></th>\n",
       "      <th></th>\n",
       "      <th></th>\n",
       "      <th></th>\n",
       "    </tr>\n",
       "  </thead>\n",
       "  <tbody>\n",
       "    <tr>\n",
       "      <th>2022-02-01</th>\n",
       "      <td>32.349998</td>\n",
       "      <td>33.320000</td>\n",
       "      <td>31.950001</td>\n",
       "      <td>33.000000</td>\n",
       "      <td>27.068611</td>\n",
       "      <td>57315200</td>\n",
       "    </tr>\n",
       "    <tr>\n",
       "      <th>2022-02-02</th>\n",
       "      <td>33.410000</td>\n",
       "      <td>33.490002</td>\n",
       "      <td>32.360001</td>\n",
       "      <td>32.520000</td>\n",
       "      <td>26.674887</td>\n",
       "      <td>36271700</td>\n",
       "    </tr>\n",
       "    <tr>\n",
       "      <th>2022-02-03</th>\n",
       "      <td>32.349998</td>\n",
       "      <td>32.919998</td>\n",
       "      <td>31.620001</td>\n",
       "      <td>32.070000</td>\n",
       "      <td>26.305769</td>\n",
       "      <td>51087800</td>\n",
       "    </tr>\n",
       "    <tr>\n",
       "      <th>2022-02-04</th>\n",
       "      <td>32.410000</td>\n",
       "      <td>33.230000</td>\n",
       "      <td>31.879999</td>\n",
       "      <td>32.630001</td>\n",
       "      <td>26.765114</td>\n",
       "      <td>59346800</td>\n",
       "    </tr>\n",
       "    <tr>\n",
       "      <th>2022-02-07</th>\n",
       "      <td>32.549999</td>\n",
       "      <td>32.779999</td>\n",
       "      <td>32.130001</td>\n",
       "      <td>32.150002</td>\n",
       "      <td>26.371391</td>\n",
       "      <td>48868100</td>\n",
       "    </tr>\n",
       "    <tr>\n",
       "      <th>2022-02-08</th>\n",
       "      <td>31.900000</td>\n",
       "      <td>31.950001</td>\n",
       "      <td>31.260000</td>\n",
       "      <td>31.830000</td>\n",
       "      <td>26.108906</td>\n",
       "      <td>62590000</td>\n",
       "    </tr>\n",
       "    <tr>\n",
       "      <th>2022-02-09</th>\n",
       "      <td>31.740000</td>\n",
       "      <td>32.689999</td>\n",
       "      <td>31.650000</td>\n",
       "      <td>31.950001</td>\n",
       "      <td>26.207336</td>\n",
       "      <td>50960500</td>\n",
       "    </tr>\n",
       "    <tr>\n",
       "      <th>2022-02-10</th>\n",
       "      <td>32.299999</td>\n",
       "      <td>32.900002</td>\n",
       "      <td>31.940001</td>\n",
       "      <td>32.439999</td>\n",
       "      <td>26.609262</td>\n",
       "      <td>49534600</td>\n",
       "    </tr>\n",
       "    <tr>\n",
       "      <th>2022-02-11</th>\n",
       "      <td>32.770000</td>\n",
       "      <td>33.910000</td>\n",
       "      <td>32.630001</td>\n",
       "      <td>33.759998</td>\n",
       "      <td>27.692009</td>\n",
       "      <td>88013400</td>\n",
       "    </tr>\n",
       "    <tr>\n",
       "      <th>2022-02-14</th>\n",
       "      <td>33.860001</td>\n",
       "      <td>33.939999</td>\n",
       "      <td>32.820000</td>\n",
       "      <td>33.000000</td>\n",
       "      <td>27.068611</td>\n",
       "      <td>55687000</td>\n",
       "    </tr>\n",
       "    <tr>\n",
       "      <th>2022-02-15</th>\n",
       "      <td>32.660000</td>\n",
       "      <td>32.680000</td>\n",
       "      <td>31.889999</td>\n",
       "      <td>32.480000</td>\n",
       "      <td>26.642076</td>\n",
       "      <td>65689000</td>\n",
       "    </tr>\n",
       "    <tr>\n",
       "      <th>2022-02-16</th>\n",
       "      <td>32.830002</td>\n",
       "      <td>33.700001</td>\n",
       "      <td>32.770000</td>\n",
       "      <td>32.930000</td>\n",
       "      <td>27.011194</td>\n",
       "      <td>65811600</td>\n",
       "    </tr>\n",
       "    <tr>\n",
       "      <th>2022-02-17</th>\n",
       "      <td>32.849998</td>\n",
       "      <td>33.290001</td>\n",
       "      <td>32.549999</td>\n",
       "      <td>32.799999</td>\n",
       "      <td>26.904558</td>\n",
       "      <td>43255200</td>\n",
       "    </tr>\n",
       "  </tbody>\n",
       "</table>\n",
       "</div>"
      ],
      "text/plain": [
       "                 Open       High        Low      Close  Adj Close    Volume\n",
       "Date                                                                       \n",
       "2022-02-01  32.349998  33.320000  31.950001  33.000000  27.068611  57315200\n",
       "2022-02-02  33.410000  33.490002  32.360001  32.520000  26.674887  36271700\n",
       "2022-02-03  32.349998  32.919998  31.620001  32.070000  26.305769  51087800\n",
       "2022-02-04  32.410000  33.230000  31.879999  32.630001  26.765114  59346800\n",
       "2022-02-07  32.549999  32.779999  32.130001  32.150002  26.371391  48868100\n",
       "2022-02-08  31.900000  31.950001  31.260000  31.830000  26.108906  62590000\n",
       "2022-02-09  31.740000  32.689999  31.650000  31.950001  26.207336  50960500\n",
       "2022-02-10  32.299999  32.900002  31.940001  32.439999  26.609262  49534600\n",
       "2022-02-11  32.770000  33.910000  32.630001  33.759998  27.692009  88013400\n",
       "2022-02-14  33.860001  33.939999  32.820000  33.000000  27.068611  55687000\n",
       "2022-02-15  32.660000  32.680000  31.889999  32.480000  26.642076  65689000\n",
       "2022-02-16  32.830002  33.700001  32.770000  32.930000  27.011194  65811600\n",
       "2022-02-17  32.849998  33.290001  32.549999  32.799999  26.904558  43255200"
      ]
     },
     "execution_count": 14,
     "metadata": {},
     "output_type": "execute_result"
    }
   ],
   "source": [
    "# Extração para um ativo\n",
    "\n",
    "yf.download(\"PETR4.SA\", start='2022-02-01', end='2022-02-18', period = \"1d\")"
   ]
  },
  {
   "cell_type": "code",
   "execution_count": 15,
   "id": "gB1NFl9WmUTq",
   "metadata": {
    "colab": {
     "base_uri": "https://localhost:8080/"
    },
    "executionInfo": {
     "elapsed": 668,
     "status": "ok",
     "timestamp": 1650665955716,
     "user": {
      "displayName": "Vitor Hugo Sattamini",
      "userId": "06763357969946926934"
     },
     "user_tz": 180
    },
    "id": "gB1NFl9WmUTq",
    "outputId": "ace4a65f-7685-49e4-b8a2-cddea1d58c04"
   },
   "outputs": [
    {
     "name": "stdout",
     "output_type": "stream",
     "text": [
      "[*********************100%***********************]  1 of 1 completed\n"
     ]
    }
   ],
   "source": [
    "lren = yf.download('LREN3.SA', start = '2017-01-01', end = '2021-07-20')"
   ]
  },
  {
   "cell_type": "code",
   "execution_count": 16,
   "id": "Eq8HKGtYmUTq",
   "metadata": {
    "colab": {
     "base_uri": "https://localhost:8080/",
     "height": 238
    },
    "executionInfo": {
     "elapsed": 375,
     "status": "ok",
     "timestamp": 1650665963736,
     "user": {
      "displayName": "Vitor Hugo Sattamini",
      "userId": "06763357969946926934"
     },
     "user_tz": 180
    },
    "id": "Eq8HKGtYmUTq",
    "outputId": "008fafc2-6a98-4e8b-9f43-68b40e60e9a7"
   },
   "outputs": [
    {
     "data": {
      "text/html": [
       "<div>\n",
       "<style scoped>\n",
       "    .dataframe tbody tr th:only-of-type {\n",
       "        vertical-align: middle;\n",
       "    }\n",
       "\n",
       "    .dataframe tbody tr th {\n",
       "        vertical-align: top;\n",
       "    }\n",
       "\n",
       "    .dataframe thead th {\n",
       "        text-align: right;\n",
       "    }\n",
       "</style>\n",
       "<table border=\"1\" class=\"dataframe\">\n",
       "  <thead>\n",
       "    <tr style=\"text-align: right;\">\n",
       "      <th></th>\n",
       "      <th>Open</th>\n",
       "      <th>High</th>\n",
       "      <th>Low</th>\n",
       "      <th>Close</th>\n",
       "      <th>Adj Close</th>\n",
       "      <th>Volume</th>\n",
       "    </tr>\n",
       "    <tr>\n",
       "      <th>Date</th>\n",
       "      <th></th>\n",
       "      <th></th>\n",
       "      <th></th>\n",
       "      <th></th>\n",
       "      <th></th>\n",
       "      <th></th>\n",
       "    </tr>\n",
       "  </thead>\n",
       "  <tbody>\n",
       "    <tr>\n",
       "      <th>2017-01-02</th>\n",
       "      <td>18.775900</td>\n",
       "      <td>19.013674</td>\n",
       "      <td>18.702108</td>\n",
       "      <td>18.972677</td>\n",
       "      <td>17.484587</td>\n",
       "      <td>676417</td>\n",
       "    </tr>\n",
       "    <tr>\n",
       "      <th>2017-01-03</th>\n",
       "      <td>19.103865</td>\n",
       "      <td>19.677799</td>\n",
       "      <td>18.808697</td>\n",
       "      <td>19.554813</td>\n",
       "      <td>18.021059</td>\n",
       "      <td>2976064</td>\n",
       "    </tr>\n",
       "    <tr>\n",
       "      <th>2017-01-04</th>\n",
       "      <td>19.636805</td>\n",
       "      <td>19.833582</td>\n",
       "      <td>19.177654</td>\n",
       "      <td>19.382631</td>\n",
       "      <td>17.862377</td>\n",
       "      <td>2671030</td>\n",
       "    </tr>\n",
       "    <tr>\n",
       "      <th>2017-01-05</th>\n",
       "      <td>19.464622</td>\n",
       "      <td>19.587610</td>\n",
       "      <td>19.161257</td>\n",
       "      <td>19.202253</td>\n",
       "      <td>17.696154</td>\n",
       "      <td>3587596</td>\n",
       "    </tr>\n",
       "    <tr>\n",
       "      <th>2017-01-06</th>\n",
       "      <td>19.202253</td>\n",
       "      <td>19.202253</td>\n",
       "      <td>18.808697</td>\n",
       "      <td>18.980877</td>\n",
       "      <td>17.492140</td>\n",
       "      <td>2139141</td>\n",
       "    </tr>\n",
       "  </tbody>\n",
       "</table>\n",
       "</div>"
      ],
      "text/plain": [
       "                 Open       High        Low      Close  Adj Close   Volume\n",
       "Date                                                                      \n",
       "2017-01-02  18.775900  19.013674  18.702108  18.972677  17.484587   676417\n",
       "2017-01-03  19.103865  19.677799  18.808697  19.554813  18.021059  2976064\n",
       "2017-01-04  19.636805  19.833582  19.177654  19.382631  17.862377  2671030\n",
       "2017-01-05  19.464622  19.587610  19.161257  19.202253  17.696154  3587596\n",
       "2017-01-06  19.202253  19.202253  18.808697  18.980877  17.492140  2139141"
      ]
     },
     "execution_count": 16,
     "metadata": {},
     "output_type": "execute_result"
    }
   ],
   "source": [
    "lren.head()"
   ]
  },
  {
   "cell_type": "code",
   "execution_count": 17,
   "id": "7N62b4V4mUTq",
   "metadata": {
    "colab": {
     "base_uri": "https://localhost:8080/",
     "height": 294
    },
    "executionInfo": {
     "elapsed": 1151,
     "status": "ok",
     "timestamp": 1650665976300,
     "user": {
      "displayName": "Vitor Hugo Sattamini",
      "userId": "06763357969946926934"
     },
     "user_tz": 180
    },
    "id": "7N62b4V4mUTq",
    "outputId": "36c887f5-99a5-4f2d-ea3e-e647d870b2f9"
   },
   "outputs": [
    {
     "data": {
      "image/png": "[encoded data removed]",
      "text/plain": [
       "<Figure size 432x288 with 1 Axes>"
      ]
     },
     "metadata": {
      "needs_background": "light"
     },
     "output_type": "display_data"
    }
   ],
   "source": [
    "lren.Close.plot();"
   ]
  },
  {
   "cell_type": "code",
   "execution_count": 18,
   "id": "Aue1JjxWmUTq",
   "metadata": {
    "id": "Aue1JjxWmUTq"
   },
   "outputs": [],
   "source": [
    "#Você pode obter algumas informações interessantes sobre o papel através da função ticker\n",
    "\n",
    "brml3 = yf.Ticker('BRML3.SA')"
   ]
  },
  {
   "cell_type": "code",
   "execution_count": 19,
   "id": "2vHpRUKtuH0g",
   "metadata": {
    "colab": {
     "base_uri": "https://localhost:8080/"
    },
    "executionInfo": {
     "elapsed": 272,
     "status": "ok",
     "timestamp": 1648138700309,
     "user": {
      "displayName": "Arthur Rufino",
      "photoUrl": "https://lh3.googleusercontent.com/a/default-user=s64",
      "userId": "15163371346106554840"
     },
     "user_tz": 180
    },
    "id": "2vHpRUKtuH0g",
    "outputId": "1c8636ed-d4b9-4e59-fc87-d9bb90e7d8cf"
   },
   "outputs": [
    {
     "data": {
      "text/plain": [
       "yfinance.ticker.Ticker"
      ]
     },
     "execution_count": 19,
     "metadata": {},
     "output_type": "execute_result"
    }
   ],
   "source": [
    "#Note que agora o objeto brml3 não é mais um dataframe\n",
    "\n",
    "type(brml3)"
   ]
  },
  {
   "cell_type": "code",
   "execution_count": 20,
   "id": "l63J-0ynt5vl",
   "metadata": {
    "colab": {
     "base_uri": "https://localhost:8080/"
    },
    "executionInfo": {
     "elapsed": 3916,
     "status": "ok",
     "timestamp": 1648138658029,
     "user": {
      "displayName": "Arthur Rufino",
      "photoUrl": "https://lh3.googleusercontent.com/a/default-user=s64",
      "userId": "15163371346106554840"
     },
     "user_tz": 180
    },
    "id": "l63J-0ynt5vl",
    "outputId": "004877ed-be17-4c77-f060-3aabcb4b9c20"
   },
   "outputs": [
    {
     "data": {
      "text/plain": [
       "{'zip': '22430-041',\n",
       " 'sector': 'Real Estate',\n",
       " 'longBusinessSummary': 'BR Malls Participações S.A. operates and manages shopping malls in Brazil. It also promotes and manages real estate enterprises; manages parking lot operations; and offers digital solutions to support shopping malls and retail companies. The company was founded in 1949 and is headquartered in Rio de Janeiro, Brazil.',\n",
       " 'city': 'Rio De Janeiro',\n",
       " 'phone': '55 21 3138 9900',\n",
       " 'state': 'RJ',\n",
       " 'country': 'Brazil',\n",
       " 'companyOfficers': [],\n",
       " 'website': 'https://ri.brmalls.com.br',\n",
       " 'maxAge': 1,\n",
       " 'address1': 'Av. Borges de Medeiros, 633',\n",
       " 'fax': '55 21 3138 9901',\n",
       " 'industry': 'Real Estate Services',\n",
       " 'address2': '1º andar Leblon',\n",
       " 'ebitdaMargins': 0.63283,\n",
       " 'profitMargins': 0.16892,\n",
       " 'grossMargins': 0.89295995,\n",
       " 'operatingCashflow': 646337984,\n",
       " 'revenueGrowth': 0.474,\n",
       " 'operatingMargins': 0.5877,\n",
       " 'ebitda': 758750976,\n",
       " 'targetLowPrice': 9,\n",
       " 'recommendationKey': 'hold',\n",
       " 'grossProfits': 973762000,\n",
       " 'freeCashflow': 556582720,\n",
       " 'targetMedianPrice': 11,\n",
       " 'currentPrice': 7.72,\n",
       " 'earningsGrowth': 0.257,\n",
       " 'currentRatio': 1.849,\n",
       " 'returnOnAssets': 0.02251,\n",
       " 'numberOfAnalystOpinions': 11,\n",
       " 'targetMeanPrice': 11.11,\n",
       " 'debtToEquity': 34.982,\n",
       " 'returnOnEquity': 0.020769998,\n",
       " 'targetHighPrice': 14,\n",
       " 'totalCash': 17435000,\n",
       " 'totalDebt': 3956016896,\n",
       " 'totalRevenue': 1198983040,\n",
       " 'totalCashPerShare': 0.021,\n",
       " 'financialCurrency': 'BRL',\n",
       " 'revenuePerShare': 1.419,\n",
       " 'quickRatio': 0.407,\n",
       " 'recommendationMean': 2.6,\n",
       " 'exchange': 'SAO',\n",
       " 'shortName': 'BR MALLS PARON      NM',\n",
       " 'longName': 'BR Malls Participações S.A.',\n",
       " 'exchangeTimezoneName': 'America/Sao_Paulo',\n",
       " 'exchangeTimezoneShortName': 'BRT',\n",
       " 'isEsgPopulated': False,\n",
       " 'gmtOffSetMilliseconds': '-10800000',\n",
       " 'quoteType': 'EQUITY',\n",
       " 'symbol': 'BRML3.SA',\n",
       " 'messageBoardId': 'finmb_30271217',\n",
       " 'market': 'br_market',\n",
       " 'annualHoldingsTurnover': None,\n",
       " 'enterpriseToRevenue': 9.005,\n",
       " 'beta3Year': None,\n",
       " 'enterpriseToEbitda': 14.23,\n",
       " '52WeekChange': -0.31681418,\n",
       " 'morningStarRiskRating': None,\n",
       " 'forwardEps': 0.75,\n",
       " 'revenueQuarterlyGrowth': None,\n",
       " 'sharesOutstanding': 828273984,\n",
       " 'fundInceptionDate': None,\n",
       " 'annualReportExpenseRatio': None,\n",
       " 'totalAssets': None,\n",
       " 'bookValue': 13.093,\n",
       " 'sharesShort': None,\n",
       " 'sharesPercentSharesOut': None,\n",
       " 'fundFamily': None,\n",
       " 'lastFiscalYearEnd': 1640908800,\n",
       " 'heldPercentInstitutions': 0.92168,\n",
       " 'netIncomeToCommon': 202531008,\n",
       " 'trailingEps': 0.239,\n",
       " 'lastDividendValue': 0.05361,\n",
       " 'SandP52WeekChange': -0.13017213,\n",
       " 'priceToBook': 0.589628,\n",
       " 'heldPercentInsiders': 0.0505,\n",
       " 'nextFiscalYearEnd': 1703980800,\n",
       " 'yield': None,\n",
       " 'mostRecentQuarter': 1648684800,\n",
       " 'shortRatio': None,\n",
       " 'sharesShortPreviousMonthDate': None,\n",
       " 'floatShares': 739259290,\n",
       " 'beta': 0.717826,\n",
       " 'enterpriseValue': 10797362176,\n",
       " 'priceHint': 2,\n",
       " 'threeYearAverageReturn': None,\n",
       " 'lastSplitDate': 1493683200,\n",
       " 'lastSplitFactor': '115:100',\n",
       " 'legalType': None,\n",
       " 'lastDividendDate': 1651449600,\n",
       " 'morningStarOverallRating': None,\n",
       " 'earningsQuarterlyGrowth': 0.275,\n",
       " 'priceToSalesTrailing12Months': 5.3330817,\n",
       " 'dateShortInterest': None,\n",
       " 'pegRatio': 0.52,\n",
       " 'ytdReturn': None,\n",
       " 'forwardPE': 10.293333,\n",
       " 'lastCapGain': None,\n",
       " 'shortPercentOfFloat': None,\n",
       " 'sharesShortPriorMonth': None,\n",
       " 'impliedSharesOutstanding': 0,\n",
       " 'category': None,\n",
       " 'fiveYearAverageReturn': None,\n",
       " 'previousClose': 7.77,\n",
       " 'regularMarketOpen': 7.6,\n",
       " 'twoHundredDayAverage': 8.5698,\n",
       " 'trailingAnnualDividendYield': 0.006949807,\n",
       " 'payoutRatio': 0,\n",
       " 'volume24Hr': None,\n",
       " 'regularMarketDayHigh': 7.79,\n",
       " 'navPrice': None,\n",
       " 'averageDailyVolume10Day': 17118844,\n",
       " 'regularMarketPreviousClose': 7.77,\n",
       " 'fiftyDayAverage': 8.6762,\n",
       " 'trailingAnnualDividendRate': 0.054,\n",
       " 'open': 7.6,\n",
       " 'toCurrency': None,\n",
       " 'averageVolume10days': 17118844,\n",
       " 'expireDate': None,\n",
       " 'algorithm': None,\n",
       " 'dividendRate': 0.05,\n",
       " 'exDividendDate': 1651449600,\n",
       " 'circulatingSupply': None,\n",
       " 'startDate': None,\n",
       " 'regularMarketDayLow': 7.58,\n",
       " 'currency': 'BRL',\n",
       " 'trailingPE': 32.301254,\n",
       " 'regularMarketVolume': 13400700,\n",
       " 'lastMarket': None,\n",
       " 'maxSupply': None,\n",
       " 'openInterest': None,\n",
       " 'marketCap': 6394274816,\n",
       " 'volumeAllCurrencies': None,\n",
       " 'strikePrice': None,\n",
       " 'averageVolume': 15707516,\n",
       " 'dayLow': 7.58,\n",
       " 'ask': 7.72,\n",
       " 'askSize': 0,\n",
       " 'volume': 13400700,\n",
       " 'fiftyTwoWeekHigh': 11.36,\n",
       " 'fromCurrency': None,\n",
       " 'fiveYearAvgDividendYield': None,\n",
       " 'fiftyTwoWeekLow': 6.88,\n",
       " 'bid': 7.72,\n",
       " 'tradeable': False,\n",
       " 'dividendYield': 0.0069,\n",
       " 'bidSize': 0,\n",
       " 'dayHigh': 7.79,\n",
       " 'regularMarketPrice': 7.72,\n",
       " 'preMarketPrice': None,\n",
       " 'logo_url': 'https://logo.clearbit.com/ri.brmalls.com.br'}"
      ]
     },
     "execution_count": 20,
     "metadata": {},
     "output_type": "execute_result"
    }
   ],
   "source": [
    "#Informações gerais sobre o papel\n",
    "\n",
    "brml3.info"
   ]
  },
  {
   "cell_type": "code",
   "execution_count": 21,
   "id": "ZaDp_qxguOWo",
   "metadata": {
    "colab": {
     "base_uri": "https://localhost:8080/",
     "height": 614
    },
    "executionInfo": {
     "elapsed": 280,
     "status": "ok",
     "timestamp": 1648138767680,
     "user": {
      "displayName": "Arthur Rufino",
      "photoUrl": "https://lh3.googleusercontent.com/a/default-user=s64",
      "userId": "15163371346106554840"
     },
     "user_tz": 180
    },
    "id": "ZaDp_qxguOWo",
    "outputId": "99481d19-7682-4eed-eb90-be09e4652b0e"
   },
   "outputs": [
    {
     "data": {
      "text/html": [
       "<div>\n",
       "<style scoped>\n",
       "    .dataframe tbody tr th:only-of-type {\n",
       "        vertical-align: middle;\n",
       "    }\n",
       "\n",
       "    .dataframe tbody tr th {\n",
       "        vertical-align: top;\n",
       "    }\n",
       "\n",
       "    .dataframe thead th {\n",
       "        text-align: right;\n",
       "    }\n",
       "</style>\n",
       "<table border=\"1\" class=\"dataframe\">\n",
       "  <thead>\n",
       "    <tr style=\"text-align: right;\">\n",
       "      <th></th>\n",
       "      <th>Dividends</th>\n",
       "      <th>Stock Splits</th>\n",
       "    </tr>\n",
       "    <tr>\n",
       "      <th>Date</th>\n",
       "      <th></th>\n",
       "      <th></th>\n",
       "    </tr>\n",
       "  </thead>\n",
       "  <tbody>\n",
       "    <tr>\n",
       "      <th>2010-05-03</th>\n",
       "      <td>0.081020</td>\n",
       "      <td>0.00</td>\n",
       "    </tr>\n",
       "    <tr>\n",
       "      <th>2010-05-04</th>\n",
       "      <td>0.081619</td>\n",
       "      <td>0.00</td>\n",
       "    </tr>\n",
       "    <tr>\n",
       "      <th>2010-09-24</th>\n",
       "      <td>0.000000</td>\n",
       "      <td>2.00</td>\n",
       "    </tr>\n",
       "    <tr>\n",
       "      <th>2011-05-02</th>\n",
       "      <td>0.110514</td>\n",
       "      <td>0.00</td>\n",
       "    </tr>\n",
       "    <tr>\n",
       "      <th>2012-04-25</th>\n",
       "      <td>0.100774</td>\n",
       "      <td>0.00</td>\n",
       "    </tr>\n",
       "    <tr>\n",
       "      <th>2013-05-02</th>\n",
       "      <td>0.315383</td>\n",
       "      <td>0.00</td>\n",
       "    </tr>\n",
       "    <tr>\n",
       "      <th>2014-05-02</th>\n",
       "      <td>0.210383</td>\n",
       "      <td>0.00</td>\n",
       "    </tr>\n",
       "    <tr>\n",
       "      <th>2014-12-04</th>\n",
       "      <td>0.103443</td>\n",
       "      <td>0.00</td>\n",
       "    </tr>\n",
       "    <tr>\n",
       "      <th>2015-05-04</th>\n",
       "      <td>0.306114</td>\n",
       "      <td>0.00</td>\n",
       "    </tr>\n",
       "    <tr>\n",
       "      <th>2016-05-02</th>\n",
       "      <td>0.000000</td>\n",
       "      <td>1.30</td>\n",
       "    </tr>\n",
       "    <tr>\n",
       "      <th>2017-05-02</th>\n",
       "      <td>0.066226</td>\n",
       "      <td>1.15</td>\n",
       "    </tr>\n",
       "    <tr>\n",
       "      <th>2018-11-27</th>\n",
       "      <td>0.083109</td>\n",
       "      <td>0.00</td>\n",
       "    </tr>\n",
       "    <tr>\n",
       "      <th>2018-12-26</th>\n",
       "      <td>0.011872</td>\n",
       "      <td>0.00</td>\n",
       "    </tr>\n",
       "    <tr>\n",
       "      <th>2019-03-29</th>\n",
       "      <td>0.065233</td>\n",
       "      <td>0.00</td>\n",
       "    </tr>\n",
       "    <tr>\n",
       "      <th>2019-05-02</th>\n",
       "      <td>0.083294</td>\n",
       "      <td>0.00</td>\n",
       "    </tr>\n",
       "    <tr>\n",
       "      <th>2019-05-29</th>\n",
       "      <td>0.065233</td>\n",
       "      <td>0.00</td>\n",
       "    </tr>\n",
       "    <tr>\n",
       "      <th>2019-08-08</th>\n",
       "      <td>0.825986</td>\n",
       "      <td>0.00</td>\n",
       "    </tr>\n",
       "    <tr>\n",
       "      <th>2022-05-02</th>\n",
       "      <td>0.053610</td>\n",
       "      <td>0.00</td>\n",
       "    </tr>\n",
       "  </tbody>\n",
       "</table>\n",
       "</div>"
      ],
      "text/plain": [
       "            Dividends  Stock Splits\n",
       "Date                               \n",
       "2010-05-03   0.081020          0.00\n",
       "2010-05-04   0.081619          0.00\n",
       "2010-09-24   0.000000          2.00\n",
       "2011-05-02   0.110514          0.00\n",
       "2012-04-25   0.100774          0.00\n",
       "2013-05-02   0.315383          0.00\n",
       "2014-05-02   0.210383          0.00\n",
       "2014-12-04   0.103443          0.00\n",
       "2015-05-04   0.306114          0.00\n",
       "2016-05-02   0.000000          1.30\n",
       "2017-05-02   0.066226          1.15\n",
       "2018-11-27   0.083109          0.00\n",
       "2018-12-26   0.011872          0.00\n",
       "2019-03-29   0.065233          0.00\n",
       "2019-05-02   0.083294          0.00\n",
       "2019-05-29   0.065233          0.00\n",
       "2019-08-08   0.825986          0.00\n",
       "2022-05-02   0.053610          0.00"
      ]
     },
     "execution_count": 21,
     "metadata": {},
     "output_type": "execute_result"
    }
   ],
   "source": [
    "#Ações relacionadas ao histórico de dividendos e splits \n",
    "\n",
    "brml3.actions"
   ]
  },
  {
   "cell_type": "markdown",
   "id": "oHA2u6ocmUTr",
   "metadata": {
    "id": "oHA2u6ocmUTr"
   },
   "source": [
    "# 4. Obtenção via API"
   ]
  },
  {
   "cell_type": "markdown",
   "id": "jePmKfYAmUTr",
   "metadata": {
    "id": "jePmKfYAmUTr"
   },
   "source": [
    "A API da Quandl (Nasdaq) é uma API famosa dentro do mercado financeiro utilizado por centenas de empresas para obtenção de dados.\n",
    "\n",
    "Pode-se obter os principais indicadores macroeconômicos com essa API."
   ]
  },
  {
   "cell_type": "code",
   "execution_count": 22,
   "id": "erg7hYaZmUTr",
   "metadata": {
    "executionInfo": {
     "elapsed": 230,
     "status": "ok",
     "timestamp": 1650666174767,
     "user": {
      "displayName": "Vitor Hugo Sattamini",
      "userId": "06763357969946926934"
     },
     "user_tz": 180
    },
    "id": "erg7hYaZmUTr"
   },
   "outputs": [],
   "source": [
    "# Insira a sua chave de API dentro das aspas, conforme mostrado na aula\n",
    "\n",
    "quandl.ApiConfig.api_key = \"4zvojAnzkVXJJvNe-1Jz\""
   ]
  },
  {
   "cell_type": "code",
   "execution_count": 23,
   "id": "R8C13Wl0mUTr",
   "metadata": {
    "colab": {
     "base_uri": "https://localhost:8080/",
     "height": 592
    },
    "executionInfo": {
     "elapsed": 2448,
     "status": "ok",
     "timestamp": 1650666179145,
     "user": {
      "displayName": "Vitor Hugo Sattamini",
      "userId": "06763357969946926934"
     },
     "user_tz": 180
    },
    "id": "R8C13Wl0mUTr",
    "outputId": "ff3bb5af-c3ad-48e6-fae5-d14f24c07f63"
   },
   "outputs": [],
   "source": [
    "# Dados da SELIC\n",
    "\n",
    "selic = quandl.get(\"BCB/432\", start_date=\"2000-01-01\",end_date=\"2022-12-31\")\n"
   ]
  },
  {
   "cell_type": "code",
   "execution_count": 24,
   "id": "d14aa757",
   "metadata": {},
   "outputs": [
    {
     "data": {
      "image/png": "[encoded data removed]",
      "text/plain": [
       "<Figure size 720x720 with 1 Axes>"
      ]
     },
     "metadata": {
      "needs_background": "light"
     },
     "output_type": "display_data"
    }
   ],
   "source": [
    "plt.figure(figsize=(10,10))\n",
    "plt.plot(selic)\n",
    "plt.show();"
   ]
  },
  {
   "cell_type": "code",
   "execution_count": 25,
   "id": "jd_bltoomUTr",
   "metadata": {
    "colab": {
     "base_uri": "https://localhost:8080/",
     "height": 279
    },
    "executionInfo": {
     "elapsed": 4605,
     "status": "ok",
     "timestamp": 1648136945256,
     "user": {
      "displayName": "Arthur Rufino",
      "photoUrl": "https://lh3.googleusercontent.com/a/default-user=s64",
      "userId": "15163371346106554840"
     },
     "user_tz": 180
    },
    "id": "jd_bltoomUTr",
    "outputId": "ffb09060-6cdd-4714-e8b1-373940950f42"
   },
   "outputs": [
    {
     "data": {
      "image/png": "[encoded data removed]",
      "text/plain": [
       "<Figure size 432x288 with 1 Axes>"
      ]
     },
     "metadata": {
      "needs_background": "light"
     },
     "output_type": "display_data"
    }
   ],
   "source": [
    "# O Python nos permite fazer essa plotagem de uma forma ainda mais prática, rápida e fácil, sem precisar definir um objeto:\n",
    "\n",
    "quandl.get(\"BCB/432\", start_date=\"2000-01-01\",end_date=\"2022-12-31\").plot();\n",
    "\n",
    "# Muito útil quando precisamos de uma plotagem rápida para enteder o comportamento de uma variável"
   ]
  },
  {
   "cell_type": "code",
   "execution_count": 26,
   "id": "mVXz-RCimUTr",
   "metadata": {
    "colab": {
     "base_uri": "https://localhost:8080/",
     "height": 455
    },
    "executionInfo": {
     "elapsed": 268,
     "status": "ok",
     "timestamp": 1648136947442,
     "user": {
      "displayName": "Arthur Rufino",
      "photoUrl": "https://lh3.googleusercontent.com/a/default-user=s64",
      "userId": "15163371346106554840"
     },
     "user_tz": 180
    },
    "id": "mVXz-RCimUTr",
    "outputId": "c6f35d16-4a97-4871-d24f-7350f70f8b0e"
   },
   "outputs": [
    {
     "data": {
      "text/html": [
       "<div>\n",
       "<style scoped>\n",
       "    .dataframe tbody tr th:only-of-type {\n",
       "        vertical-align: middle;\n",
       "    }\n",
       "\n",
       "    .dataframe tbody tr th {\n",
       "        vertical-align: top;\n",
       "    }\n",
       "\n",
       "    .dataframe thead th {\n",
       "        text-align: right;\n",
       "    }\n",
       "</style>\n",
       "<table border=\"1\" class=\"dataframe\">\n",
       "  <thead>\n",
       "    <tr style=\"text-align: right;\">\n",
       "      <th></th>\n",
       "      <th>Value</th>\n",
       "    </tr>\n",
       "    <tr>\n",
       "      <th>Date</th>\n",
       "      <th></th>\n",
       "    </tr>\n",
       "  </thead>\n",
       "  <tbody>\n",
       "    <tr>\n",
       "      <th>2000-01-01</th>\n",
       "      <td>19.00</td>\n",
       "    </tr>\n",
       "    <tr>\n",
       "      <th>2000-01-02</th>\n",
       "      <td>19.00</td>\n",
       "    </tr>\n",
       "    <tr>\n",
       "      <th>2000-01-03</th>\n",
       "      <td>19.00</td>\n",
       "    </tr>\n",
       "    <tr>\n",
       "      <th>2000-01-04</th>\n",
       "      <td>19.00</td>\n",
       "    </tr>\n",
       "    <tr>\n",
       "      <th>2000-01-05</th>\n",
       "      <td>19.00</td>\n",
       "    </tr>\n",
       "    <tr>\n",
       "      <th>...</th>\n",
       "      <td>...</td>\n",
       "    </tr>\n",
       "    <tr>\n",
       "      <th>2022-06-14</th>\n",
       "      <td>12.75</td>\n",
       "    </tr>\n",
       "    <tr>\n",
       "      <th>2022-06-15</th>\n",
       "      <td>12.75</td>\n",
       "    </tr>\n",
       "    <tr>\n",
       "      <th>2022-06-16</th>\n",
       "      <td>13.25</td>\n",
       "    </tr>\n",
       "    <tr>\n",
       "      <th>2022-06-17</th>\n",
       "      <td>13.25</td>\n",
       "    </tr>\n",
       "    <tr>\n",
       "      <th>2022-06-18</th>\n",
       "      <td>13.25</td>\n",
       "    </tr>\n",
       "  </tbody>\n",
       "</table>\n",
       "<p>8205 rows × 1 columns</p>\n",
       "</div>"
      ],
      "text/plain": [
       "            Value\n",
       "Date             \n",
       "2000-01-01  19.00\n",
       "2000-01-02  19.00\n",
       "2000-01-03  19.00\n",
       "2000-01-04  19.00\n",
       "2000-01-05  19.00\n",
       "...           ...\n",
       "2022-06-14  12.75\n",
       "2022-06-15  12.75\n",
       "2022-06-16  13.25\n",
       "2022-06-17  13.25\n",
       "2022-06-18  13.25\n",
       "\n",
       "[8205 rows x 1 columns]"
      ]
     },
     "execution_count": 26,
     "metadata": {},
     "output_type": "execute_result"
    }
   ],
   "source": [
    "# Inspecionar o formato dos dados\n",
    "\n",
    "selic"
   ]
  },
  {
   "cell_type": "code",
   "execution_count": 27,
   "id": "9BvAOaf0mUTs",
   "metadata": {
    "colab": {
     "base_uri": "https://localhost:8080/",
     "height": 300
    },
    "executionInfo": {
     "elapsed": 1231,
     "status": "ok",
     "timestamp": 1648136951390,
     "user": {
      "displayName": "Arthur Rufino",
      "photoUrl": "https://lh3.googleusercontent.com/a/default-user=s64",
      "userId": "15163371346106554840"
     },
     "user_tz": 180
    },
    "id": "9BvAOaf0mUTs",
    "outputId": "88496bbc-dca5-48c4-a5dd-fafb46807b2f"
   },
   "outputs": [
    {
     "data": {
      "image/png": "[encoded data removed]",
      "text/plain": [
       "<Figure size 432x288 with 1 Axes>"
      ]
     },
     "metadata": {
      "needs_background": "light"
     },
     "output_type": "display_data"
    }
   ],
   "source": [
    "# IPCA\n",
    "\n",
    "ipca = quandl.get(\"BCB/13522\", start_date = '2000-01-01')\n",
    "\n",
    "ipca.plot();"
   ]
  },
  {
   "cell_type": "code",
   "execution_count": 28,
   "id": "YFa03rIEmUTs",
   "metadata": {
    "id": "YFa03rIEmUTs"
   },
   "outputs": [],
   "source": [
    "# Dólar\n",
    "\n",
    "dolar = quandl.get(\"BCB/10813\", start_date = '2010-01-01')"
   ]
  },
  {
   "cell_type": "code",
   "execution_count": 29,
   "id": "6kSJTGfcmUTs",
   "metadata": {
    "colab": {
     "base_uri": "https://localhost:8080/",
     "height": 286
    },
    "executionInfo": {
     "elapsed": 306,
     "status": "ok",
     "timestamp": 1648136956521,
     "user": {
      "displayName": "Arthur Rufino",
      "photoUrl": "https://lh3.googleusercontent.com/a/default-user=s64",
      "userId": "15163371346106554840"
     },
     "user_tz": 180
    },
    "id": "6kSJTGfcmUTs",
    "outputId": "b822b624-ee30-4cb3-902f-a5fb3337bf27"
   },
   "outputs": [
    {
     "data": {
      "image/png": "[encoded data removed]",
      "text/plain": [
       "<Figure size 432x288 with 1 Axes>"
      ]
     },
     "metadata": {
      "needs_background": "light"
     },
     "output_type": "display_data"
    }
   ],
   "source": [
    "dolar.plot();"
   ]
  },
  {
   "cell_type": "markdown",
   "id": "Fht-sF38mUTs",
   "metadata": {
    "id": "Fht-sF38mUTs"
   },
   "source": [
    "# 5. Dados estruturados e desestruturados"
   ]
  },
  {
   "cell_type": "code",
   "execution_count": 30,
   "id": "HHauSn2emUTs",
   "metadata": {
    "colab": {
     "base_uri": "https://localhost:8080/",
     "height": 238
    },
    "executionInfo": {
     "elapsed": 324,
     "status": "ok",
     "timestamp": 1648136964689,
     "user": {
      "displayName": "Arthur Rufino",
      "photoUrl": "https://lh3.googleusercontent.com/a/default-user=s64",
      "userId": "15163371346106554840"
     },
     "user_tz": 180
    },
    "id": "HHauSn2emUTs",
    "outputId": "12705b2b-f1a3-4eb5-e988-27dac4bb4981"
   },
   "outputs": [
    {
     "data": {
      "text/html": [
       "<div>\n",
       "<style scoped>\n",
       "    .dataframe tbody tr th:only-of-type {\n",
       "        vertical-align: middle;\n",
       "    }\n",
       "\n",
       "    .dataframe tbody tr th {\n",
       "        vertical-align: top;\n",
       "    }\n",
       "\n",
       "    .dataframe thead th {\n",
       "        text-align: right;\n",
       "    }\n",
       "</style>\n",
       "<table border=\"1\" class=\"dataframe\">\n",
       "  <thead>\n",
       "    <tr style=\"text-align: right;\">\n",
       "      <th></th>\n",
       "      <th>Open</th>\n",
       "      <th>High</th>\n",
       "      <th>Low</th>\n",
       "      <th>Close</th>\n",
       "      <th>Adj Close</th>\n",
       "      <th>Volume</th>\n",
       "    </tr>\n",
       "    <tr>\n",
       "      <th>Date</th>\n",
       "      <th></th>\n",
       "      <th></th>\n",
       "      <th></th>\n",
       "      <th></th>\n",
       "      <th></th>\n",
       "      <th></th>\n",
       "    </tr>\n",
       "  </thead>\n",
       "  <tbody>\n",
       "    <tr>\n",
       "      <th>2017-01-02</th>\n",
       "      <td>18.775900</td>\n",
       "      <td>19.013674</td>\n",
       "      <td>18.702108</td>\n",
       "      <td>18.972677</td>\n",
       "      <td>17.484587</td>\n",
       "      <td>676417</td>\n",
       "    </tr>\n",
       "    <tr>\n",
       "      <th>2017-01-03</th>\n",
       "      <td>19.103865</td>\n",
       "      <td>19.677799</td>\n",
       "      <td>18.808697</td>\n",
       "      <td>19.554813</td>\n",
       "      <td>18.021059</td>\n",
       "      <td>2976064</td>\n",
       "    </tr>\n",
       "    <tr>\n",
       "      <th>2017-01-04</th>\n",
       "      <td>19.636805</td>\n",
       "      <td>19.833582</td>\n",
       "      <td>19.177654</td>\n",
       "      <td>19.382631</td>\n",
       "      <td>17.862377</td>\n",
       "      <td>2671030</td>\n",
       "    </tr>\n",
       "    <tr>\n",
       "      <th>2017-01-05</th>\n",
       "      <td>19.464622</td>\n",
       "      <td>19.587610</td>\n",
       "      <td>19.161257</td>\n",
       "      <td>19.202253</td>\n",
       "      <td>17.696154</td>\n",
       "      <td>3587596</td>\n",
       "    </tr>\n",
       "    <tr>\n",
       "      <th>2017-01-06</th>\n",
       "      <td>19.202253</td>\n",
       "      <td>19.202253</td>\n",
       "      <td>18.808697</td>\n",
       "      <td>18.980877</td>\n",
       "      <td>17.492140</td>\n",
       "      <td>2139141</td>\n",
       "    </tr>\n",
       "  </tbody>\n",
       "</table>\n",
       "</div>"
      ],
      "text/plain": [
       "                 Open       High        Low      Close  Adj Close   Volume\n",
       "Date                                                                      \n",
       "2017-01-02  18.775900  19.013674  18.702108  18.972677  17.484587   676417\n",
       "2017-01-03  19.103865  19.677799  18.808697  19.554813  18.021059  2976064\n",
       "2017-01-04  19.636805  19.833582  19.177654  19.382631  17.862377  2671030\n",
       "2017-01-05  19.464622  19.587610  19.161257  19.202253  17.696154  3587596\n",
       "2017-01-06  19.202253  19.202253  18.808697  18.980877  17.492140  2139141"
      ]
     },
     "execution_count": 30,
     "metadata": {},
     "output_type": "execute_result"
    }
   ],
   "source": [
    "# Exemplo de um dado estruturado\n",
    "\n",
    "lren.head()"
   ]
  },
  {
   "cell_type": "code",
   "execution_count": 34,
   "id": "twVpEV_UmUTs",
   "metadata": {
    "id": "twVpEV_UmUTs",
    "outputId": "a293259a-f863-4bf3-cfc5-f708a881676a"
   },
   "outputs": [
    {
     "data": {
      "text/html": [
       "<img src=\"https://python.org.br/theme/img/site-logo.svg\" width=\"200\" height=\"100\"/>"
      ],
      "text/plain": [
       "<IPython.core.display.Image object>"
      ]
     },
     "execution_count": 34,
     "metadata": {},
     "output_type": "execute_result"
    }
   ],
   "source": [
    "# Dado desestruturado\n",
    "\n",
    "# Exemplo: uma imagem é uma forma de dado desestruturado\n",
    "\n",
    "from IPython.display import Image\n",
    "Image(url ='https://python.org.br/theme/img/site-logo.svg', width=200, height=100) "
   ]
  },
  {
   "cell_type": "markdown",
   "id": "49F9pRVJmUTt",
   "metadata": {
    "id": "49F9pRVJmUTt"
   },
   "source": [
    "# 6. Variáveis quantitativas e qualitativas"
   ]
  },
  {
   "cell_type": "code",
   "execution_count": 35,
   "id": "6vFJ8MlhmUTt",
   "metadata": {
    "colab": {
     "base_uri": "https://localhost:8080/"
    },
    "executionInfo": {
     "elapsed": 409,
     "status": "ok",
     "timestamp": 1648136978608,
     "user": {
      "displayName": "Arthur Rufino",
      "photoUrl": "https://lh3.googleusercontent.com/a/default-user=s64",
      "userId": "15163371346106554840"
     },
     "user_tz": 180
    },
    "id": "6vFJ8MlhmUTt",
    "outputId": "50c2b414-1606-4e60-9bde-dacd4a328e2c"
   },
   "outputs": [
    {
     "data": {
      "text/plain": [
       "Open         float64\n",
       "High         float64\n",
       "Low          float64\n",
       "Close        float64\n",
       "Adj Close    float64\n",
       "Volume         int64\n",
       "dtype: object"
      ]
     },
     "execution_count": 35,
     "metadata": {},
     "output_type": "execute_result"
    }
   ],
   "source": [
    "# Quais são os tipos das variáveis no dataframe de Lojas Renner?\n",
    "\n",
    "lren.dtypes"
   ]
  },
  {
   "cell_type": "code",
   "execution_count": 38,
   "id": "DJ8otzLMmUTt",
   "metadata": {
    "colab": {
     "base_uri": "https://localhost:8080/",
     "height": 455
    },
    "executionInfo": {
     "elapsed": 278,
     "status": "ok",
     "timestamp": 1648224001451,
     "user": {
      "displayName": "Victor Gomes",
      "photoUrl": "https://lh3.googleusercontent.com/a/default-user=s64",
      "userId": "04471344046095235293"
     },
     "user_tz": 180
    },
    "id": "DJ8otzLMmUTt",
    "outputId": "a4e6b613-9781-4537-add9-8a4b809fac9c"
   },
   "outputs": [
    {
     "data": {
      "text/html": [
       "<div>\n",
       "<style scoped>\n",
       "    .dataframe tbody tr th:only-of-type {\n",
       "        vertical-align: middle;\n",
       "    }\n",
       "\n",
       "    .dataframe tbody tr th {\n",
       "        vertical-align: top;\n",
       "    }\n",
       "\n",
       "    .dataframe thead th {\n",
       "        text-align: right;\n",
       "    }\n",
       "</style>\n",
       "<table border=\"1\" class=\"dataframe\">\n",
       "  <thead>\n",
       "    <tr style=\"text-align: right;\">\n",
       "      <th></th>\n",
       "      <th>variable</th>\n",
       "      <th>value</th>\n",
       "    </tr>\n",
       "    <tr>\n",
       "      <th>Date</th>\n",
       "      <th></th>\n",
       "      <th></th>\n",
       "    </tr>\n",
       "  </thead>\n",
       "  <tbody>\n",
       "    <tr>\n",
       "      <th>2017-01-02</th>\n",
       "      <td>Open</td>\n",
       "      <td>1.877590e+01</td>\n",
       "    </tr>\n",
       "    <tr>\n",
       "      <th>2017-01-03</th>\n",
       "      <td>Open</td>\n",
       "      <td>1.910386e+01</td>\n",
       "    </tr>\n",
       "    <tr>\n",
       "      <th>2017-01-04</th>\n",
       "      <td>Open</td>\n",
       "      <td>1.963680e+01</td>\n",
       "    </tr>\n",
       "    <tr>\n",
       "      <th>2017-01-05</th>\n",
       "      <td>Open</td>\n",
       "      <td>1.946462e+01</td>\n",
       "    </tr>\n",
       "    <tr>\n",
       "      <th>2017-01-06</th>\n",
       "      <td>Open</td>\n",
       "      <td>1.920225e+01</td>\n",
       "    </tr>\n",
       "    <tr>\n",
       "      <th>...</th>\n",
       "      <td>...</td>\n",
       "      <td>...</td>\n",
       "    </tr>\n",
       "    <tr>\n",
       "      <th>2021-07-13</th>\n",
       "      <td>Volume</td>\n",
       "      <td>9.379150e+06</td>\n",
       "    </tr>\n",
       "    <tr>\n",
       "      <th>2021-07-14</th>\n",
       "      <td>Volume</td>\n",
       "      <td>1.014002e+07</td>\n",
       "    </tr>\n",
       "    <tr>\n",
       "      <th>2021-07-15</th>\n",
       "      <td>Volume</td>\n",
       "      <td>7.345800e+06</td>\n",
       "    </tr>\n",
       "    <tr>\n",
       "      <th>2021-07-16</th>\n",
       "      <td>Volume</td>\n",
       "      <td>7.231730e+06</td>\n",
       "    </tr>\n",
       "    <tr>\n",
       "      <th>2021-07-19</th>\n",
       "      <td>Volume</td>\n",
       "      <td>7.930010e+06</td>\n",
       "    </tr>\n",
       "  </tbody>\n",
       "</table>\n",
       "<p>6780 rows × 2 columns</p>\n",
       "</div>"
      ],
      "text/plain": [
       "           variable         value\n",
       "Date                             \n",
       "2017-01-02     Open  1.877590e+01\n",
       "2017-01-03     Open  1.910386e+01\n",
       "2017-01-04     Open  1.963680e+01\n",
       "2017-01-05     Open  1.946462e+01\n",
       "2017-01-06     Open  1.920225e+01\n",
       "...             ...           ...\n",
       "2021-07-13   Volume  9.379150e+06\n",
       "2021-07-14   Volume  1.014002e+07\n",
       "2021-07-15   Volume  7.345800e+06\n",
       "2021-07-16   Volume  7.231730e+06\n",
       "2021-07-19   Volume  7.930010e+06\n",
       "\n",
       "[6780 rows x 2 columns]"
      ]
     },
     "execution_count": 38,
     "metadata": {},
     "output_type": "execute_result"
    }
   ],
   "source": [
    "# Vamos mudar o formato dos dados acima de númericos (quantitativos) para qualitativos.\n",
    "\n",
    "cotacoes_ativos_long = pd.melt(lren,ignore_index=False)\n",
    "cotacoes_ativos_long"
   ]
  },
  {
   "cell_type": "markdown",
   "id": "EB4dZDYzzOp0",
   "metadata": {
    "id": "EB4dZDYzzOp0"
   },
   "source": [
    "Perceba que essa nova coluna \"variable\", que determina o tipo do dado, passou a ser uma variável qualitativa."
   ]
  },
  {
   "cell_type": "code",
   "execution_count": 39,
   "id": "BaUzlvG2zQyU",
   "metadata": {
    "colab": {
     "base_uri": "https://localhost:8080/"
    },
    "executionInfo": {
     "elapsed": 267,
     "status": "ok",
     "timestamp": 1648224004440,
     "user": {
      "displayName": "Victor Gomes",
      "photoUrl": "https://lh3.googleusercontent.com/a/default-user=s64",
      "userId": "04471344046095235293"
     },
     "user_tz": 180
    },
    "id": "BaUzlvG2zQyU",
    "outputId": "7c4f38f2-dbd0-4116-b4ab-83b0b961931e"
   },
   "outputs": [
    {
     "data": {
      "text/plain": [
       "variable     object\n",
       "value       float64\n",
       "dtype: object"
      ]
     },
     "execution_count": 39,
     "metadata": {},
     "output_type": "execute_result"
    }
   ],
   "source": [
    "cotacoes_ativos_long.dtypes"
   ]
  },
  {
   "cell_type": "markdown",
   "id": "MiySignDznp1",
   "metadata": {
    "id": "MiySignDznp1"
   },
   "source": [
    "Veja que a variável \"variable\" agora é do tipo \"object\", ou seja, é uma variável que possui textos (ou strings).\n",
    "\n",
    "Portanto, é uma variável qualitativa."
   ]
  },
  {
   "cell_type": "code",
   "execution_count": 40,
   "id": "L7IBQwEbmUTt",
   "metadata": {
    "colab": {
     "base_uri": "https://localhost:8080/"
    },
    "executionInfo": {
     "elapsed": 264,
     "status": "ok",
     "timestamp": 1648224091652,
     "user": {
      "displayName": "Victor Gomes",
      "photoUrl": "https://lh3.googleusercontent.com/a/default-user=s64",
      "userId": "04471344046095235293"
     },
     "user_tz": 180
    },
    "id": "L7IBQwEbmUTt",
    "outputId": "339cdee1-7dc7-4c9a-9307-d92a455bba83"
   },
   "outputs": [
    {
     "data": {
      "text/plain": [
       "{'Adj Close', 'Close', 'High', 'Low', 'Open', 'Volume'}"
      ]
     },
     "execution_count": 40,
     "metadata": {},
     "output_type": "execute_result"
    }
   ],
   "source": [
    "# Vamos usar a função de conjuntos para ver quais são as categorias dentro dessa variável qualitativa.\n",
    "\n",
    "set(cotacoes_ativos_long.variable)"
   ]
  },
  {
   "cell_type": "markdown",
   "id": "lktD_GlFz2Kb",
   "metadata": {
    "id": "lktD_GlFz2Kb"
   },
   "source": [
    "Perceba que antes essas eram as colunas do dataframe original."
   ]
  }
 ],
 "metadata": {
  "colab": {
   "collapsed_sections": [],
   "name": "DS - 02. Obtenção de dados.ipynb",
   "provenance": []
  },
  "kernelspec": {
   "display_name": "Python 3 (ipykernel)",
   "language": "python",
   "name": "python3"
  },
  "language_info": {
   "codemirror_mode": {
    "name": "ipython",
    "version": 3
   },
   "file_extension": ".py",
   "mimetype": "text/x-python",
   "name": "python",
   "nbconvert_exporter": "python",
   "pygments_lexer": "ipython3",
   "version": "3.9.7"
  },
  "toc-autonumbering": true,
  "toc-showmarkdowntxt": false
 },
 "nbformat": 4,
 "nbformat_minor": 5
}
