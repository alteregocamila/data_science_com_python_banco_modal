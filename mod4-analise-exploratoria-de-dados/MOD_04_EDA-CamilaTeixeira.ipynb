{
 "cells": [
  {
   "cell_type": "markdown",
   "id": "afcb6d58",
   "metadata": {
    "id": "afcb6d58"
   },
   "source": [
    "# Data Science com Python - Aprenda com Modal\n",
    "## Analise Exploratoria de Dados\n",
    "### Camila Teixeira\n",
    "\n",
    "Prof.: Lucas Correa"
   ]
  },
  {
   "cell_type": "markdown",
   "id": "f5e6a060",
   "metadata": {
    "id": "f5e6a060"
   },
   "source": [
    "### Import de pacotes"
   ]
  },
  {
   "cell_type": "code",
   "execution_count": 1,
   "id": "c1dbe86e",
   "metadata": {
    "colab": {
     "base_uri": "https://localhost:8080/"
    },
    "executionInfo": {
     "elapsed": 7072,
     "status": "ok",
     "timestamp": 1648238358420,
     "user": {
      "displayName": "Lucas Corrêa",
      "photoUrl": "https://lh3.googleusercontent.com/a-/AOh14GisY0qwao15rHuS26LDzUnF0aQ1vSCtYm7fBnED6fk=s64",
      "userId": "06320273670240218623"
     },
     "user_tz": 180
    },
    "id": "c1dbe86e",
    "outputId": "8f040bc4-6fcf-4633-9d4e-583228bc44a4"
   },
   "outputs": [
    {
     "name": "stdout",
     "output_type": "stream",
     "text": [
      "Requirement already satisfied: sweetviz in c:\\users\\camil\\anaconda3\\lib\\site-packages (2.1.4)\n",
      "Requirement already satisfied: jinja2>=2.11.1 in c:\\users\\camil\\anaconda3\\lib\\site-packages (from sweetviz) (2.11.3)\n",
      "Requirement already satisfied: scipy>=1.3.2 in c:\\users\\camil\\anaconda3\\lib\\site-packages (from sweetviz) (1.7.1)\n",
      "Requirement already satisfied: matplotlib>=3.1.3 in c:\\users\\camil\\anaconda3\\lib\\site-packages (from sweetviz) (3.4.3)\n",
      "Requirement already satisfied: pandas!=1.0.0,!=1.0.1,!=1.0.2,>=0.25.3 in c:\\users\\camil\\anaconda3\\lib\\site-packages (from sweetviz) (1.3.4)\n",
      "Requirement already satisfied: numpy>=1.16.0 in c:\\users\\camil\\anaconda3\\lib\\site-packages (from sweetviz) (1.20.3)\n",
      "Requirement already satisfied: tqdm>=4.43.0 in c:\\users\\camil\\anaconda3\\lib\\site-packages (from sweetviz) (4.62.3)\n",
      "Requirement already satisfied: importlib-resources>=1.2.0 in c:\\users\\camil\\anaconda3\\lib\\site-packages (from sweetviz) (5.8.0)\n",
      "Requirement already satisfied: zipp>=3.1.0 in c:\\users\\camil\\anaconda3\\lib\\site-packages (from importlib-resources>=1.2.0->sweetviz) (3.6.0)\n",
      "Requirement already satisfied: MarkupSafe>=0.23 in c:\\users\\camil\\anaconda3\\lib\\site-packages (from jinja2>=2.11.1->sweetviz) (1.1.1)\n",
      "Requirement already satisfied: cycler>=0.10 in c:\\users\\camil\\anaconda3\\lib\\site-packages (from matplotlib>=3.1.3->sweetviz) (0.10.0)\n",
      "Requirement already satisfied: pillow>=6.2.0 in c:\\users\\camil\\anaconda3\\lib\\site-packages (from matplotlib>=3.1.3->sweetviz) (8.4.0)\n",
      "Requirement already satisfied: pyparsing>=2.2.1 in c:\\users\\camil\\anaconda3\\lib\\site-packages (from matplotlib>=3.1.3->sweetviz) (3.0.4)\n",
      "Requirement already satisfied: kiwisolver>=1.0.1 in c:\\users\\camil\\anaconda3\\lib\\site-packages (from matplotlib>=3.1.3->sweetviz) (1.3.1)\n",
      "Requirement already satisfied: python-dateutil>=2.7 in c:\\users\\camil\\anaconda3\\lib\\site-packages (from matplotlib>=3.1.3->sweetviz) (2.8.2)\n",
      "Requirement already satisfied: six in c:\\users\\camil\\anaconda3\\lib\\site-packages (from cycler>=0.10->matplotlib>=3.1.3->sweetviz) (1.16.0)\n",
      "Requirement already satisfied: pytz>=2017.3 in c:\\users\\camil\\anaconda3\\lib\\site-packages (from pandas!=1.0.0,!=1.0.1,!=1.0.2,>=0.25.3->sweetviz) (2021.3)\n",
      "Requirement already satisfied: colorama in c:\\users\\camil\\anaconda3\\lib\\site-packages (from tqdm>=4.43.0->sweetviz) (0.4.4)\n"
     ]
    }
   ],
   "source": [
    "!pip install sweetviz"
   ]
  },
  {
   "cell_type": "code",
   "execution_count": 2,
   "id": "6780f29f",
   "metadata": {
    "id": "6780f29f"
   },
   "outputs": [],
   "source": [
    "import sweetviz as sv\n",
    "\n",
    "import pandas as pd\n",
    "\n",
    "import seaborn as sns\n",
    "\n",
    "import matplotlib.pyplot as plt\n",
    "\n",
    "from IPython import display\n",
    "\n",
    "pd.set_option('display.max_rows', 500)\n",
    "pd.set_option('display.max_columns', 500)\n",
    "pd.set_option('display.max_colwidth', 10000)"
   ]
  },
  {
   "cell_type": "markdown",
   "id": "07ad0739",
   "metadata": {
    "id": "07ad0739"
   },
   "source": [
    "### Import da base"
   ]
  },
  {
   "cell_type": "markdown",
   "id": "68cea063",
   "metadata": {
    "id": "68cea063"
   },
   "source": [
    "Fonte dos dados: https://www.kaggle.com/rashmiranu/banking-dataset-classification?select=new_train.csv"
   ]
  },
  {
   "cell_type": "code",
   "execution_count": 3,
   "id": "28f4aa70",
   "metadata": {
    "id": "28f4aa70"
   },
   "outputs": [],
   "source": [
    "metadata = pd.read_excel('metadata.xlsx')"
   ]
  },
  {
   "cell_type": "code",
   "execution_count": 4,
   "id": "8555f5bd",
   "metadata": {
    "colab": {
     "base_uri": "https://localhost:8080/",
     "height": 551
    },
    "executionInfo": {
     "elapsed": 10,
     "status": "ok",
     "timestamp": 1648238359312,
     "user": {
      "displayName": "Lucas Corrêa",
      "photoUrl": "https://lh3.googleusercontent.com/a-/AOh14GisY0qwao15rHuS26LDzUnF0aQ1vSCtYm7fBnED6fk=s64",
      "userId": "06320273670240218623"
     },
     "user_tz": 180
    },
    "id": "8555f5bd",
    "outputId": "fbf9a36f-65ea-48ad-d2fc-4ab26a7672c8"
   },
   "outputs": [
    {
     "data": {
      "text/html": [
       "<div>\n",
       "<style scoped>\n",
       "    .dataframe tbody tr th:only-of-type {\n",
       "        vertical-align: middle;\n",
       "    }\n",
       "\n",
       "    .dataframe tbody tr th {\n",
       "        vertical-align: top;\n",
       "    }\n",
       "\n",
       "    .dataframe thead th {\n",
       "        text-align: right;\n",
       "    }\n",
       "</style>\n",
       "<table border=\"1\" class=\"dataframe\">\n",
       "  <thead>\n",
       "    <tr style=\"text-align: right;\">\n",
       "      <th></th>\n",
       "      <th>Feature</th>\n",
       "      <th>Feature_Type</th>\n",
       "      <th>Description</th>\n",
       "    </tr>\n",
       "  </thead>\n",
       "  <tbody>\n",
       "    <tr>\n",
       "      <th>0</th>\n",
       "      <td>age</td>\n",
       "      <td>numeric</td>\n",
       "      <td>age of a person</td>\n",
       "    </tr>\n",
       "    <tr>\n",
       "      <th>1</th>\n",
       "      <td>job</td>\n",
       "      <td>Categorical,nominal</td>\n",
       "      <td>type of job ('admin.','blue-collar','entrepreneur','housemaid','management','retired','self-employed','services','student','technician','unemployed','unknown')</td>\n",
       "    </tr>\n",
       "    <tr>\n",
       "      <th>2</th>\n",
       "      <td>marital</td>\n",
       "      <td>categorical,nominal</td>\n",
       "      <td>marital status ('divorced','married','single','unknown'; note: 'divorced' means divorced or widowed)</td>\n",
       "    </tr>\n",
       "    <tr>\n",
       "      <th>3</th>\n",
       "      <td>education</td>\n",
       "      <td>categorical,nominal</td>\n",
       "      <td>('basic.4y','basic.6y','basic.9y','high.school','illiterate','professional.course','university.degree','unknown')</td>\n",
       "    </tr>\n",
       "    <tr>\n",
       "      <th>4</th>\n",
       "      <td>default</td>\n",
       "      <td>categorical,nominal</td>\n",
       "      <td>has credit in default? ('no','yes','unknown')</td>\n",
       "    </tr>\n",
       "    <tr>\n",
       "      <th>5</th>\n",
       "      <td>housing</td>\n",
       "      <td>categorical,nominal</td>\n",
       "      <td>has housing loan? ('no','yes','unknown')</td>\n",
       "    </tr>\n",
       "    <tr>\n",
       "      <th>6</th>\n",
       "      <td>loan</td>\n",
       "      <td>categorical,nominal</td>\n",
       "      <td>has personal loan? ('no','yes','unknown')</td>\n",
       "    </tr>\n",
       "    <tr>\n",
       "      <th>7</th>\n",
       "      <td>contact</td>\n",
       "      <td>categorical,nominal</td>\n",
       "      <td>contact communication type ('cellular','telephone')</td>\n",
       "    </tr>\n",
       "    <tr>\n",
       "      <th>8</th>\n",
       "      <td>month</td>\n",
       "      <td>categorical,ordinal</td>\n",
       "      <td>last contact month of year ('jan', 'feb', 'mar', …, 'nov', 'dec')</td>\n",
       "    </tr>\n",
       "    <tr>\n",
       "      <th>9</th>\n",
       "      <td>dayofweek</td>\n",
       "      <td>categorical,ordinal</td>\n",
       "      <td>last contact day of the week ('mon','tue','wed','thu','fri')</td>\n",
       "    </tr>\n",
       "    <tr>\n",
       "      <th>10</th>\n",
       "      <td>duration</td>\n",
       "      <td>numeric</td>\n",
       "      <td>last contact duration, in seconds . Important note: this attribute highly affects the output target (e.g., if duration=0 then y='no')</td>\n",
       "    </tr>\n",
       "    <tr>\n",
       "      <th>11</th>\n",
       "      <td>campaign</td>\n",
       "      <td>numeric</td>\n",
       "      <td>number of contacts performed during this campaign and for this client (includes last contact)</td>\n",
       "    </tr>\n",
       "    <tr>\n",
       "      <th>12</th>\n",
       "      <td>pdays</td>\n",
       "      <td>numeric</td>\n",
       "      <td>number of days that passed by after the client was last contacted from a previous campaign (999 means client was not previously contacted)</td>\n",
       "    </tr>\n",
       "    <tr>\n",
       "      <th>13</th>\n",
       "      <td>previous</td>\n",
       "      <td>numeric</td>\n",
       "      <td>number of contacts performed before this campaign and for this client</td>\n",
       "    </tr>\n",
       "    <tr>\n",
       "      <th>14</th>\n",
       "      <td>poutcome</td>\n",
       "      <td>categorical,nominal</td>\n",
       "      <td>outcome of the previous marketing campaign ('failure','nonexistent','success')</td>\n",
       "    </tr>\n",
       "    <tr>\n",
       "      <th>15</th>\n",
       "      <td>y</td>\n",
       "      <td>binary</td>\n",
       "      <td>has the client subscribed a term deposit? ('yes','no')</td>\n",
       "    </tr>\n",
       "  </tbody>\n",
       "</table>\n",
       "</div>"
      ],
      "text/plain": [
       "      Feature         Feature_Type  \\\n",
       "0         age              numeric   \n",
       "1         job  Categorical,nominal   \n",
       "2     marital  categorical,nominal   \n",
       "3   education  categorical,nominal   \n",
       "4     default  categorical,nominal   \n",
       "5     housing  categorical,nominal   \n",
       "6        loan  categorical,nominal   \n",
       "7     contact  categorical,nominal   \n",
       "8       month  categorical,ordinal   \n",
       "9   dayofweek  categorical,ordinal   \n",
       "10   duration              numeric   \n",
       "11   campaign              numeric   \n",
       "12      pdays              numeric   \n",
       "13   previous              numeric   \n",
       "14   poutcome  categorical,nominal   \n",
       "15          y               binary   \n",
       "\n",
       "                                                                                                                                                        Description  \n",
       "0                                                                                                                                                   age of a person  \n",
       "1   type of job ('admin.','blue-collar','entrepreneur','housemaid','management','retired','self-employed','services','student','technician','unemployed','unknown')  \n",
       "2                                                              marital status ('divorced','married','single','unknown'; note: 'divorced' means divorced or widowed)  \n",
       "3                                                 ('basic.4y','basic.6y','basic.9y','high.school','illiterate','professional.course','university.degree','unknown')  \n",
       "4                                                                                                                     has credit in default? ('no','yes','unknown')  \n",
       "5                                                                                                                          has housing loan? ('no','yes','unknown')  \n",
       "6                                                                                                                         has personal loan? ('no','yes','unknown')  \n",
       "7                                                                                                               contact communication type ('cellular','telephone')  \n",
       "8                                                                                                 last contact month of year ('jan', 'feb', 'mar', …, 'nov', 'dec')  \n",
       "9                                                                                                      last contact day of the week ('mon','tue','wed','thu','fri')  \n",
       "10                            last contact duration, in seconds . Important note: this attribute highly affects the output target (e.g., if duration=0 then y='no')  \n",
       "11                                                                    number of contacts performed during this campaign and for this client (includes last contact)  \n",
       "12                       number of days that passed by after the client was last contacted from a previous campaign (999 means client was not previously contacted)  \n",
       "13                                                                                            number of contacts performed before this campaign and for this client  \n",
       "14                                                                                   outcome of the previous marketing campaign ('failure','nonexistent','success')  \n",
       "15                                                                                                           has the client subscribed a term deposit? ('yes','no')  "
      ]
     },
     "execution_count": 4,
     "metadata": {},
     "output_type": "execute_result"
    }
   ],
   "source": [
    "metadata"
   ]
  },
  {
   "cell_type": "code",
   "execution_count": 5,
   "id": "6a3f64cb",
   "metadata": {
    "id": "6a3f64cb"
   },
   "outputs": [],
   "source": [
    "df = pd.read_csv('new_train.csv', sep=',')"
   ]
  },
  {
   "cell_type": "code",
   "execution_count": 6,
   "id": "e532cfb1",
   "metadata": {
    "colab": {
     "base_uri": "https://localhost:8080/",
     "height": 206
    },
    "executionInfo": {
     "elapsed": 9,
     "status": "ok",
     "timestamp": 1648238359313,
     "user": {
      "displayName": "Lucas Corrêa",
      "photoUrl": "https://lh3.googleusercontent.com/a-/AOh14GisY0qwao15rHuS26LDzUnF0aQ1vSCtYm7fBnED6fk=s64",
      "userId": "06320273670240218623"
     },
     "user_tz": 180
    },
    "id": "e532cfb1",
    "outputId": "061dd4b2-2db5-4ae7-997f-82cecc237623"
   },
   "outputs": [
    {
     "data": {
      "text/html": [
       "<div>\n",
       "<style scoped>\n",
       "    .dataframe tbody tr th:only-of-type {\n",
       "        vertical-align: middle;\n",
       "    }\n",
       "\n",
       "    .dataframe tbody tr th {\n",
       "        vertical-align: top;\n",
       "    }\n",
       "\n",
       "    .dataframe thead th {\n",
       "        text-align: right;\n",
       "    }\n",
       "</style>\n",
       "<table border=\"1\" class=\"dataframe\">\n",
       "  <thead>\n",
       "    <tr style=\"text-align: right;\">\n",
       "      <th></th>\n",
       "      <th>age</th>\n",
       "      <th>job</th>\n",
       "      <th>marital</th>\n",
       "      <th>education</th>\n",
       "      <th>default</th>\n",
       "      <th>housing</th>\n",
       "      <th>loan</th>\n",
       "      <th>contact</th>\n",
       "      <th>month</th>\n",
       "      <th>day_of_week</th>\n",
       "      <th>duration</th>\n",
       "      <th>campaign</th>\n",
       "      <th>pdays</th>\n",
       "      <th>previous</th>\n",
       "      <th>poutcome</th>\n",
       "      <th>y</th>\n",
       "    </tr>\n",
       "  </thead>\n",
       "  <tbody>\n",
       "    <tr>\n",
       "      <th>0</th>\n",
       "      <td>49</td>\n",
       "      <td>blue-collar</td>\n",
       "      <td>married</td>\n",
       "      <td>basic.9y</td>\n",
       "      <td>unknown</td>\n",
       "      <td>no</td>\n",
       "      <td>no</td>\n",
       "      <td>cellular</td>\n",
       "      <td>nov</td>\n",
       "      <td>wed</td>\n",
       "      <td>227</td>\n",
       "      <td>4</td>\n",
       "      <td>999</td>\n",
       "      <td>0</td>\n",
       "      <td>nonexistent</td>\n",
       "      <td>no</td>\n",
       "    </tr>\n",
       "    <tr>\n",
       "      <th>1</th>\n",
       "      <td>37</td>\n",
       "      <td>entrepreneur</td>\n",
       "      <td>married</td>\n",
       "      <td>university.degree</td>\n",
       "      <td>no</td>\n",
       "      <td>no</td>\n",
       "      <td>no</td>\n",
       "      <td>telephone</td>\n",
       "      <td>nov</td>\n",
       "      <td>wed</td>\n",
       "      <td>202</td>\n",
       "      <td>2</td>\n",
       "      <td>999</td>\n",
       "      <td>1</td>\n",
       "      <td>failure</td>\n",
       "      <td>no</td>\n",
       "    </tr>\n",
       "    <tr>\n",
       "      <th>2</th>\n",
       "      <td>78</td>\n",
       "      <td>retired</td>\n",
       "      <td>married</td>\n",
       "      <td>basic.4y</td>\n",
       "      <td>no</td>\n",
       "      <td>no</td>\n",
       "      <td>no</td>\n",
       "      <td>cellular</td>\n",
       "      <td>jul</td>\n",
       "      <td>mon</td>\n",
       "      <td>1148</td>\n",
       "      <td>1</td>\n",
       "      <td>999</td>\n",
       "      <td>0</td>\n",
       "      <td>nonexistent</td>\n",
       "      <td>yes</td>\n",
       "    </tr>\n",
       "    <tr>\n",
       "      <th>3</th>\n",
       "      <td>36</td>\n",
       "      <td>admin.</td>\n",
       "      <td>married</td>\n",
       "      <td>university.degree</td>\n",
       "      <td>no</td>\n",
       "      <td>yes</td>\n",
       "      <td>no</td>\n",
       "      <td>telephone</td>\n",
       "      <td>may</td>\n",
       "      <td>mon</td>\n",
       "      <td>120</td>\n",
       "      <td>2</td>\n",
       "      <td>999</td>\n",
       "      <td>0</td>\n",
       "      <td>nonexistent</td>\n",
       "      <td>no</td>\n",
       "    </tr>\n",
       "    <tr>\n",
       "      <th>4</th>\n",
       "      <td>59</td>\n",
       "      <td>retired</td>\n",
       "      <td>divorced</td>\n",
       "      <td>university.degree</td>\n",
       "      <td>no</td>\n",
       "      <td>no</td>\n",
       "      <td>no</td>\n",
       "      <td>cellular</td>\n",
       "      <td>jun</td>\n",
       "      <td>tue</td>\n",
       "      <td>368</td>\n",
       "      <td>2</td>\n",
       "      <td>999</td>\n",
       "      <td>0</td>\n",
       "      <td>nonexistent</td>\n",
       "      <td>no</td>\n",
       "    </tr>\n",
       "  </tbody>\n",
       "</table>\n",
       "</div>"
      ],
      "text/plain": [
       "   age           job   marital          education  default housing loan  \\\n",
       "0   49   blue-collar   married           basic.9y  unknown      no   no   \n",
       "1   37  entrepreneur   married  university.degree       no      no   no   \n",
       "2   78       retired   married           basic.4y       no      no   no   \n",
       "3   36        admin.   married  university.degree       no     yes   no   \n",
       "4   59       retired  divorced  university.degree       no      no   no   \n",
       "\n",
       "     contact month day_of_week  duration  campaign  pdays  previous  \\\n",
       "0   cellular   nov         wed       227         4    999         0   \n",
       "1  telephone   nov         wed       202         2    999         1   \n",
       "2   cellular   jul         mon      1148         1    999         0   \n",
       "3  telephone   may         mon       120         2    999         0   \n",
       "4   cellular   jun         tue       368         2    999         0   \n",
       "\n",
       "      poutcome    y  \n",
       "0  nonexistent   no  \n",
       "1      failure   no  \n",
       "2  nonexistent  yes  \n",
       "3  nonexistent   no  \n",
       "4  nonexistent   no  "
      ]
     },
     "execution_count": 6,
     "metadata": {},
     "output_type": "execute_result"
    }
   ],
   "source": [
    "df.head()"
   ]
  },
  {
   "cell_type": "code",
   "execution_count": 7,
   "id": "4106c8eb",
   "metadata": {
    "colab": {
     "base_uri": "https://localhost:8080/",
     "height": 67,
     "referenced_widgets": [
      "8a60e76f2719414fa99554a26ae0f5a6",
      "5294adcdb3ff48c992cc62bec1a6d826",
      "a57941992f984d1a80ded356da0e60e5",
      "05d591de8c1f4bdb97f6168f5c1727dc",
      "85ffd3d96e7045a988975a39e1864043",
      "8ed9512026e54771b46a7a08e29ecc32",
      "7d9dab71322642ebb00fd8a0a848f668",
      "1bca4003a506431c88381c257b0177a4",
      "74ac7a6fe9b24e46bfa3ca4f5e742a4c",
      "b8cdb9cd1a184232b0f8263f539183b3",
      "14c334934f3f4565a83b1d455fab1af6"
     ]
    },
    "executionInfo": {
     "elapsed": 24335,
     "status": "ok",
     "timestamp": 1648238383640,
     "user": {
      "displayName": "Lucas Corrêa",
      "photoUrl": "https://lh3.googleusercontent.com/a-/AOh14GisY0qwao15rHuS26LDzUnF0aQ1vSCtYm7fBnED6fk=s64",
      "userId": "06320273670240218623"
     },
     "user_tz": 180
    },
    "id": "4106c8eb",
    "outputId": "876233dd-e71d-4189-9411-e7af559415e5"
   },
   "outputs": [
    {
     "data": {
      "application/vnd.jupyter.widget-view+json": {
       "model_id": "a197f18041ba4ca8aaf8b42581133e60",
       "version_major": 2,
       "version_minor": 0
      },
      "text/plain": [
       "                                             |                                             | [  0%]   00:00 ->…"
      ]
     },
     "metadata": {},
     "output_type": "display_data"
    },
    {
     "name": "stdout",
     "output_type": "stream",
     "text": [
      "Report Analise.html was generated! NOTEBOOK/COLAB USERS: the web browser MAY not pop up, regardless, the report IS saved in your notebook/colab files.\n"
     ]
    }
   ],
   "source": [
    "# Explorar o output da biblioteca sweetviz em uma outra janela, com análise descritiva e gráficos dos dados disponíveis\n",
    "\n",
    "report = sv.analyze(df)\n",
    "\n",
    "report.show_html('Analise.html')"
   ]
  },
  {
   "cell_type": "markdown",
   "id": "d52480f4",
   "metadata": {
    "id": "d52480f4"
   },
   "source": [
    "### Estatísticas básicas"
   ]
  },
  {
   "cell_type": "code",
   "execution_count": 8,
   "id": "68b90cb6",
   "metadata": {
    "colab": {
     "base_uri": "https://localhost:8080/"
    },
    "executionInfo": {
     "elapsed": 95,
     "status": "ok",
     "timestamp": 1648238383641,
     "user": {
      "displayName": "Lucas Corrêa",
      "photoUrl": "https://lh3.googleusercontent.com/a-/AOh14GisY0qwao15rHuS26LDzUnF0aQ1vSCtYm7fBnED6fk=s64",
      "userId": "06320273670240218623"
     },
     "user_tz": 180
    },
    "id": "68b90cb6",
    "outputId": "320cbeee-88e9-4975-e094-b57dabb718ab"
   },
   "outputs": [
    {
     "name": "stdout",
     "output_type": "stream",
     "text": [
      "<class 'pandas.core.frame.DataFrame'>\n",
      "RangeIndex: 32950 entries, 0 to 32949\n",
      "Data columns (total 16 columns):\n",
      " #   Column       Non-Null Count  Dtype \n",
      "---  ------       --------------  ----- \n",
      " 0   age          32950 non-null  int64 \n",
      " 1   job          32950 non-null  object\n",
      " 2   marital      32950 non-null  object\n",
      " 3   education    32950 non-null  object\n",
      " 4   default      32950 non-null  object\n",
      " 5   housing      32950 non-null  object\n",
      " 6   loan         32950 non-null  object\n",
      " 7   contact      32950 non-null  object\n",
      " 8   month        32950 non-null  object\n",
      " 9   day_of_week  32950 non-null  object\n",
      " 10  duration     32950 non-null  int64 \n",
      " 11  campaign     32950 non-null  int64 \n",
      " 12  pdays        32950 non-null  int64 \n",
      " 13  previous     32950 non-null  int64 \n",
      " 14  poutcome     32950 non-null  object\n",
      " 15  y            32950 non-null  object\n",
      "dtypes: int64(5), object(11)\n",
      "memory usage: 4.0+ MB\n"
     ]
    }
   ],
   "source": [
    "# Método 'info' retorna diversas informações relacionadas ao Dataframe, dentre elas número, indexação e disposição das variáveis nas colunas, número de valores não-nulos e tipo de dados\n",
    "\n",
    "df.info()"
   ]
  },
  {
   "cell_type": "code",
   "execution_count": 9,
   "id": "e9be73fd",
   "metadata": {
    "colab": {
     "base_uri": "https://localhost:8080/"
    },
    "executionInfo": {
     "elapsed": 93,
     "status": "ok",
     "timestamp": 1648238383643,
     "user": {
      "displayName": "Lucas Corrêa",
      "photoUrl": "https://lh3.googleusercontent.com/a-/AOh14GisY0qwao15rHuS26LDzUnF0aQ1vSCtYm7fBnED6fk=s64",
      "userId": "06320273670240218623"
     },
     "user_tz": 180
    },
    "id": "e9be73fd",
    "outputId": "535ac131-e5b7-4827-eb53-83ab8b9d7790"
   },
   "outputs": [
    {
     "data": {
      "text/plain": [
       "(32950, 16)"
      ]
     },
     "execution_count": 9,
     "metadata": {},
     "output_type": "execute_result"
    }
   ],
   "source": [
    "# Número de linhas e colunas do Dataframe\n",
    "\n",
    "df.shape"
   ]
  },
  {
   "cell_type": "code",
   "execution_count": 10,
   "id": "0b6b3b5b",
   "metadata": {
    "colab": {
     "base_uri": "https://localhost:8080/"
    },
    "executionInfo": {
     "elapsed": 93,
     "status": "ok",
     "timestamp": 1648238383646,
     "user": {
      "displayName": "Lucas Corrêa",
      "photoUrl": "https://lh3.googleusercontent.com/a-/AOh14GisY0qwao15rHuS26LDzUnF0aQ1vSCtYm7fBnED6fk=s64",
      "userId": "06320273670240218623"
     },
     "user_tz": 180
    },
    "id": "0b6b3b5b",
    "outputId": "5858a7b1-ebdd-43e8-cc36-3add86b60d18"
   },
   "outputs": [
    {
     "data": {
      "text/plain": [
       "32950"
      ]
     },
     "execution_count": 10,
     "metadata": {},
     "output_type": "execute_result"
    }
   ],
   "source": [
    "# Função len (length) para Dataframes retorna o número de linhas\n",
    "\n",
    "len(df)"
   ]
  },
  {
   "cell_type": "code",
   "execution_count": 11,
   "id": "d93235db",
   "metadata": {
    "colab": {
     "base_uri": "https://localhost:8080/"
    },
    "executionInfo": {
     "elapsed": 91,
     "status": "ok",
     "timestamp": 1648238383646,
     "user": {
      "displayName": "Lucas Corrêa",
      "photoUrl": "https://lh3.googleusercontent.com/a-/AOh14GisY0qwao15rHuS26LDzUnF0aQ1vSCtYm7fBnED6fk=s64",
      "userId": "06320273670240218623"
     },
     "user_tz": 180
    },
    "id": "d93235db",
    "outputId": "eb9e448d-e3cf-4b22-8ae8-654c10a72963"
   },
   "outputs": [
    {
     "data": {
      "text/plain": [
       "age              75\n",
       "job              12\n",
       "marital           4\n",
       "education         8\n",
       "default           3\n",
       "housing           3\n",
       "loan              3\n",
       "contact           2\n",
       "month            10\n",
       "day_of_week       5\n",
       "duration       1467\n",
       "campaign         40\n",
       "pdays            27\n",
       "previous          8\n",
       "poutcome          3\n",
       "y                 2\n",
       "dtype: int64"
      ]
     },
     "execution_count": 11,
     "metadata": {},
     "output_type": "execute_result"
    }
   ],
   "source": [
    "# Método nunique retorna os valores únicos para cada variável (análogo ao \"remover duplicadas no Excel\"). Neste exemplo, podemos ver que o banco de dados engloba consumidores com 75 idades diferentes\n",
    "\n",
    "df.nunique()"
   ]
  },
  {
   "cell_type": "markdown",
   "id": "84d463b2",
   "metadata": {
    "id": "84d463b2"
   },
   "source": [
    "### Análise Univariada"
   ]
  },
  {
   "cell_type": "code",
   "execution_count": 12,
   "id": "bd68adf7",
   "metadata": {
    "colab": {
     "base_uri": "https://localhost:8080/"
    },
    "executionInfo": {
     "elapsed": 89,
     "status": "ok",
     "timestamp": 1648238383647,
     "user": {
      "displayName": "Lucas Corrêa",
      "photoUrl": "https://lh3.googleusercontent.com/a-/AOh14GisY0qwao15rHuS26LDzUnF0aQ1vSCtYm7fBnED6fk=s64",
      "userId": "06320273670240218623"
     },
     "user_tz": 180
    },
    "id": "bd68adf7",
    "outputId": "ced02ae0-e94e-4e1d-abf7-d7b0702b9bab"
   },
   "outputs": [
    {
     "data": {
      "text/plain": [
       "0    49\n",
       "1    37\n",
       "2    78\n",
       "3    36\n",
       "4    59\n",
       "Name: age, dtype: int64"
      ]
     },
     "execution_count": 12,
     "metadata": {},
     "output_type": "execute_result"
    }
   ],
   "source": [
    "# Retornar as 5 primeiras linhas do Dataframe (5 é o default, é possível alterar esse número adicionando o número de linhas desejadas dentro dos parênteses)\n",
    "\n",
    "df['age'].head()"
   ]
  },
  {
   "cell_type": "code",
   "execution_count": 13,
   "id": "14603353",
   "metadata": {
    "colab": {
     "base_uri": "https://localhost:8080/"
    },
    "executionInfo": {
     "elapsed": 87,
     "status": "ok",
     "timestamp": 1648238383647,
     "user": {
      "displayName": "Lucas Corrêa",
      "photoUrl": "https://lh3.googleusercontent.com/a-/AOh14GisY0qwao15rHuS26LDzUnF0aQ1vSCtYm7fBnED6fk=s64",
      "userId": "06320273670240218623"
     },
     "user_tz": 180
    },
    "id": "14603353",
    "outputId": "2e151137-fbe9-4b91-c733-36accdbf36c0"
   },
   "outputs": [
    {
     "data": {
      "text/plain": [
       "32945    28\n",
       "32946    52\n",
       "32947    54\n",
       "32948    29\n",
       "32949    35\n",
       "Name: age, dtype: int64"
      ]
     },
     "execution_count": 13,
     "metadata": {},
     "output_type": "execute_result"
    }
   ],
   "source": [
    "# Retornar as 5 últimas linhas do Dataframe (mesmo default do 'head')\n",
    "\n",
    "df['age'].tail()"
   ]
  },
  {
   "cell_type": "code",
   "execution_count": 14,
   "id": "8de8d8dc",
   "metadata": {
    "colab": {
     "base_uri": "https://localhost:8080/"
    },
    "executionInfo": {
     "elapsed": 88,
     "status": "ok",
     "timestamp": 1648238383648,
     "user": {
      "displayName": "Lucas Corrêa",
      "photoUrl": "https://lh3.googleusercontent.com/a-/AOh14GisY0qwao15rHuS26LDzUnF0aQ1vSCtYm7fBnED6fk=s64",
      "userId": "06320273670240218623"
     },
     "user_tz": 180
    },
    "id": "8de8d8dc",
    "outputId": "6d1507b1-783a-49b9-9fac-90a961689bfd"
   },
   "outputs": [
    {
     "data": {
      "text/plain": [
       "1318465"
      ]
     },
     "execution_count": 14,
     "metadata": {},
     "output_type": "execute_result"
    }
   ],
   "source": [
    "# Soma de todos os valores de uma coluna (no caso, coluna \"age\")\n",
    "\n",
    "df['age'].sum()"
   ]
  },
  {
   "cell_type": "code",
   "execution_count": 15,
   "id": "75c86382",
   "metadata": {
    "colab": {
     "base_uri": "https://localhost:8080/"
    },
    "executionInfo": {
     "elapsed": 87,
     "status": "ok",
     "timestamp": 1648238383648,
     "user": {
      "displayName": "Lucas Corrêa",
      "photoUrl": "https://lh3.googleusercontent.com/a-/AOh14GisY0qwao15rHuS26LDzUnF0aQ1vSCtYm7fBnED6fk=s64",
      "userId": "06320273670240218623"
     },
     "user_tz": 180
    },
    "id": "75c86382",
    "outputId": "5647e024-0f18-42af-fbc5-19c60a6fa617"
   },
   "outputs": [
    {
     "data": {
      "text/plain": [
       "17"
      ]
     },
     "execution_count": 15,
     "metadata": {},
     "output_type": "execute_result"
    }
   ],
   "source": [
    "# Valor mínimo observado para determinada coluna\n",
    "\n",
    "df['age'].min()"
   ]
  },
  {
   "cell_type": "code",
   "execution_count": 16,
   "id": "c6e993c5",
   "metadata": {
    "colab": {
     "base_uri": "https://localhost:8080/"
    },
    "executionInfo": {
     "elapsed": 87,
     "status": "ok",
     "timestamp": 1648238383649,
     "user": {
      "displayName": "Lucas Corrêa",
      "photoUrl": "https://lh3.googleusercontent.com/a-/AOh14GisY0qwao15rHuS26LDzUnF0aQ1vSCtYm7fBnED6fk=s64",
      "userId": "06320273670240218623"
     },
     "user_tz": 180
    },
    "id": "c6e993c5",
    "outputId": "f92bc541-4a9f-497b-edeb-060fde277359"
   },
   "outputs": [
    {
     "data": {
      "text/plain": [
       "40.01411229135053"
      ]
     },
     "execution_count": 16,
     "metadata": {},
     "output_type": "execute_result"
    }
   ],
   "source": [
    "# Valor médio\n",
    "\n",
    "df['age'].mean()"
   ]
  },
  {
   "cell_type": "code",
   "execution_count": 17,
   "id": "e06b548e",
   "metadata": {
    "colab": {
     "base_uri": "https://localhost:8080/"
    },
    "executionInfo": {
     "elapsed": 86,
     "status": "ok",
     "timestamp": 1648238383649,
     "user": {
      "displayName": "Lucas Corrêa",
      "photoUrl": "https://lh3.googleusercontent.com/a-/AOh14GisY0qwao15rHuS26LDzUnF0aQ1vSCtYm7fBnED6fk=s64",
      "userId": "06320273670240218623"
     },
     "user_tz": 180
    },
    "id": "e06b548e",
    "outputId": "d48208c1-10b4-456f-efc1-b3fc0ba6bf0e"
   },
   "outputs": [
    {
     "data": {
      "text/plain": [
       "98"
      ]
     },
     "execution_count": 17,
     "metadata": {},
     "output_type": "execute_result"
    }
   ],
   "source": [
    "# Valor máximo\n",
    "\n",
    "df['age'].max()"
   ]
  },
  {
   "cell_type": "code",
   "execution_count": 19,
   "id": "2ae01ce7",
   "metadata": {
    "colab": {
     "base_uri": "https://localhost:8080/",
     "height": 396
    },
    "executionInfo": {
     "elapsed": 87,
     "status": "ok",
     "timestamp": 1648238383650,
     "user": {
      "displayName": "Lucas Corrêa",
      "photoUrl": "https://lh3.googleusercontent.com/a-/AOh14GisY0qwao15rHuS26LDzUnF0aQ1vSCtYm7fBnED6fk=s64",
      "userId": "06320273670240218623"
     },
     "user_tz": 180
    },
    "id": "2ae01ce7",
    "outputId": "0499c3d8-1c38-4ae9-9443-a833d99216a9"
   },
   "outputs": [
    {
     "data": {
      "image/png": "[encoded data removed]",
      "text/plain": [
       "<Figure size 600x400 with 1 Axes>"
      ]
     },
     "metadata": {},
     "output_type": "display_data"
    }
   ],
   "source": [
    "# Boxplot dos dados referentes à coluna \"Age\". É possível observar onde estão dispostos os valores \"mínimos\" e \"máximos\", Q1, mediana (Q2), Q3 e potenciais outliers (valores discrepantes na distribuição dos dados, usualmente definidos baseados no valor do interquartil)\n",
    "\n",
    "sns.boxplot(x=df[\"age\"]);"
   ]
  },
  {
   "cell_type": "code",
   "execution_count": 20,
   "id": "8fc935fa",
   "metadata": {
    "colab": {
     "base_uri": "https://localhost:8080/",
     "height": 358
    },
    "executionInfo": {
     "elapsed": 85,
     "status": "ok",
     "timestamp": 1648238383650,
     "user": {
      "displayName": "Lucas Corrêa",
      "photoUrl": "https://lh3.googleusercontent.com/a-/AOh14GisY0qwao15rHuS26LDzUnF0aQ1vSCtYm7fBnED6fk=s64",
      "userId": "06320273670240218623"
     },
     "user_tz": 180
    },
    "id": "8fc935fa",
    "outputId": "2ef672ac-8027-4aa9-df1e-fd156d4ebbac"
   },
   "outputs": [
    {
     "data": {
      "image/png": "[encoded data removed]",
      "text/plain": [
       "<Figure size 600x400 with 1 Axes>"
      ]
     },
     "metadata": {},
     "output_type": "display_data"
    }
   ],
   "source": [
    "# O histograma também facilita a visualização da distribuição dos dados, fundamental na escolha de testes estatísticos corretos (distribuição normal ou não)\n",
    "\n",
    "plt.hist(df['age'], 50, facecolor='b')\n",
    "plt.show();"
   ]
  },
  {
   "cell_type": "markdown",
   "id": "795ee2be",
   "metadata": {
    "id": "795ee2be"
   },
   "source": [
    "### Medidas descritivas básicas"
   ]
  },
  {
   "cell_type": "code",
   "execution_count": 21,
   "id": "07ce195b",
   "metadata": {
    "colab": {
     "base_uri": "https://localhost:8080/",
     "height": 300
    },
    "executionInfo": {
     "elapsed": 85,
     "status": "ok",
     "timestamp": 1648238383651,
     "user": {
      "displayName": "Lucas Corrêa",
      "photoUrl": "https://lh3.googleusercontent.com/a-/AOh14GisY0qwao15rHuS26LDzUnF0aQ1vSCtYm7fBnED6fk=s64",
      "userId": "06320273670240218623"
     },
     "user_tz": 180
    },
    "id": "07ce195b",
    "outputId": "c6ebec38-fe76-40c5-99a5-9bcbc4a2c774"
   },
   "outputs": [
    {
     "data": {
      "text/html": [
       "<div>\n",
       "<style scoped>\n",
       "    .dataframe tbody tr th:only-of-type {\n",
       "        vertical-align: middle;\n",
       "    }\n",
       "\n",
       "    .dataframe tbody tr th {\n",
       "        vertical-align: top;\n",
       "    }\n",
       "\n",
       "    .dataframe thead th {\n",
       "        text-align: right;\n",
       "    }\n",
       "</style>\n",
       "<table border=\"1\" class=\"dataframe\">\n",
       "  <thead>\n",
       "    <tr style=\"text-align: right;\">\n",
       "      <th></th>\n",
       "      <th>age</th>\n",
       "      <th>duration</th>\n",
       "      <th>campaign</th>\n",
       "      <th>pdays</th>\n",
       "      <th>previous</th>\n",
       "    </tr>\n",
       "  </thead>\n",
       "  <tbody>\n",
       "    <tr>\n",
       "      <th>count</th>\n",
       "      <td>32950.000000</td>\n",
       "      <td>32950.000000</td>\n",
       "      <td>32950.000000</td>\n",
       "      <td>32950.000000</td>\n",
       "      <td>32950.000000</td>\n",
       "    </tr>\n",
       "    <tr>\n",
       "      <th>mean</th>\n",
       "      <td>40.014112</td>\n",
       "      <td>258.127466</td>\n",
       "      <td>2.560607</td>\n",
       "      <td>962.052413</td>\n",
       "      <td>0.174719</td>\n",
       "    </tr>\n",
       "    <tr>\n",
       "      <th>std</th>\n",
       "      <td>10.403636</td>\n",
       "      <td>258.975917</td>\n",
       "      <td>2.752326</td>\n",
       "      <td>187.951096</td>\n",
       "      <td>0.499025</td>\n",
       "    </tr>\n",
       "    <tr>\n",
       "      <th>min</th>\n",
       "      <td>17.000000</td>\n",
       "      <td>0.000000</td>\n",
       "      <td>1.000000</td>\n",
       "      <td>0.000000</td>\n",
       "      <td>0.000000</td>\n",
       "    </tr>\n",
       "    <tr>\n",
       "      <th>25%</th>\n",
       "      <td>32.000000</td>\n",
       "      <td>103.000000</td>\n",
       "      <td>1.000000</td>\n",
       "      <td>999.000000</td>\n",
       "      <td>0.000000</td>\n",
       "    </tr>\n",
       "    <tr>\n",
       "      <th>50%</th>\n",
       "      <td>38.000000</td>\n",
       "      <td>180.000000</td>\n",
       "      <td>2.000000</td>\n",
       "      <td>999.000000</td>\n",
       "      <td>0.000000</td>\n",
       "    </tr>\n",
       "    <tr>\n",
       "      <th>75%</th>\n",
       "      <td>47.000000</td>\n",
       "      <td>319.000000</td>\n",
       "      <td>3.000000</td>\n",
       "      <td>999.000000</td>\n",
       "      <td>0.000000</td>\n",
       "    </tr>\n",
       "    <tr>\n",
       "      <th>max</th>\n",
       "      <td>98.000000</td>\n",
       "      <td>4918.000000</td>\n",
       "      <td>56.000000</td>\n",
       "      <td>999.000000</td>\n",
       "      <td>7.000000</td>\n",
       "    </tr>\n",
       "  </tbody>\n",
       "</table>\n",
       "</div>"
      ],
      "text/plain": [
       "                age      duration      campaign         pdays      previous\n",
       "count  32950.000000  32950.000000  32950.000000  32950.000000  32950.000000\n",
       "mean      40.014112    258.127466      2.560607    962.052413      0.174719\n",
       "std       10.403636    258.975917      2.752326    187.951096      0.499025\n",
       "min       17.000000      0.000000      1.000000      0.000000      0.000000\n",
       "25%       32.000000    103.000000      1.000000    999.000000      0.000000\n",
       "50%       38.000000    180.000000      2.000000    999.000000      0.000000\n",
       "75%       47.000000    319.000000      3.000000    999.000000      0.000000\n",
       "max       98.000000   4918.000000     56.000000    999.000000      7.000000"
      ]
     },
     "execution_count": 21,
     "metadata": {},
     "output_type": "execute_result"
    }
   ],
   "source": [
    "df.describe(include='int64')"
   ]
  },
  {
   "cell_type": "code",
   "execution_count": 22,
   "id": "c848ac1e",
   "metadata": {
    "colab": {
     "base_uri": "https://localhost:8080/",
     "height": 175
    },
    "executionInfo": {
     "elapsed": 84,
     "status": "ok",
     "timestamp": 1648238383651,
     "user": {
      "displayName": "Lucas Corrêa",
      "photoUrl": "https://lh3.googleusercontent.com/a-/AOh14GisY0qwao15rHuS26LDzUnF0aQ1vSCtYm7fBnED6fk=s64",
      "userId": "06320273670240218623"
     },
     "user_tz": 180
    },
    "id": "c848ac1e",
    "outputId": "5f371543-ed61-451d-d9bc-d56335e50eb9"
   },
   "outputs": [
    {
     "data": {
      "text/html": [
       "<div>\n",
       "<style scoped>\n",
       "    .dataframe tbody tr th:only-of-type {\n",
       "        vertical-align: middle;\n",
       "    }\n",
       "\n",
       "    .dataframe tbody tr th {\n",
       "        vertical-align: top;\n",
       "    }\n",
       "\n",
       "    .dataframe thead th {\n",
       "        text-align: right;\n",
       "    }\n",
       "</style>\n",
       "<table border=\"1\" class=\"dataframe\">\n",
       "  <thead>\n",
       "    <tr style=\"text-align: right;\">\n",
       "      <th></th>\n",
       "      <th>job</th>\n",
       "      <th>marital</th>\n",
       "      <th>education</th>\n",
       "      <th>default</th>\n",
       "      <th>housing</th>\n",
       "      <th>loan</th>\n",
       "      <th>contact</th>\n",
       "      <th>month</th>\n",
       "      <th>day_of_week</th>\n",
       "      <th>poutcome</th>\n",
       "      <th>y</th>\n",
       "    </tr>\n",
       "  </thead>\n",
       "  <tbody>\n",
       "    <tr>\n",
       "      <th>count</th>\n",
       "      <td>32950</td>\n",
       "      <td>32950</td>\n",
       "      <td>32950</td>\n",
       "      <td>32950</td>\n",
       "      <td>32950</td>\n",
       "      <td>32950</td>\n",
       "      <td>32950</td>\n",
       "      <td>32950</td>\n",
       "      <td>32950</td>\n",
       "      <td>32950</td>\n",
       "      <td>32950</td>\n",
       "    </tr>\n",
       "    <tr>\n",
       "      <th>unique</th>\n",
       "      <td>12</td>\n",
       "      <td>4</td>\n",
       "      <td>8</td>\n",
       "      <td>3</td>\n",
       "      <td>3</td>\n",
       "      <td>3</td>\n",
       "      <td>2</td>\n",
       "      <td>10</td>\n",
       "      <td>5</td>\n",
       "      <td>3</td>\n",
       "      <td>2</td>\n",
       "    </tr>\n",
       "    <tr>\n",
       "      <th>top</th>\n",
       "      <td>admin.</td>\n",
       "      <td>married</td>\n",
       "      <td>university.degree</td>\n",
       "      <td>no</td>\n",
       "      <td>yes</td>\n",
       "      <td>no</td>\n",
       "      <td>cellular</td>\n",
       "      <td>may</td>\n",
       "      <td>thu</td>\n",
       "      <td>nonexistent</td>\n",
       "      <td>no</td>\n",
       "    </tr>\n",
       "    <tr>\n",
       "      <th>freq</th>\n",
       "      <td>8314</td>\n",
       "      <td>19953</td>\n",
       "      <td>9736</td>\n",
       "      <td>26007</td>\n",
       "      <td>17254</td>\n",
       "      <td>27131</td>\n",
       "      <td>20908</td>\n",
       "      <td>11011</td>\n",
       "      <td>6857</td>\n",
       "      <td>28416</td>\n",
       "      <td>29238</td>\n",
       "    </tr>\n",
       "  </tbody>\n",
       "</table>\n",
       "</div>"
      ],
      "text/plain": [
       "           job  marital          education default housing   loan   contact  \\\n",
       "count    32950    32950              32950   32950   32950  32950     32950   \n",
       "unique      12        4                  8       3       3      3         2   \n",
       "top     admin.  married  university.degree      no     yes     no  cellular   \n",
       "freq      8314    19953               9736   26007   17254  27131     20908   \n",
       "\n",
       "        month day_of_week     poutcome      y  \n",
       "count   32950       32950        32950  32950  \n",
       "unique     10           5            3      2  \n",
       "top       may         thu  nonexistent     no  \n",
       "freq    11011        6857        28416  29238  "
      ]
     },
     "execution_count": 22,
     "metadata": {},
     "output_type": "execute_result"
    }
   ],
   "source": [
    "df.describe(include='object')"
   ]
  },
  {
   "cell_type": "markdown",
   "id": "61398b78",
   "metadata": {
    "id": "61398b78"
   },
   "source": [
    "### Análise de missings"
   ]
  },
  {
   "cell_type": "code",
   "execution_count": 23,
   "id": "7fc23ffa",
   "metadata": {
    "colab": {
     "base_uri": "https://localhost:8080/"
    },
    "executionInfo": {
     "elapsed": 84,
     "status": "ok",
     "timestamp": 1648238383652,
     "user": {
      "displayName": "Lucas Corrêa",
      "photoUrl": "https://lh3.googleusercontent.com/a-/AOh14GisY0qwao15rHuS26LDzUnF0aQ1vSCtYm7fBnED6fk=s64",
      "userId": "06320273670240218623"
     },
     "user_tz": 180
    },
    "id": "7fc23ffa",
    "outputId": "e61e6d92-ac41-4754-b1e1-cc08409854d4"
   },
   "outputs": [
    {
     "data": {
      "text/plain": [
       "age            0\n",
       "job            0\n",
       "marital        0\n",
       "education      0\n",
       "default        0\n",
       "housing        0\n",
       "loan           0\n",
       "contact        0\n",
       "month          0\n",
       "day_of_week    0\n",
       "duration       0\n",
       "campaign       0\n",
       "pdays          0\n",
       "previous       0\n",
       "poutcome       0\n",
       "y              0\n",
       "dtype: int64"
      ]
     },
     "execution_count": 23,
     "metadata": {},
     "output_type": "execute_result"
    }
   ],
   "source": [
    "df.isnull().sum()"
   ]
  },
  {
   "cell_type": "markdown",
   "id": "5bd6a050",
   "metadata": {
    "id": "5bd6a050"
   },
   "source": [
    "### Tabela de Frequencia"
   ]
  },
  {
   "cell_type": "code",
   "execution_count": 24,
   "id": "617ff604",
   "metadata": {
    "colab": {
     "base_uri": "https://localhost:8080/"
    },
    "executionInfo": {
     "elapsed": 85,
     "status": "ok",
     "timestamp": 1648238383653,
     "user": {
      "displayName": "Lucas Corrêa",
      "photoUrl": "https://lh3.googleusercontent.com/a-/AOh14GisY0qwao15rHuS26LDzUnF0aQ1vSCtYm7fBnED6fk=s64",
      "userId": "06320273670240218623"
     },
     "user_tz": 180
    },
    "id": "617ff604",
    "outputId": "f27c737b-b267-43de-faf4-f4ba7a962080"
   },
   "outputs": [
    {
     "data": {
      "text/plain": [
       "nonexistent    28416\n",
       "failure         3429\n",
       "success         1105\n",
       "Name: poutcome, dtype: int64"
      ]
     },
     "execution_count": 24,
     "metadata": {},
     "output_type": "execute_result"
    }
   ],
   "source": [
    "df['poutcome'].value_counts()"
   ]
  },
  {
   "cell_type": "code",
   "execution_count": 25,
   "id": "45845531",
   "metadata": {
    "colab": {
     "base_uri": "https://localhost:8080/"
    },
    "executionInfo": {
     "elapsed": 85,
     "status": "ok",
     "timestamp": 1648238383654,
     "user": {
      "displayName": "Lucas Corrêa",
      "photoUrl": "https://lh3.googleusercontent.com/a-/AOh14GisY0qwao15rHuS26LDzUnF0aQ1vSCtYm7fBnED6fk=s64",
      "userId": "06320273670240218623"
     },
     "user_tz": 180
    },
    "id": "45845531",
    "outputId": "8c14d429-1196-450f-eb11-87b5a7c7a794"
   },
   "outputs": [
    {
     "data": {
      "text/plain": [
       "cellular     20908\n",
       "telephone    12042\n",
       "Name: contact, dtype: int64"
      ]
     },
     "execution_count": 25,
     "metadata": {},
     "output_type": "execute_result"
    }
   ],
   "source": [
    "df['contact'].value_counts()"
   ]
  },
  {
   "cell_type": "code",
   "execution_count": 27,
   "id": "bfe79ae3",
   "metadata": {
    "colab": {
     "base_uri": "https://localhost:8080/",
     "height": 376
    },
    "executionInfo": {
     "elapsed": 85,
     "status": "ok",
     "timestamp": 1648238383655,
     "user": {
      "displayName": "Lucas Corrêa",
      "photoUrl": "https://lh3.googleusercontent.com/a-/AOh14GisY0qwao15rHuS26LDzUnF0aQ1vSCtYm7fBnED6fk=s64",
      "userId": "06320273670240218623"
     },
     "user_tz": 180
    },
    "id": "bfe79ae3",
    "outputId": "be927fa3-1e6d-4c10-cc30-2b1b828962d4"
   },
   "outputs": [
    {
     "data": {
      "image/png": "[encoded data removed]",
      "text/plain": [
       "<Figure size 600x400 with 1 Axes>"
      ]
     },
     "metadata": {},
     "output_type": "display_data"
    }
   ],
   "source": [
    "df['age'].value_counts().hist();"
   ]
  },
  {
   "cell_type": "code",
   "execution_count": 28,
   "id": "5680bf9d",
   "metadata": {
    "colab": {
     "base_uri": "https://localhost:8080/",
     "height": 363
    },
    "executionInfo": {
     "elapsed": 82,
     "status": "ok",
     "timestamp": 1648238383656,
     "user": {
      "displayName": "Lucas Corrêa",
      "photoUrl": "https://lh3.googleusercontent.com/a-/AOh14GisY0qwao15rHuS26LDzUnF0aQ1vSCtYm7fBnED6fk=s64",
      "userId": "06320273670240218623"
     },
     "user_tz": 180
    },
    "id": "5680bf9d",
    "outputId": "6295f9a0-03b5-4721-ffbe-488475fc241a",
    "scrolled": true
   },
   "outputs": [
    {
     "data": {
      "text/html": [
       "<div>\n",
       "<style scoped>\n",
       "    .dataframe tbody tr th:only-of-type {\n",
       "        vertical-align: middle;\n",
       "    }\n",
       "\n",
       "    .dataframe tbody tr th {\n",
       "        vertical-align: top;\n",
       "    }\n",
       "\n",
       "    .dataframe thead th {\n",
       "        text-align: right;\n",
       "    }\n",
       "</style>\n",
       "<table border=\"1\" class=\"dataframe\">\n",
       "  <thead>\n",
       "    <tr style=\"text-align: right;\">\n",
       "      <th>y</th>\n",
       "      <th>no</th>\n",
       "      <th>yes</th>\n",
       "      <th>All</th>\n",
       "    </tr>\n",
       "    <tr>\n",
       "      <th>previous</th>\n",
       "      <th></th>\n",
       "      <th></th>\n",
       "      <th></th>\n",
       "    </tr>\n",
       "  </thead>\n",
       "  <tbody>\n",
       "    <tr>\n",
       "      <th>0</th>\n",
       "      <td>25915</td>\n",
       "      <td>2501</td>\n",
       "      <td>28416</td>\n",
       "    </tr>\n",
       "    <tr>\n",
       "      <th>1</th>\n",
       "      <td>2889</td>\n",
       "      <td>784</td>\n",
       "      <td>3673</td>\n",
       "    </tr>\n",
       "    <tr>\n",
       "      <th>2</th>\n",
       "      <td>324</td>\n",
       "      <td>282</td>\n",
       "      <td>606</td>\n",
       "    </tr>\n",
       "    <tr>\n",
       "      <th>3</th>\n",
       "      <td>74</td>\n",
       "      <td>101</td>\n",
       "      <td>175</td>\n",
       "    </tr>\n",
       "    <tr>\n",
       "      <th>4</th>\n",
       "      <td>29</td>\n",
       "      <td>31</td>\n",
       "      <td>60</td>\n",
       "    </tr>\n",
       "    <tr>\n",
       "      <th>5</th>\n",
       "      <td>4</td>\n",
       "      <td>10</td>\n",
       "      <td>14</td>\n",
       "    </tr>\n",
       "    <tr>\n",
       "      <th>6</th>\n",
       "      <td>2</td>\n",
       "      <td>3</td>\n",
       "      <td>5</td>\n",
       "    </tr>\n",
       "    <tr>\n",
       "      <th>7</th>\n",
       "      <td>1</td>\n",
       "      <td>0</td>\n",
       "      <td>1</td>\n",
       "    </tr>\n",
       "    <tr>\n",
       "      <th>All</th>\n",
       "      <td>29238</td>\n",
       "      <td>3712</td>\n",
       "      <td>32950</td>\n",
       "    </tr>\n",
       "  </tbody>\n",
       "</table>\n",
       "</div>"
      ],
      "text/plain": [
       "y            no   yes    All\n",
       "previous                    \n",
       "0         25915  2501  28416\n",
       "1          2889   784   3673\n",
       "2           324   282    606\n",
       "3            74   101    175\n",
       "4            29    31     60\n",
       "5             4    10     14\n",
       "6             2     3      5\n",
       "7             1     0      1\n",
       "All       29238  3712  32950"
      ]
     },
     "execution_count": 28,
     "metadata": {},
     "output_type": "execute_result"
    }
   ],
   "source": [
    "prev_y = pd.crosstab(index=df[\"previous\"], columns=df[\"y\"],margins=True)\n",
    "prev_y"
   ]
  },
  {
   "cell_type": "code",
   "execution_count": 29,
   "id": "9e8f981b",
   "metadata": {
    "colab": {
     "base_uri": "https://localhost:8080/",
     "height": 488
    },
    "executionInfo": {
     "elapsed": 81,
     "status": "ok",
     "timestamp": 1648238383656,
     "user": {
      "displayName": "Lucas Corrêa",
      "photoUrl": "https://lh3.googleusercontent.com/a-/AOh14GisY0qwao15rHuS26LDzUnF0aQ1vSCtYm7fBnED6fk=s64",
      "userId": "06320273670240218623"
     },
     "user_tz": 180
    },
    "id": "9e8f981b",
    "outputId": "c419a2e2-54b8-4965-cf41-f3c01320f951"
   },
   "outputs": [
    {
     "data": {
      "text/html": [
       "<div>\n",
       "<style scoped>\n",
       "    .dataframe tbody tr th:only-of-type {\n",
       "        vertical-align: middle;\n",
       "    }\n",
       "\n",
       "    .dataframe tbody tr th {\n",
       "        vertical-align: top;\n",
       "    }\n",
       "\n",
       "    .dataframe thead th {\n",
       "        text-align: right;\n",
       "    }\n",
       "</style>\n",
       "<table border=\"1\" class=\"dataframe\">\n",
       "  <thead>\n",
       "    <tr style=\"text-align: right;\">\n",
       "      <th>y</th>\n",
       "      <th>no</th>\n",
       "      <th>yes</th>\n",
       "      <th>All</th>\n",
       "    </tr>\n",
       "    <tr>\n",
       "      <th>job</th>\n",
       "      <th></th>\n",
       "      <th></th>\n",
       "      <th></th>\n",
       "    </tr>\n",
       "  </thead>\n",
       "  <tbody>\n",
       "    <tr>\n",
       "      <th>admin.</th>\n",
       "      <td>7244</td>\n",
       "      <td>1070</td>\n",
       "      <td>8314</td>\n",
       "    </tr>\n",
       "    <tr>\n",
       "      <th>blue-collar</th>\n",
       "      <td>6926</td>\n",
       "      <td>515</td>\n",
       "      <td>7441</td>\n",
       "    </tr>\n",
       "    <tr>\n",
       "      <th>entrepreneur</th>\n",
       "      <td>1060</td>\n",
       "      <td>100</td>\n",
       "      <td>1160</td>\n",
       "    </tr>\n",
       "    <tr>\n",
       "      <th>housemaid</th>\n",
       "      <td>769</td>\n",
       "      <td>86</td>\n",
       "      <td>855</td>\n",
       "    </tr>\n",
       "    <tr>\n",
       "      <th>management</th>\n",
       "      <td>2076</td>\n",
       "      <td>269</td>\n",
       "      <td>2345</td>\n",
       "    </tr>\n",
       "    <tr>\n",
       "      <th>retired</th>\n",
       "      <td>1018</td>\n",
       "      <td>348</td>\n",
       "      <td>1366</td>\n",
       "    </tr>\n",
       "    <tr>\n",
       "      <th>self-employed</th>\n",
       "      <td>980</td>\n",
       "      <td>119</td>\n",
       "      <td>1099</td>\n",
       "    </tr>\n",
       "    <tr>\n",
       "      <th>services</th>\n",
       "      <td>2942</td>\n",
       "      <td>254</td>\n",
       "      <td>3196</td>\n",
       "    </tr>\n",
       "    <tr>\n",
       "      <th>student</th>\n",
       "      <td>494</td>\n",
       "      <td>217</td>\n",
       "      <td>711</td>\n",
       "    </tr>\n",
       "    <tr>\n",
       "      <th>technician</th>\n",
       "      <td>4815</td>\n",
       "      <td>585</td>\n",
       "      <td>5400</td>\n",
       "    </tr>\n",
       "    <tr>\n",
       "      <th>unemployed</th>\n",
       "      <td>682</td>\n",
       "      <td>116</td>\n",
       "      <td>798</td>\n",
       "    </tr>\n",
       "    <tr>\n",
       "      <th>unknown</th>\n",
       "      <td>232</td>\n",
       "      <td>33</td>\n",
       "      <td>265</td>\n",
       "    </tr>\n",
       "    <tr>\n",
       "      <th>All</th>\n",
       "      <td>29238</td>\n",
       "      <td>3712</td>\n",
       "      <td>32950</td>\n",
       "    </tr>\n",
       "  </tbody>\n",
       "</table>\n",
       "</div>"
      ],
      "text/plain": [
       "y                 no   yes    All\n",
       "job                              \n",
       "admin.          7244  1070   8314\n",
       "blue-collar     6926   515   7441\n",
       "entrepreneur    1060   100   1160\n",
       "housemaid        769    86    855\n",
       "management      2076   269   2345\n",
       "retired         1018   348   1366\n",
       "self-employed    980   119   1099\n",
       "services        2942   254   3196\n",
       "student          494   217    711\n",
       "technician      4815   585   5400\n",
       "unemployed       682   116    798\n",
       "unknown          232    33    265\n",
       "All            29238  3712  32950"
      ]
     },
     "execution_count": 29,
     "metadata": {},
     "output_type": "execute_result"
    }
   ],
   "source": [
    "job_y = pd.crosstab(index=df[\"job\"], columns=df[\"y\"],margins=True)\n",
    "job_y"
   ]
  },
  {
   "cell_type": "markdown",
   "id": "29be5380",
   "metadata": {
    "id": "29be5380"
   },
   "source": [
    "### Histograma"
   ]
  },
  {
   "cell_type": "code",
   "execution_count": 30,
   "id": "48b260a7",
   "metadata": {
    "colab": {
     "base_uri": "https://localhost:8080/"
    },
    "executionInfo": {
     "elapsed": 80,
     "status": "ok",
     "timestamp": 1648238383656,
     "user": {
      "displayName": "Lucas Corrêa",
      "photoUrl": "https://lh3.googleusercontent.com/a-/AOh14GisY0qwao15rHuS26LDzUnF0aQ1vSCtYm7fBnED6fk=s64",
      "userId": "06320273670240218623"
     },
     "user_tz": 180
    },
    "id": "48b260a7",
    "outputId": "a377e03d-0c14-4006-cc7c-c77e0e2d28a1"
   },
   "outputs": [
    {
     "data": {
      "text/plain": [
       "age             int64\n",
       "job            object\n",
       "marital        object\n",
       "education      object\n",
       "default        object\n",
       "housing        object\n",
       "loan           object\n",
       "contact        object\n",
       "month          object\n",
       "day_of_week    object\n",
       "duration        int64\n",
       "campaign        int64\n",
       "pdays           int64\n",
       "previous        int64\n",
       "poutcome       object\n",
       "y              object\n",
       "dtype: object"
      ]
     },
     "execution_count": 30,
     "metadata": {},
     "output_type": "execute_result"
    }
   ],
   "source": [
    "df.dtypes"
   ]
  },
  {
   "cell_type": "code",
   "execution_count": 33,
   "id": "952db3df",
   "metadata": {
    "colab": {
     "base_uri": "https://localhost:8080/",
     "height": 396
    },
    "executionInfo": {
     "elapsed": 81,
     "status": "ok",
     "timestamp": 1648238383657,
     "user": {
      "displayName": "Lucas Corrêa",
      "photoUrl": "https://lh3.googleusercontent.com/a-/AOh14GisY0qwao15rHuS26LDzUnF0aQ1vSCtYm7fBnED6fk=s64",
      "userId": "06320273670240218623"
     },
     "user_tz": 180
    },
    "id": "952db3df",
    "outputId": "35facf36-8ea3-4c7a-a97f-09c17a85d54e"
   },
   "outputs": [
    {
     "data": {
      "image/png": "[encoded data removed]",
      "text/plain": [
       "<Figure size 600x400 with 1 Axes>"
      ]
     },
     "metadata": {},
     "output_type": "display_data"
    }
   ],
   "source": [
    "sns.histplot(data=df, x=\"pdays\");"
   ]
  },
  {
   "cell_type": "code",
   "execution_count": 34,
   "id": "edad456f",
   "metadata": {
    "colab": {
     "base_uri": "https://localhost:8080/",
     "height": 396
    },
    "executionInfo": {
     "elapsed": 80,
     "status": "ok",
     "timestamp": 1648238383657,
     "user": {
      "displayName": "Lucas Corrêa",
      "photoUrl": "https://lh3.googleusercontent.com/a-/AOh14GisY0qwao15rHuS26LDzUnF0aQ1vSCtYm7fBnED6fk=s64",
      "userId": "06320273670240218623"
     },
     "user_tz": 180
    },
    "id": "edad456f",
    "outputId": "050d5147-114a-444e-c6b8-aab50f3a5dcc"
   },
   "outputs": [
    {
     "data": {
      "image/png": "[encoded data removed]",
      "text/plain": [
       "<Figure size 600x400 with 1 Axes>"
      ]
     },
     "metadata": {},
     "output_type": "display_data"
    }
   ],
   "source": [
    "sns.histplot(data=df, x=\"duration\");"
   ]
  },
  {
   "cell_type": "code",
   "execution_count": 35,
   "id": "25fd74aa",
   "metadata": {
    "colab": {
     "base_uri": "https://localhost:8080/"
    },
    "executionInfo": {
     "elapsed": 78,
     "status": "ok",
     "timestamp": 1648238383657,
     "user": {
      "displayName": "Lucas Corrêa",
      "photoUrl": "https://lh3.googleusercontent.com/a-/AOh14GisY0qwao15rHuS26LDzUnF0aQ1vSCtYm7fBnED6fk=s64",
      "userId": "06320273670240218623"
     },
     "user_tz": 180
    },
    "id": "25fd74aa",
    "outputId": "f019c1e8-025c-4055-98b2-4656af4c3e43"
   },
   "outputs": [
    {
     "data": {
      "text/plain": [
       "count    32950.000000\n",
       "mean       258.127466\n",
       "std        258.975917\n",
       "min          0.000000\n",
       "25%        103.000000\n",
       "50%        180.000000\n",
       "75%        319.000000\n",
       "max       4918.000000\n",
       "Name: duration, dtype: float64"
      ]
     },
     "execution_count": 35,
     "metadata": {},
     "output_type": "execute_result"
    }
   ],
   "source": [
    "df['duration'].describe()"
   ]
  },
  {
   "cell_type": "code",
   "execution_count": 36,
   "id": "b04ebf89",
   "metadata": {
    "colab": {
     "base_uri": "https://localhost:8080/"
    },
    "executionInfo": {
     "elapsed": 79,
     "status": "ok",
     "timestamp": 1648238383658,
     "user": {
      "displayName": "Lucas Corrêa",
      "photoUrl": "https://lh3.googleusercontent.com/a-/AOh14GisY0qwao15rHuS26LDzUnF0aQ1vSCtYm7fBnED6fk=s64",
      "userId": "06320273670240218623"
     },
     "user_tz": 180
    },
    "id": "b04ebf89",
    "outputId": "24000c17-76e4-435e-ca26-f0a40ddee638"
   },
   "outputs": [
    {
     "data": {
      "text/plain": [
       "180.0"
      ]
     },
     "execution_count": 36,
     "metadata": {},
     "output_type": "execute_result"
    }
   ],
   "source": [
    "df['duration'].median()"
   ]
  },
  {
   "cell_type": "code",
   "execution_count": 37,
   "id": "c4ec7b81",
   "metadata": {
    "colab": {
     "base_uri": "https://localhost:8080/"
    },
    "executionInfo": {
     "elapsed": 78,
     "status": "ok",
     "timestamp": 1648238383658,
     "user": {
      "displayName": "Lucas Corrêa",
      "photoUrl": "https://lh3.googleusercontent.com/a-/AOh14GisY0qwao15rHuS26LDzUnF0aQ1vSCtYm7fBnED6fk=s64",
      "userId": "06320273670240218623"
     },
     "user_tz": 180
    },
    "id": "c4ec7b81",
    "outputId": "fd165a7d-0ce4-4f1a-a6f9-0fd232e657e0"
   },
   "outputs": [
    {
     "data": {
      "text/plain": [
       "0    90\n",
       "dtype: int64"
      ]
     },
     "execution_count": 37,
     "metadata": {},
     "output_type": "execute_result"
    }
   ],
   "source": [
    "df['duration'].mode()"
   ]
  },
  {
   "cell_type": "code",
   "execution_count": 38,
   "id": "42271ba4",
   "metadata": {
    "colab": {
     "base_uri": "https://localhost:8080/",
     "height": 396
    },
    "executionInfo": {
     "elapsed": 79,
     "status": "ok",
     "timestamp": 1648238383659,
     "user": {
      "displayName": "Lucas Corrêa",
      "photoUrl": "https://lh3.googleusercontent.com/a-/AOh14GisY0qwao15rHuS26LDzUnF0aQ1vSCtYm7fBnED6fk=s64",
      "userId": "06320273670240218623"
     },
     "user_tz": 180
    },
    "id": "42271ba4",
    "outputId": "917a9a07-c696-41fa-af97-3f0c27a76f5e"
   },
   "outputs": [
    {
     "data": {
      "image/png": "[encoded data removed]",
      "text/plain": [
       "<Figure size 600x400 with 1 Axes>"
      ]
     },
     "metadata": {},
     "output_type": "display_data"
    }
   ],
   "source": [
    "sns.histplot(data=df, x=\"campaign\");"
   ]
  },
  {
   "cell_type": "markdown",
   "id": "99f75cce",
   "metadata": {
    "id": "99f75cce"
   },
   "source": [
    "### Boxplot"
   ]
  },
  {
   "cell_type": "code",
   "execution_count": 39,
   "id": "65f49d52",
   "metadata": {
    "colab": {
     "base_uri": "https://localhost:8080/",
     "height": 396
    },
    "executionInfo": {
     "elapsed": 78,
     "status": "ok",
     "timestamp": 1648238383659,
     "user": {
      "displayName": "Lucas Corrêa",
      "photoUrl": "https://lh3.googleusercontent.com/a-/AOh14GisY0qwao15rHuS26LDzUnF0aQ1vSCtYm7fBnED6fk=s64",
      "userId": "06320273670240218623"
     },
     "user_tz": 180
    },
    "id": "65f49d52",
    "outputId": "560cfd95-d613-4446-987d-7ee3f33469ca"
   },
   "outputs": [
    {
     "data": {
      "image/png": "[encoded data removed]",
      "text/plain": [
       "<Figure size 600x400 with 1 Axes>"
      ]
     },
     "metadata": {},
     "output_type": "display_data"
    }
   ],
   "source": [
    "sns.boxplot(x=df[\"campaign\"]);"
   ]
  },
  {
   "cell_type": "code",
   "execution_count": 40,
   "id": "84d0cd69",
   "metadata": {
    "colab": {
     "base_uri": "https://localhost:8080/"
    },
    "executionInfo": {
     "elapsed": 78,
     "status": "ok",
     "timestamp": 1648238383660,
     "user": {
      "displayName": "Lucas Corrêa",
      "photoUrl": "https://lh3.googleusercontent.com/a-/AOh14GisY0qwao15rHuS26LDzUnF0aQ1vSCtYm7fBnED6fk=s64",
      "userId": "06320273670240218623"
     },
     "user_tz": 180
    },
    "id": "84d0cd69",
    "outputId": "c33f8eee-4c3f-46af-f5f7-5f8f0137527b",
    "scrolled": true
   },
   "outputs": [
    {
     "data": {
      "text/plain": [
       "1     14121\n",
       "2      8469\n",
       "3      4300\n",
       "4      2116\n",
       "5      1255\n",
       "6       773\n",
       "7       493\n",
       "8       329\n",
       "9       220\n",
       "10      187\n",
       "11      142\n",
       "12       92\n",
       "13       74\n",
       "14       52\n",
       "17       51\n",
       "15       45\n",
       "16       42\n",
       "18       27\n",
       "20       22\n",
       "21       20\n",
       "19       16\n",
       "22       13\n",
       "24       12\n",
       "23       12\n",
       "27        9\n",
       "25        8\n",
       "26        7\n",
       "31        7\n",
       "29        7\n",
       "28        6\n",
       "30        6\n",
       "35        4\n",
       "33        3\n",
       "43        2\n",
       "32        2\n",
       "42        2\n",
       "34        1\n",
       "37        1\n",
       "40        1\n",
       "56        1\n",
       "Name: campaign, dtype: int64"
      ]
     },
     "execution_count": 40,
     "metadata": {},
     "output_type": "execute_result"
    }
   ],
   "source": [
    "df['campaign'].value_counts()"
   ]
  },
  {
   "cell_type": "code",
   "execution_count": 41,
   "id": "7eefe798",
   "metadata": {
    "colab": {
     "base_uri": "https://localhost:8080/",
     "height": 309
    },
    "executionInfo": {
     "elapsed": 1137,
     "status": "ok",
     "timestamp": 1648238533143,
     "user": {
      "displayName": "Lucas Corrêa",
      "photoUrl": "https://lh3.googleusercontent.com/a-/AOh14GisY0qwao15rHuS26LDzUnF0aQ1vSCtYm7fBnED6fk=s64",
      "userId": "06320273670240218623"
     },
     "user_tz": 180
    },
    "id": "7eefe798",
    "outputId": "baaf6e69-d1c6-4092-ce51-75eea3a8fe93"
   },
   "outputs": [
    {
     "data": {
      "image/png": "[encoded data removed]",
      "text/plain": [
       "<IPython.core.display.Image object>"
      ]
     },
     "execution_count": 41,
     "metadata": {},
     "output_type": "execute_result"
    }
   ],
   "source": [
    "display.Image(\"IQR.png\")"
   ]
  },
  {
   "cell_type": "markdown",
   "id": "3fe2ee1a",
   "metadata": {
    "id": "3fe2ee1a"
   },
   "source": [
    "### Gráfico de Dispersão"
   ]
  },
  {
   "cell_type": "code",
   "execution_count": 42,
   "id": "bc918f83",
   "metadata": {
    "colab": {
     "base_uri": "https://localhost:8080/"
    },
    "executionInfo": {
     "elapsed": 9,
     "status": "ok",
     "timestamp": 1648238536479,
     "user": {
      "displayName": "Lucas Corrêa",
      "photoUrl": "https://lh3.googleusercontent.com/a-/AOh14GisY0qwao15rHuS26LDzUnF0aQ1vSCtYm7fBnED6fk=s64",
      "userId": "06320273670240218623"
     },
     "user_tz": 180
    },
    "id": "bc918f83",
    "outputId": "f4a5c58b-bfcc-46ad-87a3-fce630c8012b"
   },
   "outputs": [
    {
     "data": {
      "text/plain": [
       "age             int64\n",
       "job            object\n",
       "marital        object\n",
       "education      object\n",
       "default        object\n",
       "housing        object\n",
       "loan           object\n",
       "contact        object\n",
       "month          object\n",
       "day_of_week    object\n",
       "duration        int64\n",
       "campaign        int64\n",
       "pdays           int64\n",
       "previous        int64\n",
       "poutcome       object\n",
       "y              object\n",
       "dtype: object"
      ]
     },
     "execution_count": 42,
     "metadata": {},
     "output_type": "execute_result"
    }
   ],
   "source": [
    "df.dtypes"
   ]
  },
  {
   "cell_type": "code",
   "execution_count": 44,
   "id": "dedab602",
   "metadata": {
    "colab": {
     "base_uri": "https://localhost:8080/",
     "height": 396
    },
    "executionInfo": {
     "elapsed": 946,
     "status": "ok",
     "timestamp": 1648238537944,
     "user": {
      "displayName": "Lucas Corrêa",
      "photoUrl": "https://lh3.googleusercontent.com/a-/AOh14GisY0qwao15rHuS26LDzUnF0aQ1vSCtYm7fBnED6fk=s64",
      "userId": "06320273670240218623"
     },
     "user_tz": 180
    },
    "id": "dedab602",
    "outputId": "bdae1151-94a4-4318-e8e4-5a011a93746d"
   },
   "outputs": [
    {
     "data": {
      "image/png": "[encoded data removed]",
      "text/plain": [
       "<Figure size 600x400 with 1 Axes>"
      ]
     },
     "metadata": {},
     "output_type": "display_data"
    }
   ],
   "source": [
    "sns.scatterplot(data=df, x=\"campaign\", y=\"duration\");"
   ]
  },
  {
   "cell_type": "code",
   "execution_count": 45,
   "id": "7ad8ebca",
   "metadata": {
    "colab": {
     "base_uri": "https://localhost:8080/",
     "height": 396
    },
    "executionInfo": {
     "elapsed": 12,
     "status": "ok",
     "timestamp": 1648238537945,
     "user": {
      "displayName": "Lucas Corrêa",
      "photoUrl": "https://lh3.googleusercontent.com/a-/AOh14GisY0qwao15rHuS26LDzUnF0aQ1vSCtYm7fBnED6fk=s64",
      "userId": "06320273670240218623"
     },
     "user_tz": 180
    },
    "id": "7ad8ebca",
    "outputId": "6c0c86fe-5d9d-47b2-cc5f-28e64db402d0"
   },
   "outputs": [
    {
     "data": {
      "image/png": "[encoded data removed]",
      "text/plain": [
       "<Figure size 600x400 with 1 Axes>"
      ]
     },
     "metadata": {},
     "output_type": "display_data"
    }
   ],
   "source": [
    "sns.scatterplot(data=df, x=\"pdays\", y=\"duration\");"
   ]
  },
  {
   "cell_type": "markdown",
   "id": "48780b7d",
   "metadata": {
    "id": "48780b7d"
   },
   "source": [
    "### Correlações"
   ]
  },
  {
   "cell_type": "code",
   "execution_count": 46,
   "id": "469b58b4",
   "metadata": {
    "colab": {
     "base_uri": "https://localhost:8080/",
     "height": 206
    },
    "executionInfo": {
     "elapsed": 10,
     "status": "ok",
     "timestamp": 1648238537946,
     "user": {
      "displayName": "Lucas Corrêa",
      "photoUrl": "https://lh3.googleusercontent.com/a-/AOh14GisY0qwao15rHuS26LDzUnF0aQ1vSCtYm7fBnED6fk=s64",
      "userId": "06320273670240218623"
     },
     "user_tz": 180
    },
    "id": "469b58b4",
    "outputId": "9ca76ea1-2f48-403c-8ef6-637de3c5344d"
   },
   "outputs": [
    {
     "data": {
      "text/html": [
       "<div>\n",
       "<style scoped>\n",
       "    .dataframe tbody tr th:only-of-type {\n",
       "        vertical-align: middle;\n",
       "    }\n",
       "\n",
       "    .dataframe tbody tr th {\n",
       "        vertical-align: top;\n",
       "    }\n",
       "\n",
       "    .dataframe thead th {\n",
       "        text-align: right;\n",
       "    }\n",
       "</style>\n",
       "<table border=\"1\" class=\"dataframe\">\n",
       "  <thead>\n",
       "    <tr style=\"text-align: right;\">\n",
       "      <th></th>\n",
       "      <th>age</th>\n",
       "      <th>duration</th>\n",
       "      <th>campaign</th>\n",
       "      <th>pdays</th>\n",
       "      <th>previous</th>\n",
       "    </tr>\n",
       "  </thead>\n",
       "  <tbody>\n",
       "    <tr>\n",
       "      <th>age</th>\n",
       "      <td>1.000000</td>\n",
       "      <td>-0.001841</td>\n",
       "      <td>0.003302</td>\n",
       "      <td>-0.032011</td>\n",
       "      <td>0.020670</td>\n",
       "    </tr>\n",
       "    <tr>\n",
       "      <th>duration</th>\n",
       "      <td>-0.001841</td>\n",
       "      <td>1.000000</td>\n",
       "      <td>-0.075663</td>\n",
       "      <td>-0.047127</td>\n",
       "      <td>0.022538</td>\n",
       "    </tr>\n",
       "    <tr>\n",
       "      <th>campaign</th>\n",
       "      <td>0.003302</td>\n",
       "      <td>-0.075663</td>\n",
       "      <td>1.000000</td>\n",
       "      <td>0.053795</td>\n",
       "      <td>-0.079051</td>\n",
       "    </tr>\n",
       "    <tr>\n",
       "      <th>pdays</th>\n",
       "      <td>-0.032011</td>\n",
       "      <td>-0.047127</td>\n",
       "      <td>0.053795</td>\n",
       "      <td>1.000000</td>\n",
       "      <td>-0.589601</td>\n",
       "    </tr>\n",
       "    <tr>\n",
       "      <th>previous</th>\n",
       "      <td>0.020670</td>\n",
       "      <td>0.022538</td>\n",
       "      <td>-0.079051</td>\n",
       "      <td>-0.589601</td>\n",
       "      <td>1.000000</td>\n",
       "    </tr>\n",
       "  </tbody>\n",
       "</table>\n",
       "</div>"
      ],
      "text/plain": [
       "               age  duration  campaign     pdays  previous\n",
       "age       1.000000 -0.001841  0.003302 -0.032011  0.020670\n",
       "duration -0.001841  1.000000 -0.075663 -0.047127  0.022538\n",
       "campaign  0.003302 -0.075663  1.000000  0.053795 -0.079051\n",
       "pdays    -0.032011 -0.047127  0.053795  1.000000 -0.589601\n",
       "previous  0.020670  0.022538 -0.079051 -0.589601  1.000000"
      ]
     },
     "execution_count": 46,
     "metadata": {},
     "output_type": "execute_result"
    }
   ],
   "source": [
    "df.corr()"
   ]
  },
  {
   "cell_type": "code",
   "execution_count": 47,
   "id": "a2e191ef",
   "metadata": {
    "colab": {
     "base_uri": "https://localhost:8080/",
     "height": 380
    },
    "executionInfo": {
     "elapsed": 8,
     "status": "ok",
     "timestamp": 1648238538758,
     "user": {
      "displayName": "Lucas Corrêa",
      "photoUrl": "https://lh3.googleusercontent.com/a-/AOh14GisY0qwao15rHuS26LDzUnF0aQ1vSCtYm7fBnED6fk=s64",
      "userId": "06320273670240218623"
     },
     "user_tz": 180
    },
    "id": "a2e191ef",
    "outputId": "d575115f-fac3-443b-e186-a4aef3df1cfb"
   },
   "outputs": [
    {
     "data": {
      "image/png": "[encoded data removed]",
      "text/plain": [
       "<Figure size 600x400 with 2 Axes>"
      ]
     },
     "metadata": {},
     "output_type": "display_data"
    }
   ],
   "source": [
    "sns.heatmap(df.corr(), annot=True, fmt=\"f\");"
   ]
  },
  {
   "cell_type": "markdown",
   "id": "7f8cecef",
   "metadata": {
    "id": "7f8cecef"
   },
   "source": [
    "### Plot de variáveis categóricas"
   ]
  },
  {
   "cell_type": "code",
   "execution_count": 48,
   "id": "45e4d30f",
   "metadata": {
    "colab": {
     "base_uri": "https://localhost:8080/",
     "height": 525
    },
    "executionInfo": {
     "elapsed": 601,
     "status": "ok",
     "timestamp": 1648238539353,
     "user": {
      "displayName": "Lucas Corrêa",
      "photoUrl": "https://lh3.googleusercontent.com/a-/AOh14GisY0qwao15rHuS26LDzUnF0aQ1vSCtYm7fBnED6fk=s64",
      "userId": "06320273670240218623"
     },
     "user_tz": 180
    },
    "id": "45e4d30f",
    "outputId": "ab75bebe-e727-4d9f-ebec-606c7463a9c1"
   },
   "outputs": [
    {
     "data": {
      "image/png": "[encoded data removed]",
      "text/plain": [
       "<Figure size 500x500 with 1 Axes>"
      ]
     },
     "metadata": {},
     "output_type": "display_data"
    }
   ],
   "source": [
    "sns.catplot(x=\"duration\", y=\"y\", data=df);"
   ]
  },
  {
   "cell_type": "code",
   "execution_count": 49,
   "id": "40240212",
   "metadata": {
    "colab": {
     "base_uri": "https://localhost:8080/",
     "height": 525
    },
    "executionInfo": {
     "elapsed": 634,
     "status": "ok",
     "timestamp": 1648238539981,
     "user": {
      "displayName": "Lucas Corrêa",
      "photoUrl": "https://lh3.googleusercontent.com/a-/AOh14GisY0qwao15rHuS26LDzUnF0aQ1vSCtYm7fBnED6fk=s64",
      "userId": "06320273670240218623"
     },
     "user_tz": 180
    },
    "id": "40240212",
    "outputId": "d9b43d93-fe9f-4d7c-bf60-54066e5b080d"
   },
   "outputs": [
    {
     "data": {
      "image/png": "[encoded data removed]",
      "text/plain": [
       "<Figure size 500x500 with 1 Axes>"
      ]
     },
     "metadata": {},
     "output_type": "display_data"
    }
   ],
   "source": [
    "sns.catplot(x=\"campaign\", y=\"y\", data=df);"
   ]
  },
  {
   "cell_type": "code",
   "execution_count": 50,
   "id": "d2900ea9",
   "metadata": {
    "colab": {
     "base_uri": "https://localhost:8080/",
     "height": 525
    },
    "executionInfo": {
     "elapsed": 1021,
     "status": "ok",
     "timestamp": 1648238541000,
     "user": {
      "displayName": "Lucas Corrêa",
      "photoUrl": "https://lh3.googleusercontent.com/a-/AOh14GisY0qwao15rHuS26LDzUnF0aQ1vSCtYm7fBnED6fk=s64",
      "userId": "06320273670240218623"
     },
     "user_tz": 180
    },
    "id": "d2900ea9",
    "outputId": "47552ba9-017f-415d-d3e0-34dbba6b8b01"
   },
   "outputs": [
    {
     "data": {
      "image/png": "[encoded data removed]",
      "text/plain": [
       "<Figure size 500x500 with 1 Axes>"
      ]
     },
     "metadata": {},
     "output_type": "display_data"
    }
   ],
   "source": [
    "sns.catplot(x=\"age\", y=\"y\", data=df);"
   ]
  },
  {
   "cell_type": "markdown",
   "id": "824eb094",
   "metadata": {
    "id": "824eb094"
   },
   "source": [
    "### Análise Multivariada"
   ]
  },
  {
   "cell_type": "code",
   "execution_count": 51,
   "id": "ec9e4e24",
   "metadata": {
    "colab": {
     "base_uri": "https://localhost:8080/",
     "height": 506
    },
    "executionInfo": {
     "elapsed": 2970,
     "status": "ok",
     "timestamp": 1648238543967,
     "user": {
      "displayName": "Lucas Corrêa",
      "photoUrl": "https://lh3.googleusercontent.com/a-/AOh14GisY0qwao15rHuS26LDzUnF0aQ1vSCtYm7fBnED6fk=s64",
      "userId": "06320273670240218623"
     },
     "user_tz": 180
    },
    "id": "ec9e4e24",
    "outputId": "c8fce218-8988-422a-dfbf-db592ea6d92f"
   },
   "outputs": [
    {
     "data": {
      "image/png": "[encoded data removed]",
      "text/plain": [
       "<Figure size 571.375x500 with 1 Axes>"
      ]
     },
     "metadata": {},
     "output_type": "display_data"
    }
   ],
   "source": [
    "sns.relplot(x=\"age\", y=\"duration\", hue=\"y\", data=df);"
   ]
  },
  {
   "cell_type": "markdown",
   "id": "54385e88",
   "metadata": {
    "id": "54385e88"
   },
   "source": [
    "### Análise de Componentes Principais - PCA no contexto de Análise Multivariada"
   ]
  },
  {
   "cell_type": "code",
   "execution_count": 52,
   "id": "af40c42f",
   "metadata": {
    "id": "af40c42f"
   },
   "outputs": [],
   "source": [
    "from sklearn.preprocessing import StandardScaler\n",
    "from sklearn.decomposition import PCA"
   ]
  },
  {
   "cell_type": "code",
   "execution_count": 53,
   "id": "5c844533",
   "metadata": {
    "colab": {
     "base_uri": "https://localhost:8080/",
     "height": 551
    },
    "executionInfo": {
     "elapsed": 21,
     "status": "ok",
     "timestamp": 1648238543969,
     "user": {
      "displayName": "Lucas Corrêa",
      "photoUrl": "https://lh3.googleusercontent.com/a-/AOh14GisY0qwao15rHuS26LDzUnF0aQ1vSCtYm7fBnED6fk=s64",
      "userId": "06320273670240218623"
     },
     "user_tz": 180
    },
    "id": "5c844533",
    "outputId": "50665554-9120-4e00-8d2e-6bcd2c60b5aa"
   },
   "outputs": [
    {
     "data": {
      "text/html": [
       "<div>\n",
       "<style scoped>\n",
       "    .dataframe tbody tr th:only-of-type {\n",
       "        vertical-align: middle;\n",
       "    }\n",
       "\n",
       "    .dataframe tbody tr th {\n",
       "        vertical-align: top;\n",
       "    }\n",
       "\n",
       "    .dataframe thead th {\n",
       "        text-align: right;\n",
       "    }\n",
       "</style>\n",
       "<table border=\"1\" class=\"dataframe\">\n",
       "  <thead>\n",
       "    <tr style=\"text-align: right;\">\n",
       "      <th></th>\n",
       "      <th>Feature</th>\n",
       "      <th>Feature_Type</th>\n",
       "      <th>Description</th>\n",
       "    </tr>\n",
       "  </thead>\n",
       "  <tbody>\n",
       "    <tr>\n",
       "      <th>0</th>\n",
       "      <td>age</td>\n",
       "      <td>numeric</td>\n",
       "      <td>age of a person</td>\n",
       "    </tr>\n",
       "    <tr>\n",
       "      <th>1</th>\n",
       "      <td>job</td>\n",
       "      <td>Categorical,nominal</td>\n",
       "      <td>type of job ('admin.','blue-collar','entrepreneur','housemaid','management','retired','self-employed','services','student','technician','unemployed','unknown')</td>\n",
       "    </tr>\n",
       "    <tr>\n",
       "      <th>2</th>\n",
       "      <td>marital</td>\n",
       "      <td>categorical,nominal</td>\n",
       "      <td>marital status ('divorced','married','single','unknown'; note: 'divorced' means divorced or widowed)</td>\n",
       "    </tr>\n",
       "    <tr>\n",
       "      <th>3</th>\n",
       "      <td>education</td>\n",
       "      <td>categorical,nominal</td>\n",
       "      <td>('basic.4y','basic.6y','basic.9y','high.school','illiterate','professional.course','university.degree','unknown')</td>\n",
       "    </tr>\n",
       "    <tr>\n",
       "      <th>4</th>\n",
       "      <td>default</td>\n",
       "      <td>categorical,nominal</td>\n",
       "      <td>has credit in default? ('no','yes','unknown')</td>\n",
       "    </tr>\n",
       "    <tr>\n",
       "      <th>5</th>\n",
       "      <td>housing</td>\n",
       "      <td>categorical,nominal</td>\n",
       "      <td>has housing loan? ('no','yes','unknown')</td>\n",
       "    </tr>\n",
       "    <tr>\n",
       "      <th>6</th>\n",
       "      <td>loan</td>\n",
       "      <td>categorical,nominal</td>\n",
       "      <td>has personal loan? ('no','yes','unknown')</td>\n",
       "    </tr>\n",
       "    <tr>\n",
       "      <th>7</th>\n",
       "      <td>contact</td>\n",
       "      <td>categorical,nominal</td>\n",
       "      <td>contact communication type ('cellular','telephone')</td>\n",
       "    </tr>\n",
       "    <tr>\n",
       "      <th>8</th>\n",
       "      <td>month</td>\n",
       "      <td>categorical,ordinal</td>\n",
       "      <td>last contact month of year ('jan', 'feb', 'mar', …, 'nov', 'dec')</td>\n",
       "    </tr>\n",
       "    <tr>\n",
       "      <th>9</th>\n",
       "      <td>dayofweek</td>\n",
       "      <td>categorical,ordinal</td>\n",
       "      <td>last contact day of the week ('mon','tue','wed','thu','fri')</td>\n",
       "    </tr>\n",
       "    <tr>\n",
       "      <th>10</th>\n",
       "      <td>duration</td>\n",
       "      <td>numeric</td>\n",
       "      <td>last contact duration, in seconds . Important note: this attribute highly affects the output target (e.g., if duration=0 then y='no')</td>\n",
       "    </tr>\n",
       "    <tr>\n",
       "      <th>11</th>\n",
       "      <td>campaign</td>\n",
       "      <td>numeric</td>\n",
       "      <td>number of contacts performed during this campaign and for this client (includes last contact)</td>\n",
       "    </tr>\n",
       "    <tr>\n",
       "      <th>12</th>\n",
       "      <td>pdays</td>\n",
       "      <td>numeric</td>\n",
       "      <td>number of days that passed by after the client was last contacted from a previous campaign (999 means client was not previously contacted)</td>\n",
       "    </tr>\n",
       "    <tr>\n",
       "      <th>13</th>\n",
       "      <td>previous</td>\n",
       "      <td>numeric</td>\n",
       "      <td>number of contacts performed before this campaign and for this client</td>\n",
       "    </tr>\n",
       "    <tr>\n",
       "      <th>14</th>\n",
       "      <td>poutcome</td>\n",
       "      <td>categorical,nominal</td>\n",
       "      <td>outcome of the previous marketing campaign ('failure','nonexistent','success')</td>\n",
       "    </tr>\n",
       "    <tr>\n",
       "      <th>15</th>\n",
       "      <td>y</td>\n",
       "      <td>binary</td>\n",
       "      <td>has the client subscribed a term deposit? ('yes','no')</td>\n",
       "    </tr>\n",
       "  </tbody>\n",
       "</table>\n",
       "</div>"
      ],
      "text/plain": [
       "      Feature         Feature_Type  \\\n",
       "0         age              numeric   \n",
       "1         job  Categorical,nominal   \n",
       "2     marital  categorical,nominal   \n",
       "3   education  categorical,nominal   \n",
       "4     default  categorical,nominal   \n",
       "5     housing  categorical,nominal   \n",
       "6        loan  categorical,nominal   \n",
       "7     contact  categorical,nominal   \n",
       "8       month  categorical,ordinal   \n",
       "9   dayofweek  categorical,ordinal   \n",
       "10   duration              numeric   \n",
       "11   campaign              numeric   \n",
       "12      pdays              numeric   \n",
       "13   previous              numeric   \n",
       "14   poutcome  categorical,nominal   \n",
       "15          y               binary   \n",
       "\n",
       "                                                                                                                                                        Description  \n",
       "0                                                                                                                                                   age of a person  \n",
       "1   type of job ('admin.','blue-collar','entrepreneur','housemaid','management','retired','self-employed','services','student','technician','unemployed','unknown')  \n",
       "2                                                              marital status ('divorced','married','single','unknown'; note: 'divorced' means divorced or widowed)  \n",
       "3                                                 ('basic.4y','basic.6y','basic.9y','high.school','illiterate','professional.course','university.degree','unknown')  \n",
       "4                                                                                                                     has credit in default? ('no','yes','unknown')  \n",
       "5                                                                                                                          has housing loan? ('no','yes','unknown')  \n",
       "6                                                                                                                         has personal loan? ('no','yes','unknown')  \n",
       "7                                                                                                               contact communication type ('cellular','telephone')  \n",
       "8                                                                                                 last contact month of year ('jan', 'feb', 'mar', …, 'nov', 'dec')  \n",
       "9                                                                                                      last contact day of the week ('mon','tue','wed','thu','fri')  \n",
       "10                            last contact duration, in seconds . Important note: this attribute highly affects the output target (e.g., if duration=0 then y='no')  \n",
       "11                                                                    number of contacts performed during this campaign and for this client (includes last contact)  \n",
       "12                       number of days that passed by after the client was last contacted from a previous campaign (999 means client was not previously contacted)  \n",
       "13                                                                                            number of contacts performed before this campaign and for this client  \n",
       "14                                                                                   outcome of the previous marketing campaign ('failure','nonexistent','success')  \n",
       "15                                                                                                           has the client subscribed a term deposit? ('yes','no')  "
      ]
     },
     "execution_count": 53,
     "metadata": {},
     "output_type": "execute_result"
    }
   ],
   "source": [
    "metadata"
   ]
  },
  {
   "cell_type": "code",
   "execution_count": 54,
   "id": "15be85ce",
   "metadata": {
    "id": "15be85ce"
   },
   "outputs": [],
   "source": [
    "df_pca = df[['age', 'duration','campaign','pdays','previous']]"
   ]
  },
  {
   "cell_type": "code",
   "execution_count": 55,
   "id": "ce1971d9",
   "metadata": {
    "colab": {
     "base_uri": "https://localhost:8080/",
     "height": 206
    },
    "executionInfo": {
     "elapsed": 20,
     "status": "ok",
     "timestamp": 1648238543970,
     "user": {
      "displayName": "Lucas Corrêa",
      "photoUrl": "https://lh3.googleusercontent.com/a-/AOh14GisY0qwao15rHuS26LDzUnF0aQ1vSCtYm7fBnED6fk=s64",
      "userId": "06320273670240218623"
     },
     "user_tz": 180
    },
    "id": "ce1971d9",
    "outputId": "07f87899-0e2f-4332-d1cb-cb62be0fe4a8"
   },
   "outputs": [
    {
     "data": {
      "text/html": [
       "<div>\n",
       "<style scoped>\n",
       "    .dataframe tbody tr th:only-of-type {\n",
       "        vertical-align: middle;\n",
       "    }\n",
       "\n",
       "    .dataframe tbody tr th {\n",
       "        vertical-align: top;\n",
       "    }\n",
       "\n",
       "    .dataframe thead th {\n",
       "        text-align: right;\n",
       "    }\n",
       "</style>\n",
       "<table border=\"1\" class=\"dataframe\">\n",
       "  <thead>\n",
       "    <tr style=\"text-align: right;\">\n",
       "      <th></th>\n",
       "      <th>age</th>\n",
       "      <th>duration</th>\n",
       "      <th>campaign</th>\n",
       "      <th>pdays</th>\n",
       "      <th>previous</th>\n",
       "    </tr>\n",
       "  </thead>\n",
       "  <tbody>\n",
       "    <tr>\n",
       "      <th>0</th>\n",
       "      <td>49</td>\n",
       "      <td>227</td>\n",
       "      <td>4</td>\n",
       "      <td>999</td>\n",
       "      <td>0</td>\n",
       "    </tr>\n",
       "    <tr>\n",
       "      <th>1</th>\n",
       "      <td>37</td>\n",
       "      <td>202</td>\n",
       "      <td>2</td>\n",
       "      <td>999</td>\n",
       "      <td>1</td>\n",
       "    </tr>\n",
       "    <tr>\n",
       "      <th>2</th>\n",
       "      <td>78</td>\n",
       "      <td>1148</td>\n",
       "      <td>1</td>\n",
       "      <td>999</td>\n",
       "      <td>0</td>\n",
       "    </tr>\n",
       "    <tr>\n",
       "      <th>3</th>\n",
       "      <td>36</td>\n",
       "      <td>120</td>\n",
       "      <td>2</td>\n",
       "      <td>999</td>\n",
       "      <td>0</td>\n",
       "    </tr>\n",
       "    <tr>\n",
       "      <th>4</th>\n",
       "      <td>59</td>\n",
       "      <td>368</td>\n",
       "      <td>2</td>\n",
       "      <td>999</td>\n",
       "      <td>0</td>\n",
       "    </tr>\n",
       "  </tbody>\n",
       "</table>\n",
       "</div>"
      ],
      "text/plain": [
       "   age  duration  campaign  pdays  previous\n",
       "0   49       227         4    999         0\n",
       "1   37       202         2    999         1\n",
       "2   78      1148         1    999         0\n",
       "3   36       120         2    999         0\n",
       "4   59       368         2    999         0"
      ]
     },
     "execution_count": 55,
     "metadata": {},
     "output_type": "execute_result"
    }
   ],
   "source": [
    "df_pca.head()"
   ]
  },
  {
   "cell_type": "code",
   "execution_count": 56,
   "id": "1aed7c1e",
   "metadata": {
    "id": "1aed7c1e"
   },
   "outputs": [],
   "source": [
    "pca = PCA(n_components=2, random_state=42)"
   ]
  },
  {
   "cell_type": "code",
   "execution_count": 57,
   "id": "94f8feda",
   "metadata": {
    "id": "94f8feda"
   },
   "outputs": [],
   "source": [
    "df_expl_pca = StandardScaler().fit_transform(df_pca)"
   ]
  },
  {
   "cell_type": "code",
   "execution_count": 58,
   "id": "a0eaf3e9",
   "metadata": {
    "colab": {
     "base_uri": "https://localhost:8080/"
    },
    "executionInfo": {
     "elapsed": 20,
     "status": "ok",
     "timestamp": 1648238543972,
     "user": {
      "displayName": "Lucas Corrêa",
      "photoUrl": "https://lh3.googleusercontent.com/a-/AOh14GisY0qwao15rHuS26LDzUnF0aQ1vSCtYm7fBnED6fk=s64",
      "userId": "06320273670240218623"
     },
     "user_tz": 180
    },
    "id": "a0eaf3e9",
    "outputId": "82db08e4-c4ae-4003-e964-81907ec92e68"
   },
   "outputs": [
    {
     "data": {
      "text/plain": [
       "array([[ 0.86373877, -0.12019627,  0.52298128,  0.19658384, -0.35012691],\n",
       "       [-0.28972159, -0.2167318 , -0.20368791,  0.19658384,  1.65381294],\n",
       "       [ 3.65126795,  3.43617293, -0.56702251,  0.19658384, -0.35012691],\n",
       "       ...,\n",
       "       [ 1.34434725, -0.49089273,  0.52298128,  0.19658384, -0.35012691],\n",
       "       [-1.05869515, -0.3596044 , -0.56702251,  0.19658384, -0.35012691],\n",
       "       [-0.48196498,  1.10387435,  0.15964669,  0.19658384, -0.35012691]])"
      ]
     },
     "execution_count": 58,
     "metadata": {},
     "output_type": "execute_result"
    }
   ],
   "source": [
    "df_expl_pca"
   ]
  },
  {
   "cell_type": "code",
   "execution_count": 59,
   "id": "9b983d0e",
   "metadata": {
    "colab": {
     "base_uri": "https://localhost:8080/",
     "height": 424
    },
    "executionInfo": {
     "elapsed": 404,
     "status": "ok",
     "timestamp": 1648238544360,
     "user": {
      "displayName": "Lucas Corrêa",
      "photoUrl": "https://lh3.googleusercontent.com/a-/AOh14GisY0qwao15rHuS26LDzUnF0aQ1vSCtYm7fBnED6fk=s64",
      "userId": "06320273670240218623"
     },
     "user_tz": 180
    },
    "id": "9b983d0e",
    "outputId": "fb25146e-fe71-4e72-bafa-b3bba79096b9"
   },
   "outputs": [
    {
     "data": {
      "text/html": [
       "<div>\n",
       "<style scoped>\n",
       "    .dataframe tbody tr th:only-of-type {\n",
       "        vertical-align: middle;\n",
       "    }\n",
       "\n",
       "    .dataframe tbody tr th {\n",
       "        vertical-align: top;\n",
       "    }\n",
       "\n",
       "    .dataframe thead th {\n",
       "        text-align: right;\n",
       "    }\n",
       "</style>\n",
       "<table border=\"1\" class=\"dataframe\">\n",
       "  <thead>\n",
       "    <tr style=\"text-align: right;\">\n",
       "      <th></th>\n",
       "      <th>component1</th>\n",
       "      <th>component2</th>\n",
       "    </tr>\n",
       "  </thead>\n",
       "  <tbody>\n",
       "    <tr>\n",
       "      <th>0</th>\n",
       "      <td>-0.425175</td>\n",
       "      <td>-0.509855</td>\n",
       "    </tr>\n",
       "    <tr>\n",
       "      <th>1</th>\n",
       "      <td>1.005371</td>\n",
       "      <td>-0.146158</td>\n",
       "    </tr>\n",
       "    <tr>\n",
       "      <th>2</th>\n",
       "      <td>0.265589</td>\n",
       "      <td>2.274575</td>\n",
       "    </tr>\n",
       "    <tr>\n",
       "      <th>3</th>\n",
       "      <td>-0.421084</td>\n",
       "      <td>-0.115342</td>\n",
       "    </tr>\n",
       "    <tr>\n",
       "      <th>4</th>\n",
       "      <td>-0.197363</td>\n",
       "      <td>0.194940</td>\n",
       "    </tr>\n",
       "    <tr>\n",
       "      <th>...</th>\n",
       "      <td>...</td>\n",
       "      <td>...</td>\n",
       "    </tr>\n",
       "    <tr>\n",
       "      <th>32945</th>\n",
       "      <td>-0.379635</td>\n",
       "      <td>0.451884</td>\n",
       "    </tr>\n",
       "    <tr>\n",
       "      <th>32946</th>\n",
       "      <td>1.095991</td>\n",
       "      <td>-0.530097</td>\n",
       "    </tr>\n",
       "    <tr>\n",
       "      <th>32947</th>\n",
       "      <td>-0.433674</td>\n",
       "      <td>-0.855301</td>\n",
       "    </tr>\n",
       "    <tr>\n",
       "      <th>32948</th>\n",
       "      <td>-0.384307</td>\n",
       "      <td>0.361312</td>\n",
       "    </tr>\n",
       "    <tr>\n",
       "      <th>32949</th>\n",
       "      <td>-0.324058</td>\n",
       "      <td>0.829408</td>\n",
       "    </tr>\n",
       "  </tbody>\n",
       "</table>\n",
       "<p>32950 rows × 2 columns</p>\n",
       "</div>"
      ],
      "text/plain": [
       "       component1  component2\n",
       "0       -0.425175   -0.509855\n",
       "1        1.005371   -0.146158\n",
       "2        0.265589    2.274575\n",
       "3       -0.421084   -0.115342\n",
       "4       -0.197363    0.194940\n",
       "...           ...         ...\n",
       "32945   -0.379635    0.451884\n",
       "32946    1.095991   -0.530097\n",
       "32947   -0.433674   -0.855301\n",
       "32948   -0.384307    0.361312\n",
       "32949   -0.324058    0.829408\n",
       "\n",
       "[32950 rows x 2 columns]"
      ]
     },
     "execution_count": 59,
     "metadata": {},
     "output_type": "execute_result"
    }
   ],
   "source": [
    "result_pca = pca.fit_transform(df_expl_pca)\n",
    "\n",
    "result_pca_df = pd.DataFrame(result_pca,\n",
    "                            columns=['component1','component2'])\n",
    "result_pca_df"
   ]
  },
  {
   "cell_type": "markdown",
   "id": "608afca0",
   "metadata": {
    "id": "608afca0"
   },
   "source": [
    "### Explicar da variabilidade dos dados"
   ]
  },
  {
   "cell_type": "code",
   "execution_count": 60,
   "id": "6ae46953",
   "metadata": {
    "colab": {
     "base_uri": "https://localhost:8080/"
    },
    "executionInfo": {
     "elapsed": 5,
     "status": "ok",
     "timestamp": 1648238544744,
     "user": {
      "displayName": "Lucas Corrêa",
      "photoUrl": "https://lh3.googleusercontent.com/a-/AOh14GisY0qwao15rHuS26LDzUnF0aQ1vSCtYm7fBnED6fk=s64",
      "userId": "06320273670240218623"
     },
     "user_tz": 180
    },
    "id": "6ae46953",
    "outputId": "9a04c946-51d0-458e-cf72-0afa413b0cb0"
   },
   "outputs": [
    {
     "data": {
      "text/plain": [
       "array([0.32246681, 0.2116934 ])"
      ]
     },
     "execution_count": 60,
     "metadata": {},
     "output_type": "execute_result"
    }
   ],
   "source": [
    "pca.explained_variance_ratio_"
   ]
  },
  {
   "cell_type": "code",
   "execution_count": 61,
   "id": "1aaaa5d8",
   "metadata": {
    "colab": {
     "base_uri": "https://localhost:8080/",
     "height": 424
    },
    "executionInfo": {
     "elapsed": 4,
     "status": "ok",
     "timestamp": 1648238545873,
     "user": {
      "displayName": "Lucas Corrêa",
      "photoUrl": "https://lh3.googleusercontent.com/a-/AOh14GisY0qwao15rHuS26LDzUnF0aQ1vSCtYm7fBnED6fk=s64",
      "userId": "06320273670240218623"
     },
     "user_tz": 180
    },
    "id": "1aaaa5d8",
    "outputId": "0565bc27-1876-4fc6-f6e2-4da49c1261d1"
   },
   "outputs": [
    {
     "data": {
      "text/html": [
       "<div>\n",
       "<style scoped>\n",
       "    .dataframe tbody tr th:only-of-type {\n",
       "        vertical-align: middle;\n",
       "    }\n",
       "\n",
       "    .dataframe tbody tr th {\n",
       "        vertical-align: top;\n",
       "    }\n",
       "\n",
       "    .dataframe thead th {\n",
       "        text-align: right;\n",
       "    }\n",
       "</style>\n",
       "<table border=\"1\" class=\"dataframe\">\n",
       "  <thead>\n",
       "    <tr style=\"text-align: right;\">\n",
       "      <th></th>\n",
       "      <th>y</th>\n",
       "      <th>component1</th>\n",
       "      <th>component2</th>\n",
       "    </tr>\n",
       "  </thead>\n",
       "  <tbody>\n",
       "    <tr>\n",
       "      <th>0</th>\n",
       "      <td>no</td>\n",
       "      <td>-0.425175</td>\n",
       "      <td>-0.509855</td>\n",
       "    </tr>\n",
       "    <tr>\n",
       "      <th>1</th>\n",
       "      <td>no</td>\n",
       "      <td>1.005371</td>\n",
       "      <td>-0.146158</td>\n",
       "    </tr>\n",
       "    <tr>\n",
       "      <th>2</th>\n",
       "      <td>yes</td>\n",
       "      <td>0.265589</td>\n",
       "      <td>2.274575</td>\n",
       "    </tr>\n",
       "    <tr>\n",
       "      <th>3</th>\n",
       "      <td>no</td>\n",
       "      <td>-0.421084</td>\n",
       "      <td>-0.115342</td>\n",
       "    </tr>\n",
       "    <tr>\n",
       "      <th>4</th>\n",
       "      <td>no</td>\n",
       "      <td>-0.197363</td>\n",
       "      <td>0.194940</td>\n",
       "    </tr>\n",
       "    <tr>\n",
       "      <th>...</th>\n",
       "      <td>...</td>\n",
       "      <td>...</td>\n",
       "      <td>...</td>\n",
       "    </tr>\n",
       "    <tr>\n",
       "      <th>32945</th>\n",
       "      <td>no</td>\n",
       "      <td>-0.379635</td>\n",
       "      <td>0.451884</td>\n",
       "    </tr>\n",
       "    <tr>\n",
       "      <th>32946</th>\n",
       "      <td>no</td>\n",
       "      <td>1.095991</td>\n",
       "      <td>-0.530097</td>\n",
       "    </tr>\n",
       "    <tr>\n",
       "      <th>32947</th>\n",
       "      <td>no</td>\n",
       "      <td>-0.433674</td>\n",
       "      <td>-0.855301</td>\n",
       "    </tr>\n",
       "    <tr>\n",
       "      <th>32948</th>\n",
       "      <td>no</td>\n",
       "      <td>-0.384307</td>\n",
       "      <td>0.361312</td>\n",
       "    </tr>\n",
       "    <tr>\n",
       "      <th>32949</th>\n",
       "      <td>no</td>\n",
       "      <td>-0.324058</td>\n",
       "      <td>0.829408</td>\n",
       "    </tr>\n",
       "  </tbody>\n",
       "</table>\n",
       "<p>32950 rows × 3 columns</p>\n",
       "</div>"
      ],
      "text/plain": [
       "         y  component1  component2\n",
       "0       no   -0.425175   -0.509855\n",
       "1       no    1.005371   -0.146158\n",
       "2      yes    0.265589    2.274575\n",
       "3       no   -0.421084   -0.115342\n",
       "4       no   -0.197363    0.194940\n",
       "...    ...         ...         ...\n",
       "32945   no   -0.379635    0.451884\n",
       "32946   no    1.095991   -0.530097\n",
       "32947   no   -0.433674   -0.855301\n",
       "32948   no   -0.384307    0.361312\n",
       "32949   no   -0.324058    0.829408\n",
       "\n",
       "[32950 rows x 3 columns]"
      ]
     },
     "execution_count": 61,
     "metadata": {},
     "output_type": "execute_result"
    }
   ],
   "source": [
    "df_resp_pca = pd.concat([df['y'], result_pca_df], axis=1)\n",
    "df_resp_pca"
   ]
  },
  {
   "cell_type": "code",
   "execution_count": 62,
   "id": "97e1f17b",
   "metadata": {
    "colab": {
     "base_uri": "https://localhost:8080/",
     "height": 865
    },
    "executionInfo": {
     "elapsed": 1252,
     "status": "ok",
     "timestamp": 1648238547519,
     "user": {
      "displayName": "Lucas Corrêa",
      "photoUrl": "https://lh3.googleusercontent.com/a-/AOh14GisY0qwao15rHuS26LDzUnF0aQ1vSCtYm7fBnED6fk=s64",
      "userId": "06320273670240218623"
     },
     "user_tz": 180
    },
    "id": "97e1f17b",
    "outputId": "11caad86-a373-44b4-b639-2c09aee1bdf6"
   },
   "outputs": [
    {
     "data": {
      "image/png": "[encoded data removed]",
      "text/plain": [
       "<Figure size 1000x1000 with 1 Axes>"
      ]
     },
     "metadata": {},
     "output_type": "display_data"
    }
   ],
   "source": [
    "fig = plt.figure(figsize= (10,10))\n",
    "\n",
    "ax = fig.add_subplot(1,1,1)\n",
    "\n",
    "ax.set_xlabel('Component_1', fontsize = 15)\n",
    "ax.set_ylabel('Component_2', fontsize = 15)\n",
    "ax.set_title('PCA 2 componentes', fontsize = 20)\n",
    "targets = ['yes','no']\n",
    "colors = ['r', 'b']\n",
    "for target, color in zip(targets,colors):\n",
    "    indicesToKeep = df_resp_pca['y'] == target\n",
    "    ax.scatter(df_resp_pca.loc[indicesToKeep, 'component1']\n",
    "               , df_resp_pca.loc[indicesToKeep, 'component2']\n",
    "               , c = color\n",
    "               , s = 50)\n",
    "ax.legend(targets)\n",
    "ax.grid()"
   ]
  }
 ],
 "metadata": {
  "colab": {
   "collapsed_sections": [],
   "name": "Modulo 4 - EDA.ipynb",
   "provenance": []
  },
  "kernelspec": {
   "display_name": "Python 3 (ipykernel)",
   "language": "python",
   "name": "python3"
  },
  "language_info": {
   "codemirror_mode": {
    "name": "ipython",
    "version": 3
   },
   "file_extension": ".py",
   "mimetype": "text/x-python",
   "name": "python",
   "nbconvert_exporter": "python",
   "pygments_lexer": "ipython3",
   "version": "3.9.7"
  },
  "widgets": {
   "application/vnd.jupyter.widget-state+json": {
    "05d591de8c1f4bdb97f6168f5c1727dc": {
     "model_module": "@jupyter-widgets/controls",
     "model_module_version": "1.5.0",
     "model_name": "HTMLModel",
     "state": {
      "_dom_classes": [],
      "_model_module": "@jupyter-widgets/controls",
      "_model_module_version": "1.5.0",
      "_model_name": "HTMLModel",
      "_view_count": null,
      "_view_module": "@jupyter-widgets/controls",
      "_view_module_version": "1.5.0",
      "_view_name": "HTMLView",
      "description": "",
      "description_tooltip": null,
      "layout": "IPY_MODEL_b8cdb9cd1a184232b0f8263f539183b3",
      "placeholder": "​",
      "style": "IPY_MODEL_14c334934f3f4565a83b1d455fab1af6",
      "value": " [100%]   00:00 -&gt; (00:00 left)"
     }
    },
    "14c334934f3f4565a83b1d455fab1af6": {
     "model_module": "@jupyter-widgets/controls",
     "model_module_version": "1.5.0",
     "model_name": "DescriptionStyleModel",
     "state": {
      "_model_module": "@jupyter-widgets/controls",
      "_model_module_version": "1.5.0",
      "_model_name": "DescriptionStyleModel",
      "_view_count": null,
      "_view_module": "@jupyter-widgets/base",
      "_view_module_version": "1.2.0",
      "_view_name": "StyleView",
      "description_width": ""
     }
    },
    "1bca4003a506431c88381c257b0177a4": {
     "model_module": "@jupyter-widgets/base",
     "model_module_version": "1.2.0",
     "model_name": "LayoutModel",
     "state": {
      "_model_module": "@jupyter-widgets/base",
      "_model_module_version": "1.2.0",
      "_model_name": "LayoutModel",
      "_view_count": null,
      "_view_module": "@jupyter-widgets/base",
      "_view_module_version": "1.2.0",
      "_view_name": "LayoutView",
      "align_content": null,
      "align_items": null,
      "align_self": null,
      "border": null,
      "bottom": null,
      "display": null,
      "flex": "2",
      "flex_flow": null,
      "grid_area": null,
      "grid_auto_columns": null,
      "grid_auto_flow": null,
      "grid_auto_rows": null,
      "grid_column": null,
      "grid_gap": null,
      "grid_row": null,
      "grid_template_areas": null,
      "grid_template_columns": null,
      "grid_template_rows": null,
      "height": null,
      "justify_content": null,
      "justify_items": null,
      "left": null,
      "margin": null,
      "max_height": null,
      "max_width": null,
      "min_height": null,
      "min_width": null,
      "object_fit": null,
      "object_position": null,
      "order": null,
      "overflow": null,
      "overflow_x": null,
      "overflow_y": null,
      "padding": null,
      "right": null,
      "top": null,
      "visibility": null,
      "width": null
     }
    },
    "5294adcdb3ff48c992cc62bec1a6d826": {
     "model_module": "@jupyter-widgets/controls",
     "model_module_version": "1.5.0",
     "model_name": "HTMLModel",
     "state": {
      "_dom_classes": [],
      "_model_module": "@jupyter-widgets/controls",
      "_model_module_version": "1.5.0",
      "_model_name": "HTMLModel",
      "_view_count": null,
      "_view_module": "@jupyter-widgets/controls",
      "_view_module_version": "1.5.0",
      "_view_name": "HTMLView",
      "description": "",
      "description_tooltip": null,
      "layout": "IPY_MODEL_8ed9512026e54771b46a7a08e29ecc32",
      "placeholder": "​",
      "style": "IPY_MODEL_7d9dab71322642ebb00fd8a0a848f668",
      "value": "Done! Use &#x27;show&#x27; commands to display/save.   "
     }
    },
    "74ac7a6fe9b24e46bfa3ca4f5e742a4c": {
     "model_module": "@jupyter-widgets/controls",
     "model_module_version": "1.5.0",
     "model_name": "ProgressStyleModel",
     "state": {
      "_model_module": "@jupyter-widgets/controls",
      "_model_module_version": "1.5.0",
      "_model_name": "ProgressStyleModel",
      "_view_count": null,
      "_view_module": "@jupyter-widgets/base",
      "_view_module_version": "1.2.0",
      "_view_name": "StyleView",
      "bar_color": null,
      "description_width": ""
     }
    },
    "7d9dab71322642ebb00fd8a0a848f668": {
     "model_module": "@jupyter-widgets/controls",
     "model_module_version": "1.5.0",
     "model_name": "DescriptionStyleModel",
     "state": {
      "_model_module": "@jupyter-widgets/controls",
      "_model_module_version": "1.5.0",
      "_model_name": "DescriptionStyleModel",
      "_view_count": null,
      "_view_module": "@jupyter-widgets/base",
      "_view_module_version": "1.2.0",
      "_view_name": "StyleView",
      "description_width": ""
     }
    },
    "85ffd3d96e7045a988975a39e1864043": {
     "model_module": "@jupyter-widgets/base",
     "model_module_version": "1.2.0",
     "model_name": "LayoutModel",
     "state": {
      "_model_module": "@jupyter-widgets/base",
      "_model_module_version": "1.2.0",
      "_model_name": "LayoutModel",
      "_view_count": null,
      "_view_module": "@jupyter-widgets/base",
      "_view_module_version": "1.2.0",
      "_view_name": "LayoutView",
      "align_content": null,
      "align_items": null,
      "align_self": null,
      "border": null,
      "bottom": null,
      "display": "inline-flex",
      "flex": null,
      "flex_flow": "row wrap",
      "grid_area": null,
      "grid_auto_columns": null,
      "grid_auto_flow": null,
      "grid_auto_rows": null,
      "grid_column": null,
      "grid_gap": null,
      "grid_row": null,
      "grid_template_areas": null,
      "grid_template_columns": null,
      "grid_template_rows": null,
      "height": null,
      "justify_content": null,
      "justify_items": null,
      "left": null,
      "margin": null,
      "max_height": null,
      "max_width": null,
      "min_height": null,
      "min_width": null,
      "object_fit": null,
      "object_position": null,
      "order": null,
      "overflow": null,
      "overflow_x": null,
      "overflow_y": null,
      "padding": null,
      "right": null,
      "top": null,
      "visibility": null,
      "width": "100%"
     }
    },
    "8a60e76f2719414fa99554a26ae0f5a6": {
     "model_module": "@jupyter-widgets/controls",
     "model_module_version": "1.5.0",
     "model_name": "HBoxModel",
     "state": {
      "_dom_classes": [],
      "_model_module": "@jupyter-widgets/controls",
      "_model_module_version": "1.5.0",
      "_model_name": "HBoxModel",
      "_view_count": null,
      "_view_module": "@jupyter-widgets/controls",
      "_view_module_version": "1.5.0",
      "_view_name": "HBoxView",
      "box_style": "",
      "children": [
       "IPY_MODEL_5294adcdb3ff48c992cc62bec1a6d826",
       "IPY_MODEL_a57941992f984d1a80ded356da0e60e5",
       "IPY_MODEL_05d591de8c1f4bdb97f6168f5c1727dc"
      ],
      "layout": "IPY_MODEL_85ffd3d96e7045a988975a39e1864043"
     }
    },
    "8ed9512026e54771b46a7a08e29ecc32": {
     "model_module": "@jupyter-widgets/base",
     "model_module_version": "1.2.0",
     "model_name": "LayoutModel",
     "state": {
      "_model_module": "@jupyter-widgets/base",
      "_model_module_version": "1.2.0",
      "_model_name": "LayoutModel",
      "_view_count": null,
      "_view_module": "@jupyter-widgets/base",
      "_view_module_version": "1.2.0",
      "_view_name": "LayoutView",
      "align_content": null,
      "align_items": null,
      "align_self": null,
      "border": null,
      "bottom": null,
      "display": null,
      "flex": null,
      "flex_flow": null,
      "grid_area": null,
      "grid_auto_columns": null,
      "grid_auto_flow": null,
      "grid_auto_rows": null,
      "grid_column": null,
      "grid_gap": null,
      "grid_row": null,
      "grid_template_areas": null,
      "grid_template_columns": null,
      "grid_template_rows": null,
      "height": null,
      "justify_content": null,
      "justify_items": null,
      "left": null,
      "margin": null,
      "max_height": null,
      "max_width": null,
      "min_height": null,
      "min_width": null,
      "object_fit": null,
      "object_position": null,
      "order": null,
      "overflow": null,
      "overflow_x": null,
      "overflow_y": null,
      "padding": null,
      "right": null,
      "top": null,
      "visibility": null,
      "width": null
     }
    },
    "a57941992f984d1a80ded356da0e60e5": {
     "model_module": "@jupyter-widgets/controls",
     "model_module_version": "1.5.0",
     "model_name": "FloatProgressModel",
     "state": {
      "_dom_classes": [],
      "_model_module": "@jupyter-widgets/controls",
      "_model_module_version": "1.5.0",
      "_model_name": "FloatProgressModel",
      "_view_count": null,
      "_view_module": "@jupyter-widgets/controls",
      "_view_module_version": "1.5.0",
      "_view_name": "ProgressView",
      "bar_style": "success",
      "description": "",
      "description_tooltip": null,
      "layout": "IPY_MODEL_1bca4003a506431c88381c257b0177a4",
      "max": 1,
      "min": 0,
      "orientation": "horizontal",
      "style": "IPY_MODEL_74ac7a6fe9b24e46bfa3ca4f5e742a4c",
      "value": 1
     }
    },
    "b8cdb9cd1a184232b0f8263f539183b3": {
     "model_module": "@jupyter-widgets/base",
     "model_module_version": "1.2.0",
     "model_name": "LayoutModel",
     "state": {
      "_model_module": "@jupyter-widgets/base",
      "_model_module_version": "1.2.0",
      "_model_name": "LayoutModel",
      "_view_count": null,
      "_view_module": "@jupyter-widgets/base",
      "_view_module_version": "1.2.0",
      "_view_name": "LayoutView",
      "align_content": null,
      "align_items": null,
      "align_self": null,
      "border": null,
      "bottom": null,
      "display": null,
      "flex": null,
      "flex_flow": null,
      "grid_area": null,
      "grid_auto_columns": null,
      "grid_auto_flow": null,
      "grid_auto_rows": null,
      "grid_column": null,
      "grid_gap": null,
      "grid_row": null,
      "grid_template_areas": null,
      "grid_template_columns": null,
      "grid_template_rows": null,
      "height": null,
      "justify_content": null,
      "justify_items": null,
      "left": null,
      "margin": null,
      "max_height": null,
      "max_width": null,
      "min_height": null,
      "min_width": null,
      "object_fit": null,
      "object_position": null,
      "order": null,
      "overflow": null,
      "overflow_x": null,
      "overflow_y": null,
      "padding": null,
      "right": null,
      "top": null,
      "visibility": null,
      "width": null
     }
    }
   }
  }
 },
 "nbformat": 4,
 "nbformat_minor": 5
}
